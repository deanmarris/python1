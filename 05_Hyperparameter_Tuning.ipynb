{
  "nbformat": 4,
  "nbformat_minor": 0,
  "metadata": {
    "colab": {
      "name": "05_Hyperparameter_Tuning.ipynb",
      "provenance": [],
      "collapsed_sections": [
        "o-Q5Nfzd6lSE",
        "GSXsVeao7E18",
        "ued0s2OFFPp8",
        "rlJo0tqZB48x",
        "K1TXXiVnkojb",
        "To7DBE72ToBB",
        "v4EdbkeRUXlL",
        "HcY_7AY-WF3x",
        "jOOVlxp3XeuA",
        "1XJW7G9aYDMg",
        "5V5JsZztaahv",
        "w1iI6ts2a4EK",
        "Qul0TkT6ewvK",
        "0nd2B8VNh0OI",
        "9f2IHtLWim4Y",
        "p4doPgkijJ_0",
        "Cv4IRopolh3r",
        "XwifHLlXmPl7",
        "iUcQPy_in8fY",
        "1HI7rvfZqtcQ",
        "wOkjiSD4tyBh",
        "WRgGotqVvA3C",
        "b-TLMPdyx9bS",
        "OBa2BEn4yNyY",
        "5Dz7QJ1Cypqz",
        "6WLS5CndznRK",
        "fh45Vj3gg1Tu",
        "7j-nGgjTM7gz",
        "YydibsV2SQ-t",
        "0Ya_sdrJTTYh",
        "8s8maPDtTusO",
        "Iu3iXnyp95OJ",
        "hA8vhA3zDrOJ",
        "KDKcK-KKGFAc",
        "UCXfE3_RILLM",
        "1i8LwQy0IycL",
        "a6tHO3SwVbHs",
        "iJaQrXwuf1L0",
        "7lAwDBUCil09",
        "oJrgrHjUi16E",
        "6wNzI8GNjLRc"
      ],
      "include_colab_link": true
    },
    "kernelspec": {
      "name": "python3",
      "display_name": "Python 3"
    },
    "accelerator": "TPU"
  },
  "cells": [
    {
      "cell_type": "markdown",
      "metadata": {
        "id": "view-in-github",
        "colab_type": "text"
      },
      "source": [
        "<a href=\"https://colab.research.google.com/github/deanmarris/python1/blob/master/05_Hyperparameter_Tuning.ipynb\" target=\"_parent\"><img src=\"https://colab.research.google.com/assets/colab-badge.svg\" alt=\"Open In Colab\"/></a>"
      ]
    },
    {
      "cell_type": "markdown",
      "metadata": {
        "id": "9m7ZhNdMERaG"
      },
      "source": [
        "# Hyperparameter Tuning to Improve Model Performance\n",
        "\n",
        "- Author: Amy Zhuang\n",
        "- Last Updated: May 2021"
      ]
    },
    {
      "cell_type": "markdown",
      "metadata": {
        "id": "o-Q5Nfzd6lSE"
      },
      "source": [
        "## Import Libraries"
      ]
    },
    {
      "cell_type": "code",
      "metadata": {
        "id": "k7wM9m8J60Ze"
      },
      "source": [
        "import pandas as pd\n",
        "import numpy as np\n",
        "import matplotlib.pyplot as plt\n",
        "%matplotlib inline\n",
        "import seaborn as sns\n",
        "from sklearn.metrics import accuracy_score, classification_report, confusion_matrix, log_loss\n",
        "from keras.wrappers.scikit_learn import KerasClassifier\n",
        "from keras.models import Sequential\n",
        "from keras.layers import Dense\n",
        "from sklearn.model_selection import train_test_split, cross_val_score\n",
        "from keras.models import Sequential\n",
        "from keras.layers import Dense, Activation, Embedding, Dropout\n",
        "from keras.activations import relu, sigmoid\n",
        "from xgboost import XGBClassifier\n",
        "from sklearn.model_selection import StratifiedKFold\n",
        "from sklearn.model_selection import GridSearchCV\n",
        "from sklearn.model_selection import RandomizedSearchCV\n",
        "from hyperopt import tpe\n",
        "from hyperopt import STATUS_OK\n",
        "from hyperopt import Trials\n",
        "from hyperopt import hp\n",
        "from hyperopt import fmin\n",
        "import time"
      ],
      "execution_count": 2,
      "outputs": []
    },
    {
      "cell_type": "markdown",
      "metadata": {
        "id": "GSXsVeao7E18"
      },
      "source": [
        "## Readin Data"
      ]
    },
    {
      "cell_type": "code",
      "metadata": {
        "id": "GHv1MJmL62zR"
      },
      "source": [
        "from sklearn import datasets\n",
        "data = datasets.load_breast_cancer()"
      ],
      "execution_count": 8,
      "outputs": []
    },
    {
      "cell_type": "code",
      "metadata": {
        "id": "0JaM6-E3A4dZ",
        "colab": {
          "base_uri": "https://localhost:8080/"
        },
        "outputId": "e1b4fb73-e5ab-4473-95b4-2ca970a1f294"
      },
      "source": [
        "data"
      ],
      "execution_count": 9,
      "outputs": [
        {
          "output_type": "execute_result",
          "data": {
            "text/plain": [
              "{'DESCR': '.. _breast_cancer_dataset:\\n\\nBreast cancer wisconsin (diagnostic) dataset\\n--------------------------------------------\\n\\n**Data Set Characteristics:**\\n\\n    :Number of Instances: 569\\n\\n    :Number of Attributes: 30 numeric, predictive attributes and the class\\n\\n    :Attribute Information:\\n        - radius (mean of distances from center to points on the perimeter)\\n        - texture (standard deviation of gray-scale values)\\n        - perimeter\\n        - area\\n        - smoothness (local variation in radius lengths)\\n        - compactness (perimeter^2 / area - 1.0)\\n        - concavity (severity of concave portions of the contour)\\n        - concave points (number of concave portions of the contour)\\n        - symmetry \\n        - fractal dimension (\"coastline approximation\" - 1)\\n\\n        The mean, standard error, and \"worst\" or largest (mean of the three\\n        largest values) of these features were computed for each image,\\n        resulting in 30 features.  For instance, field 3 is Mean Radius, field\\n        13 is Radius SE, field 23 is Worst Radius.\\n\\n        - class:\\n                - WDBC-Malignant\\n                - WDBC-Benign\\n\\n    :Summary Statistics:\\n\\n    ===================================== ====== ======\\n                                           Min    Max\\n    ===================================== ====== ======\\n    radius (mean):                        6.981  28.11\\n    texture (mean):                       9.71   39.28\\n    perimeter (mean):                     43.79  188.5\\n    area (mean):                          143.5  2501.0\\n    smoothness (mean):                    0.053  0.163\\n    compactness (mean):                   0.019  0.345\\n    concavity (mean):                     0.0    0.427\\n    concave points (mean):                0.0    0.201\\n    symmetry (mean):                      0.106  0.304\\n    fractal dimension (mean):             0.05   0.097\\n    radius (standard error):              0.112  2.873\\n    texture (standard error):             0.36   4.885\\n    perimeter (standard error):           0.757  21.98\\n    area (standard error):                6.802  542.2\\n    smoothness (standard error):          0.002  0.031\\n    compactness (standard error):         0.002  0.135\\n    concavity (standard error):           0.0    0.396\\n    concave points (standard error):      0.0    0.053\\n    symmetry (standard error):            0.008  0.079\\n    fractal dimension (standard error):   0.001  0.03\\n    radius (worst):                       7.93   36.04\\n    texture (worst):                      12.02  49.54\\n    perimeter (worst):                    50.41  251.2\\n    area (worst):                         185.2  4254.0\\n    smoothness (worst):                   0.071  0.223\\n    compactness (worst):                  0.027  1.058\\n    concavity (worst):                    0.0    1.252\\n    concave points (worst):               0.0    0.291\\n    symmetry (worst):                     0.156  0.664\\n    fractal dimension (worst):            0.055  0.208\\n    ===================================== ====== ======\\n\\n    :Missing Attribute Values: None\\n\\n    :Class Distribution: 212 - Malignant, 357 - Benign\\n\\n    :Creator:  Dr. William H. Wolberg, W. Nick Street, Olvi L. Mangasarian\\n\\n    :Donor: Nick Street\\n\\n    :Date: November, 1995\\n\\nThis is a copy of UCI ML Breast Cancer Wisconsin (Diagnostic) datasets.\\nhttps://goo.gl/U2Uwz2\\n\\nFeatures are computed from a digitized image of a fine needle\\naspirate (FNA) of a breast mass.  They describe\\ncharacteristics of the cell nuclei present in the image.\\n\\nSeparating plane described above was obtained using\\nMultisurface Method-Tree (MSM-T) [K. P. Bennett, \"Decision Tree\\nConstruction Via Linear Programming.\" Proceedings of the 4th\\nMidwest Artificial Intelligence and Cognitive Science Society,\\npp. 97-101, 1992], a classification method which uses linear\\nprogramming to construct a decision tree.  Relevant features\\nwere selected using an exhaustive search in the space of 1-4\\nfeatures and 1-3 separating planes.\\n\\nThe actual linear program used to obtain the separating plane\\nin the 3-dimensional space is that described in:\\n[K. P. Bennett and O. L. Mangasarian: \"Robust Linear\\nProgramming Discrimination of Two Linearly Inseparable Sets\",\\nOptimization Methods and Software 1, 1992, 23-34].\\n\\nThis database is also available through the UW CS ftp server:\\n\\nftp ftp.cs.wisc.edu\\ncd math-prog/cpo-dataset/machine-learn/WDBC/\\n\\n.. topic:: References\\n\\n   - W.N. Street, W.H. Wolberg and O.L. Mangasarian. Nuclear feature extraction \\n     for breast tumor diagnosis. IS&T/SPIE 1993 International Symposium on \\n     Electronic Imaging: Science and Technology, volume 1905, pages 861-870,\\n     San Jose, CA, 1993.\\n   - O.L. Mangasarian, W.N. Street and W.H. Wolberg. Breast cancer diagnosis and \\n     prognosis via linear programming. Operations Research, 43(4), pages 570-577, \\n     July-August 1995.\\n   - W.H. Wolberg, W.N. Street, and O.L. Mangasarian. Machine learning techniques\\n     to diagnose breast cancer from fine-needle aspirates. Cancer Letters 77 (1994) \\n     163-171.',\n",
              " 'data': array([[1.799e+01, 1.038e+01, 1.228e+02, ..., 2.654e-01, 4.601e-01,\n",
              "         1.189e-01],\n",
              "        [2.057e+01, 1.777e+01, 1.329e+02, ..., 1.860e-01, 2.750e-01,\n",
              "         8.902e-02],\n",
              "        [1.969e+01, 2.125e+01, 1.300e+02, ..., 2.430e-01, 3.613e-01,\n",
              "         8.758e-02],\n",
              "        ...,\n",
              "        [1.660e+01, 2.808e+01, 1.083e+02, ..., 1.418e-01, 2.218e-01,\n",
              "         7.820e-02],\n",
              "        [2.060e+01, 2.933e+01, 1.401e+02, ..., 2.650e-01, 4.087e-01,\n",
              "         1.240e-01],\n",
              "        [7.760e+00, 2.454e+01, 4.792e+01, ..., 0.000e+00, 2.871e-01,\n",
              "         7.039e-02]]),\n",
              " 'feature_names': array(['mean radius', 'mean texture', 'mean perimeter', 'mean area',\n",
              "        'mean smoothness', 'mean compactness', 'mean concavity',\n",
              "        'mean concave points', 'mean symmetry', 'mean fractal dimension',\n",
              "        'radius error', 'texture error', 'perimeter error', 'area error',\n",
              "        'smoothness error', 'compactness error', 'concavity error',\n",
              "        'concave points error', 'symmetry error',\n",
              "        'fractal dimension error', 'worst radius', 'worst texture',\n",
              "        'worst perimeter', 'worst area', 'worst smoothness',\n",
              "        'worst compactness', 'worst concavity', 'worst concave points',\n",
              "        'worst symmetry', 'worst fractal dimension'], dtype='<U23'),\n",
              " 'filename': '/usr/local/lib/python3.7/dist-packages/sklearn/datasets/data/breast_cancer.csv',\n",
              " 'target': array([0, 0, 0, 0, 0, 0, 0, 0, 0, 0, 0, 0, 0, 0, 0, 0, 0, 0, 0, 1, 1, 1,\n",
              "        0, 0, 0, 0, 0, 0, 0, 0, 0, 0, 0, 0, 0, 0, 0, 1, 0, 0, 0, 0, 0, 0,\n",
              "        0, 0, 1, 0, 1, 1, 1, 1, 1, 0, 0, 1, 0, 0, 1, 1, 1, 1, 0, 1, 0, 0,\n",
              "        1, 1, 1, 1, 0, 1, 0, 0, 1, 0, 1, 0, 0, 1, 1, 1, 0, 0, 1, 0, 0, 0,\n",
              "        1, 1, 1, 0, 1, 1, 0, 0, 1, 1, 1, 0, 0, 1, 1, 1, 1, 0, 1, 1, 0, 1,\n",
              "        1, 1, 1, 1, 1, 1, 1, 0, 0, 0, 1, 0, 0, 1, 1, 1, 0, 0, 1, 0, 1, 0,\n",
              "        0, 1, 0, 0, 1, 1, 0, 1, 1, 0, 1, 1, 1, 1, 0, 1, 1, 1, 1, 1, 1, 1,\n",
              "        1, 1, 0, 1, 1, 1, 1, 0, 0, 1, 0, 1, 1, 0, 0, 1, 1, 0, 0, 1, 1, 1,\n",
              "        1, 0, 1, 1, 0, 0, 0, 1, 0, 1, 0, 1, 1, 1, 0, 1, 1, 0, 0, 1, 0, 0,\n",
              "        0, 0, 1, 0, 0, 0, 1, 0, 1, 0, 1, 1, 0, 1, 0, 0, 0, 0, 1, 1, 0, 0,\n",
              "        1, 1, 1, 0, 1, 1, 1, 1, 1, 0, 0, 1, 1, 0, 1, 1, 0, 0, 1, 0, 1, 1,\n",
              "        1, 1, 0, 1, 1, 1, 1, 1, 0, 1, 0, 0, 0, 0, 0, 0, 0, 0, 0, 0, 0, 0,\n",
              "        0, 0, 1, 1, 1, 1, 1, 1, 0, 1, 0, 1, 1, 0, 1, 1, 0, 1, 0, 0, 1, 1,\n",
              "        1, 1, 1, 1, 1, 1, 1, 1, 1, 1, 1, 0, 1, 1, 0, 1, 0, 1, 1, 1, 1, 1,\n",
              "        1, 1, 1, 1, 1, 1, 1, 1, 1, 0, 1, 1, 1, 0, 1, 0, 1, 1, 1, 1, 0, 0,\n",
              "        0, 1, 1, 1, 1, 0, 1, 0, 1, 0, 1, 1, 1, 0, 1, 1, 1, 1, 1, 1, 1, 0,\n",
              "        0, 0, 1, 1, 1, 1, 1, 1, 1, 1, 1, 1, 1, 0, 0, 1, 0, 0, 0, 1, 0, 0,\n",
              "        1, 1, 1, 1, 1, 0, 1, 1, 1, 1, 1, 0, 1, 1, 1, 0, 1, 1, 0, 0, 1, 1,\n",
              "        1, 1, 1, 1, 0, 1, 1, 1, 1, 1, 1, 1, 0, 1, 1, 1, 1, 1, 0, 1, 1, 0,\n",
              "        1, 1, 1, 1, 1, 1, 1, 1, 1, 1, 1, 1, 0, 1, 0, 0, 1, 0, 1, 1, 1, 1,\n",
              "        1, 0, 1, 1, 0, 1, 0, 1, 1, 0, 1, 0, 1, 1, 1, 1, 1, 1, 1, 1, 0, 0,\n",
              "        1, 1, 1, 1, 1, 1, 0, 1, 1, 1, 1, 1, 1, 1, 1, 1, 1, 0, 1, 1, 1, 1,\n",
              "        1, 1, 1, 0, 1, 0, 1, 1, 0, 1, 1, 1, 1, 1, 0, 0, 1, 0, 1, 0, 1, 1,\n",
              "        1, 1, 1, 0, 1, 1, 0, 1, 0, 1, 0, 0, 1, 1, 1, 0, 1, 1, 1, 1, 1, 1,\n",
              "        1, 1, 1, 1, 1, 0, 1, 0, 0, 1, 1, 1, 1, 1, 1, 1, 1, 1, 1, 1, 1, 1,\n",
              "        1, 1, 1, 1, 1, 1, 1, 1, 1, 1, 1, 1, 0, 0, 0, 0, 0, 0, 1]),\n",
              " 'target_names': array(['malignant', 'benign'], dtype='<U9')}"
            ]
          },
          "metadata": {
            "tags": []
          },
          "execution_count": 9
        }
      ]
    },
    {
      "cell_type": "code",
      "metadata": {
        "id": "4p8WoyR-9PMl",
        "colab": {
          "base_uri": "https://localhost:8080/",
          "height": 237
        },
        "outputId": "d9a619fb-8c24-4d37-b695-e8412c1f6dc6"
      },
      "source": [
        "df = pd.DataFrame(data=data.data, columns=data.feature_names)\n",
        "df['target']=data.target\n",
        "df.head()"
      ],
      "execution_count": 10,
      "outputs": [
        {
          "output_type": "execute_result",
          "data": {
            "text/html": [
              "<div>\n",
              "<style scoped>\n",
              "    .dataframe tbody tr th:only-of-type {\n",
              "        vertical-align: middle;\n",
              "    }\n",
              "\n",
              "    .dataframe tbody tr th {\n",
              "        vertical-align: top;\n",
              "    }\n",
              "\n",
              "    .dataframe thead th {\n",
              "        text-align: right;\n",
              "    }\n",
              "</style>\n",
              "<table border=\"1\" class=\"dataframe\">\n",
              "  <thead>\n",
              "    <tr style=\"text-align: right;\">\n",
              "      <th></th>\n",
              "      <th>mean radius</th>\n",
              "      <th>mean texture</th>\n",
              "      <th>mean perimeter</th>\n",
              "      <th>mean area</th>\n",
              "      <th>mean smoothness</th>\n",
              "      <th>mean compactness</th>\n",
              "      <th>mean concavity</th>\n",
              "      <th>mean concave points</th>\n",
              "      <th>mean symmetry</th>\n",
              "      <th>mean fractal dimension</th>\n",
              "      <th>radius error</th>\n",
              "      <th>texture error</th>\n",
              "      <th>perimeter error</th>\n",
              "      <th>area error</th>\n",
              "      <th>smoothness error</th>\n",
              "      <th>compactness error</th>\n",
              "      <th>concavity error</th>\n",
              "      <th>concave points error</th>\n",
              "      <th>symmetry error</th>\n",
              "      <th>fractal dimension error</th>\n",
              "      <th>worst radius</th>\n",
              "      <th>worst texture</th>\n",
              "      <th>worst perimeter</th>\n",
              "      <th>worst area</th>\n",
              "      <th>worst smoothness</th>\n",
              "      <th>worst compactness</th>\n",
              "      <th>worst concavity</th>\n",
              "      <th>worst concave points</th>\n",
              "      <th>worst symmetry</th>\n",
              "      <th>worst fractal dimension</th>\n",
              "      <th>target</th>\n",
              "    </tr>\n",
              "  </thead>\n",
              "  <tbody>\n",
              "    <tr>\n",
              "      <th>0</th>\n",
              "      <td>17.99</td>\n",
              "      <td>10.38</td>\n",
              "      <td>122.80</td>\n",
              "      <td>1001.0</td>\n",
              "      <td>0.11840</td>\n",
              "      <td>0.27760</td>\n",
              "      <td>0.3001</td>\n",
              "      <td>0.14710</td>\n",
              "      <td>0.2419</td>\n",
              "      <td>0.07871</td>\n",
              "      <td>1.0950</td>\n",
              "      <td>0.9053</td>\n",
              "      <td>8.589</td>\n",
              "      <td>153.40</td>\n",
              "      <td>0.006399</td>\n",
              "      <td>0.04904</td>\n",
              "      <td>0.05373</td>\n",
              "      <td>0.01587</td>\n",
              "      <td>0.03003</td>\n",
              "      <td>0.006193</td>\n",
              "      <td>25.38</td>\n",
              "      <td>17.33</td>\n",
              "      <td>184.60</td>\n",
              "      <td>2019.0</td>\n",
              "      <td>0.1622</td>\n",
              "      <td>0.6656</td>\n",
              "      <td>0.7119</td>\n",
              "      <td>0.2654</td>\n",
              "      <td>0.4601</td>\n",
              "      <td>0.11890</td>\n",
              "      <td>0</td>\n",
              "    </tr>\n",
              "    <tr>\n",
              "      <th>1</th>\n",
              "      <td>20.57</td>\n",
              "      <td>17.77</td>\n",
              "      <td>132.90</td>\n",
              "      <td>1326.0</td>\n",
              "      <td>0.08474</td>\n",
              "      <td>0.07864</td>\n",
              "      <td>0.0869</td>\n",
              "      <td>0.07017</td>\n",
              "      <td>0.1812</td>\n",
              "      <td>0.05667</td>\n",
              "      <td>0.5435</td>\n",
              "      <td>0.7339</td>\n",
              "      <td>3.398</td>\n",
              "      <td>74.08</td>\n",
              "      <td>0.005225</td>\n",
              "      <td>0.01308</td>\n",
              "      <td>0.01860</td>\n",
              "      <td>0.01340</td>\n",
              "      <td>0.01389</td>\n",
              "      <td>0.003532</td>\n",
              "      <td>24.99</td>\n",
              "      <td>23.41</td>\n",
              "      <td>158.80</td>\n",
              "      <td>1956.0</td>\n",
              "      <td>0.1238</td>\n",
              "      <td>0.1866</td>\n",
              "      <td>0.2416</td>\n",
              "      <td>0.1860</td>\n",
              "      <td>0.2750</td>\n",
              "      <td>0.08902</td>\n",
              "      <td>0</td>\n",
              "    </tr>\n",
              "    <tr>\n",
              "      <th>2</th>\n",
              "      <td>19.69</td>\n",
              "      <td>21.25</td>\n",
              "      <td>130.00</td>\n",
              "      <td>1203.0</td>\n",
              "      <td>0.10960</td>\n",
              "      <td>0.15990</td>\n",
              "      <td>0.1974</td>\n",
              "      <td>0.12790</td>\n",
              "      <td>0.2069</td>\n",
              "      <td>0.05999</td>\n",
              "      <td>0.7456</td>\n",
              "      <td>0.7869</td>\n",
              "      <td>4.585</td>\n",
              "      <td>94.03</td>\n",
              "      <td>0.006150</td>\n",
              "      <td>0.04006</td>\n",
              "      <td>0.03832</td>\n",
              "      <td>0.02058</td>\n",
              "      <td>0.02250</td>\n",
              "      <td>0.004571</td>\n",
              "      <td>23.57</td>\n",
              "      <td>25.53</td>\n",
              "      <td>152.50</td>\n",
              "      <td>1709.0</td>\n",
              "      <td>0.1444</td>\n",
              "      <td>0.4245</td>\n",
              "      <td>0.4504</td>\n",
              "      <td>0.2430</td>\n",
              "      <td>0.3613</td>\n",
              "      <td>0.08758</td>\n",
              "      <td>0</td>\n",
              "    </tr>\n",
              "    <tr>\n",
              "      <th>3</th>\n",
              "      <td>11.42</td>\n",
              "      <td>20.38</td>\n",
              "      <td>77.58</td>\n",
              "      <td>386.1</td>\n",
              "      <td>0.14250</td>\n",
              "      <td>0.28390</td>\n",
              "      <td>0.2414</td>\n",
              "      <td>0.10520</td>\n",
              "      <td>0.2597</td>\n",
              "      <td>0.09744</td>\n",
              "      <td>0.4956</td>\n",
              "      <td>1.1560</td>\n",
              "      <td>3.445</td>\n",
              "      <td>27.23</td>\n",
              "      <td>0.009110</td>\n",
              "      <td>0.07458</td>\n",
              "      <td>0.05661</td>\n",
              "      <td>0.01867</td>\n",
              "      <td>0.05963</td>\n",
              "      <td>0.009208</td>\n",
              "      <td>14.91</td>\n",
              "      <td>26.50</td>\n",
              "      <td>98.87</td>\n",
              "      <td>567.7</td>\n",
              "      <td>0.2098</td>\n",
              "      <td>0.8663</td>\n",
              "      <td>0.6869</td>\n",
              "      <td>0.2575</td>\n",
              "      <td>0.6638</td>\n",
              "      <td>0.17300</td>\n",
              "      <td>0</td>\n",
              "    </tr>\n",
              "    <tr>\n",
              "      <th>4</th>\n",
              "      <td>20.29</td>\n",
              "      <td>14.34</td>\n",
              "      <td>135.10</td>\n",
              "      <td>1297.0</td>\n",
              "      <td>0.10030</td>\n",
              "      <td>0.13280</td>\n",
              "      <td>0.1980</td>\n",
              "      <td>0.10430</td>\n",
              "      <td>0.1809</td>\n",
              "      <td>0.05883</td>\n",
              "      <td>0.7572</td>\n",
              "      <td>0.7813</td>\n",
              "      <td>5.438</td>\n",
              "      <td>94.44</td>\n",
              "      <td>0.011490</td>\n",
              "      <td>0.02461</td>\n",
              "      <td>0.05688</td>\n",
              "      <td>0.01885</td>\n",
              "      <td>0.01756</td>\n",
              "      <td>0.005115</td>\n",
              "      <td>22.54</td>\n",
              "      <td>16.67</td>\n",
              "      <td>152.20</td>\n",
              "      <td>1575.0</td>\n",
              "      <td>0.1374</td>\n",
              "      <td>0.2050</td>\n",
              "      <td>0.4000</td>\n",
              "      <td>0.1625</td>\n",
              "      <td>0.2364</td>\n",
              "      <td>0.07678</td>\n",
              "      <td>0</td>\n",
              "    </tr>\n",
              "  </tbody>\n",
              "</table>\n",
              "</div>"
            ],
            "text/plain": [
              "   mean radius  mean texture  ...  worst fractal dimension  target\n",
              "0        17.99         10.38  ...                  0.11890       0\n",
              "1        20.57         17.77  ...                  0.08902       0\n",
              "2        19.69         21.25  ...                  0.08758       0\n",
              "3        11.42         20.38  ...                  0.17300       0\n",
              "4        20.29         14.34  ...                  0.07678       0\n",
              "\n",
              "[5 rows x 31 columns]"
            ]
          },
          "metadata": {
            "tags": []
          },
          "execution_count": 10
        }
      ]
    },
    {
      "cell_type": "code",
      "metadata": {
        "id": "MXODE91N-MDg",
        "colab": {
          "base_uri": "https://localhost:8080/"
        },
        "outputId": "f4b007db-5c61-4649-adc8-f3ba63307078"
      },
      "source": [
        "df.info()"
      ],
      "execution_count": 11,
      "outputs": [
        {
          "output_type": "stream",
          "text": [
            "<class 'pandas.core.frame.DataFrame'>\n",
            "RangeIndex: 569 entries, 0 to 568\n",
            "Data columns (total 31 columns):\n",
            " #   Column                   Non-Null Count  Dtype  \n",
            "---  ------                   --------------  -----  \n",
            " 0   mean radius              569 non-null    float64\n",
            " 1   mean texture             569 non-null    float64\n",
            " 2   mean perimeter           569 non-null    float64\n",
            " 3   mean area                569 non-null    float64\n",
            " 4   mean smoothness          569 non-null    float64\n",
            " 5   mean compactness         569 non-null    float64\n",
            " 6   mean concavity           569 non-null    float64\n",
            " 7   mean concave points      569 non-null    float64\n",
            " 8   mean symmetry            569 non-null    float64\n",
            " 9   mean fractal dimension   569 non-null    float64\n",
            " 10  radius error             569 non-null    float64\n",
            " 11  texture error            569 non-null    float64\n",
            " 12  perimeter error          569 non-null    float64\n",
            " 13  area error               569 non-null    float64\n",
            " 14  smoothness error         569 non-null    float64\n",
            " 15  compactness error        569 non-null    float64\n",
            " 16  concavity error          569 non-null    float64\n",
            " 17  concave points error     569 non-null    float64\n",
            " 18  symmetry error           569 non-null    float64\n",
            " 19  fractal dimension error  569 non-null    float64\n",
            " 20  worst radius             569 non-null    float64\n",
            " 21  worst texture            569 non-null    float64\n",
            " 22  worst perimeter          569 non-null    float64\n",
            " 23  worst area               569 non-null    float64\n",
            " 24  worst smoothness         569 non-null    float64\n",
            " 25  worst compactness        569 non-null    float64\n",
            " 26  worst concavity          569 non-null    float64\n",
            " 27  worst concave points     569 non-null    float64\n",
            " 28  worst symmetry           569 non-null    float64\n",
            " 29  worst fractal dimension  569 non-null    float64\n",
            " 30  target                   569 non-null    int64  \n",
            "dtypes: float64(30), int64(1)\n",
            "memory usage: 137.9 KB\n"
          ],
          "name": "stdout"
        }
      ]
    },
    {
      "cell_type": "code",
      "metadata": {
        "id": "fLmMwLJv_HS1",
        "colab": {
          "base_uri": "https://localhost:8080/",
          "height": 349
        },
        "outputId": "e7c36769-b343-4a77-a0b8-27408f8e1739"
      },
      "source": [
        "df.describe()"
      ],
      "execution_count": 12,
      "outputs": [
        {
          "output_type": "execute_result",
          "data": {
            "text/html": [
              "<div>\n",
              "<style scoped>\n",
              "    .dataframe tbody tr th:only-of-type {\n",
              "        vertical-align: middle;\n",
              "    }\n",
              "\n",
              "    .dataframe tbody tr th {\n",
              "        vertical-align: top;\n",
              "    }\n",
              "\n",
              "    .dataframe thead th {\n",
              "        text-align: right;\n",
              "    }\n",
              "</style>\n",
              "<table border=\"1\" class=\"dataframe\">\n",
              "  <thead>\n",
              "    <tr style=\"text-align: right;\">\n",
              "      <th></th>\n",
              "      <th>mean radius</th>\n",
              "      <th>mean texture</th>\n",
              "      <th>mean perimeter</th>\n",
              "      <th>mean area</th>\n",
              "      <th>mean smoothness</th>\n",
              "      <th>mean compactness</th>\n",
              "      <th>mean concavity</th>\n",
              "      <th>mean concave points</th>\n",
              "      <th>mean symmetry</th>\n",
              "      <th>mean fractal dimension</th>\n",
              "      <th>radius error</th>\n",
              "      <th>texture error</th>\n",
              "      <th>perimeter error</th>\n",
              "      <th>area error</th>\n",
              "      <th>smoothness error</th>\n",
              "      <th>compactness error</th>\n",
              "      <th>concavity error</th>\n",
              "      <th>concave points error</th>\n",
              "      <th>symmetry error</th>\n",
              "      <th>fractal dimension error</th>\n",
              "      <th>worst radius</th>\n",
              "      <th>worst texture</th>\n",
              "      <th>worst perimeter</th>\n",
              "      <th>worst area</th>\n",
              "      <th>worst smoothness</th>\n",
              "      <th>worst compactness</th>\n",
              "      <th>worst concavity</th>\n",
              "      <th>worst concave points</th>\n",
              "      <th>worst symmetry</th>\n",
              "      <th>worst fractal dimension</th>\n",
              "      <th>target</th>\n",
              "    </tr>\n",
              "  </thead>\n",
              "  <tbody>\n",
              "    <tr>\n",
              "      <th>count</th>\n",
              "      <td>569.000000</td>\n",
              "      <td>569.000000</td>\n",
              "      <td>569.000000</td>\n",
              "      <td>569.000000</td>\n",
              "      <td>569.000000</td>\n",
              "      <td>569.000000</td>\n",
              "      <td>569.000000</td>\n",
              "      <td>569.000000</td>\n",
              "      <td>569.000000</td>\n",
              "      <td>569.000000</td>\n",
              "      <td>569.000000</td>\n",
              "      <td>569.000000</td>\n",
              "      <td>569.000000</td>\n",
              "      <td>569.000000</td>\n",
              "      <td>569.000000</td>\n",
              "      <td>569.000000</td>\n",
              "      <td>569.000000</td>\n",
              "      <td>569.000000</td>\n",
              "      <td>569.000000</td>\n",
              "      <td>569.000000</td>\n",
              "      <td>569.000000</td>\n",
              "      <td>569.000000</td>\n",
              "      <td>569.000000</td>\n",
              "      <td>569.000000</td>\n",
              "      <td>569.000000</td>\n",
              "      <td>569.000000</td>\n",
              "      <td>569.000000</td>\n",
              "      <td>569.000000</td>\n",
              "      <td>569.000000</td>\n",
              "      <td>569.000000</td>\n",
              "      <td>569.000000</td>\n",
              "    </tr>\n",
              "    <tr>\n",
              "      <th>mean</th>\n",
              "      <td>14.127292</td>\n",
              "      <td>19.289649</td>\n",
              "      <td>91.969033</td>\n",
              "      <td>654.889104</td>\n",
              "      <td>0.096360</td>\n",
              "      <td>0.104341</td>\n",
              "      <td>0.088799</td>\n",
              "      <td>0.048919</td>\n",
              "      <td>0.181162</td>\n",
              "      <td>0.062798</td>\n",
              "      <td>0.405172</td>\n",
              "      <td>1.216853</td>\n",
              "      <td>2.866059</td>\n",
              "      <td>40.337079</td>\n",
              "      <td>0.007041</td>\n",
              "      <td>0.025478</td>\n",
              "      <td>0.031894</td>\n",
              "      <td>0.011796</td>\n",
              "      <td>0.020542</td>\n",
              "      <td>0.003795</td>\n",
              "      <td>16.269190</td>\n",
              "      <td>25.677223</td>\n",
              "      <td>107.261213</td>\n",
              "      <td>880.583128</td>\n",
              "      <td>0.132369</td>\n",
              "      <td>0.254265</td>\n",
              "      <td>0.272188</td>\n",
              "      <td>0.114606</td>\n",
              "      <td>0.290076</td>\n",
              "      <td>0.083946</td>\n",
              "      <td>0.627417</td>\n",
              "    </tr>\n",
              "    <tr>\n",
              "      <th>std</th>\n",
              "      <td>3.524049</td>\n",
              "      <td>4.301036</td>\n",
              "      <td>24.298981</td>\n",
              "      <td>351.914129</td>\n",
              "      <td>0.014064</td>\n",
              "      <td>0.052813</td>\n",
              "      <td>0.079720</td>\n",
              "      <td>0.038803</td>\n",
              "      <td>0.027414</td>\n",
              "      <td>0.007060</td>\n",
              "      <td>0.277313</td>\n",
              "      <td>0.551648</td>\n",
              "      <td>2.021855</td>\n",
              "      <td>45.491006</td>\n",
              "      <td>0.003003</td>\n",
              "      <td>0.017908</td>\n",
              "      <td>0.030186</td>\n",
              "      <td>0.006170</td>\n",
              "      <td>0.008266</td>\n",
              "      <td>0.002646</td>\n",
              "      <td>4.833242</td>\n",
              "      <td>6.146258</td>\n",
              "      <td>33.602542</td>\n",
              "      <td>569.356993</td>\n",
              "      <td>0.022832</td>\n",
              "      <td>0.157336</td>\n",
              "      <td>0.208624</td>\n",
              "      <td>0.065732</td>\n",
              "      <td>0.061867</td>\n",
              "      <td>0.018061</td>\n",
              "      <td>0.483918</td>\n",
              "    </tr>\n",
              "    <tr>\n",
              "      <th>min</th>\n",
              "      <td>6.981000</td>\n",
              "      <td>9.710000</td>\n",
              "      <td>43.790000</td>\n",
              "      <td>143.500000</td>\n",
              "      <td>0.052630</td>\n",
              "      <td>0.019380</td>\n",
              "      <td>0.000000</td>\n",
              "      <td>0.000000</td>\n",
              "      <td>0.106000</td>\n",
              "      <td>0.049960</td>\n",
              "      <td>0.111500</td>\n",
              "      <td>0.360200</td>\n",
              "      <td>0.757000</td>\n",
              "      <td>6.802000</td>\n",
              "      <td>0.001713</td>\n",
              "      <td>0.002252</td>\n",
              "      <td>0.000000</td>\n",
              "      <td>0.000000</td>\n",
              "      <td>0.007882</td>\n",
              "      <td>0.000895</td>\n",
              "      <td>7.930000</td>\n",
              "      <td>12.020000</td>\n",
              "      <td>50.410000</td>\n",
              "      <td>185.200000</td>\n",
              "      <td>0.071170</td>\n",
              "      <td>0.027290</td>\n",
              "      <td>0.000000</td>\n",
              "      <td>0.000000</td>\n",
              "      <td>0.156500</td>\n",
              "      <td>0.055040</td>\n",
              "      <td>0.000000</td>\n",
              "    </tr>\n",
              "    <tr>\n",
              "      <th>25%</th>\n",
              "      <td>11.700000</td>\n",
              "      <td>16.170000</td>\n",
              "      <td>75.170000</td>\n",
              "      <td>420.300000</td>\n",
              "      <td>0.086370</td>\n",
              "      <td>0.064920</td>\n",
              "      <td>0.029560</td>\n",
              "      <td>0.020310</td>\n",
              "      <td>0.161900</td>\n",
              "      <td>0.057700</td>\n",
              "      <td>0.232400</td>\n",
              "      <td>0.833900</td>\n",
              "      <td>1.606000</td>\n",
              "      <td>17.850000</td>\n",
              "      <td>0.005169</td>\n",
              "      <td>0.013080</td>\n",
              "      <td>0.015090</td>\n",
              "      <td>0.007638</td>\n",
              "      <td>0.015160</td>\n",
              "      <td>0.002248</td>\n",
              "      <td>13.010000</td>\n",
              "      <td>21.080000</td>\n",
              "      <td>84.110000</td>\n",
              "      <td>515.300000</td>\n",
              "      <td>0.116600</td>\n",
              "      <td>0.147200</td>\n",
              "      <td>0.114500</td>\n",
              "      <td>0.064930</td>\n",
              "      <td>0.250400</td>\n",
              "      <td>0.071460</td>\n",
              "      <td>0.000000</td>\n",
              "    </tr>\n",
              "    <tr>\n",
              "      <th>50%</th>\n",
              "      <td>13.370000</td>\n",
              "      <td>18.840000</td>\n",
              "      <td>86.240000</td>\n",
              "      <td>551.100000</td>\n",
              "      <td>0.095870</td>\n",
              "      <td>0.092630</td>\n",
              "      <td>0.061540</td>\n",
              "      <td>0.033500</td>\n",
              "      <td>0.179200</td>\n",
              "      <td>0.061540</td>\n",
              "      <td>0.324200</td>\n",
              "      <td>1.108000</td>\n",
              "      <td>2.287000</td>\n",
              "      <td>24.530000</td>\n",
              "      <td>0.006380</td>\n",
              "      <td>0.020450</td>\n",
              "      <td>0.025890</td>\n",
              "      <td>0.010930</td>\n",
              "      <td>0.018730</td>\n",
              "      <td>0.003187</td>\n",
              "      <td>14.970000</td>\n",
              "      <td>25.410000</td>\n",
              "      <td>97.660000</td>\n",
              "      <td>686.500000</td>\n",
              "      <td>0.131300</td>\n",
              "      <td>0.211900</td>\n",
              "      <td>0.226700</td>\n",
              "      <td>0.099930</td>\n",
              "      <td>0.282200</td>\n",
              "      <td>0.080040</td>\n",
              "      <td>1.000000</td>\n",
              "    </tr>\n",
              "    <tr>\n",
              "      <th>75%</th>\n",
              "      <td>15.780000</td>\n",
              "      <td>21.800000</td>\n",
              "      <td>104.100000</td>\n",
              "      <td>782.700000</td>\n",
              "      <td>0.105300</td>\n",
              "      <td>0.130400</td>\n",
              "      <td>0.130700</td>\n",
              "      <td>0.074000</td>\n",
              "      <td>0.195700</td>\n",
              "      <td>0.066120</td>\n",
              "      <td>0.478900</td>\n",
              "      <td>1.474000</td>\n",
              "      <td>3.357000</td>\n",
              "      <td>45.190000</td>\n",
              "      <td>0.008146</td>\n",
              "      <td>0.032450</td>\n",
              "      <td>0.042050</td>\n",
              "      <td>0.014710</td>\n",
              "      <td>0.023480</td>\n",
              "      <td>0.004558</td>\n",
              "      <td>18.790000</td>\n",
              "      <td>29.720000</td>\n",
              "      <td>125.400000</td>\n",
              "      <td>1084.000000</td>\n",
              "      <td>0.146000</td>\n",
              "      <td>0.339100</td>\n",
              "      <td>0.382900</td>\n",
              "      <td>0.161400</td>\n",
              "      <td>0.317900</td>\n",
              "      <td>0.092080</td>\n",
              "      <td>1.000000</td>\n",
              "    </tr>\n",
              "    <tr>\n",
              "      <th>max</th>\n",
              "      <td>28.110000</td>\n",
              "      <td>39.280000</td>\n",
              "      <td>188.500000</td>\n",
              "      <td>2501.000000</td>\n",
              "      <td>0.163400</td>\n",
              "      <td>0.345400</td>\n",
              "      <td>0.426800</td>\n",
              "      <td>0.201200</td>\n",
              "      <td>0.304000</td>\n",
              "      <td>0.097440</td>\n",
              "      <td>2.873000</td>\n",
              "      <td>4.885000</td>\n",
              "      <td>21.980000</td>\n",
              "      <td>542.200000</td>\n",
              "      <td>0.031130</td>\n",
              "      <td>0.135400</td>\n",
              "      <td>0.396000</td>\n",
              "      <td>0.052790</td>\n",
              "      <td>0.078950</td>\n",
              "      <td>0.029840</td>\n",
              "      <td>36.040000</td>\n",
              "      <td>49.540000</td>\n",
              "      <td>251.200000</td>\n",
              "      <td>4254.000000</td>\n",
              "      <td>0.222600</td>\n",
              "      <td>1.058000</td>\n",
              "      <td>1.252000</td>\n",
              "      <td>0.291000</td>\n",
              "      <td>0.663800</td>\n",
              "      <td>0.207500</td>\n",
              "      <td>1.000000</td>\n",
              "    </tr>\n",
              "  </tbody>\n",
              "</table>\n",
              "</div>"
            ],
            "text/plain": [
              "       mean radius  mean texture  ...  worst fractal dimension      target\n",
              "count   569.000000    569.000000  ...               569.000000  569.000000\n",
              "mean     14.127292     19.289649  ...                 0.083946    0.627417\n",
              "std       3.524049      4.301036  ...                 0.018061    0.483918\n",
              "min       6.981000      9.710000  ...                 0.055040    0.000000\n",
              "25%      11.700000     16.170000  ...                 0.071460    0.000000\n",
              "50%      13.370000     18.840000  ...                 0.080040    1.000000\n",
              "75%      15.780000     21.800000  ...                 0.092080    1.000000\n",
              "max      28.110000     39.280000  ...                 0.207500    1.000000\n",
              "\n",
              "[8 rows x 31 columns]"
            ]
          },
          "metadata": {
            "tags": []
          },
          "execution_count": 12
        }
      ]
    },
    {
      "cell_type": "code",
      "metadata": {
        "id": "zt5aNd2o_Rky",
        "colab": {
          "base_uri": "https://localhost:8080/"
        },
        "outputId": "7d2ec7b1-6d6d-4ab5-e245-6186aec8477a"
      },
      "source": [
        "df['target'].value_counts()"
      ],
      "execution_count": 13,
      "outputs": [
        {
          "output_type": "execute_result",
          "data": {
            "text/plain": [
              "1    357\n",
              "0    212\n",
              "Name: target, dtype: int64"
            ]
          },
          "metadata": {
            "tags": []
          },
          "execution_count": 13
        }
      ]
    },
    {
      "cell_type": "code",
      "metadata": {
        "id": "t4YxUckqBlXr",
        "colab": {
          "base_uri": "https://localhost:8080/"
        },
        "outputId": "a91f42b8-dee1-458b-e93b-710655549036"
      },
      "source": [
        "df['target'].value_counts(normalize=True)"
      ],
      "execution_count": 14,
      "outputs": [
        {
          "output_type": "execute_result",
          "data": {
            "text/plain": [
              "1    0.627417\n",
              "0    0.372583\n",
              "Name: target, dtype: float64"
            ]
          },
          "metadata": {
            "tags": []
          },
          "execution_count": 14
        }
      ]
    },
    {
      "cell_type": "markdown",
      "metadata": {
        "id": "ued0s2OFFPp8"
      },
      "source": [
        "## Standardization"
      ]
    },
    {
      "cell_type": "code",
      "metadata": {
        "id": "sJpPtR6qHE1p"
      },
      "source": [
        "X_features = df[df.columns.difference(['target'])]"
      ],
      "execution_count": 15,
      "outputs": []
    },
    {
      "cell_type": "code",
      "metadata": {
        "id": "-z4Q9cqhELby"
      },
      "source": [
        "from sklearn.preprocessing import StandardScaler\n",
        "sc = StandardScaler()\n",
        "X = pd.DataFrame(sc.fit_transform(X_features),index=X_features.index,columns=X_features.columns)\n",
        "# Note: For the datasets with outliers, standardize using Robust Scaler"
      ],
      "execution_count": 17,
      "outputs": []
    },
    {
      "cell_type": "markdown",
      "metadata": {
        "id": "fUbgGHeeqNJb"
      },
      "source": [
        "Add the describe after standardization"
      ]
    },
    {
      "cell_type": "code",
      "metadata": {
        "id": "pjtFeZRDFW4c",
        "colab": {
          "base_uri": "https://localhost:8080/",
          "height": 418
        },
        "outputId": "c45235e1-61a2-455f-f7d9-6166520420d0"
      },
      "source": [
        "X.describe()"
      ],
      "execution_count": 18,
      "outputs": [
        {
          "output_type": "execute_result",
          "data": {
            "text/html": [
              "<div>\n",
              "<style scoped>\n",
              "    .dataframe tbody tr th:only-of-type {\n",
              "        vertical-align: middle;\n",
              "    }\n",
              "\n",
              "    .dataframe tbody tr th {\n",
              "        vertical-align: top;\n",
              "    }\n",
              "\n",
              "    .dataframe thead th {\n",
              "        text-align: right;\n",
              "    }\n",
              "</style>\n",
              "<table border=\"1\" class=\"dataframe\">\n",
              "  <thead>\n",
              "    <tr style=\"text-align: right;\">\n",
              "      <th></th>\n",
              "      <th>area error</th>\n",
              "      <th>compactness error</th>\n",
              "      <th>concave points error</th>\n",
              "      <th>concavity error</th>\n",
              "      <th>fractal dimension error</th>\n",
              "      <th>mean area</th>\n",
              "      <th>mean compactness</th>\n",
              "      <th>mean concave points</th>\n",
              "      <th>mean concavity</th>\n",
              "      <th>mean fractal dimension</th>\n",
              "      <th>mean perimeter</th>\n",
              "      <th>mean radius</th>\n",
              "      <th>mean smoothness</th>\n",
              "      <th>mean symmetry</th>\n",
              "      <th>mean texture</th>\n",
              "      <th>perimeter error</th>\n",
              "      <th>radius error</th>\n",
              "      <th>smoothness error</th>\n",
              "      <th>symmetry error</th>\n",
              "      <th>texture error</th>\n",
              "      <th>worst area</th>\n",
              "      <th>worst compactness</th>\n",
              "      <th>worst concave points</th>\n",
              "      <th>worst concavity</th>\n",
              "      <th>worst fractal dimension</th>\n",
              "      <th>worst perimeter</th>\n",
              "      <th>worst radius</th>\n",
              "      <th>worst smoothness</th>\n",
              "      <th>worst symmetry</th>\n",
              "      <th>worst texture</th>\n",
              "    </tr>\n",
              "  </thead>\n",
              "  <tbody>\n",
              "    <tr>\n",
              "      <th>count</th>\n",
              "      <td>5.690000e+02</td>\n",
              "      <td>5.690000e+02</td>\n",
              "      <td>5.690000e+02</td>\n",
              "      <td>5.690000e+02</td>\n",
              "      <td>5.690000e+02</td>\n",
              "      <td>5.690000e+02</td>\n",
              "      <td>5.690000e+02</td>\n",
              "      <td>5.690000e+02</td>\n",
              "      <td>5.690000e+02</td>\n",
              "      <td>5.690000e+02</td>\n",
              "      <td>5.690000e+02</td>\n",
              "      <td>5.690000e+02</td>\n",
              "      <td>5.690000e+02</td>\n",
              "      <td>5.690000e+02</td>\n",
              "      <td>5.690000e+02</td>\n",
              "      <td>5.690000e+02</td>\n",
              "      <td>5.690000e+02</td>\n",
              "      <td>5.690000e+02</td>\n",
              "      <td>5.690000e+02</td>\n",
              "      <td>5.690000e+02</td>\n",
              "      <td>5.690000e+02</td>\n",
              "      <td>5.690000e+02</td>\n",
              "      <td>5.690000e+02</td>\n",
              "      <td>5.690000e+02</td>\n",
              "      <td>5.690000e+02</td>\n",
              "      <td>5.690000e+02</td>\n",
              "      <td>5.690000e+02</td>\n",
              "      <td>5.690000e+02</td>\n",
              "      <td>5.690000e+02</td>\n",
              "      <td>5.690000e+02</td>\n",
              "    </tr>\n",
              "    <tr>\n",
              "      <th>mean</th>\n",
              "      <td>-8.291551e-16</td>\n",
              "      <td>-3.921877e-16</td>\n",
              "      <td>-2.739461e-16</td>\n",
              "      <td>7.917900e-16</td>\n",
              "      <td>-3.366766e-16</td>\n",
              "      <td>-8.799835e-16</td>\n",
              "      <td>-1.120369e-15</td>\n",
              "      <td>9.732500e-16</td>\n",
              "      <td>-4.421380e-16</td>\n",
              "      <td>-1.453631e-15</td>\n",
              "      <td>-7.078891e-16</td>\n",
              "      <td>-3.162867e-15</td>\n",
              "      <td>6.132177e-15</td>\n",
              "      <td>-1.971670e-15</td>\n",
              "      <td>-6.530609e-15</td>\n",
              "      <td>1.773674e-15</td>\n",
              "      <td>-9.076415e-16</td>\n",
              "      <td>-7.541809e-16</td>\n",
              "      <td>-3.108234e-16</td>\n",
              "      <td>-8.853492e-16</td>\n",
              "      <td>5.049661e-16</td>\n",
              "      <td>-2.174788e-15</td>\n",
              "      <td>-1.412656e-16</td>\n",
              "      <td>6.856456e-16</td>\n",
              "      <td>2.575171e-15</td>\n",
              "      <td>-1.198026e-15</td>\n",
              "      <td>-2.333224e-15</td>\n",
              "      <td>-5.213170e-15</td>\n",
              "      <td>-2.289567e-15</td>\n",
              "      <td>1.763674e-15</td>\n",
              "    </tr>\n",
              "    <tr>\n",
              "      <th>std</th>\n",
              "      <td>1.000880e+00</td>\n",
              "      <td>1.000880e+00</td>\n",
              "      <td>1.000880e+00</td>\n",
              "      <td>1.000880e+00</td>\n",
              "      <td>1.000880e+00</td>\n",
              "      <td>1.000880e+00</td>\n",
              "      <td>1.000880e+00</td>\n",
              "      <td>1.000880e+00</td>\n",
              "      <td>1.000880e+00</td>\n",
              "      <td>1.000880e+00</td>\n",
              "      <td>1.000880e+00</td>\n",
              "      <td>1.000880e+00</td>\n",
              "      <td>1.000880e+00</td>\n",
              "      <td>1.000880e+00</td>\n",
              "      <td>1.000880e+00</td>\n",
              "      <td>1.000880e+00</td>\n",
              "      <td>1.000880e+00</td>\n",
              "      <td>1.000880e+00</td>\n",
              "      <td>1.000880e+00</td>\n",
              "      <td>1.000880e+00</td>\n",
              "      <td>1.000880e+00</td>\n",
              "      <td>1.000880e+00</td>\n",
              "      <td>1.000880e+00</td>\n",
              "      <td>1.000880e+00</td>\n",
              "      <td>1.000880e+00</td>\n",
              "      <td>1.000880e+00</td>\n",
              "      <td>1.000880e+00</td>\n",
              "      <td>1.000880e+00</td>\n",
              "      <td>1.000880e+00</td>\n",
              "      <td>1.000880e+00</td>\n",
              "    </tr>\n",
              "    <tr>\n",
              "      <th>min</th>\n",
              "      <td>-7.378291e-01</td>\n",
              "      <td>-1.298098e+00</td>\n",
              "      <td>-1.913447e+00</td>\n",
              "      <td>-1.057501e+00</td>\n",
              "      <td>-1.096968e+00</td>\n",
              "      <td>-1.454443e+00</td>\n",
              "      <td>-1.610136e+00</td>\n",
              "      <td>-1.261820e+00</td>\n",
              "      <td>-1.114873e+00</td>\n",
              "      <td>-1.819865e+00</td>\n",
              "      <td>-1.984504e+00</td>\n",
              "      <td>-2.029648e+00</td>\n",
              "      <td>-3.112085e+00</td>\n",
              "      <td>-2.744117e+00</td>\n",
              "      <td>-2.229249e+00</td>\n",
              "      <td>-1.044049e+00</td>\n",
              "      <td>-1.059924e+00</td>\n",
              "      <td>-1.776065e+00</td>\n",
              "      <td>-1.532890e+00</td>\n",
              "      <td>-1.554264e+00</td>\n",
              "      <td>-1.222423e+00</td>\n",
              "      <td>-1.443878e+00</td>\n",
              "      <td>-1.745063e+00</td>\n",
              "      <td>-1.305831e+00</td>\n",
              "      <td>-1.601839e+00</td>\n",
              "      <td>-1.693361e+00</td>\n",
              "      <td>-1.726901e+00</td>\n",
              "      <td>-2.682695e+00</td>\n",
              "      <td>-2.160960e+00</td>\n",
              "      <td>-2.223994e+00</td>\n",
              "    </tr>\n",
              "    <tr>\n",
              "      <th>25%</th>\n",
              "      <td>-4.947542e-01</td>\n",
              "      <td>-6.929263e-01</td>\n",
              "      <td>-6.744900e-01</td>\n",
              "      <td>-5.571612e-01</td>\n",
              "      <td>-5.851185e-01</td>\n",
              "      <td>-6.671955e-01</td>\n",
              "      <td>-7.470860e-01</td>\n",
              "      <td>-7.379438e-01</td>\n",
              "      <td>-7.437479e-01</td>\n",
              "      <td>-7.226392e-01</td>\n",
              "      <td>-6.919555e-01</td>\n",
              "      <td>-6.893853e-01</td>\n",
              "      <td>-7.109628e-01</td>\n",
              "      <td>-7.032397e-01</td>\n",
              "      <td>-7.259631e-01</td>\n",
              "      <td>-6.237679e-01</td>\n",
              "      <td>-6.235706e-01</td>\n",
              "      <td>-6.240183e-01</td>\n",
              "      <td>-6.516807e-01</td>\n",
              "      <td>-6.948092e-01</td>\n",
              "      <td>-6.421359e-01</td>\n",
              "      <td>-6.810833e-01</td>\n",
              "      <td>-7.563999e-01</td>\n",
              "      <td>-7.565142e-01</td>\n",
              "      <td>-6.919118e-01</td>\n",
              "      <td>-6.895783e-01</td>\n",
              "      <td>-6.749213e-01</td>\n",
              "      <td>-6.912304e-01</td>\n",
              "      <td>-6.418637e-01</td>\n",
              "      <td>-7.486293e-01</td>\n",
              "    </tr>\n",
              "    <tr>\n",
              "      <th>50%</th>\n",
              "      <td>-3.477828e-01</td>\n",
              "      <td>-2.810204e-01</td>\n",
              "      <td>-1.404958e-01</td>\n",
              "      <td>-1.990654e-01</td>\n",
              "      <td>-2.299405e-01</td>\n",
              "      <td>-2.951869e-01</td>\n",
              "      <td>-2.219405e-01</td>\n",
              "      <td>-3.977212e-01</td>\n",
              "      <td>-3.422399e-01</td>\n",
              "      <td>-1.782793e-01</td>\n",
              "      <td>-2.359800e-01</td>\n",
              "      <td>-2.150816e-01</td>\n",
              "      <td>-3.489108e-02</td>\n",
              "      <td>-7.162650e-02</td>\n",
              "      <td>-1.046362e-01</td>\n",
              "      <td>-2.866520e-01</td>\n",
              "      <td>-2.922452e-01</td>\n",
              "      <td>-2.203352e-01</td>\n",
              "      <td>-2.194304e-01</td>\n",
              "      <td>-1.974976e-01</td>\n",
              "      <td>-3.411812e-01</td>\n",
              "      <td>-2.695009e-01</td>\n",
              "      <td>-2.234689e-01</td>\n",
              "      <td>-2.182321e-01</td>\n",
              "      <td>-2.164441e-01</td>\n",
              "      <td>-2.859802e-01</td>\n",
              "      <td>-2.690395e-01</td>\n",
              "      <td>-4.684277e-02</td>\n",
              "      <td>-1.274095e-01</td>\n",
              "      <td>-4.351564e-02</td>\n",
              "    </tr>\n",
              "    <tr>\n",
              "      <th>75%</th>\n",
              "      <td>1.067726e-01</td>\n",
              "      <td>3.896541e-01</td>\n",
              "      <td>4.726567e-01</td>\n",
              "      <td>3.367521e-01</td>\n",
              "      <td>2.886421e-01</td>\n",
              "      <td>3.635073e-01</td>\n",
              "      <td>4.938569e-01</td>\n",
              "      <td>6.469351e-01</td>\n",
              "      <td>5.260619e-01</td>\n",
              "      <td>4.709834e-01</td>\n",
              "      <td>4.996769e-01</td>\n",
              "      <td>4.693926e-01</td>\n",
              "      <td>6.361990e-01</td>\n",
              "      <td>5.307792e-01</td>\n",
              "      <td>5.841756e-01</td>\n",
              "      <td>2.430307e-01</td>\n",
              "      <td>2.660996e-01</td>\n",
              "      <td>3.683553e-01</td>\n",
              "      <td>3.556925e-01</td>\n",
              "      <td>4.665523e-01</td>\n",
              "      <td>3.575891e-01</td>\n",
              "      <td>5.396688e-01</td>\n",
              "      <td>7.125100e-01</td>\n",
              "      <td>5.311411e-01</td>\n",
              "      <td>4.507624e-01</td>\n",
              "      <td>5.402790e-01</td>\n",
              "      <td>5.220158e-01</td>\n",
              "      <td>5.975448e-01</td>\n",
              "      <td>4.501382e-01</td>\n",
              "      <td>6.583411e-01</td>\n",
              "    </tr>\n",
              "    <tr>\n",
              "      <th>max</th>\n",
              "      <td>1.104184e+01</td>\n",
              "      <td>6.143482e+00</td>\n",
              "      <td>6.649601e+00</td>\n",
              "      <td>1.207268e+01</td>\n",
              "      <td>9.851593e+00</td>\n",
              "      <td>5.250529e+00</td>\n",
              "      <td>4.568425e+00</td>\n",
              "      <td>3.927930e+00</td>\n",
              "      <td>4.243589e+00</td>\n",
              "      <td>4.910919e+00</td>\n",
              "      <td>3.976130e+00</td>\n",
              "      <td>3.971288e+00</td>\n",
              "      <td>4.770911e+00</td>\n",
              "      <td>4.484751e+00</td>\n",
              "      <td>4.651889e+00</td>\n",
              "      <td>9.461986e+00</td>\n",
              "      <td>8.906909e+00</td>\n",
              "      <td>8.029999e+00</td>\n",
              "      <td>7.071917e+00</td>\n",
              "      <td>6.655279e+00</td>\n",
              "      <td>5.930172e+00</td>\n",
              "      <td>5.112877e+00</td>\n",
              "      <td>2.685877e+00</td>\n",
              "      <td>4.700669e+00</td>\n",
              "      <td>6.846856e+00</td>\n",
              "      <td>4.287337e+00</td>\n",
              "      <td>4.094189e+00</td>\n",
              "      <td>3.955374e+00</td>\n",
              "      <td>6.046041e+00</td>\n",
              "      <td>3.885905e+00</td>\n",
              "    </tr>\n",
              "  </tbody>\n",
              "</table>\n",
              "</div>"
            ],
            "text/plain": [
              "         area error  compactness error  ...  worst symmetry  worst texture\n",
              "count  5.690000e+02       5.690000e+02  ...    5.690000e+02   5.690000e+02\n",
              "mean  -8.291551e-16      -3.921877e-16  ...   -2.289567e-15   1.763674e-15\n",
              "std    1.000880e+00       1.000880e+00  ...    1.000880e+00   1.000880e+00\n",
              "min   -7.378291e-01      -1.298098e+00  ...   -2.160960e+00  -2.223994e+00\n",
              "25%   -4.947542e-01      -6.929263e-01  ...   -6.418637e-01  -7.486293e-01\n",
              "50%   -3.477828e-01      -2.810204e-01  ...   -1.274095e-01  -4.351564e-02\n",
              "75%    1.067726e-01       3.896541e-01  ...    4.501382e-01   6.583411e-01\n",
              "max    1.104184e+01       6.143482e+00  ...    6.046041e+00   3.885905e+00\n",
              "\n",
              "[8 rows x 30 columns]"
            ]
          },
          "metadata": {
            "tags": []
          },
          "execution_count": 18
        }
      ]
    },
    {
      "cell_type": "markdown",
      "metadata": {
        "id": "rlJo0tqZB48x"
      },
      "source": [
        "## Train Test Split"
      ]
    },
    {
      "cell_type": "code",
      "metadata": {
        "id": "DqePXiEiBh5_"
      },
      "source": [
        "y = df['target']"
      ],
      "execution_count": 47,
      "outputs": []
    },
    {
      "cell_type": "code",
      "metadata": {
        "id": "d28qltqmEiH3"
      },
      "source": [
        "X_train, X_test, y_train, y_test = train_test_split(X, y, test_size=0.2, random_state=42)"
      ],
      "execution_count": 48,
      "outputs": []
    },
    {
      "cell_type": "code",
      "metadata": {
        "id": "V7BfXpphHBUi",
        "colab": {
          "base_uri": "https://localhost:8080/"
        },
        "outputId": "b8c9e037-ce58-4236-b49a-da31cd29716a"
      },
      "source": [
        "X_train.shape"
      ],
      "execution_count": 49,
      "outputs": [
        {
          "output_type": "execute_result",
          "data": {
            "text/plain": [
              "(455, 30)"
            ]
          },
          "metadata": {
            "tags": []
          },
          "execution_count": 49
        }
      ]
    },
    {
      "cell_type": "code",
      "metadata": {
        "id": "71Bf7N7wHHaJ",
        "colab": {
          "base_uri": "https://localhost:8080/"
        },
        "outputId": "fdc20684-a62a-4bd8-9665-5cffc7deaaed"
      },
      "source": [
        "X_test.shape"
      ],
      "execution_count": 50,
      "outputs": [
        {
          "output_type": "execute_result",
          "data": {
            "text/plain": [
              "(114, 30)"
            ]
          },
          "metadata": {
            "tags": []
          },
          "execution_count": 50
        }
      ]
    },
    {
      "cell_type": "code",
      "metadata": {
        "id": "2HT9p6cHHLCV",
        "colab": {
          "base_uri": "https://localhost:8080/"
        },
        "outputId": "0b84eb65-a3f7-4255-bf41-6199ab737b58"
      },
      "source": [
        "y_train.shape"
      ],
      "execution_count": 51,
      "outputs": [
        {
          "output_type": "execute_result",
          "data": {
            "text/plain": [
              "(455,)"
            ]
          },
          "metadata": {
            "tags": []
          },
          "execution_count": 51
        }
      ]
    },
    {
      "cell_type": "code",
      "metadata": {
        "id": "ESZ-zj9uHPms",
        "colab": {
          "base_uri": "https://localhost:8080/"
        },
        "outputId": "74ec7b97-7400-41ae-e72a-27b01f13fa3a"
      },
      "source": [
        "y_test.shape"
      ],
      "execution_count": 52,
      "outputs": [
        {
          "output_type": "execute_result",
          "data": {
            "text/plain": [
              "(114,)"
            ]
          },
          "metadata": {
            "tags": []
          },
          "execution_count": 52
        }
      ]
    },
    {
      "cell_type": "markdown",
      "metadata": {
        "id": "K1TXXiVnkojb"
      },
      "source": [
        "# XGBoost"
      ]
    },
    {
      "cell_type": "markdown",
      "metadata": {
        "id": "To7DBE72ToBB"
      },
      "source": [
        "## Check Default Parameters"
      ]
    },
    {
      "cell_type": "code",
      "metadata": {
        "id": "DEnNojWITca0",
        "colab": {
          "base_uri": "https://localhost:8080/"
        },
        "outputId": "50aaf03f-d140-456e-9e43-9f131419fc02"
      },
      "source": [
        "xgboost = XGBClassifier(seed=0)\n",
        "from pprint import pprint\n",
        "print('Parameters currently in use:\\n')\n",
        "pprint(xgboost.get_params())\n",
        "\n",
        "# Reference: XGBoost documentation at https://xgboost.readthedocs.io/en/latest/parameter.html\n",
        "# base_score: The initial prediction score of all instances, For sufficient number of iterations, changing this value will not have too much effect.\n",
        "# booster: Which booster to use. Can be gbtree, gblinear or dart; gbtree and dart use tree based models while gblinear uses linear functions.\n",
        "# colsample_bylevel: is the subsample ratio of columns for each level. Subsampling occurs once for every new depth level reached in a tree. Columns are subsampled from the set of columns chosen for the current tree.\n",
        "# colsample_bynode: is the subsample ratio of columns for each node (split). Subsampling occurs once every time a new split is evaluated. Columns are subsampled from the set of columns chosen for the current level.\n",
        "# colsample_bytree: is the subsample ratio of columns when constructing each tree. Subsampling occurs once for every tree constructed.\n",
        "# gamma: Minimum loss reduction required to make a further partition on a leaf node of the tree. The larger gamma is, the more conservative the algorithm will be.\n",
        "# learning_rate/eta: Step size shrinkage used in update to prevents overfitting. After each boosting step, we can directly get the weights of new features, and eta shrinks the feature weights to make the boosting process more conservative.\n",
        "# max_delta_step: Maximum delta step we allow each leaf output to be. If the value is set to 0, it means there is no constraint. If it is set to a positive value, it can help making the update step more conservative. Usually this parameter is not needed, but it might help in logistic regression when class is extremely imbalanced. Set it to value of 1-10 might help control the update.\n",
        "# max_depth: Maximum depth of a tree. Increasing this value will make the model more complex and more likely to overfit. \n",
        "# min_child_weight: Minimum sum of instance weight (hessian) needed in a child. If the tree partition step results in a leaf node with the sum of instance weight less than min_child_weight, then the building process will give up further partitioning. In linear regression task, this simply corresponds to minimum number of instances needed to be in each node. The larger min_child_weight is, the more conservative the algorithm will be.\n",
        "# missing: Handles missing values\n",
        "# n_estimators: Number of trees\n",
        "# n_jobs: parallel processing when it equals -1\n",
        "# nthread: Number of parallel threads used to run XGBoost. When choosing it, please keep thread contention and hyperthreading in mind.\n",
        "# objective: When used with binary classification, the objective should be binary:logistic or similar functions that work on probability. When used with multi-class classification, objective should be multi:softprob instead of multi:softmax, as the latter doesn’t output probability. \n",
        "# random_state: seed to get reproducible results\n",
        "# reg_alpha: L1 regularization term on weights. Increasing this value will make model more conservative.\n",
        "# reg_lambda: L2 regularization term on weights. Increasing this value will make model more conservative.\n",
        "# scale_pos_weight: Control the balance of positive and negative weights, useful for unbalanced classes.\n",
        "# silent: control verbosity\n",
        "# subsample: Subsample ratio of the training instances. Setting it to 0.5 means that XGBoost would randomly sample half of the training data prior to growing trees. and this will prevent overfitting.\n",
        "# verbosity: Verbosity of printing messages. Valid values of 0 (silent), 1 (warning), 2 (info), and 3 (debug)."
      ],
      "execution_count": 53,
      "outputs": [
        {
          "output_type": "stream",
          "text": [
            "Parameters currently in use:\n",
            "\n",
            "{'base_score': 0.5,\n",
            " 'booster': 'gbtree',\n",
            " 'colsample_bylevel': 1,\n",
            " 'colsample_bynode': 1,\n",
            " 'colsample_bytree': 1,\n",
            " 'gamma': 0,\n",
            " 'learning_rate': 0.1,\n",
            " 'max_delta_step': 0,\n",
            " 'max_depth': 3,\n",
            " 'min_child_weight': 1,\n",
            " 'missing': None,\n",
            " 'n_estimators': 100,\n",
            " 'n_jobs': 1,\n",
            " 'nthread': None,\n",
            " 'objective': 'binary:logistic',\n",
            " 'random_state': 0,\n",
            " 'reg_alpha': 0,\n",
            " 'reg_lambda': 1,\n",
            " 'scale_pos_weight': 1,\n",
            " 'seed': 0,\n",
            " 'silent': None,\n",
            " 'subsample': 1,\n",
            " 'verbosity': 1}\n"
          ],
          "name": "stdout"
        }
      ]
    },
    {
      "cell_type": "markdown",
      "metadata": {
        "id": "v4EdbkeRUXlL"
      },
      "source": [
        "## Grid Search Cross Validation"
      ]
    },
    {
      "cell_type": "code",
      "metadata": {
        "id": "mIGtxuyrTcYI",
        "colab": {
          "base_uri": "https://localhost:8080/"
        },
        "outputId": "ff5da315-91b3-4a99-96a2-5bfc83621aa9"
      },
      "source": [
        "param_grid = { \"learning_rate\"    : [0.001, 0.01, 0.1] ,\n",
        " \"max_depth\"        : [ 3,  6, 12],\n",
        " \"min_child_weight\" : [ 1, 5, 9 ],\n",
        "# Gamma specifies the minimum loss reduction required to make a split.\n",
        " \"gamma\"  : [0, 0.1, 0.3],\n",
        "# Similar to max_features in GBM. Denotes the fraction of columns to be randomly samples for each tree.\n",
        " \"colsample_bytree\" : [ 0.3, 0.5 , 0.8 ]}\n",
        "param_grid"
      ],
      "execution_count": 54,
      "outputs": [
        {
          "output_type": "execute_result",
          "data": {
            "text/plain": [
              "{'colsample_bytree': [0.3, 0.5, 0.8],\n",
              " 'gamma': [0, 0.1, 0.3],\n",
              " 'learning_rate': [0.001, 0.01, 0.1],\n",
              " 'max_depth': [3, 6, 12],\n",
              " 'min_child_weight': [1, 5, 9]}"
            ]
          },
          "metadata": {
            "tags": []
          },
          "execution_count": 54
        }
      ]
    },
    {
      "cell_type": "code",
      "metadata": {
        "id": "AiPdTh6dTcTX"
      },
      "source": [
        "scoring = ['recall']"
      ],
      "execution_count": 55,
      "outputs": []
    },
    {
      "cell_type": "code",
      "metadata": {
        "id": "e9dk1V8JTcN5"
      },
      "source": [
        "kfold = StratifiedKFold(n_splits=3, shuffle=True)"
      ],
      "execution_count": 56,
      "outputs": []
    },
    {
      "cell_type": "code",
      "metadata": {
        "id": "Zf5wMPj2TcLC"
      },
      "source": [
        "grid_search = GridSearchCV(xgboost, param_grid, scoring=scoring, refit='recall', n_jobs=-1, cv=kfold, verbose=1)\n",
        "# scoring: Strategy to evaluate the performance of the cross-validated model on the test set.\n",
        "# refit: Refit an estimator using the best found parameters on the whole dataset."
      ],
      "execution_count": 57,
      "outputs": []
    },
    {
      "cell_type": "code",
      "metadata": {
        "id": "9nUsoarmTcG7",
        "colab": {
          "base_uri": "https://localhost:8080/"
        },
        "outputId": "bc5db9e3-87f7-462a-b005-6385c840264a"
      },
      "source": [
        "grid_result = grid_search.fit(X_train, y_train)\n",
        "# 3*3*3*3*3 = 243"
      ],
      "execution_count": 58,
      "outputs": [
        {
          "output_type": "stream",
          "text": [
            "Fitting 3 folds for each of 243 candidates, totalling 729 fits\n"
          ],
          "name": "stdout"
        },
        {
          "output_type": "stream",
          "text": [
            "[Parallel(n_jobs=-1)]: Using backend LokyBackend with 2 concurrent workers.\n",
            "[Parallel(n_jobs=-1)]: Done  70 tasks      | elapsed:    3.7s\n",
            "[Parallel(n_jobs=-1)]: Done 370 tasks      | elapsed:   14.3s\n",
            "[Parallel(n_jobs=-1)]: Done 726 out of 729 | elapsed:   32.2s remaining:    0.1s\n",
            "[Parallel(n_jobs=-1)]: Done 729 out of 729 | elapsed:   32.3s finished\n"
          ],
          "name": "stderr"
        }
      ]
    },
    {
      "cell_type": "code",
      "metadata": {
        "id": "eLYPBSDMTcDV",
        "colab": {
          "base_uri": "https://localhost:8080/"
        },
        "outputId": "d2c8a463-7feb-43fd-9719-03092acbce71"
      },
      "source": [
        "grid_result"
      ],
      "execution_count": 59,
      "outputs": [
        {
          "output_type": "execute_result",
          "data": {
            "text/plain": [
              "GridSearchCV(cv=StratifiedKFold(n_splits=3, random_state=None, shuffle=True),\n",
              "             error_score=nan,\n",
              "             estimator=XGBClassifier(base_score=0.5, booster='gbtree',\n",
              "                                     colsample_bylevel=1, colsample_bynode=1,\n",
              "                                     colsample_bytree=1, gamma=0,\n",
              "                                     learning_rate=0.1, max_delta_step=0,\n",
              "                                     max_depth=3, min_child_weight=1,\n",
              "                                     missing=None, n_estimators=100, n_jobs=1,\n",
              "                                     nthread=None, objective='binary:l...\n",
              "                                     random_state=0, reg_alpha=0, reg_lambda=1,\n",
              "                                     scale_pos_weight=1, seed=0, silent=None,\n",
              "                                     subsample=1, verbosity=1),\n",
              "             iid='deprecated', n_jobs=-1,\n",
              "             param_grid={'colsample_bytree': [0.3, 0.5, 0.8],\n",
              "                         'gamma': [0, 0.1, 0.3],\n",
              "                         'learning_rate': [0.001, 0.01, 0.1],\n",
              "                         'max_depth': [3, 6, 12],\n",
              "                         'min_child_weight': [1, 5, 9]},\n",
              "             pre_dispatch='2*n_jobs', refit='recall', return_train_score=False,\n",
              "             scoring=['recall'], verbose=1)"
            ]
          },
          "metadata": {
            "tags": []
          },
          "execution_count": 59
        }
      ]
    },
    {
      "cell_type": "code",
      "metadata": {
        "id": "xvTeu8DzTb_4",
        "colab": {
          "base_uri": "https://localhost:8080/"
        },
        "outputId": "5bc1bd28-2361-4a57-e411-3362f8583b8e"
      },
      "source": [
        "grid_result.cv_results_"
      ],
      "execution_count": 61,
      "outputs": [
        {
          "output_type": "execute_result",
          "data": {
            "text/plain": [
              "{'mean_fit_time': array([0.15311384, 0.05463465, 0.04918742, 0.08129748, 0.06143117,\n",
              "        0.05199456, 0.07483872, 0.05670071, 0.0494477 , 0.05939468,\n",
              "        0.05919941, 0.05557688, 0.0830849 , 0.05872154, 0.05208564,\n",
              "        0.08000263, 0.05932395, 0.04997555, 0.05336006, 0.04327464,\n",
              "        0.03421251, 0.05960854, 0.042576  , 0.03856047, 0.06501762,\n",
              "        0.04373233, 0.03866935, 0.06255086, 0.05381115, 0.05347133,\n",
              "        0.07622854, 0.05660335, 0.04998573, 0.07602755, 0.06263852,\n",
              "        0.05390382, 0.06259712, 0.05357138, 0.05036139, 0.08052039,\n",
              "        0.05965765, 0.04851913, 0.07737668, 0.064176  , 0.05360723,\n",
              "        0.05060625, 0.03927477, 0.03571812, 0.05921181, 0.04108206,\n",
              "        0.03372176, 0.06286216, 0.04389866, 0.03496949, 0.06105987,\n",
              "        0.0563391 , 0.05525041, 0.07646759, 0.05842702, 0.05502995,\n",
              "        0.07723395, 0.06072974, 0.05166181, 0.06239128, 0.05624406,\n",
              "        0.0492715 , 0.08306058, 0.06099637, 0.04887001, 0.07937805,\n",
              "        0.05783757, 0.04929519, 0.05144771, 0.03965569, 0.03512033,\n",
              "        0.05959169, 0.04136554, 0.03395208, 0.06332994, 0.0406061 ,\n",
              "        0.03596799, 0.07912199, 0.07364082, 0.06497566, 0.10138162,\n",
              "        0.07256651, 0.0658625 , 0.10364572, 0.07335114, 0.06467644,\n",
              "        0.08288534, 0.07235193, 0.06650321, 0.1059289 , 0.07394004,\n",
              "        0.06952969, 0.10770138, 0.07331324, 0.06122732, 0.06665564,\n",
              "        0.04889282, 0.04061842, 0.07907319, 0.04918726, 0.04366215,\n",
              "        0.07443587, 0.05182266, 0.03831251, 0.07885345, 0.07023692,\n",
              "        0.06887579, 0.10623248, 0.07094193, 0.06695016, 0.09741537,\n",
              "        0.07677205, 0.06712731, 0.07586137, 0.06928198, 0.06142227,\n",
              "        0.10380991, 0.07702414, 0.0623649 , 0.10823345, 0.0782222 ,\n",
              "        0.06782317, 0.06525405, 0.04763389, 0.03938198, 0.07902368,\n",
              "        0.0489405 , 0.03912854, 0.07660357, 0.05146464, 0.04115661,\n",
              "        0.07567286, 0.06957086, 0.06427375, 0.10782504, 0.07858046,\n",
              "        0.06536722, 0.10328682, 0.07431499, 0.0625457 , 0.0799094 ,\n",
              "        0.0708677 , 0.06402667, 0.11076633, 0.08714557, 0.08094978,\n",
              "        0.10722192, 0.09117397, 0.07054003, 0.07287415, 0.06468034,\n",
              "        0.04340219, 0.09746806, 0.05017614, 0.05012274, 0.09259597,\n",
              "        0.04822652, 0.04801401, 0.11290749, 0.10909438, 0.10573649,\n",
              "        0.16348457, 0.09333086, 0.1020635 , 0.15653284, 0.10689433,\n",
              "        0.10464629, 0.10342868, 0.11049088, 0.09883181, 0.16874035,\n",
              "        0.11659662, 0.09557501, 0.16570465, 0.12262368, 0.08596238,\n",
              "        0.10350211, 0.0706377 , 0.05522966, 0.10876226, 0.07252288,\n",
              "        0.05639132, 0.1129059 , 0.06621877, 0.0556167 , 0.11222633,\n",
              "        0.23310669, 0.08078369, 0.21532234, 0.17807929, 0.07948788,\n",
              "        0.1830372 , 0.19461393, 0.12899605, 0.10513345, 0.10113732,\n",
              "        0.08592415, 0.14786506, 0.10630465, 0.08590452, 0.14814401,\n",
              "        0.09926335, 0.08082302, 0.08726454, 0.05894796, 0.04658635,\n",
              "        0.1009086 , 0.06091913, 0.04732863, 0.1017487 , 0.06094758,\n",
              "        0.0506676 , 0.10530615, 0.09639692, 0.0888207 , 0.13619026,\n",
              "        0.09291657, 0.08579691, 0.13784893, 0.09954913, 0.08611337,\n",
              "        0.10307368, 0.09239992, 0.08645542, 0.14999628, 0.10625235,\n",
              "        0.08501887, 0.14578168, 0.09819905, 0.08159415, 0.08893077,\n",
              "        0.06777779, 0.05365499, 0.10284956, 0.06186461, 0.04830337,\n",
              "        0.10330033, 0.06171083, 0.04229021]),\n",
              " 'mean_score_time': array([0.00428653, 0.00395695, 0.00550516, 0.00396172, 0.00391769,\n",
              "        0.00374929, 0.00393716, 0.00380079, 0.00387375, 0.00383798,\n",
              "        0.00418425, 0.00384935, 0.00399629, 0.00394185, 0.00377679,\n",
              "        0.00406019, 0.0038499 , 0.00377266, 0.00392461, 0.00374166,\n",
              "        0.00359321, 0.00398954, 0.00378823, 0.00355347, 0.00417972,\n",
              "        0.00466585, 0.00370415, 0.00388304, 0.00406075, 0.00387669,\n",
              "        0.00400527, 0.00377528, 0.00367483, 0.00388026, 0.0060389 ,\n",
              "        0.00372982, 0.00385507, 0.00418639, 0.00541584, 0.00427262,\n",
              "        0.00413418, 0.0038201 , 0.00398453, 0.00649778, 0.00498533,\n",
              "        0.0039657 , 0.00466061, 0.00359122, 0.00403317, 0.00384871,\n",
              "        0.00361753, 0.00397309, 0.00392056, 0.00365949, 0.00398183,\n",
              "        0.00377703, 0.00392803, 0.00400273, 0.00399025, 0.00375978,\n",
              "        0.00401171, 0.00441432, 0.00384665, 0.00395751, 0.00381645,\n",
              "        0.00374595, 0.0041937 , 0.00579286, 0.00386016, 0.00405097,\n",
              "        0.0038747 , 0.00382288, 0.00405637, 0.00379658, 0.00361315,\n",
              "        0.00411987, 0.00377917, 0.0036664 , 0.00393836, 0.00373681,\n",
              "        0.00355792, 0.00393057, 0.00387422, 0.00378974, 0.00384974,\n",
              "        0.00372632, 0.00370677, 0.0038387 , 0.00393105, 0.0047044 ,\n",
              "        0.00392834, 0.00379499, 0.00378291, 0.00398421, 0.00388877,\n",
              "        0.0037477 , 0.00401934, 0.0045747 , 0.00412814, 0.00396029,\n",
              "        0.00376383, 0.00389202, 0.00423654, 0.00376876, 0.00368309,\n",
              "        0.00402816, 0.00391261, 0.00369255, 0.00391396, 0.00384808,\n",
              "        0.00376622, 0.00403682, 0.00366712, 0.00384545, 0.00402888,\n",
              "        0.00383576, 0.00375525, 0.00385944, 0.00371893, 0.00373014,\n",
              "        0.00393907, 0.00380866, 0.00376272, 0.00409452, 0.00414014,\n",
              "        0.00381287, 0.00423265, 0.00383234, 0.00377496, 0.00393812,\n",
              "        0.00421468, 0.0036606 , 0.0039657 , 0.00397277, 0.00368722,\n",
              "        0.00378474, 0.00371416, 0.00369151, 0.00469422, 0.00376987,\n",
              "        0.00416247, 0.00411407, 0.00379348, 0.0037547 , 0.00385992,\n",
              "        0.00394885, 0.00375319, 0.00460029, 0.00547608, 0.00462635,\n",
              "        0.00403515, 0.00483505, 0.00433302, 0.00434844, 0.0051202 ,\n",
              "        0.00371345, 0.00506918, 0.00394503, 0.00497675, 0.00507283,\n",
              "        0.00391603, 0.00441043, 0.00419879, 0.00457764, 0.0048604 ,\n",
              "        0.00514515, 0.00374246, 0.00470821, 0.00466315, 0.00421643,\n",
              "        0.00471703, 0.00386779, 0.00485547, 0.00457335, 0.00440804,\n",
              "        0.00463438, 0.00493606, 0.00445255, 0.00468588, 0.00379086,\n",
              "        0.00490721, 0.00524076, 0.00401711, 0.00444031, 0.00460482,\n",
              "        0.00454283, 0.00650827, 0.00863036, 0.00406941, 0.00426722,\n",
              "        0.00886146, 0.00362039, 0.0068961 , 0.00787346, 0.00448116,\n",
              "        0.00396434, 0.00925167, 0.00394861, 0.00392628, 0.00387851,\n",
              "        0.0037322 , 0.00395195, 0.00380794, 0.00372036, 0.00410064,\n",
              "        0.00379912, 0.0037903 , 0.00408332, 0.0038751 , 0.00361395,\n",
              "        0.00391094, 0.00417463, 0.0038441 , 0.00399661, 0.00389528,\n",
              "        0.00387422, 0.00393271, 0.00380945, 0.00370765, 0.00384061,\n",
              "        0.00386159, 0.00387947, 0.0038542 , 0.0038414 , 0.00368134,\n",
              "        0.00378092, 0.00510597, 0.0037322 , 0.0042189 , 0.00400607,\n",
              "        0.00398215, 0.00404048, 0.00373189, 0.00402904, 0.00386914,\n",
              "        0.00397261, 0.003702  , 0.00395576, 0.003757  , 0.00367332,\n",
              "        0.00395163, 0.00549014, 0.00329328]),\n",
              " 'mean_test_recall': array([0.96154971, 0.95453216, 0.94755117, 0.95804094, 0.95453216,\n",
              "        0.94755117, 0.95804094, 0.95453216, 0.94755117, 0.96856725,\n",
              "        0.95807749, 0.95807749, 0.96856725, 0.95807749, 0.95807749,\n",
              "        0.96856725, 0.95807749, 0.95807749, 0.96856725, 0.9755848 ,\n",
              "        0.97554825, 0.97207602, 0.9755848 , 0.97554825, 0.97207602,\n",
              "        0.9755848 , 0.97554825, 0.96154971, 0.95453216, 0.94755117,\n",
              "        0.95804094, 0.95453216, 0.94755117, 0.95804094, 0.95453216,\n",
              "        0.94755117, 0.96505848, 0.95807749, 0.95807749, 0.96505848,\n",
              "        0.95807749, 0.95807749, 0.96505848, 0.95807749, 0.95807749,\n",
              "        0.96856725, 0.9755848 , 0.97554825, 0.97909357, 0.9755848 ,\n",
              "        0.97554825, 0.97909357, 0.9755848 , 0.97554825, 0.96154971,\n",
              "        0.95453216, 0.94755117, 0.95804094, 0.95453216, 0.94755117,\n",
              "        0.95804094, 0.95453216, 0.94755117, 0.96505848, 0.95807749,\n",
              "        0.95807749, 0.96505848, 0.95807749, 0.95807749, 0.96505848,\n",
              "        0.95807749, 0.95807749, 0.97207602, 0.97909357, 0.97554825,\n",
              "        0.9755848 , 0.97909357, 0.97554825, 0.9755848 , 0.97909357,\n",
              "        0.97554825, 0.95804094, 0.95105994, 0.94755117, 0.95804094,\n",
              "        0.95105994, 0.94755117, 0.95804094, 0.95105994, 0.94755117,\n",
              "        0.96856725, 0.95105994, 0.94751462, 0.96856725, 0.95105994,\n",
              "        0.94751462, 0.96856725, 0.95105994, 0.94751462, 0.97207602,\n",
              "        0.97207602, 0.96505848, 0.97207602, 0.97207602, 0.96505848,\n",
              "        0.97207602, 0.97207602, 0.96505848, 0.95804094, 0.95105994,\n",
              "        0.94755117, 0.95804094, 0.95105994, 0.94755117, 0.95804094,\n",
              "        0.95105994, 0.94755117, 0.96856725, 0.94755117, 0.94751462,\n",
              "        0.96856725, 0.94755117, 0.94751462, 0.96856725, 0.94755117,\n",
              "        0.94751462, 0.97207602, 0.97207602, 0.9685307 , 0.97207602,\n",
              "        0.97207602, 0.9685307 , 0.97207602, 0.97207602, 0.9685307 ,\n",
              "        0.95804094, 0.95105994, 0.94755117, 0.95804094, 0.95105994,\n",
              "        0.94755117, 0.95804094, 0.95105994, 0.94755117, 0.96154971,\n",
              "        0.94755117, 0.94751462, 0.96505848, 0.94755117, 0.94751462,\n",
              "        0.96505848, 0.94755117, 0.94751462, 0.97207602, 0.97207602,\n",
              "        0.97203947, 0.97207602, 0.97207602, 0.97203947, 0.97207602,\n",
              "        0.97207602, 0.97203947, 0.95105994, 0.9439693 , 0.94053363,\n",
              "        0.95105994, 0.9439693 , 0.94053363, 0.95105994, 0.9439693 ,\n",
              "        0.94053363, 0.95102339, 0.9439693 , 0.94751462, 0.95453216,\n",
              "        0.9439693 , 0.94751462, 0.95453216, 0.9439693 , 0.94751462,\n",
              "        0.97554825, 0.96154971, 0.95804094, 0.97554825, 0.96154971,\n",
              "        0.95804094, 0.97554825, 0.96154971, 0.95804094, 0.95105994,\n",
              "        0.9439693 , 0.94053363, 0.95105994, 0.9439693 , 0.94053363,\n",
              "        0.95105994, 0.9439693 , 0.94053363, 0.95102339, 0.94747807,\n",
              "        0.94751462, 0.95453216, 0.94747807, 0.94751462, 0.95453216,\n",
              "        0.94747807, 0.94751462, 0.97554825, 0.96505848, 0.95804094,\n",
              "        0.97554825, 0.96505848, 0.95804094, 0.97554825, 0.96505848,\n",
              "        0.95804094, 0.95105994, 0.9439693 , 0.94053363, 0.95105994,\n",
              "        0.9439693 , 0.94053363, 0.95105994, 0.9439693 , 0.94053363,\n",
              "        0.95102339, 0.9439693 , 0.94751462, 0.94400585, 0.9439693 ,\n",
              "        0.94751462, 0.94400585, 0.9439693 , 0.94751462, 0.97203947,\n",
              "        0.96154971, 0.96154971, 0.97554825, 0.96154971, 0.96154971,\n",
              "        0.97554825, 0.96154971, 0.96154971]),\n",
              " 'param_colsample_bytree': masked_array(data=[0.3, 0.3, 0.3, 0.3, 0.3, 0.3, 0.3, 0.3, 0.3, 0.3, 0.3,\n",
              "                    0.3, 0.3, 0.3, 0.3, 0.3, 0.3, 0.3, 0.3, 0.3, 0.3, 0.3,\n",
              "                    0.3, 0.3, 0.3, 0.3, 0.3, 0.3, 0.3, 0.3, 0.3, 0.3, 0.3,\n",
              "                    0.3, 0.3, 0.3, 0.3, 0.3, 0.3, 0.3, 0.3, 0.3, 0.3, 0.3,\n",
              "                    0.3, 0.3, 0.3, 0.3, 0.3, 0.3, 0.3, 0.3, 0.3, 0.3, 0.3,\n",
              "                    0.3, 0.3, 0.3, 0.3, 0.3, 0.3, 0.3, 0.3, 0.3, 0.3, 0.3,\n",
              "                    0.3, 0.3, 0.3, 0.3, 0.3, 0.3, 0.3, 0.3, 0.3, 0.3, 0.3,\n",
              "                    0.3, 0.3, 0.3, 0.3, 0.5, 0.5, 0.5, 0.5, 0.5, 0.5, 0.5,\n",
              "                    0.5, 0.5, 0.5, 0.5, 0.5, 0.5, 0.5, 0.5, 0.5, 0.5, 0.5,\n",
              "                    0.5, 0.5, 0.5, 0.5, 0.5, 0.5, 0.5, 0.5, 0.5, 0.5, 0.5,\n",
              "                    0.5, 0.5, 0.5, 0.5, 0.5, 0.5, 0.5, 0.5, 0.5, 0.5, 0.5,\n",
              "                    0.5, 0.5, 0.5, 0.5, 0.5, 0.5, 0.5, 0.5, 0.5, 0.5, 0.5,\n",
              "                    0.5, 0.5, 0.5, 0.5, 0.5, 0.5, 0.5, 0.5, 0.5, 0.5, 0.5,\n",
              "                    0.5, 0.5, 0.5, 0.5, 0.5, 0.5, 0.5, 0.5, 0.5, 0.5, 0.5,\n",
              "                    0.5, 0.5, 0.5, 0.5, 0.5, 0.5, 0.5, 0.5, 0.8, 0.8, 0.8,\n",
              "                    0.8, 0.8, 0.8, 0.8, 0.8, 0.8, 0.8, 0.8, 0.8, 0.8, 0.8,\n",
              "                    0.8, 0.8, 0.8, 0.8, 0.8, 0.8, 0.8, 0.8, 0.8, 0.8, 0.8,\n",
              "                    0.8, 0.8, 0.8, 0.8, 0.8, 0.8, 0.8, 0.8, 0.8, 0.8, 0.8,\n",
              "                    0.8, 0.8, 0.8, 0.8, 0.8, 0.8, 0.8, 0.8, 0.8, 0.8, 0.8,\n",
              "                    0.8, 0.8, 0.8, 0.8, 0.8, 0.8, 0.8, 0.8, 0.8, 0.8, 0.8,\n",
              "                    0.8, 0.8, 0.8, 0.8, 0.8, 0.8, 0.8, 0.8, 0.8, 0.8, 0.8,\n",
              "                    0.8, 0.8, 0.8, 0.8, 0.8, 0.8, 0.8, 0.8, 0.8, 0.8, 0.8,\n",
              "                    0.8],\n",
              "              mask=[False, False, False, False, False, False, False, False,\n",
              "                    False, False, False, False, False, False, False, False,\n",
              "                    False, False, False, False, False, False, False, False,\n",
              "                    False, False, False, False, False, False, False, False,\n",
              "                    False, False, False, False, False, False, False, False,\n",
              "                    False, False, False, False, False, False, False, False,\n",
              "                    False, False, False, False, False, False, False, False,\n",
              "                    False, False, False, False, False, False, False, False,\n",
              "                    False, False, False, False, False, False, False, False,\n",
              "                    False, False, False, False, False, False, False, False,\n",
              "                    False, False, False, False, False, False, False, False,\n",
              "                    False, False, False, False, False, False, False, False,\n",
              "                    False, False, False, False, False, False, False, False,\n",
              "                    False, False, False, False, False, False, False, False,\n",
              "                    False, False, False, False, False, False, False, False,\n",
              "                    False, False, False, False, False, False, False, False,\n",
              "                    False, False, False, False, False, False, False, False,\n",
              "                    False, False, False, False, False, False, False, False,\n",
              "                    False, False, False, False, False, False, False, False,\n",
              "                    False, False, False, False, False, False, False, False,\n",
              "                    False, False, False, False, False, False, False, False,\n",
              "                    False, False, False, False, False, False, False, False,\n",
              "                    False, False, False, False, False, False, False, False,\n",
              "                    False, False, False, False, False, False, False, False,\n",
              "                    False, False, False, False, False, False, False, False,\n",
              "                    False, False, False, False, False, False, False, False,\n",
              "                    False, False, False, False, False, False, False, False,\n",
              "                    False, False, False, False, False, False, False, False,\n",
              "                    False, False, False, False, False, False, False, False,\n",
              "                    False, False, False, False, False, False, False, False,\n",
              "                    False, False, False],\n",
              "        fill_value='?',\n",
              "             dtype=object),\n",
              " 'param_gamma': masked_array(data=[0, 0, 0, 0, 0, 0, 0, 0, 0, 0, 0, 0, 0, 0, 0, 0, 0, 0,\n",
              "                    0, 0, 0, 0, 0, 0, 0, 0, 0, 0.1, 0.1, 0.1, 0.1, 0.1,\n",
              "                    0.1, 0.1, 0.1, 0.1, 0.1, 0.1, 0.1, 0.1, 0.1, 0.1, 0.1,\n",
              "                    0.1, 0.1, 0.1, 0.1, 0.1, 0.1, 0.1, 0.1, 0.1, 0.1, 0.1,\n",
              "                    0.3, 0.3, 0.3, 0.3, 0.3, 0.3, 0.3, 0.3, 0.3, 0.3, 0.3,\n",
              "                    0.3, 0.3, 0.3, 0.3, 0.3, 0.3, 0.3, 0.3, 0.3, 0.3, 0.3,\n",
              "                    0.3, 0.3, 0.3, 0.3, 0.3, 0, 0, 0, 0, 0, 0, 0, 0, 0, 0,\n",
              "                    0, 0, 0, 0, 0, 0, 0, 0, 0, 0, 0, 0, 0, 0, 0, 0, 0, 0.1,\n",
              "                    0.1, 0.1, 0.1, 0.1, 0.1, 0.1, 0.1, 0.1, 0.1, 0.1, 0.1,\n",
              "                    0.1, 0.1, 0.1, 0.1, 0.1, 0.1, 0.1, 0.1, 0.1, 0.1, 0.1,\n",
              "                    0.1, 0.1, 0.1, 0.1, 0.3, 0.3, 0.3, 0.3, 0.3, 0.3, 0.3,\n",
              "                    0.3, 0.3, 0.3, 0.3, 0.3, 0.3, 0.3, 0.3, 0.3, 0.3, 0.3,\n",
              "                    0.3, 0.3, 0.3, 0.3, 0.3, 0.3, 0.3, 0.3, 0.3, 0, 0, 0,\n",
              "                    0, 0, 0, 0, 0, 0, 0, 0, 0, 0, 0, 0, 0, 0, 0, 0, 0, 0,\n",
              "                    0, 0, 0, 0, 0, 0, 0.1, 0.1, 0.1, 0.1, 0.1, 0.1, 0.1,\n",
              "                    0.1, 0.1, 0.1, 0.1, 0.1, 0.1, 0.1, 0.1, 0.1, 0.1, 0.1,\n",
              "                    0.1, 0.1, 0.1, 0.1, 0.1, 0.1, 0.1, 0.1, 0.1, 0.3, 0.3,\n",
              "                    0.3, 0.3, 0.3, 0.3, 0.3, 0.3, 0.3, 0.3, 0.3, 0.3, 0.3,\n",
              "                    0.3, 0.3, 0.3, 0.3, 0.3, 0.3, 0.3, 0.3, 0.3, 0.3, 0.3,\n",
              "                    0.3, 0.3, 0.3],\n",
              "              mask=[False, False, False, False, False, False, False, False,\n",
              "                    False, False, False, False, False, False, False, False,\n",
              "                    False, False, False, False, False, False, False, False,\n",
              "                    False, False, False, False, False, False, False, False,\n",
              "                    False, False, False, False, False, False, False, False,\n",
              "                    False, False, False, False, False, False, False, False,\n",
              "                    False, False, False, False, False, False, False, False,\n",
              "                    False, False, False, False, False, False, False, False,\n",
              "                    False, False, False, False, False, False, False, False,\n",
              "                    False, False, False, False, False, False, False, False,\n",
              "                    False, False, False, False, False, False, False, False,\n",
              "                    False, False, False, False, False, False, False, False,\n",
              "                    False, False, False, False, False, False, False, False,\n",
              "                    False, False, False, False, False, False, False, False,\n",
              "                    False, False, False, False, False, False, False, False,\n",
              "                    False, False, False, False, False, False, False, False,\n",
              "                    False, False, False, False, False, False, False, False,\n",
              "                    False, False, False, False, False, False, False, False,\n",
              "                    False, False, False, False, False, False, False, False,\n",
              "                    False, False, False, False, False, False, False, False,\n",
              "                    False, False, False, False, False, False, False, False,\n",
              "                    False, False, False, False, False, False, False, False,\n",
              "                    False, False, False, False, False, False, False, False,\n",
              "                    False, False, False, False, False, False, False, False,\n",
              "                    False, False, False, False, False, False, False, False,\n",
              "                    False, False, False, False, False, False, False, False,\n",
              "                    False, False, False, False, False, False, False, False,\n",
              "                    False, False, False, False, False, False, False, False,\n",
              "                    False, False, False, False, False, False, False, False,\n",
              "                    False, False, False, False, False, False, False, False,\n",
              "                    False, False, False],\n",
              "        fill_value='?',\n",
              "             dtype=object),\n",
              " 'param_learning_rate': masked_array(data=[0.001, 0.001, 0.001, 0.001, 0.001, 0.001, 0.001, 0.001,\n",
              "                    0.001, 0.01, 0.01, 0.01, 0.01, 0.01, 0.01, 0.01, 0.01,\n",
              "                    0.01, 0.1, 0.1, 0.1, 0.1, 0.1, 0.1, 0.1, 0.1, 0.1,\n",
              "                    0.001, 0.001, 0.001, 0.001, 0.001, 0.001, 0.001, 0.001,\n",
              "                    0.001, 0.01, 0.01, 0.01, 0.01, 0.01, 0.01, 0.01, 0.01,\n",
              "                    0.01, 0.1, 0.1, 0.1, 0.1, 0.1, 0.1, 0.1, 0.1, 0.1,\n",
              "                    0.001, 0.001, 0.001, 0.001, 0.001, 0.001, 0.001, 0.001,\n",
              "                    0.001, 0.01, 0.01, 0.01, 0.01, 0.01, 0.01, 0.01, 0.01,\n",
              "                    0.01, 0.1, 0.1, 0.1, 0.1, 0.1, 0.1, 0.1, 0.1, 0.1,\n",
              "                    0.001, 0.001, 0.001, 0.001, 0.001, 0.001, 0.001, 0.001,\n",
              "                    0.001, 0.01, 0.01, 0.01, 0.01, 0.01, 0.01, 0.01, 0.01,\n",
              "                    0.01, 0.1, 0.1, 0.1, 0.1, 0.1, 0.1, 0.1, 0.1, 0.1,\n",
              "                    0.001, 0.001, 0.001, 0.001, 0.001, 0.001, 0.001, 0.001,\n",
              "                    0.001, 0.01, 0.01, 0.01, 0.01, 0.01, 0.01, 0.01, 0.01,\n",
              "                    0.01, 0.1, 0.1, 0.1, 0.1, 0.1, 0.1, 0.1, 0.1, 0.1,\n",
              "                    0.001, 0.001, 0.001, 0.001, 0.001, 0.001, 0.001, 0.001,\n",
              "                    0.001, 0.01, 0.01, 0.01, 0.01, 0.01, 0.01, 0.01, 0.01,\n",
              "                    0.01, 0.1, 0.1, 0.1, 0.1, 0.1, 0.1, 0.1, 0.1, 0.1,\n",
              "                    0.001, 0.001, 0.001, 0.001, 0.001, 0.001, 0.001, 0.001,\n",
              "                    0.001, 0.01, 0.01, 0.01, 0.01, 0.01, 0.01, 0.01, 0.01,\n",
              "                    0.01, 0.1, 0.1, 0.1, 0.1, 0.1, 0.1, 0.1, 0.1, 0.1,\n",
              "                    0.001, 0.001, 0.001, 0.001, 0.001, 0.001, 0.001, 0.001,\n",
              "                    0.001, 0.01, 0.01, 0.01, 0.01, 0.01, 0.01, 0.01, 0.01,\n",
              "                    0.01, 0.1, 0.1, 0.1, 0.1, 0.1, 0.1, 0.1, 0.1, 0.1,\n",
              "                    0.001, 0.001, 0.001, 0.001, 0.001, 0.001, 0.001, 0.001,\n",
              "                    0.001, 0.01, 0.01, 0.01, 0.01, 0.01, 0.01, 0.01, 0.01,\n",
              "                    0.01, 0.1, 0.1, 0.1, 0.1, 0.1, 0.1, 0.1, 0.1, 0.1],\n",
              "              mask=[False, False, False, False, False, False, False, False,\n",
              "                    False, False, False, False, False, False, False, False,\n",
              "                    False, False, False, False, False, False, False, False,\n",
              "                    False, False, False, False, False, False, False, False,\n",
              "                    False, False, False, False, False, False, False, False,\n",
              "                    False, False, False, False, False, False, False, False,\n",
              "                    False, False, False, False, False, False, False, False,\n",
              "                    False, False, False, False, False, False, False, False,\n",
              "                    False, False, False, False, False, False, False, False,\n",
              "                    False, False, False, False, False, False, False, False,\n",
              "                    False, False, False, False, False, False, False, False,\n",
              "                    False, False, False, False, False, False, False, False,\n",
              "                    False, False, False, False, False, False, False, False,\n",
              "                    False, False, False, False, False, False, False, False,\n",
              "                    False, False, False, False, False, False, False, False,\n",
              "                    False, False, False, False, False, False, False, False,\n",
              "                    False, False, False, False, False, False, False, False,\n",
              "                    False, False, False, False, False, False, False, False,\n",
              "                    False, False, False, False, False, False, False, False,\n",
              "                    False, False, False, False, False, False, False, False,\n",
              "                    False, False, False, False, False, False, False, False,\n",
              "                    False, False, False, False, False, False, False, False,\n",
              "                    False, False, False, False, False, False, False, False,\n",
              "                    False, False, False, False, False, False, False, False,\n",
              "                    False, False, False, False, False, False, False, False,\n",
              "                    False, False, False, False, False, False, False, False,\n",
              "                    False, False, False, False, False, False, False, False,\n",
              "                    False, False, False, False, False, False, False, False,\n",
              "                    False, False, False, False, False, False, False, False,\n",
              "                    False, False, False, False, False, False, False, False,\n",
              "                    False, False, False],\n",
              "        fill_value='?',\n",
              "             dtype=object),\n",
              " 'param_max_depth': masked_array(data=[3, 3, 3, 6, 6, 6, 12, 12, 12, 3, 3, 3, 6, 6, 6, 12, 12,\n",
              "                    12, 3, 3, 3, 6, 6, 6, 12, 12, 12, 3, 3, 3, 6, 6, 6, 12,\n",
              "                    12, 12, 3, 3, 3, 6, 6, 6, 12, 12, 12, 3, 3, 3, 6, 6, 6,\n",
              "                    12, 12, 12, 3, 3, 3, 6, 6, 6, 12, 12, 12, 3, 3, 3, 6,\n",
              "                    6, 6, 12, 12, 12, 3, 3, 3, 6, 6, 6, 12, 12, 12, 3, 3,\n",
              "                    3, 6, 6, 6, 12, 12, 12, 3, 3, 3, 6, 6, 6, 12, 12, 12,\n",
              "                    3, 3, 3, 6, 6, 6, 12, 12, 12, 3, 3, 3, 6, 6, 6, 12, 12,\n",
              "                    12, 3, 3, 3, 6, 6, 6, 12, 12, 12, 3, 3, 3, 6, 6, 6, 12,\n",
              "                    12, 12, 3, 3, 3, 6, 6, 6, 12, 12, 12, 3, 3, 3, 6, 6, 6,\n",
              "                    12, 12, 12, 3, 3, 3, 6, 6, 6, 12, 12, 12, 3, 3, 3, 6,\n",
              "                    6, 6, 12, 12, 12, 3, 3, 3, 6, 6, 6, 12, 12, 12, 3, 3,\n",
              "                    3, 6, 6, 6, 12, 12, 12, 3, 3, 3, 6, 6, 6, 12, 12, 12,\n",
              "                    3, 3, 3, 6, 6, 6, 12, 12, 12, 3, 3, 3, 6, 6, 6, 12, 12,\n",
              "                    12, 3, 3, 3, 6, 6, 6, 12, 12, 12, 3, 3, 3, 6, 6, 6, 12,\n",
              "                    12, 12, 3, 3, 3, 6, 6, 6, 12, 12, 12],\n",
              "              mask=[False, False, False, False, False, False, False, False,\n",
              "                    False, False, False, False, False, False, False, False,\n",
              "                    False, False, False, False, False, False, False, False,\n",
              "                    False, False, False, False, False, False, False, False,\n",
              "                    False, False, False, False, False, False, False, False,\n",
              "                    False, False, False, False, False, False, False, False,\n",
              "                    False, False, False, False, False, False, False, False,\n",
              "                    False, False, False, False, False, False, False, False,\n",
              "                    False, False, False, False, False, False, False, False,\n",
              "                    False, False, False, False, False, False, False, False,\n",
              "                    False, False, False, False, False, False, False, False,\n",
              "                    False, False, False, False, False, False, False, False,\n",
              "                    False, False, False, False, False, False, False, False,\n",
              "                    False, False, False, False, False, False, False, False,\n",
              "                    False, False, False, False, False, False, False, False,\n",
              "                    False, False, False, False, False, False, False, False,\n",
              "                    False, False, False, False, False, False, False, False,\n",
              "                    False, False, False, False, False, False, False, False,\n",
              "                    False, False, False, False, False, False, False, False,\n",
              "                    False, False, False, False, False, False, False, False,\n",
              "                    False, False, False, False, False, False, False, False,\n",
              "                    False, False, False, False, False, False, False, False,\n",
              "                    False, False, False, False, False, False, False, False,\n",
              "                    False, False, False, False, False, False, False, False,\n",
              "                    False, False, False, False, False, False, False, False,\n",
              "                    False, False, False, False, False, False, False, False,\n",
              "                    False, False, False, False, False, False, False, False,\n",
              "                    False, False, False, False, False, False, False, False,\n",
              "                    False, False, False, False, False, False, False, False,\n",
              "                    False, False, False, False, False, False, False, False,\n",
              "                    False, False, False],\n",
              "        fill_value='?',\n",
              "             dtype=object),\n",
              " 'param_min_child_weight': masked_array(data=[1, 5, 9, 1, 5, 9, 1, 5, 9, 1, 5, 9, 1, 5, 9, 1, 5, 9,\n",
              "                    1, 5, 9, 1, 5, 9, 1, 5, 9, 1, 5, 9, 1, 5, 9, 1, 5, 9,\n",
              "                    1, 5, 9, 1, 5, 9, 1, 5, 9, 1, 5, 9, 1, 5, 9, 1, 5, 9,\n",
              "                    1, 5, 9, 1, 5, 9, 1, 5, 9, 1, 5, 9, 1, 5, 9, 1, 5, 9,\n",
              "                    1, 5, 9, 1, 5, 9, 1, 5, 9, 1, 5, 9, 1, 5, 9, 1, 5, 9,\n",
              "                    1, 5, 9, 1, 5, 9, 1, 5, 9, 1, 5, 9, 1, 5, 9, 1, 5, 9,\n",
              "                    1, 5, 9, 1, 5, 9, 1, 5, 9, 1, 5, 9, 1, 5, 9, 1, 5, 9,\n",
              "                    1, 5, 9, 1, 5, 9, 1, 5, 9, 1, 5, 9, 1, 5, 9, 1, 5, 9,\n",
              "                    1, 5, 9, 1, 5, 9, 1, 5, 9, 1, 5, 9, 1, 5, 9, 1, 5, 9,\n",
              "                    1, 5, 9, 1, 5, 9, 1, 5, 9, 1, 5, 9, 1, 5, 9, 1, 5, 9,\n",
              "                    1, 5, 9, 1, 5, 9, 1, 5, 9, 1, 5, 9, 1, 5, 9, 1, 5, 9,\n",
              "                    1, 5, 9, 1, 5, 9, 1, 5, 9, 1, 5, 9, 1, 5, 9, 1, 5, 9,\n",
              "                    1, 5, 9, 1, 5, 9, 1, 5, 9, 1, 5, 9, 1, 5, 9, 1, 5, 9,\n",
              "                    1, 5, 9, 1, 5, 9, 1, 5, 9],\n",
              "              mask=[False, False, False, False, False, False, False, False,\n",
              "                    False, False, False, False, False, False, False, False,\n",
              "                    False, False, False, False, False, False, False, False,\n",
              "                    False, False, False, False, False, False, False, False,\n",
              "                    False, False, False, False, False, False, False, False,\n",
              "                    False, False, False, False, False, False, False, False,\n",
              "                    False, False, False, False, False, False, False, False,\n",
              "                    False, False, False, False, False, False, False, False,\n",
              "                    False, False, False, False, False, False, False, False,\n",
              "                    False, False, False, False, False, False, False, False,\n",
              "                    False, False, False, False, False, False, False, False,\n",
              "                    False, False, False, False, False, False, False, False,\n",
              "                    False, False, False, False, False, False, False, False,\n",
              "                    False, False, False, False, False, False, False, False,\n",
              "                    False, False, False, False, False, False, False, False,\n",
              "                    False, False, False, False, False, False, False, False,\n",
              "                    False, False, False, False, False, False, False, False,\n",
              "                    False, False, False, False, False, False, False, False,\n",
              "                    False, False, False, False, False, False, False, False,\n",
              "                    False, False, False, False, False, False, False, False,\n",
              "                    False, False, False, False, False, False, False, False,\n",
              "                    False, False, False, False, False, False, False, False,\n",
              "                    False, False, False, False, False, False, False, False,\n",
              "                    False, False, False, False, False, False, False, False,\n",
              "                    False, False, False, False, False, False, False, False,\n",
              "                    False, False, False, False, False, False, False, False,\n",
              "                    False, False, False, False, False, False, False, False,\n",
              "                    False, False, False, False, False, False, False, False,\n",
              "                    False, False, False, False, False, False, False, False,\n",
              "                    False, False, False, False, False, False, False, False,\n",
              "                    False, False, False],\n",
              "        fill_value='?',\n",
              "             dtype=object),\n",
              " 'params': [{'colsample_bytree': 0.3,\n",
              "   'gamma': 0,\n",
              "   'learning_rate': 0.001,\n",
              "   'max_depth': 3,\n",
              "   'min_child_weight': 1},\n",
              "  {'colsample_bytree': 0.3,\n",
              "   'gamma': 0,\n",
              "   'learning_rate': 0.001,\n",
              "   'max_depth': 3,\n",
              "   'min_child_weight': 5},\n",
              "  {'colsample_bytree': 0.3,\n",
              "   'gamma': 0,\n",
              "   'learning_rate': 0.001,\n",
              "   'max_depth': 3,\n",
              "   'min_child_weight': 9},\n",
              "  {'colsample_bytree': 0.3,\n",
              "   'gamma': 0,\n",
              "   'learning_rate': 0.001,\n",
              "   'max_depth': 6,\n",
              "   'min_child_weight': 1},\n",
              "  {'colsample_bytree': 0.3,\n",
              "   'gamma': 0,\n",
              "   'learning_rate': 0.001,\n",
              "   'max_depth': 6,\n",
              "   'min_child_weight': 5},\n",
              "  {'colsample_bytree': 0.3,\n",
              "   'gamma': 0,\n",
              "   'learning_rate': 0.001,\n",
              "   'max_depth': 6,\n",
              "   'min_child_weight': 9},\n",
              "  {'colsample_bytree': 0.3,\n",
              "   'gamma': 0,\n",
              "   'learning_rate': 0.001,\n",
              "   'max_depth': 12,\n",
              "   'min_child_weight': 1},\n",
              "  {'colsample_bytree': 0.3,\n",
              "   'gamma': 0,\n",
              "   'learning_rate': 0.001,\n",
              "   'max_depth': 12,\n",
              "   'min_child_weight': 5},\n",
              "  {'colsample_bytree': 0.3,\n",
              "   'gamma': 0,\n",
              "   'learning_rate': 0.001,\n",
              "   'max_depth': 12,\n",
              "   'min_child_weight': 9},\n",
              "  {'colsample_bytree': 0.3,\n",
              "   'gamma': 0,\n",
              "   'learning_rate': 0.01,\n",
              "   'max_depth': 3,\n",
              "   'min_child_weight': 1},\n",
              "  {'colsample_bytree': 0.3,\n",
              "   'gamma': 0,\n",
              "   'learning_rate': 0.01,\n",
              "   'max_depth': 3,\n",
              "   'min_child_weight': 5},\n",
              "  {'colsample_bytree': 0.3,\n",
              "   'gamma': 0,\n",
              "   'learning_rate': 0.01,\n",
              "   'max_depth': 3,\n",
              "   'min_child_weight': 9},\n",
              "  {'colsample_bytree': 0.3,\n",
              "   'gamma': 0,\n",
              "   'learning_rate': 0.01,\n",
              "   'max_depth': 6,\n",
              "   'min_child_weight': 1},\n",
              "  {'colsample_bytree': 0.3,\n",
              "   'gamma': 0,\n",
              "   'learning_rate': 0.01,\n",
              "   'max_depth': 6,\n",
              "   'min_child_weight': 5},\n",
              "  {'colsample_bytree': 0.3,\n",
              "   'gamma': 0,\n",
              "   'learning_rate': 0.01,\n",
              "   'max_depth': 6,\n",
              "   'min_child_weight': 9},\n",
              "  {'colsample_bytree': 0.3,\n",
              "   'gamma': 0,\n",
              "   'learning_rate': 0.01,\n",
              "   'max_depth': 12,\n",
              "   'min_child_weight': 1},\n",
              "  {'colsample_bytree': 0.3,\n",
              "   'gamma': 0,\n",
              "   'learning_rate': 0.01,\n",
              "   'max_depth': 12,\n",
              "   'min_child_weight': 5},\n",
              "  {'colsample_bytree': 0.3,\n",
              "   'gamma': 0,\n",
              "   'learning_rate': 0.01,\n",
              "   'max_depth': 12,\n",
              "   'min_child_weight': 9},\n",
              "  {'colsample_bytree': 0.3,\n",
              "   'gamma': 0,\n",
              "   'learning_rate': 0.1,\n",
              "   'max_depth': 3,\n",
              "   'min_child_weight': 1},\n",
              "  {'colsample_bytree': 0.3,\n",
              "   'gamma': 0,\n",
              "   'learning_rate': 0.1,\n",
              "   'max_depth': 3,\n",
              "   'min_child_weight': 5},\n",
              "  {'colsample_bytree': 0.3,\n",
              "   'gamma': 0,\n",
              "   'learning_rate': 0.1,\n",
              "   'max_depth': 3,\n",
              "   'min_child_weight': 9},\n",
              "  {'colsample_bytree': 0.3,\n",
              "   'gamma': 0,\n",
              "   'learning_rate': 0.1,\n",
              "   'max_depth': 6,\n",
              "   'min_child_weight': 1},\n",
              "  {'colsample_bytree': 0.3,\n",
              "   'gamma': 0,\n",
              "   'learning_rate': 0.1,\n",
              "   'max_depth': 6,\n",
              "   'min_child_weight': 5},\n",
              "  {'colsample_bytree': 0.3,\n",
              "   'gamma': 0,\n",
              "   'learning_rate': 0.1,\n",
              "   'max_depth': 6,\n",
              "   'min_child_weight': 9},\n",
              "  {'colsample_bytree': 0.3,\n",
              "   'gamma': 0,\n",
              "   'learning_rate': 0.1,\n",
              "   'max_depth': 12,\n",
              "   'min_child_weight': 1},\n",
              "  {'colsample_bytree': 0.3,\n",
              "   'gamma': 0,\n",
              "   'learning_rate': 0.1,\n",
              "   'max_depth': 12,\n",
              "   'min_child_weight': 5},\n",
              "  {'colsample_bytree': 0.3,\n",
              "   'gamma': 0,\n",
              "   'learning_rate': 0.1,\n",
              "   'max_depth': 12,\n",
              "   'min_child_weight': 9},\n",
              "  {'colsample_bytree': 0.3,\n",
              "   'gamma': 0.1,\n",
              "   'learning_rate': 0.001,\n",
              "   'max_depth': 3,\n",
              "   'min_child_weight': 1},\n",
              "  {'colsample_bytree': 0.3,\n",
              "   'gamma': 0.1,\n",
              "   'learning_rate': 0.001,\n",
              "   'max_depth': 3,\n",
              "   'min_child_weight': 5},\n",
              "  {'colsample_bytree': 0.3,\n",
              "   'gamma': 0.1,\n",
              "   'learning_rate': 0.001,\n",
              "   'max_depth': 3,\n",
              "   'min_child_weight': 9},\n",
              "  {'colsample_bytree': 0.3,\n",
              "   'gamma': 0.1,\n",
              "   'learning_rate': 0.001,\n",
              "   'max_depth': 6,\n",
              "   'min_child_weight': 1},\n",
              "  {'colsample_bytree': 0.3,\n",
              "   'gamma': 0.1,\n",
              "   'learning_rate': 0.001,\n",
              "   'max_depth': 6,\n",
              "   'min_child_weight': 5},\n",
              "  {'colsample_bytree': 0.3,\n",
              "   'gamma': 0.1,\n",
              "   'learning_rate': 0.001,\n",
              "   'max_depth': 6,\n",
              "   'min_child_weight': 9},\n",
              "  {'colsample_bytree': 0.3,\n",
              "   'gamma': 0.1,\n",
              "   'learning_rate': 0.001,\n",
              "   'max_depth': 12,\n",
              "   'min_child_weight': 1},\n",
              "  {'colsample_bytree': 0.3,\n",
              "   'gamma': 0.1,\n",
              "   'learning_rate': 0.001,\n",
              "   'max_depth': 12,\n",
              "   'min_child_weight': 5},\n",
              "  {'colsample_bytree': 0.3,\n",
              "   'gamma': 0.1,\n",
              "   'learning_rate': 0.001,\n",
              "   'max_depth': 12,\n",
              "   'min_child_weight': 9},\n",
              "  {'colsample_bytree': 0.3,\n",
              "   'gamma': 0.1,\n",
              "   'learning_rate': 0.01,\n",
              "   'max_depth': 3,\n",
              "   'min_child_weight': 1},\n",
              "  {'colsample_bytree': 0.3,\n",
              "   'gamma': 0.1,\n",
              "   'learning_rate': 0.01,\n",
              "   'max_depth': 3,\n",
              "   'min_child_weight': 5},\n",
              "  {'colsample_bytree': 0.3,\n",
              "   'gamma': 0.1,\n",
              "   'learning_rate': 0.01,\n",
              "   'max_depth': 3,\n",
              "   'min_child_weight': 9},\n",
              "  {'colsample_bytree': 0.3,\n",
              "   'gamma': 0.1,\n",
              "   'learning_rate': 0.01,\n",
              "   'max_depth': 6,\n",
              "   'min_child_weight': 1},\n",
              "  {'colsample_bytree': 0.3,\n",
              "   'gamma': 0.1,\n",
              "   'learning_rate': 0.01,\n",
              "   'max_depth': 6,\n",
              "   'min_child_weight': 5},\n",
              "  {'colsample_bytree': 0.3,\n",
              "   'gamma': 0.1,\n",
              "   'learning_rate': 0.01,\n",
              "   'max_depth': 6,\n",
              "   'min_child_weight': 9},\n",
              "  {'colsample_bytree': 0.3,\n",
              "   'gamma': 0.1,\n",
              "   'learning_rate': 0.01,\n",
              "   'max_depth': 12,\n",
              "   'min_child_weight': 1},\n",
              "  {'colsample_bytree': 0.3,\n",
              "   'gamma': 0.1,\n",
              "   'learning_rate': 0.01,\n",
              "   'max_depth': 12,\n",
              "   'min_child_weight': 5},\n",
              "  {'colsample_bytree': 0.3,\n",
              "   'gamma': 0.1,\n",
              "   'learning_rate': 0.01,\n",
              "   'max_depth': 12,\n",
              "   'min_child_weight': 9},\n",
              "  {'colsample_bytree': 0.3,\n",
              "   'gamma': 0.1,\n",
              "   'learning_rate': 0.1,\n",
              "   'max_depth': 3,\n",
              "   'min_child_weight': 1},\n",
              "  {'colsample_bytree': 0.3,\n",
              "   'gamma': 0.1,\n",
              "   'learning_rate': 0.1,\n",
              "   'max_depth': 3,\n",
              "   'min_child_weight': 5},\n",
              "  {'colsample_bytree': 0.3,\n",
              "   'gamma': 0.1,\n",
              "   'learning_rate': 0.1,\n",
              "   'max_depth': 3,\n",
              "   'min_child_weight': 9},\n",
              "  {'colsample_bytree': 0.3,\n",
              "   'gamma': 0.1,\n",
              "   'learning_rate': 0.1,\n",
              "   'max_depth': 6,\n",
              "   'min_child_weight': 1},\n",
              "  {'colsample_bytree': 0.3,\n",
              "   'gamma': 0.1,\n",
              "   'learning_rate': 0.1,\n",
              "   'max_depth': 6,\n",
              "   'min_child_weight': 5},\n",
              "  {'colsample_bytree': 0.3,\n",
              "   'gamma': 0.1,\n",
              "   'learning_rate': 0.1,\n",
              "   'max_depth': 6,\n",
              "   'min_child_weight': 9},\n",
              "  {'colsample_bytree': 0.3,\n",
              "   'gamma': 0.1,\n",
              "   'learning_rate': 0.1,\n",
              "   'max_depth': 12,\n",
              "   'min_child_weight': 1},\n",
              "  {'colsample_bytree': 0.3,\n",
              "   'gamma': 0.1,\n",
              "   'learning_rate': 0.1,\n",
              "   'max_depth': 12,\n",
              "   'min_child_weight': 5},\n",
              "  {'colsample_bytree': 0.3,\n",
              "   'gamma': 0.1,\n",
              "   'learning_rate': 0.1,\n",
              "   'max_depth': 12,\n",
              "   'min_child_weight': 9},\n",
              "  {'colsample_bytree': 0.3,\n",
              "   'gamma': 0.3,\n",
              "   'learning_rate': 0.001,\n",
              "   'max_depth': 3,\n",
              "   'min_child_weight': 1},\n",
              "  {'colsample_bytree': 0.3,\n",
              "   'gamma': 0.3,\n",
              "   'learning_rate': 0.001,\n",
              "   'max_depth': 3,\n",
              "   'min_child_weight': 5},\n",
              "  {'colsample_bytree': 0.3,\n",
              "   'gamma': 0.3,\n",
              "   'learning_rate': 0.001,\n",
              "   'max_depth': 3,\n",
              "   'min_child_weight': 9},\n",
              "  {'colsample_bytree': 0.3,\n",
              "   'gamma': 0.3,\n",
              "   'learning_rate': 0.001,\n",
              "   'max_depth': 6,\n",
              "   'min_child_weight': 1},\n",
              "  {'colsample_bytree': 0.3,\n",
              "   'gamma': 0.3,\n",
              "   'learning_rate': 0.001,\n",
              "   'max_depth': 6,\n",
              "   'min_child_weight': 5},\n",
              "  {'colsample_bytree': 0.3,\n",
              "   'gamma': 0.3,\n",
              "   'learning_rate': 0.001,\n",
              "   'max_depth': 6,\n",
              "   'min_child_weight': 9},\n",
              "  {'colsample_bytree': 0.3,\n",
              "   'gamma': 0.3,\n",
              "   'learning_rate': 0.001,\n",
              "   'max_depth': 12,\n",
              "   'min_child_weight': 1},\n",
              "  {'colsample_bytree': 0.3,\n",
              "   'gamma': 0.3,\n",
              "   'learning_rate': 0.001,\n",
              "   'max_depth': 12,\n",
              "   'min_child_weight': 5},\n",
              "  {'colsample_bytree': 0.3,\n",
              "   'gamma': 0.3,\n",
              "   'learning_rate': 0.001,\n",
              "   'max_depth': 12,\n",
              "   'min_child_weight': 9},\n",
              "  {'colsample_bytree': 0.3,\n",
              "   'gamma': 0.3,\n",
              "   'learning_rate': 0.01,\n",
              "   'max_depth': 3,\n",
              "   'min_child_weight': 1},\n",
              "  {'colsample_bytree': 0.3,\n",
              "   'gamma': 0.3,\n",
              "   'learning_rate': 0.01,\n",
              "   'max_depth': 3,\n",
              "   'min_child_weight': 5},\n",
              "  {'colsample_bytree': 0.3,\n",
              "   'gamma': 0.3,\n",
              "   'learning_rate': 0.01,\n",
              "   'max_depth': 3,\n",
              "   'min_child_weight': 9},\n",
              "  {'colsample_bytree': 0.3,\n",
              "   'gamma': 0.3,\n",
              "   'learning_rate': 0.01,\n",
              "   'max_depth': 6,\n",
              "   'min_child_weight': 1},\n",
              "  {'colsample_bytree': 0.3,\n",
              "   'gamma': 0.3,\n",
              "   'learning_rate': 0.01,\n",
              "   'max_depth': 6,\n",
              "   'min_child_weight': 5},\n",
              "  {'colsample_bytree': 0.3,\n",
              "   'gamma': 0.3,\n",
              "   'learning_rate': 0.01,\n",
              "   'max_depth': 6,\n",
              "   'min_child_weight': 9},\n",
              "  {'colsample_bytree': 0.3,\n",
              "   'gamma': 0.3,\n",
              "   'learning_rate': 0.01,\n",
              "   'max_depth': 12,\n",
              "   'min_child_weight': 1},\n",
              "  {'colsample_bytree': 0.3,\n",
              "   'gamma': 0.3,\n",
              "   'learning_rate': 0.01,\n",
              "   'max_depth': 12,\n",
              "   'min_child_weight': 5},\n",
              "  {'colsample_bytree': 0.3,\n",
              "   'gamma': 0.3,\n",
              "   'learning_rate': 0.01,\n",
              "   'max_depth': 12,\n",
              "   'min_child_weight': 9},\n",
              "  {'colsample_bytree': 0.3,\n",
              "   'gamma': 0.3,\n",
              "   'learning_rate': 0.1,\n",
              "   'max_depth': 3,\n",
              "   'min_child_weight': 1},\n",
              "  {'colsample_bytree': 0.3,\n",
              "   'gamma': 0.3,\n",
              "   'learning_rate': 0.1,\n",
              "   'max_depth': 3,\n",
              "   'min_child_weight': 5},\n",
              "  {'colsample_bytree': 0.3,\n",
              "   'gamma': 0.3,\n",
              "   'learning_rate': 0.1,\n",
              "   'max_depth': 3,\n",
              "   'min_child_weight': 9},\n",
              "  {'colsample_bytree': 0.3,\n",
              "   'gamma': 0.3,\n",
              "   'learning_rate': 0.1,\n",
              "   'max_depth': 6,\n",
              "   'min_child_weight': 1},\n",
              "  {'colsample_bytree': 0.3,\n",
              "   'gamma': 0.3,\n",
              "   'learning_rate': 0.1,\n",
              "   'max_depth': 6,\n",
              "   'min_child_weight': 5},\n",
              "  {'colsample_bytree': 0.3,\n",
              "   'gamma': 0.3,\n",
              "   'learning_rate': 0.1,\n",
              "   'max_depth': 6,\n",
              "   'min_child_weight': 9},\n",
              "  {'colsample_bytree': 0.3,\n",
              "   'gamma': 0.3,\n",
              "   'learning_rate': 0.1,\n",
              "   'max_depth': 12,\n",
              "   'min_child_weight': 1},\n",
              "  {'colsample_bytree': 0.3,\n",
              "   'gamma': 0.3,\n",
              "   'learning_rate': 0.1,\n",
              "   'max_depth': 12,\n",
              "   'min_child_weight': 5},\n",
              "  {'colsample_bytree': 0.3,\n",
              "   'gamma': 0.3,\n",
              "   'learning_rate': 0.1,\n",
              "   'max_depth': 12,\n",
              "   'min_child_weight': 9},\n",
              "  {'colsample_bytree': 0.5,\n",
              "   'gamma': 0,\n",
              "   'learning_rate': 0.001,\n",
              "   'max_depth': 3,\n",
              "   'min_child_weight': 1},\n",
              "  {'colsample_bytree': 0.5,\n",
              "   'gamma': 0,\n",
              "   'learning_rate': 0.001,\n",
              "   'max_depth': 3,\n",
              "   'min_child_weight': 5},\n",
              "  {'colsample_bytree': 0.5,\n",
              "   'gamma': 0,\n",
              "   'learning_rate': 0.001,\n",
              "   'max_depth': 3,\n",
              "   'min_child_weight': 9},\n",
              "  {'colsample_bytree': 0.5,\n",
              "   'gamma': 0,\n",
              "   'learning_rate': 0.001,\n",
              "   'max_depth': 6,\n",
              "   'min_child_weight': 1},\n",
              "  {'colsample_bytree': 0.5,\n",
              "   'gamma': 0,\n",
              "   'learning_rate': 0.001,\n",
              "   'max_depth': 6,\n",
              "   'min_child_weight': 5},\n",
              "  {'colsample_bytree': 0.5,\n",
              "   'gamma': 0,\n",
              "   'learning_rate': 0.001,\n",
              "   'max_depth': 6,\n",
              "   'min_child_weight': 9},\n",
              "  {'colsample_bytree': 0.5,\n",
              "   'gamma': 0,\n",
              "   'learning_rate': 0.001,\n",
              "   'max_depth': 12,\n",
              "   'min_child_weight': 1},\n",
              "  {'colsample_bytree': 0.5,\n",
              "   'gamma': 0,\n",
              "   'learning_rate': 0.001,\n",
              "   'max_depth': 12,\n",
              "   'min_child_weight': 5},\n",
              "  {'colsample_bytree': 0.5,\n",
              "   'gamma': 0,\n",
              "   'learning_rate': 0.001,\n",
              "   'max_depth': 12,\n",
              "   'min_child_weight': 9},\n",
              "  {'colsample_bytree': 0.5,\n",
              "   'gamma': 0,\n",
              "   'learning_rate': 0.01,\n",
              "   'max_depth': 3,\n",
              "   'min_child_weight': 1},\n",
              "  {'colsample_bytree': 0.5,\n",
              "   'gamma': 0,\n",
              "   'learning_rate': 0.01,\n",
              "   'max_depth': 3,\n",
              "   'min_child_weight': 5},\n",
              "  {'colsample_bytree': 0.5,\n",
              "   'gamma': 0,\n",
              "   'learning_rate': 0.01,\n",
              "   'max_depth': 3,\n",
              "   'min_child_weight': 9},\n",
              "  {'colsample_bytree': 0.5,\n",
              "   'gamma': 0,\n",
              "   'learning_rate': 0.01,\n",
              "   'max_depth': 6,\n",
              "   'min_child_weight': 1},\n",
              "  {'colsample_bytree': 0.5,\n",
              "   'gamma': 0,\n",
              "   'learning_rate': 0.01,\n",
              "   'max_depth': 6,\n",
              "   'min_child_weight': 5},\n",
              "  {'colsample_bytree': 0.5,\n",
              "   'gamma': 0,\n",
              "   'learning_rate': 0.01,\n",
              "   'max_depth': 6,\n",
              "   'min_child_weight': 9},\n",
              "  {'colsample_bytree': 0.5,\n",
              "   'gamma': 0,\n",
              "   'learning_rate': 0.01,\n",
              "   'max_depth': 12,\n",
              "   'min_child_weight': 1},\n",
              "  {'colsample_bytree': 0.5,\n",
              "   'gamma': 0,\n",
              "   'learning_rate': 0.01,\n",
              "   'max_depth': 12,\n",
              "   'min_child_weight': 5},\n",
              "  {'colsample_bytree': 0.5,\n",
              "   'gamma': 0,\n",
              "   'learning_rate': 0.01,\n",
              "   'max_depth': 12,\n",
              "   'min_child_weight': 9},\n",
              "  {'colsample_bytree': 0.5,\n",
              "   'gamma': 0,\n",
              "   'learning_rate': 0.1,\n",
              "   'max_depth': 3,\n",
              "   'min_child_weight': 1},\n",
              "  {'colsample_bytree': 0.5,\n",
              "   'gamma': 0,\n",
              "   'learning_rate': 0.1,\n",
              "   'max_depth': 3,\n",
              "   'min_child_weight': 5},\n",
              "  {'colsample_bytree': 0.5,\n",
              "   'gamma': 0,\n",
              "   'learning_rate': 0.1,\n",
              "   'max_depth': 3,\n",
              "   'min_child_weight': 9},\n",
              "  {'colsample_bytree': 0.5,\n",
              "   'gamma': 0,\n",
              "   'learning_rate': 0.1,\n",
              "   'max_depth': 6,\n",
              "   'min_child_weight': 1},\n",
              "  {'colsample_bytree': 0.5,\n",
              "   'gamma': 0,\n",
              "   'learning_rate': 0.1,\n",
              "   'max_depth': 6,\n",
              "   'min_child_weight': 5},\n",
              "  {'colsample_bytree': 0.5,\n",
              "   'gamma': 0,\n",
              "   'learning_rate': 0.1,\n",
              "   'max_depth': 6,\n",
              "   'min_child_weight': 9},\n",
              "  {'colsample_bytree': 0.5,\n",
              "   'gamma': 0,\n",
              "   'learning_rate': 0.1,\n",
              "   'max_depth': 12,\n",
              "   'min_child_weight': 1},\n",
              "  {'colsample_bytree': 0.5,\n",
              "   'gamma': 0,\n",
              "   'learning_rate': 0.1,\n",
              "   'max_depth': 12,\n",
              "   'min_child_weight': 5},\n",
              "  {'colsample_bytree': 0.5,\n",
              "   'gamma': 0,\n",
              "   'learning_rate': 0.1,\n",
              "   'max_depth': 12,\n",
              "   'min_child_weight': 9},\n",
              "  {'colsample_bytree': 0.5,\n",
              "   'gamma': 0.1,\n",
              "   'learning_rate': 0.001,\n",
              "   'max_depth': 3,\n",
              "   'min_child_weight': 1},\n",
              "  {'colsample_bytree': 0.5,\n",
              "   'gamma': 0.1,\n",
              "   'learning_rate': 0.001,\n",
              "   'max_depth': 3,\n",
              "   'min_child_weight': 5},\n",
              "  {'colsample_bytree': 0.5,\n",
              "   'gamma': 0.1,\n",
              "   'learning_rate': 0.001,\n",
              "   'max_depth': 3,\n",
              "   'min_child_weight': 9},\n",
              "  {'colsample_bytree': 0.5,\n",
              "   'gamma': 0.1,\n",
              "   'learning_rate': 0.001,\n",
              "   'max_depth': 6,\n",
              "   'min_child_weight': 1},\n",
              "  {'colsample_bytree': 0.5,\n",
              "   'gamma': 0.1,\n",
              "   'learning_rate': 0.001,\n",
              "   'max_depth': 6,\n",
              "   'min_child_weight': 5},\n",
              "  {'colsample_bytree': 0.5,\n",
              "   'gamma': 0.1,\n",
              "   'learning_rate': 0.001,\n",
              "   'max_depth': 6,\n",
              "   'min_child_weight': 9},\n",
              "  {'colsample_bytree': 0.5,\n",
              "   'gamma': 0.1,\n",
              "   'learning_rate': 0.001,\n",
              "   'max_depth': 12,\n",
              "   'min_child_weight': 1},\n",
              "  {'colsample_bytree': 0.5,\n",
              "   'gamma': 0.1,\n",
              "   'learning_rate': 0.001,\n",
              "   'max_depth': 12,\n",
              "   'min_child_weight': 5},\n",
              "  {'colsample_bytree': 0.5,\n",
              "   'gamma': 0.1,\n",
              "   'learning_rate': 0.001,\n",
              "   'max_depth': 12,\n",
              "   'min_child_weight': 9},\n",
              "  {'colsample_bytree': 0.5,\n",
              "   'gamma': 0.1,\n",
              "   'learning_rate': 0.01,\n",
              "   'max_depth': 3,\n",
              "   'min_child_weight': 1},\n",
              "  {'colsample_bytree': 0.5,\n",
              "   'gamma': 0.1,\n",
              "   'learning_rate': 0.01,\n",
              "   'max_depth': 3,\n",
              "   'min_child_weight': 5},\n",
              "  {'colsample_bytree': 0.5,\n",
              "   'gamma': 0.1,\n",
              "   'learning_rate': 0.01,\n",
              "   'max_depth': 3,\n",
              "   'min_child_weight': 9},\n",
              "  {'colsample_bytree': 0.5,\n",
              "   'gamma': 0.1,\n",
              "   'learning_rate': 0.01,\n",
              "   'max_depth': 6,\n",
              "   'min_child_weight': 1},\n",
              "  {'colsample_bytree': 0.5,\n",
              "   'gamma': 0.1,\n",
              "   'learning_rate': 0.01,\n",
              "   'max_depth': 6,\n",
              "   'min_child_weight': 5},\n",
              "  {'colsample_bytree': 0.5,\n",
              "   'gamma': 0.1,\n",
              "   'learning_rate': 0.01,\n",
              "   'max_depth': 6,\n",
              "   'min_child_weight': 9},\n",
              "  {'colsample_bytree': 0.5,\n",
              "   'gamma': 0.1,\n",
              "   'learning_rate': 0.01,\n",
              "   'max_depth': 12,\n",
              "   'min_child_weight': 1},\n",
              "  {'colsample_bytree': 0.5,\n",
              "   'gamma': 0.1,\n",
              "   'learning_rate': 0.01,\n",
              "   'max_depth': 12,\n",
              "   'min_child_weight': 5},\n",
              "  {'colsample_bytree': 0.5,\n",
              "   'gamma': 0.1,\n",
              "   'learning_rate': 0.01,\n",
              "   'max_depth': 12,\n",
              "   'min_child_weight': 9},\n",
              "  {'colsample_bytree': 0.5,\n",
              "   'gamma': 0.1,\n",
              "   'learning_rate': 0.1,\n",
              "   'max_depth': 3,\n",
              "   'min_child_weight': 1},\n",
              "  {'colsample_bytree': 0.5,\n",
              "   'gamma': 0.1,\n",
              "   'learning_rate': 0.1,\n",
              "   'max_depth': 3,\n",
              "   'min_child_weight': 5},\n",
              "  {'colsample_bytree': 0.5,\n",
              "   'gamma': 0.1,\n",
              "   'learning_rate': 0.1,\n",
              "   'max_depth': 3,\n",
              "   'min_child_weight': 9},\n",
              "  {'colsample_bytree': 0.5,\n",
              "   'gamma': 0.1,\n",
              "   'learning_rate': 0.1,\n",
              "   'max_depth': 6,\n",
              "   'min_child_weight': 1},\n",
              "  {'colsample_bytree': 0.5,\n",
              "   'gamma': 0.1,\n",
              "   'learning_rate': 0.1,\n",
              "   'max_depth': 6,\n",
              "   'min_child_weight': 5},\n",
              "  {'colsample_bytree': 0.5,\n",
              "   'gamma': 0.1,\n",
              "   'learning_rate': 0.1,\n",
              "   'max_depth': 6,\n",
              "   'min_child_weight': 9},\n",
              "  {'colsample_bytree': 0.5,\n",
              "   'gamma': 0.1,\n",
              "   'learning_rate': 0.1,\n",
              "   'max_depth': 12,\n",
              "   'min_child_weight': 1},\n",
              "  {'colsample_bytree': 0.5,\n",
              "   'gamma': 0.1,\n",
              "   'learning_rate': 0.1,\n",
              "   'max_depth': 12,\n",
              "   'min_child_weight': 5},\n",
              "  {'colsample_bytree': 0.5,\n",
              "   'gamma': 0.1,\n",
              "   'learning_rate': 0.1,\n",
              "   'max_depth': 12,\n",
              "   'min_child_weight': 9},\n",
              "  {'colsample_bytree': 0.5,\n",
              "   'gamma': 0.3,\n",
              "   'learning_rate': 0.001,\n",
              "   'max_depth': 3,\n",
              "   'min_child_weight': 1},\n",
              "  {'colsample_bytree': 0.5,\n",
              "   'gamma': 0.3,\n",
              "   'learning_rate': 0.001,\n",
              "   'max_depth': 3,\n",
              "   'min_child_weight': 5},\n",
              "  {'colsample_bytree': 0.5,\n",
              "   'gamma': 0.3,\n",
              "   'learning_rate': 0.001,\n",
              "   'max_depth': 3,\n",
              "   'min_child_weight': 9},\n",
              "  {'colsample_bytree': 0.5,\n",
              "   'gamma': 0.3,\n",
              "   'learning_rate': 0.001,\n",
              "   'max_depth': 6,\n",
              "   'min_child_weight': 1},\n",
              "  {'colsample_bytree': 0.5,\n",
              "   'gamma': 0.3,\n",
              "   'learning_rate': 0.001,\n",
              "   'max_depth': 6,\n",
              "   'min_child_weight': 5},\n",
              "  {'colsample_bytree': 0.5,\n",
              "   'gamma': 0.3,\n",
              "   'learning_rate': 0.001,\n",
              "   'max_depth': 6,\n",
              "   'min_child_weight': 9},\n",
              "  {'colsample_bytree': 0.5,\n",
              "   'gamma': 0.3,\n",
              "   'learning_rate': 0.001,\n",
              "   'max_depth': 12,\n",
              "   'min_child_weight': 1},\n",
              "  {'colsample_bytree': 0.5,\n",
              "   'gamma': 0.3,\n",
              "   'learning_rate': 0.001,\n",
              "   'max_depth': 12,\n",
              "   'min_child_weight': 5},\n",
              "  {'colsample_bytree': 0.5,\n",
              "   'gamma': 0.3,\n",
              "   'learning_rate': 0.001,\n",
              "   'max_depth': 12,\n",
              "   'min_child_weight': 9},\n",
              "  {'colsample_bytree': 0.5,\n",
              "   'gamma': 0.3,\n",
              "   'learning_rate': 0.01,\n",
              "   'max_depth': 3,\n",
              "   'min_child_weight': 1},\n",
              "  {'colsample_bytree': 0.5,\n",
              "   'gamma': 0.3,\n",
              "   'learning_rate': 0.01,\n",
              "   'max_depth': 3,\n",
              "   'min_child_weight': 5},\n",
              "  {'colsample_bytree': 0.5,\n",
              "   'gamma': 0.3,\n",
              "   'learning_rate': 0.01,\n",
              "   'max_depth': 3,\n",
              "   'min_child_weight': 9},\n",
              "  {'colsample_bytree': 0.5,\n",
              "   'gamma': 0.3,\n",
              "   'learning_rate': 0.01,\n",
              "   'max_depth': 6,\n",
              "   'min_child_weight': 1},\n",
              "  {'colsample_bytree': 0.5,\n",
              "   'gamma': 0.3,\n",
              "   'learning_rate': 0.01,\n",
              "   'max_depth': 6,\n",
              "   'min_child_weight': 5},\n",
              "  {'colsample_bytree': 0.5,\n",
              "   'gamma': 0.3,\n",
              "   'learning_rate': 0.01,\n",
              "   'max_depth': 6,\n",
              "   'min_child_weight': 9},\n",
              "  {'colsample_bytree': 0.5,\n",
              "   'gamma': 0.3,\n",
              "   'learning_rate': 0.01,\n",
              "   'max_depth': 12,\n",
              "   'min_child_weight': 1},\n",
              "  {'colsample_bytree': 0.5,\n",
              "   'gamma': 0.3,\n",
              "   'learning_rate': 0.01,\n",
              "   'max_depth': 12,\n",
              "   'min_child_weight': 5},\n",
              "  {'colsample_bytree': 0.5,\n",
              "   'gamma': 0.3,\n",
              "   'learning_rate': 0.01,\n",
              "   'max_depth': 12,\n",
              "   'min_child_weight': 9},\n",
              "  {'colsample_bytree': 0.5,\n",
              "   'gamma': 0.3,\n",
              "   'learning_rate': 0.1,\n",
              "   'max_depth': 3,\n",
              "   'min_child_weight': 1},\n",
              "  {'colsample_bytree': 0.5,\n",
              "   'gamma': 0.3,\n",
              "   'learning_rate': 0.1,\n",
              "   'max_depth': 3,\n",
              "   'min_child_weight': 5},\n",
              "  {'colsample_bytree': 0.5,\n",
              "   'gamma': 0.3,\n",
              "   'learning_rate': 0.1,\n",
              "   'max_depth': 3,\n",
              "   'min_child_weight': 9},\n",
              "  {'colsample_bytree': 0.5,\n",
              "   'gamma': 0.3,\n",
              "   'learning_rate': 0.1,\n",
              "   'max_depth': 6,\n",
              "   'min_child_weight': 1},\n",
              "  {'colsample_bytree': 0.5,\n",
              "   'gamma': 0.3,\n",
              "   'learning_rate': 0.1,\n",
              "   'max_depth': 6,\n",
              "   'min_child_weight': 5},\n",
              "  {'colsample_bytree': 0.5,\n",
              "   'gamma': 0.3,\n",
              "   'learning_rate': 0.1,\n",
              "   'max_depth': 6,\n",
              "   'min_child_weight': 9},\n",
              "  {'colsample_bytree': 0.5,\n",
              "   'gamma': 0.3,\n",
              "   'learning_rate': 0.1,\n",
              "   'max_depth': 12,\n",
              "   'min_child_weight': 1},\n",
              "  {'colsample_bytree': 0.5,\n",
              "   'gamma': 0.3,\n",
              "   'learning_rate': 0.1,\n",
              "   'max_depth': 12,\n",
              "   'min_child_weight': 5},\n",
              "  {'colsample_bytree': 0.5,\n",
              "   'gamma': 0.3,\n",
              "   'learning_rate': 0.1,\n",
              "   'max_depth': 12,\n",
              "   'min_child_weight': 9},\n",
              "  {'colsample_bytree': 0.8,\n",
              "   'gamma': 0,\n",
              "   'learning_rate': 0.001,\n",
              "   'max_depth': 3,\n",
              "   'min_child_weight': 1},\n",
              "  {'colsample_bytree': 0.8,\n",
              "   'gamma': 0,\n",
              "   'learning_rate': 0.001,\n",
              "   'max_depth': 3,\n",
              "   'min_child_weight': 5},\n",
              "  {'colsample_bytree': 0.8,\n",
              "   'gamma': 0,\n",
              "   'learning_rate': 0.001,\n",
              "   'max_depth': 3,\n",
              "   'min_child_weight': 9},\n",
              "  {'colsample_bytree': 0.8,\n",
              "   'gamma': 0,\n",
              "   'learning_rate': 0.001,\n",
              "   'max_depth': 6,\n",
              "   'min_child_weight': 1},\n",
              "  {'colsample_bytree': 0.8,\n",
              "   'gamma': 0,\n",
              "   'learning_rate': 0.001,\n",
              "   'max_depth': 6,\n",
              "   'min_child_weight': 5},\n",
              "  {'colsample_bytree': 0.8,\n",
              "   'gamma': 0,\n",
              "   'learning_rate': 0.001,\n",
              "   'max_depth': 6,\n",
              "   'min_child_weight': 9},\n",
              "  {'colsample_bytree': 0.8,\n",
              "   'gamma': 0,\n",
              "   'learning_rate': 0.001,\n",
              "   'max_depth': 12,\n",
              "   'min_child_weight': 1},\n",
              "  {'colsample_bytree': 0.8,\n",
              "   'gamma': 0,\n",
              "   'learning_rate': 0.001,\n",
              "   'max_depth': 12,\n",
              "   'min_child_weight': 5},\n",
              "  {'colsample_bytree': 0.8,\n",
              "   'gamma': 0,\n",
              "   'learning_rate': 0.001,\n",
              "   'max_depth': 12,\n",
              "   'min_child_weight': 9},\n",
              "  {'colsample_bytree': 0.8,\n",
              "   'gamma': 0,\n",
              "   'learning_rate': 0.01,\n",
              "   'max_depth': 3,\n",
              "   'min_child_weight': 1},\n",
              "  {'colsample_bytree': 0.8,\n",
              "   'gamma': 0,\n",
              "   'learning_rate': 0.01,\n",
              "   'max_depth': 3,\n",
              "   'min_child_weight': 5},\n",
              "  {'colsample_bytree': 0.8,\n",
              "   'gamma': 0,\n",
              "   'learning_rate': 0.01,\n",
              "   'max_depth': 3,\n",
              "   'min_child_weight': 9},\n",
              "  {'colsample_bytree': 0.8,\n",
              "   'gamma': 0,\n",
              "   'learning_rate': 0.01,\n",
              "   'max_depth': 6,\n",
              "   'min_child_weight': 1},\n",
              "  {'colsample_bytree': 0.8,\n",
              "   'gamma': 0,\n",
              "   'learning_rate': 0.01,\n",
              "   'max_depth': 6,\n",
              "   'min_child_weight': 5},\n",
              "  {'colsample_bytree': 0.8,\n",
              "   'gamma': 0,\n",
              "   'learning_rate': 0.01,\n",
              "   'max_depth': 6,\n",
              "   'min_child_weight': 9},\n",
              "  {'colsample_bytree': 0.8,\n",
              "   'gamma': 0,\n",
              "   'learning_rate': 0.01,\n",
              "   'max_depth': 12,\n",
              "   'min_child_weight': 1},\n",
              "  {'colsample_bytree': 0.8,\n",
              "   'gamma': 0,\n",
              "   'learning_rate': 0.01,\n",
              "   'max_depth': 12,\n",
              "   'min_child_weight': 5},\n",
              "  {'colsample_bytree': 0.8,\n",
              "   'gamma': 0,\n",
              "   'learning_rate': 0.01,\n",
              "   'max_depth': 12,\n",
              "   'min_child_weight': 9},\n",
              "  {'colsample_bytree': 0.8,\n",
              "   'gamma': 0,\n",
              "   'learning_rate': 0.1,\n",
              "   'max_depth': 3,\n",
              "   'min_child_weight': 1},\n",
              "  {'colsample_bytree': 0.8,\n",
              "   'gamma': 0,\n",
              "   'learning_rate': 0.1,\n",
              "   'max_depth': 3,\n",
              "   'min_child_weight': 5},\n",
              "  {'colsample_bytree': 0.8,\n",
              "   'gamma': 0,\n",
              "   'learning_rate': 0.1,\n",
              "   'max_depth': 3,\n",
              "   'min_child_weight': 9},\n",
              "  {'colsample_bytree': 0.8,\n",
              "   'gamma': 0,\n",
              "   'learning_rate': 0.1,\n",
              "   'max_depth': 6,\n",
              "   'min_child_weight': 1},\n",
              "  {'colsample_bytree': 0.8,\n",
              "   'gamma': 0,\n",
              "   'learning_rate': 0.1,\n",
              "   'max_depth': 6,\n",
              "   'min_child_weight': 5},\n",
              "  {'colsample_bytree': 0.8,\n",
              "   'gamma': 0,\n",
              "   'learning_rate': 0.1,\n",
              "   'max_depth': 6,\n",
              "   'min_child_weight': 9},\n",
              "  {'colsample_bytree': 0.8,\n",
              "   'gamma': 0,\n",
              "   'learning_rate': 0.1,\n",
              "   'max_depth': 12,\n",
              "   'min_child_weight': 1},\n",
              "  {'colsample_bytree': 0.8,\n",
              "   'gamma': 0,\n",
              "   'learning_rate': 0.1,\n",
              "   'max_depth': 12,\n",
              "   'min_child_weight': 5},\n",
              "  {'colsample_bytree': 0.8,\n",
              "   'gamma': 0,\n",
              "   'learning_rate': 0.1,\n",
              "   'max_depth': 12,\n",
              "   'min_child_weight': 9},\n",
              "  {'colsample_bytree': 0.8,\n",
              "   'gamma': 0.1,\n",
              "   'learning_rate': 0.001,\n",
              "   'max_depth': 3,\n",
              "   'min_child_weight': 1},\n",
              "  {'colsample_bytree': 0.8,\n",
              "   'gamma': 0.1,\n",
              "   'learning_rate': 0.001,\n",
              "   'max_depth': 3,\n",
              "   'min_child_weight': 5},\n",
              "  {'colsample_bytree': 0.8,\n",
              "   'gamma': 0.1,\n",
              "   'learning_rate': 0.001,\n",
              "   'max_depth': 3,\n",
              "   'min_child_weight': 9},\n",
              "  {'colsample_bytree': 0.8,\n",
              "   'gamma': 0.1,\n",
              "   'learning_rate': 0.001,\n",
              "   'max_depth': 6,\n",
              "   'min_child_weight': 1},\n",
              "  {'colsample_bytree': 0.8,\n",
              "   'gamma': 0.1,\n",
              "   'learning_rate': 0.001,\n",
              "   'max_depth': 6,\n",
              "   'min_child_weight': 5},\n",
              "  {'colsample_bytree': 0.8,\n",
              "   'gamma': 0.1,\n",
              "   'learning_rate': 0.001,\n",
              "   'max_depth': 6,\n",
              "   'min_child_weight': 9},\n",
              "  {'colsample_bytree': 0.8,\n",
              "   'gamma': 0.1,\n",
              "   'learning_rate': 0.001,\n",
              "   'max_depth': 12,\n",
              "   'min_child_weight': 1},\n",
              "  {'colsample_bytree': 0.8,\n",
              "   'gamma': 0.1,\n",
              "   'learning_rate': 0.001,\n",
              "   'max_depth': 12,\n",
              "   'min_child_weight': 5},\n",
              "  {'colsample_bytree': 0.8,\n",
              "   'gamma': 0.1,\n",
              "   'learning_rate': 0.001,\n",
              "   'max_depth': 12,\n",
              "   'min_child_weight': 9},\n",
              "  {'colsample_bytree': 0.8,\n",
              "   'gamma': 0.1,\n",
              "   'learning_rate': 0.01,\n",
              "   'max_depth': 3,\n",
              "   'min_child_weight': 1},\n",
              "  {'colsample_bytree': 0.8,\n",
              "   'gamma': 0.1,\n",
              "   'learning_rate': 0.01,\n",
              "   'max_depth': 3,\n",
              "   'min_child_weight': 5},\n",
              "  {'colsample_bytree': 0.8,\n",
              "   'gamma': 0.1,\n",
              "   'learning_rate': 0.01,\n",
              "   'max_depth': 3,\n",
              "   'min_child_weight': 9},\n",
              "  {'colsample_bytree': 0.8,\n",
              "   'gamma': 0.1,\n",
              "   'learning_rate': 0.01,\n",
              "   'max_depth': 6,\n",
              "   'min_child_weight': 1},\n",
              "  {'colsample_bytree': 0.8,\n",
              "   'gamma': 0.1,\n",
              "   'learning_rate': 0.01,\n",
              "   'max_depth': 6,\n",
              "   'min_child_weight': 5},\n",
              "  {'colsample_bytree': 0.8,\n",
              "   'gamma': 0.1,\n",
              "   'learning_rate': 0.01,\n",
              "   'max_depth': 6,\n",
              "   'min_child_weight': 9},\n",
              "  {'colsample_bytree': 0.8,\n",
              "   'gamma': 0.1,\n",
              "   'learning_rate': 0.01,\n",
              "   'max_depth': 12,\n",
              "   'min_child_weight': 1},\n",
              "  {'colsample_bytree': 0.8,\n",
              "   'gamma': 0.1,\n",
              "   'learning_rate': 0.01,\n",
              "   'max_depth': 12,\n",
              "   'min_child_weight': 5},\n",
              "  {'colsample_bytree': 0.8,\n",
              "   'gamma': 0.1,\n",
              "   'learning_rate': 0.01,\n",
              "   'max_depth': 12,\n",
              "   'min_child_weight': 9},\n",
              "  {'colsample_bytree': 0.8,\n",
              "   'gamma': 0.1,\n",
              "   'learning_rate': 0.1,\n",
              "   'max_depth': 3,\n",
              "   'min_child_weight': 1},\n",
              "  {'colsample_bytree': 0.8,\n",
              "   'gamma': 0.1,\n",
              "   'learning_rate': 0.1,\n",
              "   'max_depth': 3,\n",
              "   'min_child_weight': 5},\n",
              "  {'colsample_bytree': 0.8,\n",
              "   'gamma': 0.1,\n",
              "   'learning_rate': 0.1,\n",
              "   'max_depth': 3,\n",
              "   'min_child_weight': 9},\n",
              "  {'colsample_bytree': 0.8,\n",
              "   'gamma': 0.1,\n",
              "   'learning_rate': 0.1,\n",
              "   'max_depth': 6,\n",
              "   'min_child_weight': 1},\n",
              "  {'colsample_bytree': 0.8,\n",
              "   'gamma': 0.1,\n",
              "   'learning_rate': 0.1,\n",
              "   'max_depth': 6,\n",
              "   'min_child_weight': 5},\n",
              "  {'colsample_bytree': 0.8,\n",
              "   'gamma': 0.1,\n",
              "   'learning_rate': 0.1,\n",
              "   'max_depth': 6,\n",
              "   'min_child_weight': 9},\n",
              "  {'colsample_bytree': 0.8,\n",
              "   'gamma': 0.1,\n",
              "   'learning_rate': 0.1,\n",
              "   'max_depth': 12,\n",
              "   'min_child_weight': 1},\n",
              "  {'colsample_bytree': 0.8,\n",
              "   'gamma': 0.1,\n",
              "   'learning_rate': 0.1,\n",
              "   'max_depth': 12,\n",
              "   'min_child_weight': 5},\n",
              "  {'colsample_bytree': 0.8,\n",
              "   'gamma': 0.1,\n",
              "   'learning_rate': 0.1,\n",
              "   'max_depth': 12,\n",
              "   'min_child_weight': 9},\n",
              "  {'colsample_bytree': 0.8,\n",
              "   'gamma': 0.3,\n",
              "   'learning_rate': 0.001,\n",
              "   'max_depth': 3,\n",
              "   'min_child_weight': 1},\n",
              "  {'colsample_bytree': 0.8,\n",
              "   'gamma': 0.3,\n",
              "   'learning_rate': 0.001,\n",
              "   'max_depth': 3,\n",
              "   'min_child_weight': 5},\n",
              "  {'colsample_bytree': 0.8,\n",
              "   'gamma': 0.3,\n",
              "   'learning_rate': 0.001,\n",
              "   'max_depth': 3,\n",
              "   'min_child_weight': 9},\n",
              "  {'colsample_bytree': 0.8,\n",
              "   'gamma': 0.3,\n",
              "   'learning_rate': 0.001,\n",
              "   'max_depth': 6,\n",
              "   'min_child_weight': 1},\n",
              "  {'colsample_bytree': 0.8,\n",
              "   'gamma': 0.3,\n",
              "   'learning_rate': 0.001,\n",
              "   'max_depth': 6,\n",
              "   'min_child_weight': 5},\n",
              "  {'colsample_bytree': 0.8,\n",
              "   'gamma': 0.3,\n",
              "   'learning_rate': 0.001,\n",
              "   'max_depth': 6,\n",
              "   'min_child_weight': 9},\n",
              "  {'colsample_bytree': 0.8,\n",
              "   'gamma': 0.3,\n",
              "   'learning_rate': 0.001,\n",
              "   'max_depth': 12,\n",
              "   'min_child_weight': 1},\n",
              "  {'colsample_bytree': 0.8,\n",
              "   'gamma': 0.3,\n",
              "   'learning_rate': 0.001,\n",
              "   'max_depth': 12,\n",
              "   'min_child_weight': 5},\n",
              "  {'colsample_bytree': 0.8,\n",
              "   'gamma': 0.3,\n",
              "   'learning_rate': 0.001,\n",
              "   'max_depth': 12,\n",
              "   'min_child_weight': 9},\n",
              "  {'colsample_bytree': 0.8,\n",
              "   'gamma': 0.3,\n",
              "   'learning_rate': 0.01,\n",
              "   'max_depth': 3,\n",
              "   'min_child_weight': 1},\n",
              "  {'colsample_bytree': 0.8,\n",
              "   'gamma': 0.3,\n",
              "   'learning_rate': 0.01,\n",
              "   'max_depth': 3,\n",
              "   'min_child_weight': 5},\n",
              "  {'colsample_bytree': 0.8,\n",
              "   'gamma': 0.3,\n",
              "   'learning_rate': 0.01,\n",
              "   'max_depth': 3,\n",
              "   'min_child_weight': 9},\n",
              "  {'colsample_bytree': 0.8,\n",
              "   'gamma': 0.3,\n",
              "   'learning_rate': 0.01,\n",
              "   'max_depth': 6,\n",
              "   'min_child_weight': 1},\n",
              "  {'colsample_bytree': 0.8,\n",
              "   'gamma': 0.3,\n",
              "   'learning_rate': 0.01,\n",
              "   'max_depth': 6,\n",
              "   'min_child_weight': 5},\n",
              "  {'colsample_bytree': 0.8,\n",
              "   'gamma': 0.3,\n",
              "   'learning_rate': 0.01,\n",
              "   'max_depth': 6,\n",
              "   'min_child_weight': 9},\n",
              "  {'colsample_bytree': 0.8,\n",
              "   'gamma': 0.3,\n",
              "   'learning_rate': 0.01,\n",
              "   'max_depth': 12,\n",
              "   'min_child_weight': 1},\n",
              "  {'colsample_bytree': 0.8,\n",
              "   'gamma': 0.3,\n",
              "   'learning_rate': 0.01,\n",
              "   'max_depth': 12,\n",
              "   'min_child_weight': 5},\n",
              "  {'colsample_bytree': 0.8,\n",
              "   'gamma': 0.3,\n",
              "   'learning_rate': 0.01,\n",
              "   'max_depth': 12,\n",
              "   'min_child_weight': 9},\n",
              "  {'colsample_bytree': 0.8,\n",
              "   'gamma': 0.3,\n",
              "   'learning_rate': 0.1,\n",
              "   'max_depth': 3,\n",
              "   'min_child_weight': 1},\n",
              "  {'colsample_bytree': 0.8,\n",
              "   'gamma': 0.3,\n",
              "   'learning_rate': 0.1,\n",
              "   'max_depth': 3,\n",
              "   'min_child_weight': 5},\n",
              "  {'colsample_bytree': 0.8,\n",
              "   'gamma': 0.3,\n",
              "   'learning_rate': 0.1,\n",
              "   'max_depth': 3,\n",
              "   'min_child_weight': 9},\n",
              "  {'colsample_bytree': 0.8,\n",
              "   'gamma': 0.3,\n",
              "   'learning_rate': 0.1,\n",
              "   'max_depth': 6,\n",
              "   'min_child_weight': 1},\n",
              "  {'colsample_bytree': 0.8,\n",
              "   'gamma': 0.3,\n",
              "   'learning_rate': 0.1,\n",
              "   'max_depth': 6,\n",
              "   'min_child_weight': 5},\n",
              "  {'colsample_bytree': 0.8,\n",
              "   'gamma': 0.3,\n",
              "   'learning_rate': 0.1,\n",
              "   'max_depth': 6,\n",
              "   'min_child_weight': 9},\n",
              "  {'colsample_bytree': 0.8,\n",
              "   'gamma': 0.3,\n",
              "   'learning_rate': 0.1,\n",
              "   'max_depth': 12,\n",
              "   'min_child_weight': 1},\n",
              "  {'colsample_bytree': 0.8,\n",
              "   'gamma': 0.3,\n",
              "   'learning_rate': 0.1,\n",
              "   'max_depth': 12,\n",
              "   'min_child_weight': 5},\n",
              "  {'colsample_bytree': 0.8,\n",
              "   'gamma': 0.3,\n",
              "   'learning_rate': 0.1,\n",
              "   'max_depth': 12,\n",
              "   'min_child_weight': 9}],\n",
              " 'rank_test_recall': array([ 84, 136, 173, 115, 136, 173, 115, 136, 173,  56,  97,  97,  56,\n",
              "         97,  97,  56,  97,  97,  56,   6,  14,  31,   6,  14,  31,   6,\n",
              "         14,  84, 136, 173, 115, 136, 173, 115, 136, 173,  70,  97,  97,\n",
              "         70,  97,  97,  70,  97,  97,  56,   6,  14,   1,   6,  14,   1,\n",
              "          6,  14,  84, 136, 173, 115, 136, 173, 115, 136, 173,  70,  97,\n",
              "         97,  70,  97,  97,  70,  97,  97,  31,   1,  14,   6,   1,  14,\n",
              "          6,   1,  14, 115, 149, 173, 115, 149, 173, 115, 149, 173,  56,\n",
              "        149, 197,  56, 149, 197,  56, 149, 197,  31,  31,  70,  31,  31,\n",
              "         70,  31,  31,  70, 115, 149, 173, 115, 149, 173, 115, 149, 173,\n",
              "         56, 173, 197,  56, 173, 197,  56, 173, 197,  31,  31,  67,  31,\n",
              "         31,  67,  31,  31,  67, 115, 149, 173, 115, 149, 173, 115, 149,\n",
              "        173,  84, 173, 197,  70, 173, 197,  70, 173, 197,  31,  31,  52,\n",
              "         31,  31,  52,  31,  31,  52, 149, 220, 235, 149, 220, 235, 149,\n",
              "        220, 235, 170, 220, 197, 136, 220, 197, 136, 220, 197,  14,  84,\n",
              "        115,  14,  84, 115,  14,  84, 115, 149, 220, 235, 149, 220, 235,\n",
              "        149, 220, 235, 170, 215, 197, 136, 215, 197, 136, 215, 197,  14,\n",
              "         70, 115,  14,  70, 115,  14,  70, 115, 149, 220, 235, 149, 220,\n",
              "        235, 149, 220, 235, 170, 220, 197, 218, 220, 197, 218, 220, 197,\n",
              "         52,  84,  84,  14,  84,  84,  14,  84,  84], dtype=int32),\n",
              " 'split0_test_recall': array([0.95833333, 0.95833333, 0.94791667, 0.95833333, 0.95833333,\n",
              "        0.94791667, 0.95833333, 0.95833333, 0.94791667, 0.95833333,\n",
              "        0.94791667, 0.94791667, 0.95833333, 0.94791667, 0.94791667,\n",
              "        0.95833333, 0.94791667, 0.94791667, 0.95833333, 0.95833333,\n",
              "        0.96875   , 0.95833333, 0.95833333, 0.96875   , 0.95833333,\n",
              "        0.95833333, 0.96875   , 0.95833333, 0.95833333, 0.94791667,\n",
              "        0.95833333, 0.95833333, 0.94791667, 0.95833333, 0.95833333,\n",
              "        0.94791667, 0.95833333, 0.94791667, 0.94791667, 0.95833333,\n",
              "        0.94791667, 0.94791667, 0.95833333, 0.94791667, 0.94791667,\n",
              "        0.95833333, 0.95833333, 0.96875   , 0.95833333, 0.95833333,\n",
              "        0.96875   , 0.95833333, 0.95833333, 0.96875   , 0.95833333,\n",
              "        0.95833333, 0.94791667, 0.95833333, 0.95833333, 0.94791667,\n",
              "        0.95833333, 0.95833333, 0.94791667, 0.95833333, 0.94791667,\n",
              "        0.94791667, 0.95833333, 0.94791667, 0.94791667, 0.95833333,\n",
              "        0.94791667, 0.94791667, 0.95833333, 0.95833333, 0.96875   ,\n",
              "        0.95833333, 0.95833333, 0.96875   , 0.95833333, 0.95833333,\n",
              "        0.96875   , 0.95833333, 0.94791667, 0.94791667, 0.95833333,\n",
              "        0.94791667, 0.94791667, 0.95833333, 0.94791667, 0.94791667,\n",
              "        0.95833333, 0.94791667, 0.95833333, 0.95833333, 0.94791667,\n",
              "        0.95833333, 0.95833333, 0.94791667, 0.95833333, 0.95833333,\n",
              "        0.95833333, 0.95833333, 0.95833333, 0.95833333, 0.95833333,\n",
              "        0.95833333, 0.95833333, 0.95833333, 0.95833333, 0.94791667,\n",
              "        0.94791667, 0.95833333, 0.94791667, 0.94791667, 0.95833333,\n",
              "        0.94791667, 0.94791667, 0.95833333, 0.94791667, 0.95833333,\n",
              "        0.95833333, 0.94791667, 0.95833333, 0.95833333, 0.94791667,\n",
              "        0.95833333, 0.95833333, 0.95833333, 0.96875   , 0.95833333,\n",
              "        0.95833333, 0.96875   , 0.95833333, 0.95833333, 0.96875   ,\n",
              "        0.95833333, 0.94791667, 0.94791667, 0.95833333, 0.94791667,\n",
              "        0.94791667, 0.95833333, 0.94791667, 0.94791667, 0.95833333,\n",
              "        0.94791667, 0.95833333, 0.95833333, 0.94791667, 0.95833333,\n",
              "        0.95833333, 0.94791667, 0.95833333, 0.95833333, 0.95833333,\n",
              "        0.96875   , 0.95833333, 0.95833333, 0.96875   , 0.95833333,\n",
              "        0.95833333, 0.96875   , 0.94791667, 0.96875   , 0.94791667,\n",
              "        0.94791667, 0.96875   , 0.94791667, 0.94791667, 0.96875   ,\n",
              "        0.94791667, 0.95833333, 0.96875   , 0.95833333, 0.95833333,\n",
              "        0.96875   , 0.95833333, 0.95833333, 0.96875   , 0.95833333,\n",
              "        0.96875   , 0.95833333, 0.95833333, 0.96875   , 0.95833333,\n",
              "        0.95833333, 0.96875   , 0.95833333, 0.95833333, 0.94791667,\n",
              "        0.96875   , 0.94791667, 0.94791667, 0.96875   , 0.94791667,\n",
              "        0.94791667, 0.96875   , 0.94791667, 0.95833333, 0.96875   ,\n",
              "        0.95833333, 0.95833333, 0.96875   , 0.95833333, 0.95833333,\n",
              "        0.96875   , 0.95833333, 0.96875   , 0.95833333, 0.95833333,\n",
              "        0.96875   , 0.95833333, 0.95833333, 0.96875   , 0.95833333,\n",
              "        0.95833333, 0.94791667, 0.96875   , 0.94791667, 0.94791667,\n",
              "        0.96875   , 0.94791667, 0.94791667, 0.96875   , 0.94791667,\n",
              "        0.95833333, 0.96875   , 0.95833333, 0.95833333, 0.96875   ,\n",
              "        0.95833333, 0.95833333, 0.96875   , 0.95833333, 0.96875   ,\n",
              "        0.95833333, 0.95833333, 0.96875   , 0.95833333, 0.95833333,\n",
              "        0.96875   , 0.95833333, 0.95833333]),\n",
              " 'split1_test_recall': array([0.95789474, 0.94736842, 0.93684211, 0.95789474, 0.94736842,\n",
              "        0.93684211, 0.95789474, 0.94736842, 0.93684211, 0.96842105,\n",
              "        0.94736842, 0.95789474, 0.96842105, 0.94736842, 0.95789474,\n",
              "        0.96842105, 0.94736842, 0.95789474, 0.96842105, 0.97894737,\n",
              "        0.97894737, 0.98947368, 0.97894737, 0.97894737, 0.98947368,\n",
              "        0.97894737, 0.97894737, 0.95789474, 0.94736842, 0.93684211,\n",
              "        0.95789474, 0.94736842, 0.93684211, 0.95789474, 0.94736842,\n",
              "        0.93684211, 0.95789474, 0.94736842, 0.95789474, 0.96842105,\n",
              "        0.94736842, 0.95789474, 0.96842105, 0.94736842, 0.95789474,\n",
              "        0.96842105, 0.97894737, 0.97894737, 0.98947368, 0.97894737,\n",
              "        0.97894737, 0.98947368, 0.97894737, 0.97894737, 0.95789474,\n",
              "        0.94736842, 0.93684211, 0.95789474, 0.94736842, 0.93684211,\n",
              "        0.95789474, 0.94736842, 0.93684211, 0.95789474, 0.94736842,\n",
              "        0.95789474, 0.96842105, 0.94736842, 0.95789474, 0.96842105,\n",
              "        0.94736842, 0.95789474, 0.97894737, 0.97894737, 0.97894737,\n",
              "        0.98947368, 0.97894737, 0.97894737, 0.98947368, 0.97894737,\n",
              "        0.97894737, 0.95789474, 0.93684211, 0.92631579, 0.95789474,\n",
              "        0.93684211, 0.92631579, 0.95789474, 0.93684211, 0.92631579,\n",
              "        0.96842105, 0.93684211, 0.93684211, 0.96842105, 0.93684211,\n",
              "        0.93684211, 0.96842105, 0.93684211, 0.93684211, 0.96842105,\n",
              "        0.96842105, 0.95789474, 0.96842105, 0.96842105, 0.95789474,\n",
              "        0.96842105, 0.96842105, 0.95789474, 0.95789474, 0.93684211,\n",
              "        0.92631579, 0.95789474, 0.93684211, 0.92631579, 0.95789474,\n",
              "        0.93684211, 0.92631579, 0.96842105, 0.93684211, 0.93684211,\n",
              "        0.96842105, 0.93684211, 0.93684211, 0.96842105, 0.93684211,\n",
              "        0.93684211, 0.96842105, 0.96842105, 0.95789474, 0.96842105,\n",
              "        0.96842105, 0.95789474, 0.96842105, 0.96842105, 0.95789474,\n",
              "        0.95789474, 0.93684211, 0.92631579, 0.95789474, 0.93684211,\n",
              "        0.92631579, 0.95789474, 0.93684211, 0.92631579, 0.94736842,\n",
              "        0.93684211, 0.93684211, 0.95789474, 0.93684211, 0.93684211,\n",
              "        0.95789474, 0.93684211, 0.93684211, 0.96842105, 0.96842105,\n",
              "        0.96842105, 0.96842105, 0.96842105, 0.96842105, 0.96842105,\n",
              "        0.96842105, 0.96842105, 0.94736842, 0.93684211, 0.92631579,\n",
              "        0.94736842, 0.93684211, 0.92631579, 0.94736842, 0.93684211,\n",
              "        0.92631579, 0.94736842, 0.92631579, 0.93684211, 0.94736842,\n",
              "        0.92631579, 0.93684211, 0.94736842, 0.92631579, 0.93684211,\n",
              "        0.96842105, 0.95789474, 0.94736842, 0.96842105, 0.95789474,\n",
              "        0.94736842, 0.96842105, 0.95789474, 0.94736842, 0.94736842,\n",
              "        0.93684211, 0.92631579, 0.94736842, 0.93684211, 0.92631579,\n",
              "        0.94736842, 0.93684211, 0.92631579, 0.94736842, 0.92631579,\n",
              "        0.93684211, 0.94736842, 0.92631579, 0.93684211, 0.94736842,\n",
              "        0.92631579, 0.93684211, 0.96842105, 0.95789474, 0.94736842,\n",
              "        0.96842105, 0.95789474, 0.94736842, 0.96842105, 0.95789474,\n",
              "        0.94736842, 0.94736842, 0.93684211, 0.92631579, 0.94736842,\n",
              "        0.93684211, 0.92631579, 0.94736842, 0.93684211, 0.92631579,\n",
              "        0.94736842, 0.92631579, 0.93684211, 0.92631579, 0.92631579,\n",
              "        0.93684211, 0.92631579, 0.92631579, 0.93684211, 0.96842105,\n",
              "        0.95789474, 0.95789474, 0.96842105, 0.95789474, 0.95789474,\n",
              "        0.96842105, 0.95789474, 0.95789474]),\n",
              " 'split2_test_recall': array([0.96842105, 0.95789474, 0.95789474, 0.95789474, 0.95789474,\n",
              "        0.95789474, 0.95789474, 0.95789474, 0.95789474, 0.97894737,\n",
              "        0.97894737, 0.96842105, 0.97894737, 0.97894737, 0.96842105,\n",
              "        0.97894737, 0.97894737, 0.96842105, 0.97894737, 0.98947368,\n",
              "        0.97894737, 0.96842105, 0.98947368, 0.97894737, 0.96842105,\n",
              "        0.98947368, 0.97894737, 0.96842105, 0.95789474, 0.95789474,\n",
              "        0.95789474, 0.95789474, 0.95789474, 0.95789474, 0.95789474,\n",
              "        0.95789474, 0.97894737, 0.97894737, 0.96842105, 0.96842105,\n",
              "        0.97894737, 0.96842105, 0.96842105, 0.97894737, 0.96842105,\n",
              "        0.97894737, 0.98947368, 0.97894737, 0.98947368, 0.98947368,\n",
              "        0.97894737, 0.98947368, 0.98947368, 0.97894737, 0.96842105,\n",
              "        0.95789474, 0.95789474, 0.95789474, 0.95789474, 0.95789474,\n",
              "        0.95789474, 0.95789474, 0.95789474, 0.97894737, 0.97894737,\n",
              "        0.96842105, 0.96842105, 0.97894737, 0.96842105, 0.96842105,\n",
              "        0.97894737, 0.96842105, 0.97894737, 1.        , 0.97894737,\n",
              "        0.97894737, 1.        , 0.97894737, 0.97894737, 1.        ,\n",
              "        0.97894737, 0.95789474, 0.96842105, 0.96842105, 0.95789474,\n",
              "        0.96842105, 0.96842105, 0.95789474, 0.96842105, 0.96842105,\n",
              "        0.97894737, 0.96842105, 0.94736842, 0.97894737, 0.96842105,\n",
              "        0.94736842, 0.97894737, 0.96842105, 0.94736842, 0.98947368,\n",
              "        0.98947368, 0.97894737, 0.98947368, 0.98947368, 0.97894737,\n",
              "        0.98947368, 0.98947368, 0.97894737, 0.95789474, 0.96842105,\n",
              "        0.96842105, 0.95789474, 0.96842105, 0.96842105, 0.95789474,\n",
              "        0.96842105, 0.96842105, 0.97894737, 0.95789474, 0.94736842,\n",
              "        0.97894737, 0.95789474, 0.94736842, 0.97894737, 0.95789474,\n",
              "        0.94736842, 0.98947368, 0.98947368, 0.97894737, 0.98947368,\n",
              "        0.98947368, 0.97894737, 0.98947368, 0.98947368, 0.97894737,\n",
              "        0.95789474, 0.96842105, 0.96842105, 0.95789474, 0.96842105,\n",
              "        0.96842105, 0.95789474, 0.96842105, 0.96842105, 0.97894737,\n",
              "        0.95789474, 0.94736842, 0.97894737, 0.95789474, 0.94736842,\n",
              "        0.97894737, 0.95789474, 0.94736842, 0.98947368, 0.98947368,\n",
              "        0.97894737, 0.98947368, 0.98947368, 0.97894737, 0.98947368,\n",
              "        0.98947368, 0.97894737, 0.95789474, 0.92631579, 0.94736842,\n",
              "        0.95789474, 0.92631579, 0.94736842, 0.95789474, 0.92631579,\n",
              "        0.94736842, 0.94736842, 0.93684211, 0.94736842, 0.95789474,\n",
              "        0.93684211, 0.94736842, 0.95789474, 0.93684211, 0.94736842,\n",
              "        0.98947368, 0.96842105, 0.96842105, 0.98947368, 0.96842105,\n",
              "        0.96842105, 0.98947368, 0.96842105, 0.96842105, 0.95789474,\n",
              "        0.92631579, 0.94736842, 0.95789474, 0.92631579, 0.94736842,\n",
              "        0.95789474, 0.92631579, 0.94736842, 0.94736842, 0.94736842,\n",
              "        0.94736842, 0.95789474, 0.94736842, 0.94736842, 0.95789474,\n",
              "        0.94736842, 0.94736842, 0.98947368, 0.97894737, 0.96842105,\n",
              "        0.98947368, 0.97894737, 0.96842105, 0.98947368, 0.97894737,\n",
              "        0.96842105, 0.95789474, 0.92631579, 0.94736842, 0.95789474,\n",
              "        0.92631579, 0.94736842, 0.95789474, 0.92631579, 0.94736842,\n",
              "        0.94736842, 0.93684211, 0.94736842, 0.94736842, 0.93684211,\n",
              "        0.94736842, 0.94736842, 0.93684211, 0.94736842, 0.97894737,\n",
              "        0.96842105, 0.96842105, 0.98947368, 0.96842105, 0.96842105,\n",
              "        0.98947368, 0.96842105, 0.96842105]),\n",
              " 'std_fit_time': array([6.47481221e-02, 1.96336325e-03, 4.94185567e-04, 2.55885177e-03,\n",
              "        4.58694234e-03, 1.62290076e-03, 1.56131254e-03, 2.01857566e-03,\n",
              "        1.85722037e-04, 9.84573809e-04, 2.18542310e-03, 5.87044761e-03,\n",
              "        5.62232306e-03, 1.75893931e-03, 3.51383245e-03, 9.47366944e-04,\n",
              "        2.06580699e-03, 8.12390713e-04, 2.50122468e-03, 3.22512506e-03,\n",
              "        1.05696872e-04, 2.61583589e-03, 3.16896213e-03, 4.81962864e-03,\n",
              "        7.36599604e-03, 2.30350608e-03, 4.66353401e-03, 3.69514195e-03,\n",
              "        1.81840090e-03, 2.84043995e-03, 1.80950425e-03, 1.91962602e-03,\n",
              "        9.10989796e-04, 2.22312570e-03, 4.50721155e-03, 5.51801113e-03,\n",
              "        4.00548446e-03, 1.74170071e-03, 2.65358084e-03, 3.06586945e-03,\n",
              "        2.10462267e-03, 7.15529257e-04, 7.06743057e-04, 1.12893795e-02,\n",
              "        1.33811694e-03, 7.94507369e-04, 5.60998810e-04, 3.65420791e-03,\n",
              "        9.10709338e-04, 9.30863329e-04, 2.87242731e-04, 3.03515010e-03,\n",
              "        1.83451774e-03, 9.97599753e-04, 4.71830413e-03, 2.56939266e-03,\n",
              "        6.97552873e-03, 2.47497269e-03, 3.19361305e-03, 4.98612985e-03,\n",
              "        1.25214020e-03, 1.14206894e-03, 2.91646957e-03, 1.55076448e-03,\n",
              "        2.67445434e-03, 1.54636632e-03, 4.55498976e-03, 6.03833261e-03,\n",
              "        3.07839925e-04, 2.04267077e-03, 4.48845812e-04, 8.72107809e-04,\n",
              "        7.65962407e-04, 3.29771825e-04, 1.18209663e-03, 8.82467872e-04,\n",
              "        1.32684789e-04, 9.37476089e-04, 6.95326824e-03, 1.16659248e-03,\n",
              "        1.46202940e-03, 1.49113969e-03, 5.06709606e-03, 3.28177207e-03,\n",
              "        3.60510310e-03, 2.19502987e-03, 3.00853823e-03, 5.48871340e-03,\n",
              "        1.01970248e-03, 2.37239219e-03, 5.17559403e-03, 2.94743555e-03,\n",
              "        3.51023066e-03, 2.02236365e-03, 2.92502011e-03, 6.38810458e-03,\n",
              "        3.69259293e-03, 2.22311006e-03, 2.14975128e-04, 2.45222244e-03,\n",
              "        2.74259226e-03, 3.26167002e-03, 6.18778682e-03, 1.98049336e-03,\n",
              "        5.67279152e-03, 1.51598715e-03, 4.40011157e-03, 1.11425955e-03,\n",
              "        1.72935588e-03, 1.77459375e-03, 1.10448916e-03, 3.39587401e-03,\n",
              "        1.72218977e-03, 5.54540962e-03, 1.87994766e-03, 5.71418296e-03,\n",
              "        5.74757929e-03, 6.10951081e-04, 1.46543774e-03, 1.06674001e-03,\n",
              "        3.42981165e-03, 4.84903723e-03, 1.16198087e-03, 3.41179143e-03,\n",
              "        3.50024572e-03, 8.28178522e-04, 1.93384483e-03, 1.61581662e-03,\n",
              "        4.97182604e-04, 5.32510184e-03, 1.61344050e-03, 1.89703697e-04,\n",
              "        3.82316921e-03, 2.54328569e-03, 2.53934005e-03, 5.14783901e-04,\n",
              "        1.75680203e-03, 3.62591315e-03, 1.06453574e-02, 8.29594918e-03,\n",
              "        3.28009745e-03, 4.62499498e-03, 2.21560129e-03, 4.42811806e-04,\n",
              "        5.52222251e-03, 3.30563443e-03, 2.52633734e-03, 5.05008131e-03,\n",
              "        1.27346971e-02, 1.44693324e-02, 3.04041440e-03, 1.43727646e-02,\n",
              "        9.07039366e-03, 1.01492558e-02, 1.56761414e-02, 4.77373756e-03,\n",
              "        1.76980577e-02, 4.02601887e-03, 8.91588971e-03, 1.23050547e-02,\n",
              "        7.58384212e-04, 6.58754247e-03, 1.51155800e-02, 1.61992718e-02,\n",
              "        1.35894009e-02, 1.51231400e-02, 7.30470431e-04, 1.39902564e-02,\n",
              "        2.09996143e-02, 1.61524194e-02, 1.69916482e-02, 6.51185705e-04,\n",
              "        1.41273268e-02, 1.21285942e-02, 2.61710217e-02, 1.18302617e-02,\n",
              "        1.92046496e-02, 2.70925331e-02, 2.20565357e-02, 9.38950273e-03,\n",
              "        1.00687737e-02, 8.61552365e-03, 7.43729455e-03, 1.53798943e-02,\n",
              "        1.09761973e-02, 6.95565212e-03, 1.66519358e-02, 1.00638728e-02,\n",
              "        9.52828166e-03, 1.18659401e-02, 1.10157792e-01, 1.73739576e-03,\n",
              "        6.11590670e-02, 1.19063245e-01, 1.11871420e-03, 6.68958748e-02,\n",
              "        6.61466220e-02, 6.44320776e-02, 3.81453159e-03, 1.27354832e-02,\n",
              "        3.66171796e-03, 2.53548903e-03, 7.32029684e-03, 4.54252886e-03,\n",
              "        6.24225848e-03, 5.79852582e-03, 7.23001667e-04, 2.15397412e-03,\n",
              "        2.28882437e-03, 1.58323499e-03, 6.82343576e-03, 3.39378449e-03,\n",
              "        9.94257547e-04, 2.65912040e-03, 3.11325254e-03, 3.69103981e-03,\n",
              "        4.55121153e-03, 4.61700812e-03, 6.41620943e-03, 4.85900820e-03,\n",
              "        8.61516319e-04, 3.16971219e-03, 5.60128332e-03, 6.15332273e-03,\n",
              "        3.86856702e-03, 1.83388432e-03, 1.99921387e-03, 3.81963252e-03,\n",
              "        7.02364842e-03, 5.93920700e-03, 4.85565812e-03, 5.33332704e-03,\n",
              "        2.55448240e-03, 1.21766202e-03, 1.54819578e-03, 2.97416289e-03,\n",
              "        3.97223007e-03, 3.38127273e-03, 8.01586192e-04, 2.96788198e-03,\n",
              "        1.20673293e-03, 4.85199764e-03, 6.68939963e-03]),\n",
              " 'std_score_time': array([3.11103694e-04, 6.12614620e-05, 2.38957707e-03, 2.45021413e-05,\n",
              "        2.99288986e-04, 9.35428306e-05, 3.09383260e-05, 9.64359846e-05,\n",
              "        1.03823984e-04, 5.34969830e-05, 3.06446502e-04, 1.73779107e-04,\n",
              "        3.82334669e-05, 8.28769715e-05, 3.32033005e-05, 1.32573355e-04,\n",
              "        1.22513490e-04, 2.04932138e-05, 3.39476579e-05, 3.16545498e-05,\n",
              "        9.27998699e-05, 4.61856987e-05, 5.97716218e-05, 5.88091644e-05,\n",
              "        2.45241373e-04, 1.14997070e-03, 6.81519507e-05, 9.46727592e-05,\n",
              "        1.09248274e-04, 2.07162835e-04, 7.72891437e-06, 7.11341142e-05,\n",
              "        4.14026904e-05, 4.25058716e-05, 3.07806874e-03, 6.35306856e-05,\n",
              "        4.35213872e-05, 5.25591257e-04, 2.12156359e-03, 2.06476577e-04,\n",
              "        3.59324141e-04, 1.02533726e-04, 3.84055421e-05, 2.20847570e-03,\n",
              "        1.70841033e-03, 1.20575127e-04, 1.24836507e-03, 6.88432242e-05,\n",
              "        5.52124216e-05, 1.74836679e-05, 1.07542902e-04, 1.32141739e-04,\n",
              "        1.32445330e-04, 5.69279799e-05, 8.40769521e-05, 7.36871567e-05,\n",
              "        3.25941035e-04, 2.28851480e-05, 1.35764722e-04, 3.31074815e-05,\n",
              "        4.14827013e-05, 5.34218774e-04, 6.44033266e-05, 1.24089484e-04,\n",
              "        5.56196474e-05, 1.35206156e-04, 2.72743931e-04, 2.69280403e-03,\n",
              "        7.85823039e-05, 1.66597559e-05, 1.14695665e-04, 1.24260740e-04,\n",
              "        2.49362761e-04, 4.67640889e-05, 9.00869648e-05, 1.43090878e-05,\n",
              "        5.64768609e-05, 7.01990567e-05, 5.51073084e-05, 2.56669040e-05,\n",
              "        1.11767890e-04, 1.39551264e-05, 2.09094166e-04, 6.75181697e-05,\n",
              "        6.71395637e-05, 2.18707808e-05, 3.71348364e-05, 6.19595817e-05,\n",
              "        3.44095475e-04, 1.25857711e-03, 3.44608103e-05, 2.27039370e-05,\n",
              "        6.93633729e-05, 8.73649307e-05, 9.62790653e-05, 5.95009219e-05,\n",
              "        6.74917851e-05, 1.19772212e-03, 6.11219631e-04, 3.90562009e-05,\n",
              "        5.22821496e-05, 2.04191869e-04, 2.86808357e-04, 7.15934467e-05,\n",
              "        7.77763650e-05, 1.16228398e-04, 1.32723911e-04, 1.49083925e-04,\n",
              "        2.96805330e-05, 1.35221103e-04, 8.68067026e-05, 4.35701210e-05,\n",
              "        4.99159156e-05, 4.25335003e-05, 2.43226632e-04, 1.04718755e-04,\n",
              "        2.58288017e-05, 5.02960869e-05, 2.80688870e-05, 6.01525030e-05,\n",
              "        3.51591740e-05, 6.25797174e-05, 3.62506022e-05, 1.33915895e-05,\n",
              "        2.05180024e-04, 1.61941431e-05, 3.60862147e-04, 5.97716218e-05,\n",
              "        2.47913010e-04, 3.32479721e-05, 5.12540331e-04, 7.90652312e-05,\n",
              "        8.07490404e-05, 3.71066484e-04, 6.45788262e-05, 2.77088026e-05,\n",
              "        1.48476062e-05, 5.13946750e-05, 1.03169573e-03, 1.43766206e-04,\n",
              "        4.32759006e-04, 6.74783081e-05, 3.67242012e-05, 3.68186703e-05,\n",
              "        8.93867964e-05, 2.00203885e-04, 2.78089152e-05, 9.40138865e-04,\n",
              "        1.50705676e-03, 5.15519571e-04, 8.13009297e-05, 7.77063791e-04,\n",
              "        8.89094902e-04, 7.03809312e-04, 8.14478354e-04, 1.58919451e-04,\n",
              "        6.62568515e-04, 3.62415132e-04, 9.16036470e-04, 8.15757057e-04,\n",
              "        2.27589319e-04, 6.66303062e-04, 6.44521962e-04, 1.13789274e-03,\n",
              "        9.58588002e-04, 1.14980448e-04, 7.59925951e-05, 7.08619307e-04,\n",
              "        5.66702802e-04, 6.51558704e-04, 7.69032160e-04, 5.37037813e-05,\n",
              "        6.62618874e-04, 6.99770376e-04, 5.59713883e-04, 5.90932300e-04,\n",
              "        1.13592929e-03, 4.87899970e-04, 4.55806733e-04, 7.06652720e-05,\n",
              "        6.14436776e-04, 1.06989416e-03, 5.12757499e-04, 5.31163955e-04,\n",
              "        5.94410782e-04, 6.37310924e-04, 2.42516044e-03, 6.84856730e-03,\n",
              "        6.22587025e-04, 7.45995009e-04, 7.32808107e-03, 6.54666334e-05,\n",
              "        4.21801512e-03, 5.96278674e-03, 1.17771097e-03, 1.61742285e-04,\n",
              "        7.33049148e-03, 1.82708225e-04, 1.25801144e-04, 1.37101717e-04,\n",
              "        5.76217146e-05, 5.01115296e-05, 5.75076068e-05, 5.68038067e-05,\n",
              "        1.85793643e-04, 4.36179317e-05, 1.75381927e-04, 1.48271737e-05,\n",
              "        2.44402212e-04, 6.57023814e-05, 6.57016123e-05, 4.41108321e-04,\n",
              "        1.57870110e-04, 9.40012429e-05, 2.21452318e-04, 2.01226442e-04,\n",
              "        1.10021499e-04, 1.48568384e-04, 2.74094969e-05, 1.88590285e-05,\n",
              "        1.37587192e-04, 1.72419698e-04, 1.12590185e-04, 1.27722207e-04,\n",
              "        9.32641013e-05, 7.01994166e-05, 1.52502544e-03, 1.46052868e-05,\n",
              "        4.65958899e-04, 1.73324167e-04, 2.47282660e-04, 2.06349134e-04,\n",
              "        3.54596821e-05, 2.62194828e-04, 5.26958399e-05, 1.95536217e-04,\n",
              "        1.45296689e-04, 7.10538923e-05, 1.11074062e-04, 1.34907561e-04,\n",
              "        1.64382920e-04, 2.52816043e-03, 5.62095789e-04]),\n",
              " 'std_test_recall': array([0.00486207, 0.00506869, 0.00859859, 0.00020676, 0.00506869,\n",
              "        0.00859859, 0.00020676, 0.00506869, 0.00859859, 0.00841628,\n",
              "        0.01475893, 0.00837188, 0.00841628, 0.01475893, 0.00837188,\n",
              "        0.00841628, 0.01475893, 0.00837188, 0.00841628, 0.01293343,\n",
              "        0.00480709, 0.01297304, 0.01293343, 0.00480709, 0.01297304,\n",
              "        0.01293343, 0.00480709, 0.00486207, 0.00506869, 0.00859859,\n",
              "        0.00020676, 0.00506869, 0.00859859, 0.00020676, 0.00506869,\n",
              "        0.00859859, 0.00982256, 0.01475893, 0.00837188, 0.0047554 ,\n",
              "        0.01475893, 0.00837188, 0.0047554 , 0.01475893, 0.00837188,\n",
              "        0.00841628, 0.01293343, 0.00480709, 0.0146797 , 0.01293343,\n",
              "        0.00480709, 0.0146797 , 0.01293343, 0.00480709, 0.00486207,\n",
              "        0.00506869, 0.00859859, 0.00020676, 0.00506869, 0.00859859,\n",
              "        0.00020676, 0.00506869, 0.00859859, 0.00982256, 0.01475893,\n",
              "        0.00837188, 0.0047554 , 0.01475893, 0.00837188, 0.0047554 ,\n",
              "        0.01475893, 0.00837188, 0.00971755, 0.01701066, 0.00480709,\n",
              "        0.01293343, 0.01701066, 0.00480709, 0.01293343, 0.01701066,\n",
              "        0.00480709, 0.00020676, 0.01308224, 0.01719134, 0.00020676,\n",
              "        0.01308224, 0.01719134, 0.00020676, 0.01308224, 0.01719134,\n",
              "        0.00841628, 0.01308224, 0.00877437, 0.00841628, 0.01308224,\n",
              "        0.00877437, 0.00841628, 0.01308224, 0.00877437, 0.01297304,\n",
              "        0.01297304, 0.00982256, 0.01297304, 0.01297304, 0.00982256,\n",
              "        0.01297304, 0.01297304, 0.00982256, 0.00020676, 0.01308224,\n",
              "        0.01719134, 0.00020676, 0.01308224, 0.01719134, 0.00020676,\n",
              "        0.01308224, 0.01719134, 0.00841628, 0.00859859, 0.00877437,\n",
              "        0.00841628, 0.00859859, 0.00877437, 0.00841628, 0.00859859,\n",
              "        0.00877437, 0.01297304, 0.01297304, 0.0085961 , 0.01297304,\n",
              "        0.01297304, 0.0085961 , 0.01297304, 0.01297304, 0.0085961 ,\n",
              "        0.00020676, 0.01308224, 0.01719134, 0.00020676, 0.01308224,\n",
              "        0.01719134, 0.00020676, 0.01308224, 0.01719134, 0.01309112,\n",
              "        0.00859859, 0.00877437, 0.00982256, 0.00859859, 0.00877437,\n",
              "        0.00982256, 0.00859859, 0.00877437, 0.01297304, 0.01297304,\n",
              "        0.00488646, 0.01297304, 0.01297304, 0.00488646, 0.01297304,\n",
              "        0.01297304, 0.00488646, 0.00483811, 0.01804186, 0.01005602,\n",
              "        0.00483811, 0.01804186, 0.01005602, 0.00483811, 0.01804186,\n",
              "        0.01005602, 0.00516891, 0.01804186, 0.00877437, 0.00506869,\n",
              "        0.01804186, 0.00877437, 0.00506869, 0.01804186, 0.00877437,\n",
              "        0.00984769, 0.00486207, 0.00859719, 0.00984769, 0.00486207,\n",
              "        0.00859719, 0.00984769, 0.00486207, 0.00859719, 0.00483811,\n",
              "        0.01804186, 0.01005602, 0.00483811, 0.01804186, 0.01005602,\n",
              "        0.00483811, 0.01804186, 0.01005602, 0.00516891, 0.01732387,\n",
              "        0.00877437, 0.00506869, 0.01732387, 0.00877437, 0.00506869,\n",
              "        0.01732387, 0.00877437, 0.00984769, 0.00982256, 0.00859719,\n",
              "        0.00984769, 0.00982256, 0.00859719, 0.00984769, 0.00982256,\n",
              "        0.00859719, 0.00483811, 0.01804186, 0.01005602, 0.00483811,\n",
              "        0.01804186, 0.01005602, 0.00483811, 0.01804186, 0.01005602,\n",
              "        0.00516891, 0.01804186, 0.00877437, 0.01328561, 0.01804186,\n",
              "        0.00877437, 0.01328561, 0.01804186, 0.00877437, 0.00488646,\n",
              "        0.00486207, 0.00486207, 0.00984769, 0.00486207, 0.00486207,\n",
              "        0.00984769, 0.00486207, 0.00486207])}"
            ]
          },
          "metadata": {
            "tags": []
          },
          "execution_count": 61
        }
      ]
    },
    {
      "cell_type": "code",
      "metadata": {
        "id": "wktNPjq3Tb7Z",
        "colab": {
          "base_uri": "https://localhost:8080/"
        },
        "outputId": "be9a8d36-b8b3-41a2-f4d1-12a403e5d7e5"
      },
      "source": [
        "# summarize results\n",
        "print(\"Best: %f using %s\" % (grid_result.best_score_, grid_result.best_params_))\n",
        "means = grid_result.cv_results_['mean_test_recall']\n",
        "stds = grid_result.cv_results_['std_test_recall']\n",
        "params = grid_result.cv_results_['params']\n",
        "for mean, stdev, param in zip(means, stds, params):\n",
        "    print(\"%f (%f) with: %r\" % (mean, stdev, param))"
      ],
      "execution_count": 62,
      "outputs": [
        {
          "output_type": "stream",
          "text": [
            "Best: 0.979094 using {'colsample_bytree': 0.3, 'gamma': 0.1, 'learning_rate': 0.1, 'max_depth': 6, 'min_child_weight': 1}\n",
            "0.961550 (0.004862) with: {'colsample_bytree': 0.3, 'gamma': 0, 'learning_rate': 0.001, 'max_depth': 3, 'min_child_weight': 1}\n",
            "0.954532 (0.005069) with: {'colsample_bytree': 0.3, 'gamma': 0, 'learning_rate': 0.001, 'max_depth': 3, 'min_child_weight': 5}\n",
            "0.947551 (0.008599) with: {'colsample_bytree': 0.3, 'gamma': 0, 'learning_rate': 0.001, 'max_depth': 3, 'min_child_weight': 9}\n",
            "0.958041 (0.000207) with: {'colsample_bytree': 0.3, 'gamma': 0, 'learning_rate': 0.001, 'max_depth': 6, 'min_child_weight': 1}\n",
            "0.954532 (0.005069) with: {'colsample_bytree': 0.3, 'gamma': 0, 'learning_rate': 0.001, 'max_depth': 6, 'min_child_weight': 5}\n",
            "0.947551 (0.008599) with: {'colsample_bytree': 0.3, 'gamma': 0, 'learning_rate': 0.001, 'max_depth': 6, 'min_child_weight': 9}\n",
            "0.958041 (0.000207) with: {'colsample_bytree': 0.3, 'gamma': 0, 'learning_rate': 0.001, 'max_depth': 12, 'min_child_weight': 1}\n",
            "0.954532 (0.005069) with: {'colsample_bytree': 0.3, 'gamma': 0, 'learning_rate': 0.001, 'max_depth': 12, 'min_child_weight': 5}\n",
            "0.947551 (0.008599) with: {'colsample_bytree': 0.3, 'gamma': 0, 'learning_rate': 0.001, 'max_depth': 12, 'min_child_weight': 9}\n",
            "0.968567 (0.008416) with: {'colsample_bytree': 0.3, 'gamma': 0, 'learning_rate': 0.01, 'max_depth': 3, 'min_child_weight': 1}\n",
            "0.958077 (0.014759) with: {'colsample_bytree': 0.3, 'gamma': 0, 'learning_rate': 0.01, 'max_depth': 3, 'min_child_weight': 5}\n",
            "0.958077 (0.008372) with: {'colsample_bytree': 0.3, 'gamma': 0, 'learning_rate': 0.01, 'max_depth': 3, 'min_child_weight': 9}\n",
            "0.968567 (0.008416) with: {'colsample_bytree': 0.3, 'gamma': 0, 'learning_rate': 0.01, 'max_depth': 6, 'min_child_weight': 1}\n",
            "0.958077 (0.014759) with: {'colsample_bytree': 0.3, 'gamma': 0, 'learning_rate': 0.01, 'max_depth': 6, 'min_child_weight': 5}\n",
            "0.958077 (0.008372) with: {'colsample_bytree': 0.3, 'gamma': 0, 'learning_rate': 0.01, 'max_depth': 6, 'min_child_weight': 9}\n",
            "0.968567 (0.008416) with: {'colsample_bytree': 0.3, 'gamma': 0, 'learning_rate': 0.01, 'max_depth': 12, 'min_child_weight': 1}\n",
            "0.958077 (0.014759) with: {'colsample_bytree': 0.3, 'gamma': 0, 'learning_rate': 0.01, 'max_depth': 12, 'min_child_weight': 5}\n",
            "0.958077 (0.008372) with: {'colsample_bytree': 0.3, 'gamma': 0, 'learning_rate': 0.01, 'max_depth': 12, 'min_child_weight': 9}\n",
            "0.968567 (0.008416) with: {'colsample_bytree': 0.3, 'gamma': 0, 'learning_rate': 0.1, 'max_depth': 3, 'min_child_weight': 1}\n",
            "0.975585 (0.012933) with: {'colsample_bytree': 0.3, 'gamma': 0, 'learning_rate': 0.1, 'max_depth': 3, 'min_child_weight': 5}\n",
            "0.975548 (0.004807) with: {'colsample_bytree': 0.3, 'gamma': 0, 'learning_rate': 0.1, 'max_depth': 3, 'min_child_weight': 9}\n",
            "0.972076 (0.012973) with: {'colsample_bytree': 0.3, 'gamma': 0, 'learning_rate': 0.1, 'max_depth': 6, 'min_child_weight': 1}\n",
            "0.975585 (0.012933) with: {'colsample_bytree': 0.3, 'gamma': 0, 'learning_rate': 0.1, 'max_depth': 6, 'min_child_weight': 5}\n",
            "0.975548 (0.004807) with: {'colsample_bytree': 0.3, 'gamma': 0, 'learning_rate': 0.1, 'max_depth': 6, 'min_child_weight': 9}\n",
            "0.972076 (0.012973) with: {'colsample_bytree': 0.3, 'gamma': 0, 'learning_rate': 0.1, 'max_depth': 12, 'min_child_weight': 1}\n",
            "0.975585 (0.012933) with: {'colsample_bytree': 0.3, 'gamma': 0, 'learning_rate': 0.1, 'max_depth': 12, 'min_child_weight': 5}\n",
            "0.975548 (0.004807) with: {'colsample_bytree': 0.3, 'gamma': 0, 'learning_rate': 0.1, 'max_depth': 12, 'min_child_weight': 9}\n",
            "0.961550 (0.004862) with: {'colsample_bytree': 0.3, 'gamma': 0.1, 'learning_rate': 0.001, 'max_depth': 3, 'min_child_weight': 1}\n",
            "0.954532 (0.005069) with: {'colsample_bytree': 0.3, 'gamma': 0.1, 'learning_rate': 0.001, 'max_depth': 3, 'min_child_weight': 5}\n",
            "0.947551 (0.008599) with: {'colsample_bytree': 0.3, 'gamma': 0.1, 'learning_rate': 0.001, 'max_depth': 3, 'min_child_weight': 9}\n",
            "0.958041 (0.000207) with: {'colsample_bytree': 0.3, 'gamma': 0.1, 'learning_rate': 0.001, 'max_depth': 6, 'min_child_weight': 1}\n",
            "0.954532 (0.005069) with: {'colsample_bytree': 0.3, 'gamma': 0.1, 'learning_rate': 0.001, 'max_depth': 6, 'min_child_weight': 5}\n",
            "0.947551 (0.008599) with: {'colsample_bytree': 0.3, 'gamma': 0.1, 'learning_rate': 0.001, 'max_depth': 6, 'min_child_weight': 9}\n",
            "0.958041 (0.000207) with: {'colsample_bytree': 0.3, 'gamma': 0.1, 'learning_rate': 0.001, 'max_depth': 12, 'min_child_weight': 1}\n",
            "0.954532 (0.005069) with: {'colsample_bytree': 0.3, 'gamma': 0.1, 'learning_rate': 0.001, 'max_depth': 12, 'min_child_weight': 5}\n",
            "0.947551 (0.008599) with: {'colsample_bytree': 0.3, 'gamma': 0.1, 'learning_rate': 0.001, 'max_depth': 12, 'min_child_weight': 9}\n",
            "0.965058 (0.009823) with: {'colsample_bytree': 0.3, 'gamma': 0.1, 'learning_rate': 0.01, 'max_depth': 3, 'min_child_weight': 1}\n",
            "0.958077 (0.014759) with: {'colsample_bytree': 0.3, 'gamma': 0.1, 'learning_rate': 0.01, 'max_depth': 3, 'min_child_weight': 5}\n",
            "0.958077 (0.008372) with: {'colsample_bytree': 0.3, 'gamma': 0.1, 'learning_rate': 0.01, 'max_depth': 3, 'min_child_weight': 9}\n",
            "0.965058 (0.004755) with: {'colsample_bytree': 0.3, 'gamma': 0.1, 'learning_rate': 0.01, 'max_depth': 6, 'min_child_weight': 1}\n",
            "0.958077 (0.014759) with: {'colsample_bytree': 0.3, 'gamma': 0.1, 'learning_rate': 0.01, 'max_depth': 6, 'min_child_weight': 5}\n",
            "0.958077 (0.008372) with: {'colsample_bytree': 0.3, 'gamma': 0.1, 'learning_rate': 0.01, 'max_depth': 6, 'min_child_weight': 9}\n",
            "0.965058 (0.004755) with: {'colsample_bytree': 0.3, 'gamma': 0.1, 'learning_rate': 0.01, 'max_depth': 12, 'min_child_weight': 1}\n",
            "0.958077 (0.014759) with: {'colsample_bytree': 0.3, 'gamma': 0.1, 'learning_rate': 0.01, 'max_depth': 12, 'min_child_weight': 5}\n",
            "0.958077 (0.008372) with: {'colsample_bytree': 0.3, 'gamma': 0.1, 'learning_rate': 0.01, 'max_depth': 12, 'min_child_weight': 9}\n",
            "0.968567 (0.008416) with: {'colsample_bytree': 0.3, 'gamma': 0.1, 'learning_rate': 0.1, 'max_depth': 3, 'min_child_weight': 1}\n",
            "0.975585 (0.012933) with: {'colsample_bytree': 0.3, 'gamma': 0.1, 'learning_rate': 0.1, 'max_depth': 3, 'min_child_weight': 5}\n",
            "0.975548 (0.004807) with: {'colsample_bytree': 0.3, 'gamma': 0.1, 'learning_rate': 0.1, 'max_depth': 3, 'min_child_weight': 9}\n",
            "0.979094 (0.014680) with: {'colsample_bytree': 0.3, 'gamma': 0.1, 'learning_rate': 0.1, 'max_depth': 6, 'min_child_weight': 1}\n",
            "0.975585 (0.012933) with: {'colsample_bytree': 0.3, 'gamma': 0.1, 'learning_rate': 0.1, 'max_depth': 6, 'min_child_weight': 5}\n",
            "0.975548 (0.004807) with: {'colsample_bytree': 0.3, 'gamma': 0.1, 'learning_rate': 0.1, 'max_depth': 6, 'min_child_weight': 9}\n",
            "0.979094 (0.014680) with: {'colsample_bytree': 0.3, 'gamma': 0.1, 'learning_rate': 0.1, 'max_depth': 12, 'min_child_weight': 1}\n",
            "0.975585 (0.012933) with: {'colsample_bytree': 0.3, 'gamma': 0.1, 'learning_rate': 0.1, 'max_depth': 12, 'min_child_weight': 5}\n",
            "0.975548 (0.004807) with: {'colsample_bytree': 0.3, 'gamma': 0.1, 'learning_rate': 0.1, 'max_depth': 12, 'min_child_weight': 9}\n",
            "0.961550 (0.004862) with: {'colsample_bytree': 0.3, 'gamma': 0.3, 'learning_rate': 0.001, 'max_depth': 3, 'min_child_weight': 1}\n",
            "0.954532 (0.005069) with: {'colsample_bytree': 0.3, 'gamma': 0.3, 'learning_rate': 0.001, 'max_depth': 3, 'min_child_weight': 5}\n",
            "0.947551 (0.008599) with: {'colsample_bytree': 0.3, 'gamma': 0.3, 'learning_rate': 0.001, 'max_depth': 3, 'min_child_weight': 9}\n",
            "0.958041 (0.000207) with: {'colsample_bytree': 0.3, 'gamma': 0.3, 'learning_rate': 0.001, 'max_depth': 6, 'min_child_weight': 1}\n",
            "0.954532 (0.005069) with: {'colsample_bytree': 0.3, 'gamma': 0.3, 'learning_rate': 0.001, 'max_depth': 6, 'min_child_weight': 5}\n",
            "0.947551 (0.008599) with: {'colsample_bytree': 0.3, 'gamma': 0.3, 'learning_rate': 0.001, 'max_depth': 6, 'min_child_weight': 9}\n",
            "0.958041 (0.000207) with: {'colsample_bytree': 0.3, 'gamma': 0.3, 'learning_rate': 0.001, 'max_depth': 12, 'min_child_weight': 1}\n",
            "0.954532 (0.005069) with: {'colsample_bytree': 0.3, 'gamma': 0.3, 'learning_rate': 0.001, 'max_depth': 12, 'min_child_weight': 5}\n",
            "0.947551 (0.008599) with: {'colsample_bytree': 0.3, 'gamma': 0.3, 'learning_rate': 0.001, 'max_depth': 12, 'min_child_weight': 9}\n",
            "0.965058 (0.009823) with: {'colsample_bytree': 0.3, 'gamma': 0.3, 'learning_rate': 0.01, 'max_depth': 3, 'min_child_weight': 1}\n",
            "0.958077 (0.014759) with: {'colsample_bytree': 0.3, 'gamma': 0.3, 'learning_rate': 0.01, 'max_depth': 3, 'min_child_weight': 5}\n",
            "0.958077 (0.008372) with: {'colsample_bytree': 0.3, 'gamma': 0.3, 'learning_rate': 0.01, 'max_depth': 3, 'min_child_weight': 9}\n",
            "0.965058 (0.004755) with: {'colsample_bytree': 0.3, 'gamma': 0.3, 'learning_rate': 0.01, 'max_depth': 6, 'min_child_weight': 1}\n",
            "0.958077 (0.014759) with: {'colsample_bytree': 0.3, 'gamma': 0.3, 'learning_rate': 0.01, 'max_depth': 6, 'min_child_weight': 5}\n",
            "0.958077 (0.008372) with: {'colsample_bytree': 0.3, 'gamma': 0.3, 'learning_rate': 0.01, 'max_depth': 6, 'min_child_weight': 9}\n",
            "0.965058 (0.004755) with: {'colsample_bytree': 0.3, 'gamma': 0.3, 'learning_rate': 0.01, 'max_depth': 12, 'min_child_weight': 1}\n",
            "0.958077 (0.014759) with: {'colsample_bytree': 0.3, 'gamma': 0.3, 'learning_rate': 0.01, 'max_depth': 12, 'min_child_weight': 5}\n",
            "0.958077 (0.008372) with: {'colsample_bytree': 0.3, 'gamma': 0.3, 'learning_rate': 0.01, 'max_depth': 12, 'min_child_weight': 9}\n",
            "0.972076 (0.009718) with: {'colsample_bytree': 0.3, 'gamma': 0.3, 'learning_rate': 0.1, 'max_depth': 3, 'min_child_weight': 1}\n",
            "0.979094 (0.017011) with: {'colsample_bytree': 0.3, 'gamma': 0.3, 'learning_rate': 0.1, 'max_depth': 3, 'min_child_weight': 5}\n",
            "0.975548 (0.004807) with: {'colsample_bytree': 0.3, 'gamma': 0.3, 'learning_rate': 0.1, 'max_depth': 3, 'min_child_weight': 9}\n",
            "0.975585 (0.012933) with: {'colsample_bytree': 0.3, 'gamma': 0.3, 'learning_rate': 0.1, 'max_depth': 6, 'min_child_weight': 1}\n",
            "0.979094 (0.017011) with: {'colsample_bytree': 0.3, 'gamma': 0.3, 'learning_rate': 0.1, 'max_depth': 6, 'min_child_weight': 5}\n",
            "0.975548 (0.004807) with: {'colsample_bytree': 0.3, 'gamma': 0.3, 'learning_rate': 0.1, 'max_depth': 6, 'min_child_weight': 9}\n",
            "0.975585 (0.012933) with: {'colsample_bytree': 0.3, 'gamma': 0.3, 'learning_rate': 0.1, 'max_depth': 12, 'min_child_weight': 1}\n",
            "0.979094 (0.017011) with: {'colsample_bytree': 0.3, 'gamma': 0.3, 'learning_rate': 0.1, 'max_depth': 12, 'min_child_weight': 5}\n",
            "0.975548 (0.004807) with: {'colsample_bytree': 0.3, 'gamma': 0.3, 'learning_rate': 0.1, 'max_depth': 12, 'min_child_weight': 9}\n",
            "0.958041 (0.000207) with: {'colsample_bytree': 0.5, 'gamma': 0, 'learning_rate': 0.001, 'max_depth': 3, 'min_child_weight': 1}\n",
            "0.951060 (0.013082) with: {'colsample_bytree': 0.5, 'gamma': 0, 'learning_rate': 0.001, 'max_depth': 3, 'min_child_weight': 5}\n",
            "0.947551 (0.017191) with: {'colsample_bytree': 0.5, 'gamma': 0, 'learning_rate': 0.001, 'max_depth': 3, 'min_child_weight': 9}\n",
            "0.958041 (0.000207) with: {'colsample_bytree': 0.5, 'gamma': 0, 'learning_rate': 0.001, 'max_depth': 6, 'min_child_weight': 1}\n",
            "0.951060 (0.013082) with: {'colsample_bytree': 0.5, 'gamma': 0, 'learning_rate': 0.001, 'max_depth': 6, 'min_child_weight': 5}\n",
            "0.947551 (0.017191) with: {'colsample_bytree': 0.5, 'gamma': 0, 'learning_rate': 0.001, 'max_depth': 6, 'min_child_weight': 9}\n",
            "0.958041 (0.000207) with: {'colsample_bytree': 0.5, 'gamma': 0, 'learning_rate': 0.001, 'max_depth': 12, 'min_child_weight': 1}\n",
            "0.951060 (0.013082) with: {'colsample_bytree': 0.5, 'gamma': 0, 'learning_rate': 0.001, 'max_depth': 12, 'min_child_weight': 5}\n",
            "0.947551 (0.017191) with: {'colsample_bytree': 0.5, 'gamma': 0, 'learning_rate': 0.001, 'max_depth': 12, 'min_child_weight': 9}\n",
            "0.968567 (0.008416) with: {'colsample_bytree': 0.5, 'gamma': 0, 'learning_rate': 0.01, 'max_depth': 3, 'min_child_weight': 1}\n",
            "0.951060 (0.013082) with: {'colsample_bytree': 0.5, 'gamma': 0, 'learning_rate': 0.01, 'max_depth': 3, 'min_child_weight': 5}\n",
            "0.947515 (0.008774) with: {'colsample_bytree': 0.5, 'gamma': 0, 'learning_rate': 0.01, 'max_depth': 3, 'min_child_weight': 9}\n",
            "0.968567 (0.008416) with: {'colsample_bytree': 0.5, 'gamma': 0, 'learning_rate': 0.01, 'max_depth': 6, 'min_child_weight': 1}\n",
            "0.951060 (0.013082) with: {'colsample_bytree': 0.5, 'gamma': 0, 'learning_rate': 0.01, 'max_depth': 6, 'min_child_weight': 5}\n",
            "0.947515 (0.008774) with: {'colsample_bytree': 0.5, 'gamma': 0, 'learning_rate': 0.01, 'max_depth': 6, 'min_child_weight': 9}\n",
            "0.968567 (0.008416) with: {'colsample_bytree': 0.5, 'gamma': 0, 'learning_rate': 0.01, 'max_depth': 12, 'min_child_weight': 1}\n",
            "0.951060 (0.013082) with: {'colsample_bytree': 0.5, 'gamma': 0, 'learning_rate': 0.01, 'max_depth': 12, 'min_child_weight': 5}\n",
            "0.947515 (0.008774) with: {'colsample_bytree': 0.5, 'gamma': 0, 'learning_rate': 0.01, 'max_depth': 12, 'min_child_weight': 9}\n",
            "0.972076 (0.012973) with: {'colsample_bytree': 0.5, 'gamma': 0, 'learning_rate': 0.1, 'max_depth': 3, 'min_child_weight': 1}\n",
            "0.972076 (0.012973) with: {'colsample_bytree': 0.5, 'gamma': 0, 'learning_rate': 0.1, 'max_depth': 3, 'min_child_weight': 5}\n",
            "0.965058 (0.009823) with: {'colsample_bytree': 0.5, 'gamma': 0, 'learning_rate': 0.1, 'max_depth': 3, 'min_child_weight': 9}\n",
            "0.972076 (0.012973) with: {'colsample_bytree': 0.5, 'gamma': 0, 'learning_rate': 0.1, 'max_depth': 6, 'min_child_weight': 1}\n",
            "0.972076 (0.012973) with: {'colsample_bytree': 0.5, 'gamma': 0, 'learning_rate': 0.1, 'max_depth': 6, 'min_child_weight': 5}\n",
            "0.965058 (0.009823) with: {'colsample_bytree': 0.5, 'gamma': 0, 'learning_rate': 0.1, 'max_depth': 6, 'min_child_weight': 9}\n",
            "0.972076 (0.012973) with: {'colsample_bytree': 0.5, 'gamma': 0, 'learning_rate': 0.1, 'max_depth': 12, 'min_child_weight': 1}\n",
            "0.972076 (0.012973) with: {'colsample_bytree': 0.5, 'gamma': 0, 'learning_rate': 0.1, 'max_depth': 12, 'min_child_weight': 5}\n",
            "0.965058 (0.009823) with: {'colsample_bytree': 0.5, 'gamma': 0, 'learning_rate': 0.1, 'max_depth': 12, 'min_child_weight': 9}\n",
            "0.958041 (0.000207) with: {'colsample_bytree': 0.5, 'gamma': 0.1, 'learning_rate': 0.001, 'max_depth': 3, 'min_child_weight': 1}\n",
            "0.951060 (0.013082) with: {'colsample_bytree': 0.5, 'gamma': 0.1, 'learning_rate': 0.001, 'max_depth': 3, 'min_child_weight': 5}\n",
            "0.947551 (0.017191) with: {'colsample_bytree': 0.5, 'gamma': 0.1, 'learning_rate': 0.001, 'max_depth': 3, 'min_child_weight': 9}\n",
            "0.958041 (0.000207) with: {'colsample_bytree': 0.5, 'gamma': 0.1, 'learning_rate': 0.001, 'max_depth': 6, 'min_child_weight': 1}\n",
            "0.951060 (0.013082) with: {'colsample_bytree': 0.5, 'gamma': 0.1, 'learning_rate': 0.001, 'max_depth': 6, 'min_child_weight': 5}\n",
            "0.947551 (0.017191) with: {'colsample_bytree': 0.5, 'gamma': 0.1, 'learning_rate': 0.001, 'max_depth': 6, 'min_child_weight': 9}\n",
            "0.958041 (0.000207) with: {'colsample_bytree': 0.5, 'gamma': 0.1, 'learning_rate': 0.001, 'max_depth': 12, 'min_child_weight': 1}\n",
            "0.951060 (0.013082) with: {'colsample_bytree': 0.5, 'gamma': 0.1, 'learning_rate': 0.001, 'max_depth': 12, 'min_child_weight': 5}\n",
            "0.947551 (0.017191) with: {'colsample_bytree': 0.5, 'gamma': 0.1, 'learning_rate': 0.001, 'max_depth': 12, 'min_child_weight': 9}\n",
            "0.968567 (0.008416) with: {'colsample_bytree': 0.5, 'gamma': 0.1, 'learning_rate': 0.01, 'max_depth': 3, 'min_child_weight': 1}\n",
            "0.947551 (0.008599) with: {'colsample_bytree': 0.5, 'gamma': 0.1, 'learning_rate': 0.01, 'max_depth': 3, 'min_child_weight': 5}\n",
            "0.947515 (0.008774) with: {'colsample_bytree': 0.5, 'gamma': 0.1, 'learning_rate': 0.01, 'max_depth': 3, 'min_child_weight': 9}\n",
            "0.968567 (0.008416) with: {'colsample_bytree': 0.5, 'gamma': 0.1, 'learning_rate': 0.01, 'max_depth': 6, 'min_child_weight': 1}\n",
            "0.947551 (0.008599) with: {'colsample_bytree': 0.5, 'gamma': 0.1, 'learning_rate': 0.01, 'max_depth': 6, 'min_child_weight': 5}\n",
            "0.947515 (0.008774) with: {'colsample_bytree': 0.5, 'gamma': 0.1, 'learning_rate': 0.01, 'max_depth': 6, 'min_child_weight': 9}\n",
            "0.968567 (0.008416) with: {'colsample_bytree': 0.5, 'gamma': 0.1, 'learning_rate': 0.01, 'max_depth': 12, 'min_child_weight': 1}\n",
            "0.947551 (0.008599) with: {'colsample_bytree': 0.5, 'gamma': 0.1, 'learning_rate': 0.01, 'max_depth': 12, 'min_child_weight': 5}\n",
            "0.947515 (0.008774) with: {'colsample_bytree': 0.5, 'gamma': 0.1, 'learning_rate': 0.01, 'max_depth': 12, 'min_child_weight': 9}\n",
            "0.972076 (0.012973) with: {'colsample_bytree': 0.5, 'gamma': 0.1, 'learning_rate': 0.1, 'max_depth': 3, 'min_child_weight': 1}\n",
            "0.972076 (0.012973) with: {'colsample_bytree': 0.5, 'gamma': 0.1, 'learning_rate': 0.1, 'max_depth': 3, 'min_child_weight': 5}\n",
            "0.968531 (0.008596) with: {'colsample_bytree': 0.5, 'gamma': 0.1, 'learning_rate': 0.1, 'max_depth': 3, 'min_child_weight': 9}\n",
            "0.972076 (0.012973) with: {'colsample_bytree': 0.5, 'gamma': 0.1, 'learning_rate': 0.1, 'max_depth': 6, 'min_child_weight': 1}\n",
            "0.972076 (0.012973) with: {'colsample_bytree': 0.5, 'gamma': 0.1, 'learning_rate': 0.1, 'max_depth': 6, 'min_child_weight': 5}\n",
            "0.968531 (0.008596) with: {'colsample_bytree': 0.5, 'gamma': 0.1, 'learning_rate': 0.1, 'max_depth': 6, 'min_child_weight': 9}\n",
            "0.972076 (0.012973) with: {'colsample_bytree': 0.5, 'gamma': 0.1, 'learning_rate': 0.1, 'max_depth': 12, 'min_child_weight': 1}\n",
            "0.972076 (0.012973) with: {'colsample_bytree': 0.5, 'gamma': 0.1, 'learning_rate': 0.1, 'max_depth': 12, 'min_child_weight': 5}\n",
            "0.968531 (0.008596) with: {'colsample_bytree': 0.5, 'gamma': 0.1, 'learning_rate': 0.1, 'max_depth': 12, 'min_child_weight': 9}\n",
            "0.958041 (0.000207) with: {'colsample_bytree': 0.5, 'gamma': 0.3, 'learning_rate': 0.001, 'max_depth': 3, 'min_child_weight': 1}\n",
            "0.951060 (0.013082) with: {'colsample_bytree': 0.5, 'gamma': 0.3, 'learning_rate': 0.001, 'max_depth': 3, 'min_child_weight': 5}\n",
            "0.947551 (0.017191) with: {'colsample_bytree': 0.5, 'gamma': 0.3, 'learning_rate': 0.001, 'max_depth': 3, 'min_child_weight': 9}\n",
            "0.958041 (0.000207) with: {'colsample_bytree': 0.5, 'gamma': 0.3, 'learning_rate': 0.001, 'max_depth': 6, 'min_child_weight': 1}\n",
            "0.951060 (0.013082) with: {'colsample_bytree': 0.5, 'gamma': 0.3, 'learning_rate': 0.001, 'max_depth': 6, 'min_child_weight': 5}\n",
            "0.947551 (0.017191) with: {'colsample_bytree': 0.5, 'gamma': 0.3, 'learning_rate': 0.001, 'max_depth': 6, 'min_child_weight': 9}\n",
            "0.958041 (0.000207) with: {'colsample_bytree': 0.5, 'gamma': 0.3, 'learning_rate': 0.001, 'max_depth': 12, 'min_child_weight': 1}\n",
            "0.951060 (0.013082) with: {'colsample_bytree': 0.5, 'gamma': 0.3, 'learning_rate': 0.001, 'max_depth': 12, 'min_child_weight': 5}\n",
            "0.947551 (0.017191) with: {'colsample_bytree': 0.5, 'gamma': 0.3, 'learning_rate': 0.001, 'max_depth': 12, 'min_child_weight': 9}\n",
            "0.961550 (0.013091) with: {'colsample_bytree': 0.5, 'gamma': 0.3, 'learning_rate': 0.01, 'max_depth': 3, 'min_child_weight': 1}\n",
            "0.947551 (0.008599) with: {'colsample_bytree': 0.5, 'gamma': 0.3, 'learning_rate': 0.01, 'max_depth': 3, 'min_child_weight': 5}\n",
            "0.947515 (0.008774) with: {'colsample_bytree': 0.5, 'gamma': 0.3, 'learning_rate': 0.01, 'max_depth': 3, 'min_child_weight': 9}\n",
            "0.965058 (0.009823) with: {'colsample_bytree': 0.5, 'gamma': 0.3, 'learning_rate': 0.01, 'max_depth': 6, 'min_child_weight': 1}\n",
            "0.947551 (0.008599) with: {'colsample_bytree': 0.5, 'gamma': 0.3, 'learning_rate': 0.01, 'max_depth': 6, 'min_child_weight': 5}\n",
            "0.947515 (0.008774) with: {'colsample_bytree': 0.5, 'gamma': 0.3, 'learning_rate': 0.01, 'max_depth': 6, 'min_child_weight': 9}\n",
            "0.965058 (0.009823) with: {'colsample_bytree': 0.5, 'gamma': 0.3, 'learning_rate': 0.01, 'max_depth': 12, 'min_child_weight': 1}\n",
            "0.947551 (0.008599) with: {'colsample_bytree': 0.5, 'gamma': 0.3, 'learning_rate': 0.01, 'max_depth': 12, 'min_child_weight': 5}\n",
            "0.947515 (0.008774) with: {'colsample_bytree': 0.5, 'gamma': 0.3, 'learning_rate': 0.01, 'max_depth': 12, 'min_child_weight': 9}\n",
            "0.972076 (0.012973) with: {'colsample_bytree': 0.5, 'gamma': 0.3, 'learning_rate': 0.1, 'max_depth': 3, 'min_child_weight': 1}\n",
            "0.972076 (0.012973) with: {'colsample_bytree': 0.5, 'gamma': 0.3, 'learning_rate': 0.1, 'max_depth': 3, 'min_child_weight': 5}\n",
            "0.972039 (0.004886) with: {'colsample_bytree': 0.5, 'gamma': 0.3, 'learning_rate': 0.1, 'max_depth': 3, 'min_child_weight': 9}\n",
            "0.972076 (0.012973) with: {'colsample_bytree': 0.5, 'gamma': 0.3, 'learning_rate': 0.1, 'max_depth': 6, 'min_child_weight': 1}\n",
            "0.972076 (0.012973) with: {'colsample_bytree': 0.5, 'gamma': 0.3, 'learning_rate': 0.1, 'max_depth': 6, 'min_child_weight': 5}\n",
            "0.972039 (0.004886) with: {'colsample_bytree': 0.5, 'gamma': 0.3, 'learning_rate': 0.1, 'max_depth': 6, 'min_child_weight': 9}\n",
            "0.972076 (0.012973) with: {'colsample_bytree': 0.5, 'gamma': 0.3, 'learning_rate': 0.1, 'max_depth': 12, 'min_child_weight': 1}\n",
            "0.972076 (0.012973) with: {'colsample_bytree': 0.5, 'gamma': 0.3, 'learning_rate': 0.1, 'max_depth': 12, 'min_child_weight': 5}\n",
            "0.972039 (0.004886) with: {'colsample_bytree': 0.5, 'gamma': 0.3, 'learning_rate': 0.1, 'max_depth': 12, 'min_child_weight': 9}\n",
            "0.951060 (0.004838) with: {'colsample_bytree': 0.8, 'gamma': 0, 'learning_rate': 0.001, 'max_depth': 3, 'min_child_weight': 1}\n",
            "0.943969 (0.018042) with: {'colsample_bytree': 0.8, 'gamma': 0, 'learning_rate': 0.001, 'max_depth': 3, 'min_child_weight': 5}\n",
            "0.940534 (0.010056) with: {'colsample_bytree': 0.8, 'gamma': 0, 'learning_rate': 0.001, 'max_depth': 3, 'min_child_weight': 9}\n",
            "0.951060 (0.004838) with: {'colsample_bytree': 0.8, 'gamma': 0, 'learning_rate': 0.001, 'max_depth': 6, 'min_child_weight': 1}\n",
            "0.943969 (0.018042) with: {'colsample_bytree': 0.8, 'gamma': 0, 'learning_rate': 0.001, 'max_depth': 6, 'min_child_weight': 5}\n",
            "0.940534 (0.010056) with: {'colsample_bytree': 0.8, 'gamma': 0, 'learning_rate': 0.001, 'max_depth': 6, 'min_child_weight': 9}\n",
            "0.951060 (0.004838) with: {'colsample_bytree': 0.8, 'gamma': 0, 'learning_rate': 0.001, 'max_depth': 12, 'min_child_weight': 1}\n",
            "0.943969 (0.018042) with: {'colsample_bytree': 0.8, 'gamma': 0, 'learning_rate': 0.001, 'max_depth': 12, 'min_child_weight': 5}\n",
            "0.940534 (0.010056) with: {'colsample_bytree': 0.8, 'gamma': 0, 'learning_rate': 0.001, 'max_depth': 12, 'min_child_weight': 9}\n",
            "0.951023 (0.005169) with: {'colsample_bytree': 0.8, 'gamma': 0, 'learning_rate': 0.01, 'max_depth': 3, 'min_child_weight': 1}\n",
            "0.943969 (0.018042) with: {'colsample_bytree': 0.8, 'gamma': 0, 'learning_rate': 0.01, 'max_depth': 3, 'min_child_weight': 5}\n",
            "0.947515 (0.008774) with: {'colsample_bytree': 0.8, 'gamma': 0, 'learning_rate': 0.01, 'max_depth': 3, 'min_child_weight': 9}\n",
            "0.954532 (0.005069) with: {'colsample_bytree': 0.8, 'gamma': 0, 'learning_rate': 0.01, 'max_depth': 6, 'min_child_weight': 1}\n",
            "0.943969 (0.018042) with: {'colsample_bytree': 0.8, 'gamma': 0, 'learning_rate': 0.01, 'max_depth': 6, 'min_child_weight': 5}\n",
            "0.947515 (0.008774) with: {'colsample_bytree': 0.8, 'gamma': 0, 'learning_rate': 0.01, 'max_depth': 6, 'min_child_weight': 9}\n",
            "0.954532 (0.005069) with: {'colsample_bytree': 0.8, 'gamma': 0, 'learning_rate': 0.01, 'max_depth': 12, 'min_child_weight': 1}\n",
            "0.943969 (0.018042) with: {'colsample_bytree': 0.8, 'gamma': 0, 'learning_rate': 0.01, 'max_depth': 12, 'min_child_weight': 5}\n",
            "0.947515 (0.008774) with: {'colsample_bytree': 0.8, 'gamma': 0, 'learning_rate': 0.01, 'max_depth': 12, 'min_child_weight': 9}\n",
            "0.975548 (0.009848) with: {'colsample_bytree': 0.8, 'gamma': 0, 'learning_rate': 0.1, 'max_depth': 3, 'min_child_weight': 1}\n",
            "0.961550 (0.004862) with: {'colsample_bytree': 0.8, 'gamma': 0, 'learning_rate': 0.1, 'max_depth': 3, 'min_child_weight': 5}\n",
            "0.958041 (0.008597) with: {'colsample_bytree': 0.8, 'gamma': 0, 'learning_rate': 0.1, 'max_depth': 3, 'min_child_weight': 9}\n",
            "0.975548 (0.009848) with: {'colsample_bytree': 0.8, 'gamma': 0, 'learning_rate': 0.1, 'max_depth': 6, 'min_child_weight': 1}\n",
            "0.961550 (0.004862) with: {'colsample_bytree': 0.8, 'gamma': 0, 'learning_rate': 0.1, 'max_depth': 6, 'min_child_weight': 5}\n",
            "0.958041 (0.008597) with: {'colsample_bytree': 0.8, 'gamma': 0, 'learning_rate': 0.1, 'max_depth': 6, 'min_child_weight': 9}\n",
            "0.975548 (0.009848) with: {'colsample_bytree': 0.8, 'gamma': 0, 'learning_rate': 0.1, 'max_depth': 12, 'min_child_weight': 1}\n",
            "0.961550 (0.004862) with: {'colsample_bytree': 0.8, 'gamma': 0, 'learning_rate': 0.1, 'max_depth': 12, 'min_child_weight': 5}\n",
            "0.958041 (0.008597) with: {'colsample_bytree': 0.8, 'gamma': 0, 'learning_rate': 0.1, 'max_depth': 12, 'min_child_weight': 9}\n",
            "0.951060 (0.004838) with: {'colsample_bytree': 0.8, 'gamma': 0.1, 'learning_rate': 0.001, 'max_depth': 3, 'min_child_weight': 1}\n",
            "0.943969 (0.018042) with: {'colsample_bytree': 0.8, 'gamma': 0.1, 'learning_rate': 0.001, 'max_depth': 3, 'min_child_weight': 5}\n",
            "0.940534 (0.010056) with: {'colsample_bytree': 0.8, 'gamma': 0.1, 'learning_rate': 0.001, 'max_depth': 3, 'min_child_weight': 9}\n",
            "0.951060 (0.004838) with: {'colsample_bytree': 0.8, 'gamma': 0.1, 'learning_rate': 0.001, 'max_depth': 6, 'min_child_weight': 1}\n",
            "0.943969 (0.018042) with: {'colsample_bytree': 0.8, 'gamma': 0.1, 'learning_rate': 0.001, 'max_depth': 6, 'min_child_weight': 5}\n",
            "0.940534 (0.010056) with: {'colsample_bytree': 0.8, 'gamma': 0.1, 'learning_rate': 0.001, 'max_depth': 6, 'min_child_weight': 9}\n",
            "0.951060 (0.004838) with: {'colsample_bytree': 0.8, 'gamma': 0.1, 'learning_rate': 0.001, 'max_depth': 12, 'min_child_weight': 1}\n",
            "0.943969 (0.018042) with: {'colsample_bytree': 0.8, 'gamma': 0.1, 'learning_rate': 0.001, 'max_depth': 12, 'min_child_weight': 5}\n",
            "0.940534 (0.010056) with: {'colsample_bytree': 0.8, 'gamma': 0.1, 'learning_rate': 0.001, 'max_depth': 12, 'min_child_weight': 9}\n",
            "0.951023 (0.005169) with: {'colsample_bytree': 0.8, 'gamma': 0.1, 'learning_rate': 0.01, 'max_depth': 3, 'min_child_weight': 1}\n",
            "0.947478 (0.017324) with: {'colsample_bytree': 0.8, 'gamma': 0.1, 'learning_rate': 0.01, 'max_depth': 3, 'min_child_weight': 5}\n",
            "0.947515 (0.008774) with: {'colsample_bytree': 0.8, 'gamma': 0.1, 'learning_rate': 0.01, 'max_depth': 3, 'min_child_weight': 9}\n",
            "0.954532 (0.005069) with: {'colsample_bytree': 0.8, 'gamma': 0.1, 'learning_rate': 0.01, 'max_depth': 6, 'min_child_weight': 1}\n",
            "0.947478 (0.017324) with: {'colsample_bytree': 0.8, 'gamma': 0.1, 'learning_rate': 0.01, 'max_depth': 6, 'min_child_weight': 5}\n",
            "0.947515 (0.008774) with: {'colsample_bytree': 0.8, 'gamma': 0.1, 'learning_rate': 0.01, 'max_depth': 6, 'min_child_weight': 9}\n",
            "0.954532 (0.005069) with: {'colsample_bytree': 0.8, 'gamma': 0.1, 'learning_rate': 0.01, 'max_depth': 12, 'min_child_weight': 1}\n",
            "0.947478 (0.017324) with: {'colsample_bytree': 0.8, 'gamma': 0.1, 'learning_rate': 0.01, 'max_depth': 12, 'min_child_weight': 5}\n",
            "0.947515 (0.008774) with: {'colsample_bytree': 0.8, 'gamma': 0.1, 'learning_rate': 0.01, 'max_depth': 12, 'min_child_weight': 9}\n",
            "0.975548 (0.009848) with: {'colsample_bytree': 0.8, 'gamma': 0.1, 'learning_rate': 0.1, 'max_depth': 3, 'min_child_weight': 1}\n",
            "0.965058 (0.009823) with: {'colsample_bytree': 0.8, 'gamma': 0.1, 'learning_rate': 0.1, 'max_depth': 3, 'min_child_weight': 5}\n",
            "0.958041 (0.008597) with: {'colsample_bytree': 0.8, 'gamma': 0.1, 'learning_rate': 0.1, 'max_depth': 3, 'min_child_weight': 9}\n",
            "0.975548 (0.009848) with: {'colsample_bytree': 0.8, 'gamma': 0.1, 'learning_rate': 0.1, 'max_depth': 6, 'min_child_weight': 1}\n",
            "0.965058 (0.009823) with: {'colsample_bytree': 0.8, 'gamma': 0.1, 'learning_rate': 0.1, 'max_depth': 6, 'min_child_weight': 5}\n",
            "0.958041 (0.008597) with: {'colsample_bytree': 0.8, 'gamma': 0.1, 'learning_rate': 0.1, 'max_depth': 6, 'min_child_weight': 9}\n",
            "0.975548 (0.009848) with: {'colsample_bytree': 0.8, 'gamma': 0.1, 'learning_rate': 0.1, 'max_depth': 12, 'min_child_weight': 1}\n",
            "0.965058 (0.009823) with: {'colsample_bytree': 0.8, 'gamma': 0.1, 'learning_rate': 0.1, 'max_depth': 12, 'min_child_weight': 5}\n",
            "0.958041 (0.008597) with: {'colsample_bytree': 0.8, 'gamma': 0.1, 'learning_rate': 0.1, 'max_depth': 12, 'min_child_weight': 9}\n",
            "0.951060 (0.004838) with: {'colsample_bytree': 0.8, 'gamma': 0.3, 'learning_rate': 0.001, 'max_depth': 3, 'min_child_weight': 1}\n",
            "0.943969 (0.018042) with: {'colsample_bytree': 0.8, 'gamma': 0.3, 'learning_rate': 0.001, 'max_depth': 3, 'min_child_weight': 5}\n",
            "0.940534 (0.010056) with: {'colsample_bytree': 0.8, 'gamma': 0.3, 'learning_rate': 0.001, 'max_depth': 3, 'min_child_weight': 9}\n",
            "0.951060 (0.004838) with: {'colsample_bytree': 0.8, 'gamma': 0.3, 'learning_rate': 0.001, 'max_depth': 6, 'min_child_weight': 1}\n",
            "0.943969 (0.018042) with: {'colsample_bytree': 0.8, 'gamma': 0.3, 'learning_rate': 0.001, 'max_depth': 6, 'min_child_weight': 5}\n",
            "0.940534 (0.010056) with: {'colsample_bytree': 0.8, 'gamma': 0.3, 'learning_rate': 0.001, 'max_depth': 6, 'min_child_weight': 9}\n",
            "0.951060 (0.004838) with: {'colsample_bytree': 0.8, 'gamma': 0.3, 'learning_rate': 0.001, 'max_depth': 12, 'min_child_weight': 1}\n",
            "0.943969 (0.018042) with: {'colsample_bytree': 0.8, 'gamma': 0.3, 'learning_rate': 0.001, 'max_depth': 12, 'min_child_weight': 5}\n",
            "0.940534 (0.010056) with: {'colsample_bytree': 0.8, 'gamma': 0.3, 'learning_rate': 0.001, 'max_depth': 12, 'min_child_weight': 9}\n",
            "0.951023 (0.005169) with: {'colsample_bytree': 0.8, 'gamma': 0.3, 'learning_rate': 0.01, 'max_depth': 3, 'min_child_weight': 1}\n",
            "0.943969 (0.018042) with: {'colsample_bytree': 0.8, 'gamma': 0.3, 'learning_rate': 0.01, 'max_depth': 3, 'min_child_weight': 5}\n",
            "0.947515 (0.008774) with: {'colsample_bytree': 0.8, 'gamma': 0.3, 'learning_rate': 0.01, 'max_depth': 3, 'min_child_weight': 9}\n",
            "0.944006 (0.013286) with: {'colsample_bytree': 0.8, 'gamma': 0.3, 'learning_rate': 0.01, 'max_depth': 6, 'min_child_weight': 1}\n",
            "0.943969 (0.018042) with: {'colsample_bytree': 0.8, 'gamma': 0.3, 'learning_rate': 0.01, 'max_depth': 6, 'min_child_weight': 5}\n",
            "0.947515 (0.008774) with: {'colsample_bytree': 0.8, 'gamma': 0.3, 'learning_rate': 0.01, 'max_depth': 6, 'min_child_weight': 9}\n",
            "0.944006 (0.013286) with: {'colsample_bytree': 0.8, 'gamma': 0.3, 'learning_rate': 0.01, 'max_depth': 12, 'min_child_weight': 1}\n",
            "0.943969 (0.018042) with: {'colsample_bytree': 0.8, 'gamma': 0.3, 'learning_rate': 0.01, 'max_depth': 12, 'min_child_weight': 5}\n",
            "0.947515 (0.008774) with: {'colsample_bytree': 0.8, 'gamma': 0.3, 'learning_rate': 0.01, 'max_depth': 12, 'min_child_weight': 9}\n",
            "0.972039 (0.004886) with: {'colsample_bytree': 0.8, 'gamma': 0.3, 'learning_rate': 0.1, 'max_depth': 3, 'min_child_weight': 1}\n",
            "0.961550 (0.004862) with: {'colsample_bytree': 0.8, 'gamma': 0.3, 'learning_rate': 0.1, 'max_depth': 3, 'min_child_weight': 5}\n",
            "0.961550 (0.004862) with: {'colsample_bytree': 0.8, 'gamma': 0.3, 'learning_rate': 0.1, 'max_depth': 3, 'min_child_weight': 9}\n",
            "0.975548 (0.009848) with: {'colsample_bytree': 0.8, 'gamma': 0.3, 'learning_rate': 0.1, 'max_depth': 6, 'min_child_weight': 1}\n",
            "0.961550 (0.004862) with: {'colsample_bytree': 0.8, 'gamma': 0.3, 'learning_rate': 0.1, 'max_depth': 6, 'min_child_weight': 5}\n",
            "0.961550 (0.004862) with: {'colsample_bytree': 0.8, 'gamma': 0.3, 'learning_rate': 0.1, 'max_depth': 6, 'min_child_weight': 9}\n",
            "0.975548 (0.009848) with: {'colsample_bytree': 0.8, 'gamma': 0.3, 'learning_rate': 0.1, 'max_depth': 12, 'min_child_weight': 1}\n",
            "0.961550 (0.004862) with: {'colsample_bytree': 0.8, 'gamma': 0.3, 'learning_rate': 0.1, 'max_depth': 12, 'min_child_weight': 5}\n",
            "0.961550 (0.004862) with: {'colsample_bytree': 0.8, 'gamma': 0.3, 'learning_rate': 0.1, 'max_depth': 12, 'min_child_weight': 9}\n"
          ],
          "name": "stdout"
        }
      ]
    },
    {
      "cell_type": "markdown",
      "metadata": {
        "id": "HcY_7AY-WF3x"
      },
      "source": [
        "## Grid Search Final Model"
      ]
    },
    {
      "cell_type": "code",
      "metadata": {
        "id": "mV7-obnrTb3h"
      },
      "source": [
        "xgboost_gs = XGBClassifier(colsample_bytree=0.3, gamma=0, learning_rate=0.1, max_depth=3, min_child_weight=1).fit(X_train,y_train)"
      ],
      "execution_count": 63,
      "outputs": []
    },
    {
      "cell_type": "markdown",
      "metadata": {
        "id": "jOOVlxp3XeuA"
      },
      "source": [
        "## Grid Search Prediction"
      ]
    },
    {
      "cell_type": "code",
      "metadata": {
        "id": "4NRFndxRTbzu"
      },
      "source": [
        "y_test_prob = xgboost_gs.predict_proba(X_test)[:,1]\n",
        "y_test_predict = xgboost_gs.predict(X_test)"
      ],
      "execution_count": 66,
      "outputs": []
    },
    {
      "cell_type": "code",
      "metadata": {
        "id": "WzTob5siTbv0",
        "colab": {
          "base_uri": "https://localhost:8080/",
          "height": 257
        },
        "outputId": "2460ab9a-9194-446b-df90-f57ad4733a28"
      },
      "source": [
        "testPred = X_test.copy()\n",
        "testPred['y_test'], testPred['y_test_prob'], testPred['y_test_predict']=[y_test,y_test_prob,y_test_predict]\n",
        "testPred.head()"
      ],
      "execution_count": 67,
      "outputs": [
        {
          "output_type": "execute_result",
          "data": {
            "text/html": [
              "<div>\n",
              "<style scoped>\n",
              "    .dataframe tbody tr th:only-of-type {\n",
              "        vertical-align: middle;\n",
              "    }\n",
              "\n",
              "    .dataframe tbody tr th {\n",
              "        vertical-align: top;\n",
              "    }\n",
              "\n",
              "    .dataframe thead th {\n",
              "        text-align: right;\n",
              "    }\n",
              "</style>\n",
              "<table border=\"1\" class=\"dataframe\">\n",
              "  <thead>\n",
              "    <tr style=\"text-align: right;\">\n",
              "      <th></th>\n",
              "      <th>area error</th>\n",
              "      <th>compactness error</th>\n",
              "      <th>concave points error</th>\n",
              "      <th>concavity error</th>\n",
              "      <th>fractal dimension error</th>\n",
              "      <th>mean area</th>\n",
              "      <th>mean compactness</th>\n",
              "      <th>mean concave points</th>\n",
              "      <th>mean concavity</th>\n",
              "      <th>mean fractal dimension</th>\n",
              "      <th>mean perimeter</th>\n",
              "      <th>mean radius</th>\n",
              "      <th>mean smoothness</th>\n",
              "      <th>mean symmetry</th>\n",
              "      <th>mean texture</th>\n",
              "      <th>perimeter error</th>\n",
              "      <th>radius error</th>\n",
              "      <th>smoothness error</th>\n",
              "      <th>symmetry error</th>\n",
              "      <th>texture error</th>\n",
              "      <th>worst area</th>\n",
              "      <th>worst compactness</th>\n",
              "      <th>worst concave points</th>\n",
              "      <th>worst concavity</th>\n",
              "      <th>worst fractal dimension</th>\n",
              "      <th>worst perimeter</th>\n",
              "      <th>worst radius</th>\n",
              "      <th>worst smoothness</th>\n",
              "      <th>worst symmetry</th>\n",
              "      <th>worst texture</th>\n",
              "      <th>y_test</th>\n",
              "      <th>y_test_prob</th>\n",
              "      <th>y_test_predict</th>\n",
              "    </tr>\n",
              "  </thead>\n",
              "  <tbody>\n",
              "    <tr>\n",
              "      <th>204</th>\n",
              "      <td>-0.221053</td>\n",
              "      <td>-0.355912</td>\n",
              "      <td>-0.231333</td>\n",
              "      <td>-0.161929</td>\n",
              "      <td>-0.079018</td>\n",
              "      <td>-0.491999</td>\n",
              "      <td>0.027651</td>\n",
              "      <td>-0.276232</td>\n",
              "      <td>-0.109847</td>\n",
              "      <td>0.132176</td>\n",
              "      <td>-0.448110</td>\n",
              "      <td>-0.470694</td>\n",
              "      <td>0.234114</td>\n",
              "      <td>0.413949</td>\n",
              "      <td>-0.160486</td>\n",
              "      <td>-0.182696</td>\n",
              "      <td>-0.032743</td>\n",
              "      <td>-0.029327</td>\n",
              "      <td>-0.329612</td>\n",
              "      <td>-0.313616</td>\n",
              "      <td>-0.356299</td>\n",
              "      <td>-0.104741</td>\n",
              "      <td>-0.199563</td>\n",
              "      <td>-0.024412</td>\n",
              "      <td>0.196958</td>\n",
              "      <td>-0.333935</td>\n",
              "      <td>-0.269040</td>\n",
              "      <td>0.448503</td>\n",
              "      <td>0.183204</td>\n",
              "      <td>-0.168905</td>\n",
              "      <td>1</td>\n",
              "      <td>0.989319</td>\n",
              "      <td>1</td>\n",
              "    </tr>\n",
              "    <tr>\n",
              "      <th>70</th>\n",
              "      <td>1.225780</td>\n",
              "      <td>-0.500666</td>\n",
              "      <td>0.308825</td>\n",
              "      <td>-0.305168</td>\n",
              "      <td>-0.793157</td>\n",
              "      <td>1.351264</td>\n",
              "      <td>-0.027309</td>\n",
              "      <td>0.789060</td>\n",
              "      <td>0.241064</td>\n",
              "      <td>-1.160679</td>\n",
              "      <td>1.302886</td>\n",
              "      <td>1.366877</td>\n",
              "      <td>-0.446227</td>\n",
              "      <td>-0.838325</td>\n",
              "      <td>0.470149</td>\n",
              "      <td>1.296951</td>\n",
              "      <td>1.384594</td>\n",
              "      <td>-0.865695</td>\n",
              "      <td>-0.809083</td>\n",
              "      <td>-0.760851</td>\n",
              "      <td>1.732277</td>\n",
              "      <td>-0.131459</td>\n",
              "      <td>0.978975</td>\n",
              "      <td>-0.016736</td>\n",
              "      <td>-1.000578</td>\n",
              "      <td>1.746605</td>\n",
              "      <td>1.779007</td>\n",
              "      <td>-0.572873</td>\n",
              "      <td>-0.565828</td>\n",
              "      <td>0.147012</td>\n",
              "      <td>0</td>\n",
              "      <td>0.001732</td>\n",
              "      <td>0</td>\n",
              "    </tr>\n",
              "    <tr>\n",
              "      <th>131</th>\n",
              "      <td>0.175418</td>\n",
              "      <td>-0.594561</td>\n",
              "      <td>-0.140496</td>\n",
              "      <td>-0.124794</td>\n",
              "      <td>-0.504551</td>\n",
              "      <td>0.267377</td>\n",
              "      <td>0.340350</td>\n",
              "      <td>0.824140</td>\n",
              "      <td>0.725686</td>\n",
              "      <td>-0.685782</td>\n",
              "      <td>0.400820</td>\n",
              "      <td>0.378508</td>\n",
              "      <td>0.913744</td>\n",
              "      <td>0.435855</td>\n",
              "      <td>0.044296</td>\n",
              "      <td>0.112838</td>\n",
              "      <td>0.249497</td>\n",
              "      <td>-0.267004</td>\n",
              "      <td>-0.795764</td>\n",
              "      <td>-0.781898</td>\n",
              "      <td>0.484159</td>\n",
              "      <td>-0.094562</td>\n",
              "      <td>0.560244</td>\n",
              "      <td>0.512911</td>\n",
              "      <td>-0.208132</td>\n",
              "      <td>0.525386</td>\n",
              "      <td>0.619345</td>\n",
              "      <td>0.974533</td>\n",
              "      <td>-0.103143</td>\n",
              "      <td>0.052562</td>\n",
              "      <td>0</td>\n",
              "      <td>0.003250</td>\n",
              "      <td>0</td>\n",
              "    </tr>\n",
              "    <tr>\n",
              "      <th>431</th>\n",
              "      <td>-0.547998</td>\n",
              "      <td>0.417599</td>\n",
              "      <td>-0.020461</td>\n",
              "      <td>0.554262</td>\n",
              "      <td>0.835972</td>\n",
              "      <td>-0.532101</td>\n",
              "      <td>0.516599</td>\n",
              "      <td>-0.539846</td>\n",
              "      <td>-0.142993</td>\n",
              "      <td>1.165609</td>\n",
              "      <td>-0.432457</td>\n",
              "      <td>-0.490575</td>\n",
              "      <td>0.643316</td>\n",
              "      <td>-0.002259</td>\n",
              "      <td>-0.374576</td>\n",
              "      <td>-0.327740</td>\n",
              "      <td>-0.824604</td>\n",
              "      <td>0.986380</td>\n",
              "      <td>0.160756</td>\n",
              "      <td>0.441152</td>\n",
              "      <td>-0.641257</td>\n",
              "      <td>0.054930</td>\n",
              "      <td>-0.622863</td>\n",
              "      <td>-0.152986</td>\n",
              "      <td>0.534440</td>\n",
              "      <td>-0.525756</td>\n",
              "      <td>-0.701842</td>\n",
              "      <td>0.553709</td>\n",
              "      <td>-0.557739</td>\n",
              "      <td>-0.450625</td>\n",
              "      <td>1</td>\n",
              "      <td>0.998543</td>\n",
              "      <td>1</td>\n",
              "    </tr>\n",
              "    <tr>\n",
              "      <th>540</th>\n",
              "      <td>-0.428529</td>\n",
              "      <td>0.874216</td>\n",
              "      <td>0.509965</td>\n",
              "      <td>0.783709</td>\n",
              "      <td>0.649494</td>\n",
              "      <td>-0.716683</td>\n",
              "      <td>0.145150</td>\n",
              "      <td>-0.592724</td>\n",
              "      <td>-0.269044</td>\n",
              "      <td>0.711976</td>\n",
              "      <td>-0.713374</td>\n",
              "      <td>-0.734828</td>\n",
              "      <td>0.247636</td>\n",
              "      <td>0.023298</td>\n",
              "      <td>-1.128546</td>\n",
              "      <td>-0.612877</td>\n",
              "      <td>-0.457547</td>\n",
              "      <td>1.703076</td>\n",
              "      <td>-0.259386</td>\n",
              "      <td>0.999969</td>\n",
              "      <td>-0.743216</td>\n",
              "      <td>-0.270137</td>\n",
              "      <td>-0.691687</td>\n",
              "      <td>-0.443716</td>\n",
              "      <td>-0.144403</td>\n",
              "      <td>-0.848337</td>\n",
              "      <td>-0.830233</td>\n",
              "      <td>0.093432</td>\n",
              "      <td>-0.924975</td>\n",
              "      <td>-0.976611</td>\n",
              "      <td>1</td>\n",
              "      <td>0.999208</td>\n",
              "      <td>1</td>\n",
              "    </tr>\n",
              "  </tbody>\n",
              "</table>\n",
              "</div>"
            ],
            "text/plain": [
              "     area error  compactness error  ...  y_test_prob  y_test_predict\n",
              "204   -0.221053          -0.355912  ...     0.989319               1\n",
              "70     1.225780          -0.500666  ...     0.001732               0\n",
              "131    0.175418          -0.594561  ...     0.003250               0\n",
              "431   -0.547998           0.417599  ...     0.998543               1\n",
              "540   -0.428529           0.874216  ...     0.999208               1\n",
              "\n",
              "[5 rows x 33 columns]"
            ]
          },
          "metadata": {
            "tags": []
          },
          "execution_count": 67
        }
      ]
    },
    {
      "cell_type": "markdown",
      "metadata": {
        "id": "1XJW7G9aYDMg"
      },
      "source": [
        "## Grid Search Performance"
      ]
    },
    {
      "cell_type": "code",
      "metadata": {
        "id": "0Ja0z2ckTbrx",
        "colab": {
          "base_uri": "https://localhost:8080/",
          "height": 265
        },
        "outputId": "3f250a2e-e3f9-49b5-a19b-d72b8afb390b"
      },
      "source": [
        "#ROC/AUC Curve\n",
        "from sklearn import metrics\n",
        "# y_test_prob=et_gs.predict_proba(X_test)[:,1]\n",
        "fpr,tpr, _=metrics.roc_curve(y_test,y_test_prob)\n",
        "auc=metrics.roc_auc_score(y_test,y_test_prob)\n",
        "plt.plot(fpr,tpr,label=\"area=\"+str(auc))\n",
        "plt.legend(loc=4)\n",
        "plt.show()"
      ],
      "execution_count": 68,
      "outputs": [
        {
          "output_type": "display_data",
          "data": {
            "image/png": "[encoded data removed]",
            "text/plain": [
              "<Figure size 432x288 with 1 Axes>"
            ]
          },
          "metadata": {
            "tags": [],
            "needs_background": "light"
          }
        }
      ]
    },
    {
      "cell_type": "code",
      "metadata": {
        "id": "OHq5029bTbn9",
        "colab": {
          "base_uri": "https://localhost:8080/"
        },
        "outputId": "bfffd86d-cdb7-4a37-c797-87b21363f8e1"
      },
      "source": [
        "log_loss(y_test,y_test_prob)"
      ],
      "execution_count": 69,
      "outputs": [
        {
          "output_type": "execute_result",
          "data": {
            "text/plain": [
              "0.09916658096246242"
            ]
          },
          "metadata": {
            "tags": []
          },
          "execution_count": 69
        }
      ]
    },
    {
      "cell_type": "code",
      "metadata": {
        "id": "DLTNbRhIYyiX",
        "colab": {
          "base_uri": "https://localhost:8080/"
        },
        "outputId": "a310964c-4760-4dde-c617-a60e075fea42"
      },
      "source": [
        "cm = confusion_matrix(y_test, y_test_predict)\n",
        "cmtx = pd.DataFrame(cm, index=['true:no', 'true:yes'], columns=['pred:no', 'pred:yes'])\n",
        "print(cmtx)"
      ],
      "execution_count": 70,
      "outputs": [
        {
          "output_type": "stream",
          "text": [
            "          pred:no  pred:yes\n",
            "true:no        40         3\n",
            "true:yes        1        70\n"
          ],
          "name": "stdout"
        }
      ]
    },
    {
      "cell_type": "code",
      "metadata": {
        "id": "bP6mmL7ZYycq",
        "colab": {
          "base_uri": "https://localhost:8080/"
        },
        "outputId": "9eb9c01d-bbe7-4ee6-94af-962a831b07a3"
      },
      "source": [
        "print(classification_report(y_test, y_test_predict, digits=3))"
      ],
      "execution_count": 71,
      "outputs": [
        {
          "output_type": "stream",
          "text": [
            "              precision    recall  f1-score   support\n",
            "\n",
            "           0      0.976     0.930     0.952        43\n",
            "           1      0.959     0.986     0.972        71\n",
            "\n",
            "    accuracy                          0.965       114\n",
            "   macro avg      0.967     0.958     0.962       114\n",
            "weighted avg      0.965     0.965     0.965       114\n",
            "\n"
          ],
          "name": "stdout"
        }
      ]
    },
    {
      "cell_type": "code",
      "metadata": {
        "id": "2CNoCU0VYyW7",
        "colab": {
          "base_uri": "https://localhost:8080/",
          "height": 969
        },
        "outputId": "01ada5e7-9eff-4f59-e7b6-6ecc3cfec00d"
      },
      "source": [
        "Coeff = pd.concat([pd.DataFrame(X.columns),pd.DataFrame(np.transpose(xgboost_gs.feature_importances_))], axis = 1)\n",
        "Coeff.columns=['Variable','Feature_Importance']\n",
        "CoeffSorted = Coeff.sort_values(by='Feature_Importance', ascending=False)\n",
        "CoeffSorted"
      ],
      "execution_count": 72,
      "outputs": [
        {
          "output_type": "execute_result",
          "data": {
            "text/html": [
              "<div>\n",
              "<style scoped>\n",
              "    .dataframe tbody tr th:only-of-type {\n",
              "        vertical-align: middle;\n",
              "    }\n",
              "\n",
              "    .dataframe tbody tr th {\n",
              "        vertical-align: top;\n",
              "    }\n",
              "\n",
              "    .dataframe thead th {\n",
              "        text-align: right;\n",
              "    }\n",
              "</style>\n",
              "<table border=\"1\" class=\"dataframe\">\n",
              "  <thead>\n",
              "    <tr style=\"text-align: right;\">\n",
              "      <th></th>\n",
              "      <th>Variable</th>\n",
              "      <th>Feature_Importance</th>\n",
              "    </tr>\n",
              "  </thead>\n",
              "  <tbody>\n",
              "    <tr>\n",
              "      <th>25</th>\n",
              "      <td>worst perimeter</td>\n",
              "      <td>0.220260</td>\n",
              "    </tr>\n",
              "    <tr>\n",
              "      <th>22</th>\n",
              "      <td>worst concave points</td>\n",
              "      <td>0.121168</td>\n",
              "    </tr>\n",
              "    <tr>\n",
              "      <th>8</th>\n",
              "      <td>mean concavity</td>\n",
              "      <td>0.113353</td>\n",
              "    </tr>\n",
              "    <tr>\n",
              "      <th>26</th>\n",
              "      <td>worst radius</td>\n",
              "      <td>0.075156</td>\n",
              "    </tr>\n",
              "    <tr>\n",
              "      <th>20</th>\n",
              "      <td>worst area</td>\n",
              "      <td>0.056587</td>\n",
              "    </tr>\n",
              "    <tr>\n",
              "      <th>11</th>\n",
              "      <td>mean radius</td>\n",
              "      <td>0.050274</td>\n",
              "    </tr>\n",
              "    <tr>\n",
              "      <th>7</th>\n",
              "      <td>mean concave points</td>\n",
              "      <td>0.044541</td>\n",
              "    </tr>\n",
              "    <tr>\n",
              "      <th>21</th>\n",
              "      <td>worst compactness</td>\n",
              "      <td>0.041862</td>\n",
              "    </tr>\n",
              "    <tr>\n",
              "      <th>10</th>\n",
              "      <td>mean perimeter</td>\n",
              "      <td>0.038211</td>\n",
              "    </tr>\n",
              "    <tr>\n",
              "      <th>0</th>\n",
              "      <td>area error</td>\n",
              "      <td>0.024386</td>\n",
              "    </tr>\n",
              "    <tr>\n",
              "      <th>23</th>\n",
              "      <td>worst concavity</td>\n",
              "      <td>0.024315</td>\n",
              "    </tr>\n",
              "    <tr>\n",
              "      <th>14</th>\n",
              "      <td>mean texture</td>\n",
              "      <td>0.019396</td>\n",
              "    </tr>\n",
              "    <tr>\n",
              "      <th>29</th>\n",
              "      <td>worst texture</td>\n",
              "      <td>0.019204</td>\n",
              "    </tr>\n",
              "    <tr>\n",
              "      <th>3</th>\n",
              "      <td>concavity error</td>\n",
              "      <td>0.014941</td>\n",
              "    </tr>\n",
              "    <tr>\n",
              "      <th>5</th>\n",
              "      <td>mean area</td>\n",
              "      <td>0.013383</td>\n",
              "    </tr>\n",
              "    <tr>\n",
              "      <th>28</th>\n",
              "      <td>worst symmetry</td>\n",
              "      <td>0.012196</td>\n",
              "    </tr>\n",
              "    <tr>\n",
              "      <th>16</th>\n",
              "      <td>radius error</td>\n",
              "      <td>0.012054</td>\n",
              "    </tr>\n",
              "    <tr>\n",
              "      <th>9</th>\n",
              "      <td>mean fractal dimension</td>\n",
              "      <td>0.011338</td>\n",
              "    </tr>\n",
              "    <tr>\n",
              "      <th>17</th>\n",
              "      <td>smoothness error</td>\n",
              "      <td>0.011270</td>\n",
              "    </tr>\n",
              "    <tr>\n",
              "      <th>6</th>\n",
              "      <td>mean compactness</td>\n",
              "      <td>0.010761</td>\n",
              "    </tr>\n",
              "    <tr>\n",
              "      <th>4</th>\n",
              "      <td>fractal dimension error</td>\n",
              "      <td>0.010603</td>\n",
              "    </tr>\n",
              "    <tr>\n",
              "      <th>1</th>\n",
              "      <td>compactness error</td>\n",
              "      <td>0.007096</td>\n",
              "    </tr>\n",
              "    <tr>\n",
              "      <th>13</th>\n",
              "      <td>mean symmetry</td>\n",
              "      <td>0.007082</td>\n",
              "    </tr>\n",
              "    <tr>\n",
              "      <th>24</th>\n",
              "      <td>worst fractal dimension</td>\n",
              "      <td>0.007082</td>\n",
              "    </tr>\n",
              "    <tr>\n",
              "      <th>27</th>\n",
              "      <td>worst smoothness</td>\n",
              "      <td>0.006861</td>\n",
              "    </tr>\n",
              "    <tr>\n",
              "      <th>15</th>\n",
              "      <td>perimeter error</td>\n",
              "      <td>0.006608</td>\n",
              "    </tr>\n",
              "    <tr>\n",
              "      <th>12</th>\n",
              "      <td>mean smoothness</td>\n",
              "      <td>0.006230</td>\n",
              "    </tr>\n",
              "    <tr>\n",
              "      <th>19</th>\n",
              "      <td>texture error</td>\n",
              "      <td>0.005967</td>\n",
              "    </tr>\n",
              "    <tr>\n",
              "      <th>18</th>\n",
              "      <td>symmetry error</td>\n",
              "      <td>0.004563</td>\n",
              "    </tr>\n",
              "    <tr>\n",
              "      <th>2</th>\n",
              "      <td>concave points error</td>\n",
              "      <td>0.003252</td>\n",
              "    </tr>\n",
              "  </tbody>\n",
              "</table>\n",
              "</div>"
            ],
            "text/plain": [
              "                   Variable  Feature_Importance\n",
              "25          worst perimeter            0.220260\n",
              "22     worst concave points            0.121168\n",
              "8            mean concavity            0.113353\n",
              "26             worst radius            0.075156\n",
              "20               worst area            0.056587\n",
              "11              mean radius            0.050274\n",
              "7       mean concave points            0.044541\n",
              "21        worst compactness            0.041862\n",
              "10           mean perimeter            0.038211\n",
              "0                area error            0.024386\n",
              "23          worst concavity            0.024315\n",
              "14             mean texture            0.019396\n",
              "29            worst texture            0.019204\n",
              "3           concavity error            0.014941\n",
              "5                 mean area            0.013383\n",
              "28           worst symmetry            0.012196\n",
              "16             radius error            0.012054\n",
              "9    mean fractal dimension            0.011338\n",
              "17         smoothness error            0.011270\n",
              "6          mean compactness            0.010761\n",
              "4   fractal dimension error            0.010603\n",
              "1         compactness error            0.007096\n",
              "13            mean symmetry            0.007082\n",
              "24  worst fractal dimension            0.007082\n",
              "27         worst smoothness            0.006861\n",
              "15          perimeter error            0.006608\n",
              "12          mean smoothness            0.006230\n",
              "19            texture error            0.005967\n",
              "18           symmetry error            0.004563\n",
              "2      concave points error            0.003252"
            ]
          },
          "metadata": {
            "tags": []
          },
          "execution_count": 72
        }
      ]
    },
    {
      "cell_type": "markdown",
      "metadata": {
        "id": "5V5JsZztaahv"
      },
      "source": [
        "## Grid Search Feature Importance"
      ]
    },
    {
      "cell_type": "code",
      "metadata": {
        "id": "wovS7efFYyOS",
        "colab": {
          "base_uri": "https://localhost:8080/",
          "height": 297
        },
        "outputId": "e2c0fabc-3759-40f8-c5ff-be9ae368477c"
      },
      "source": [
        "ax = sns.barplot(x='Feature_Importance', y='Variable', data=CoeffSorted, order=CoeffSorted['Variable'])\n",
        "ax.set_xlabel('Feature Importance')\n",
        "ax.set_ylabel('Features')"
      ],
      "execution_count": 73,
      "outputs": [
        {
          "output_type": "execute_result",
          "data": {
            "text/plain": [
              "Text(0, 0.5, 'Features')"
            ]
          },
          "metadata": {
            "tags": []
          },
          "execution_count": 73
        },
        {
          "output_type": "display_data",
          "data": {
            "image/png": "[encoded data removed]",
            "text/plain": [
              "<Figure size 432x288 with 1 Axes>"
            ]
          },
          "metadata": {
            "tags": [],
            "needs_background": "light"
          }
        }
      ]
    },
    {
      "cell_type": "markdown",
      "metadata": {
        "id": "w1iI6ts2a4EK"
      },
      "source": [
        "## Grid Search Prediction Distribution"
      ]
    },
    {
      "cell_type": "code",
      "metadata": {
        "id": "49QAu6wmYyGA",
        "colab": {
          "base_uri": "https://localhost:8080/",
          "height": 317
        },
        "outputId": "48c9c225-0f70-4623-f297-d24642b1e112"
      },
      "source": [
        "# Plot the predicted probability distribution\n",
        "sns.distplot(y_test_prob, label='Predicted Probability', kde=False)"
      ],
      "execution_count": 74,
      "outputs": [
        {
          "output_type": "stream",
          "text": [
            "/usr/local/lib/python3.7/dist-packages/seaborn/distributions.py:2557: FutureWarning: `distplot` is a deprecated function and will be removed in a future version. Please adapt your code to use either `displot` (a figure-level function with similar flexibility) or `histplot` (an axes-level function for histograms).\n",
            "  warnings.warn(msg, FutureWarning)\n"
          ],
          "name": "stderr"
        },
        {
          "output_type": "execute_result",
          "data": {
            "text/plain": [
              "<matplotlib.axes._subplots.AxesSubplot at 0x7f9221775f50>"
            ]
          },
          "metadata": {
            "tags": []
          },
          "execution_count": 74
        },
        {
          "output_type": "display_data",
          "data": {
            "image/png": "[encoded data removed]",
            "text/plain": [
              "<Figure size 432x288 with 1 Axes>"
            ]
          },
          "metadata": {
            "tags": [],
            "needs_background": "light"
          }
        }
      ]
    },
    {
      "cell_type": "code",
      "metadata": {
        "id": "fl73esJ1Yx-a",
        "colab": {
          "base_uri": "https://localhost:8080/",
          "height": 349
        },
        "outputId": "29f86f08-f82e-4848-d9b4-2d115810aa11"
      },
      "source": [
        "# this is to plot the kde by label\n",
        "sns.distplot(testPred[testPred['y_test']==1]['y_test_prob'],label='1', kde=False);\n",
        "sns.distplot(testPred[testPred['y_test']==0]['y_test_prob'],label='0', kde=False);\n",
        "\n",
        "# add labels\n",
        "plt.xlabel('Predicted Probability')\n",
        "plt.ylabel('Frequency')\n",
        "plt.show()"
      ],
      "execution_count": 75,
      "outputs": [
        {
          "output_type": "stream",
          "text": [
            "/usr/local/lib/python3.7/dist-packages/seaborn/distributions.py:2557: FutureWarning: `distplot` is a deprecated function and will be removed in a future version. Please adapt your code to use either `displot` (a figure-level function with similar flexibility) or `histplot` (an axes-level function for histograms).\n",
            "  warnings.warn(msg, FutureWarning)\n",
            "/usr/local/lib/python3.7/dist-packages/seaborn/distributions.py:2557: FutureWarning: `distplot` is a deprecated function and will be removed in a future version. Please adapt your code to use either `displot` (a figure-level function with similar flexibility) or `histplot` (an axes-level function for histograms).\n",
            "  warnings.warn(msg, FutureWarning)\n"
          ],
          "name": "stderr"
        },
        {
          "output_type": "display_data",
          "data": {
            "image/png": "[encoded data removed]",
            "text/plain": [
              "<Figure size 432x288 with 1 Axes>"
            ]
          },
          "metadata": {
            "tags": [],
            "needs_background": "light"
          }
        }
      ]
    },
    {
      "cell_type": "markdown",
      "metadata": {
        "id": "Qul0TkT6ewvK"
      },
      "source": [
        "## Random Search Cross Validation"
      ]
    },
    {
      "cell_type": "code",
      "metadata": {
        "id": "lGdcYM7jdtno",
        "colab": {
          "base_uri": "https://localhost:8080/"
        },
        "outputId": "112647b7-b3fd-479d-864e-d2ca2753618e"
      },
      "source": [
        "# Randome Search param_grid\n",
        "param_grid = {\n",
        "# \n",
        " \"learning_rate\": [0.0001, 0.001, 0.01, 0.1] ,\n",
        "# The maximum depth of a tree, same as GBM.\n",
        " 'max_depth':range(10,21,2),\n",
        "# This is similar to min_child_leaf in GBM but not exactly. This refers to min “sum of weights” of observations while GBM has min “number of observations”.    \n",
        " 'min_child_weight':range(1,6,2),\n",
        "#  node is split only when the resulting split gives a positive reduction in the loss function. Gamma specifies the minimum loss reduction required to make a split.    \n",
        " 'gamma':[i/10.0 for i in range(0,5)],\n",
        "# Same as the subsample of GBM. Denotes the fraction of observations to be randomly samples for each tree.    \n",
        " 'subsample':[i/10.0 for i in range(6,10)],\n",
        "# Similar to max_features in GBM. Denotes the fraction of columns to be randomly samples for each tree.\n",
        " 'colsample_bytree':[i/10.0 for i in range(5,10)],\n",
        "# Same as the subsample of GBM. Denotes the fraction of observations to be randomly samples for each tree.    \n",
        " 'subsample':[i/100.0 for i in range(75,90,5)],\n",
        "# L1 regularization\n",
        " 'reg_alpha':[1e-5, 1e-2, 0.1, 1, 10, 100]\n",
        "    }\n",
        "param_grid"
      ],
      "execution_count": 92,
      "outputs": [
        {
          "output_type": "execute_result",
          "data": {
            "text/plain": [
              "{'colsample_bytree': [0.5, 0.6, 0.7, 0.8, 0.9],\n",
              " 'gamma': [0.0, 0.1, 0.2, 0.3, 0.4],\n",
              " 'learning_rate': [0.0001, 0.001, 0.01, 0.1],\n",
              " 'max_depth': range(10, 21, 2),\n",
              " 'min_child_weight': range(1, 6, 2),\n",
              " 'reg_alpha': [1e-05, 0.01, 0.1, 1, 10, 100],\n",
              " 'subsample': [0.75, 0.8, 0.85]}"
            ]
          },
          "metadata": {
            "tags": []
          },
          "execution_count": 92
        }
      ]
    },
    {
      "cell_type": "code",
      "metadata": {
        "id": "iREBDSpYdtkV"
      },
      "source": [
        "scoring = ['recall']"
      ],
      "execution_count": 93,
      "outputs": []
    },
    {
      "cell_type": "code",
      "metadata": {
        "id": "Zw761X2UdthT"
      },
      "source": [
        "kfold = StratifiedKFold(n_splits=3, shuffle=True)"
      ],
      "execution_count": 94,
      "outputs": []
    },
    {
      "cell_type": "code",
      "metadata": {
        "id": "-bo6YuUKdtdo"
      },
      "source": [
        "random_search = RandomizedSearchCV(xgboost, param_grid, n_iter=100,scoring=scoring, refit='recall', n_jobs=-1, cv=kfold, verbose=1)"
      ],
      "execution_count": 95,
      "outputs": []
    },
    {
      "cell_type": "code",
      "metadata": {
        "id": "NZR8beRJdtW1",
        "colab": {
          "base_uri": "https://localhost:8080/"
        },
        "outputId": "79efab37-330e-4196-d52d-23f3bb19c0fe"
      },
      "source": [
        "random_result = random_search.fit(X_train, y_train)"
      ],
      "execution_count": 96,
      "outputs": [
        {
          "output_type": "stream",
          "text": [
            "Fitting 3 folds for each of 100 candidates, totalling 300 fits\n"
          ],
          "name": "stdout"
        },
        {
          "output_type": "stream",
          "text": [
            "[Parallel(n_jobs=-1)]: Using backend LokyBackend with 2 concurrent workers.\n",
            "[Parallel(n_jobs=-1)]: Done  88 tasks      | elapsed:    4.1s\n",
            "[Parallel(n_jobs=-1)]: Done 300 out of 300 | elapsed:   14.1s finished\n"
          ],
          "name": "stderr"
        }
      ]
    },
    {
      "cell_type": "code",
      "metadata": {
        "id": "N1zCQzbWdtTe",
        "colab": {
          "base_uri": "https://localhost:8080/"
        },
        "outputId": "934f583e-b62c-4908-a7e2-dfcb52ea1f17"
      },
      "source": [
        "random_result"
      ],
      "execution_count": 89,
      "outputs": [
        {
          "output_type": "execute_result",
          "data": {
            "text/plain": [
              "RandomizedSearchCV(cv=StratifiedKFold(n_splits=3, random_state=None, shuffle=True),\n",
              "                   error_score=nan,\n",
              "                   estimator=XGBClassifier(base_score=0.5, booster='gbtree',\n",
              "                                           colsample_bylevel=1,\n",
              "                                           colsample_bynode=1,\n",
              "                                           colsample_bytree=1, gamma=0,\n",
              "                                           learning_rate=0.1, max_delta_step=0,\n",
              "                                           max_depth=3, min_child_weight=1,\n",
              "                                           missing=None, n_estimators=100,\n",
              "                                           n_jobs=1, nthread=None,\n",
              "                                           objective='bi...\n",
              "                   param_distributions={'colsample_bytree': [0.5, 0.6, 0.7, 0.8,\n",
              "                                                             0.9],\n",
              "                                        'gamma': [0.0, 0.1, 0.2, 0.3, 0.4],\n",
              "                                        'learning_rate': [0.0001, 0.001, 0.01,\n",
              "                                                          0.1],\n",
              "                                        'max_depth': range(10, 21, 2),\n",
              "                                        'min_child_weight': range(1, 6, 2),\n",
              "                                        'reg_alpha': [1e-05, 0.01, 0.1, 1, 10,\n",
              "                                                      100],\n",
              "                                        'subsample': [0.75, 0.8, 0.85]},\n",
              "                   pre_dispatch='2*n_jobs', random_state=None, refit='recall',\n",
              "                   return_train_score=False, scoring=['recall'], verbose=1)"
            ]
          },
          "metadata": {
            "tags": []
          },
          "execution_count": 89
        }
      ]
    },
    {
      "cell_type": "code",
      "metadata": {
        "id": "YMecGsfrdtP4",
        "colab": {
          "base_uri": "https://localhost:8080/"
        },
        "outputId": "06b656ff-b836-4342-c348-33c64cd5f7fb"
      },
      "source": [
        "random_result.cv_results_"
      ],
      "execution_count": 90,
      "outputs": [
        {
          "output_type": "execute_result",
          "data": {
            "text/plain": [
              "{'mean_fit_time': array([0.13054816, 0.08090027, 0.10184669, 0.09370295, 0.118529  ,\n",
              "        0.04502575, 0.08317733, 0.09159501, 0.09219964, 0.07391588,\n",
              "        0.08812682, 0.05051184, 0.04290096, 0.04653001, 0.07488044,\n",
              "        0.04296931, 0.12569205, 0.10251085, 0.07660381, 0.04779712,\n",
              "        0.09892209, 0.0907433 , 0.05149984, 0.09112517, 0.04352427,\n",
              "        0.09157228, 0.07622186, 0.06936916, 0.10865545, 0.11654139,\n",
              "        0.04451418, 0.10036055, 0.08224106, 0.09671203, 0.13002531,\n",
              "        0.10368474, 0.10561935, 0.1091667 , 0.04420408, 0.10608872,\n",
              "        0.11293499, 0.06777827, 0.09312638, 0.08210286, 0.05260921,\n",
              "        0.04794272, 0.07414285, 0.0407021 , 0.09292539, 0.046242  ,\n",
              "        0.0846804 , 0.12381419, 0.0962708 , 0.04050748, 0.05711285,\n",
              "        0.10904026, 0.03762857, 0.0474999 , 0.06490485, 0.13911279,\n",
              "        0.08518569, 0.04507875, 0.09383988, 0.08882991, 0.03739754,\n",
              "        0.09777912, 0.08894706, 0.04267327, 0.09071263, 0.14099685,\n",
              "        0.07083162, 0.0479056 , 0.0586822 , 0.07717005, 0.07163366,\n",
              "        0.12034806, 0.08156689, 0.12479281, 0.04366493, 0.0450027 ,\n",
              "        0.07883803, 0.07869196, 0.10590013, 0.08444619, 0.08828028,\n",
              "        0.06213172, 0.07668249, 0.07932242, 0.03890991, 0.08163015,\n",
              "        0.05237563, 0.10674063, 0.12686682, 0.12969891, 0.12371731,\n",
              "        0.08783976, 0.09223954, 0.03834383, 0.10426124, 0.05315471]),\n",
              " 'mean_score_time': array([0.00387208, 0.00417662, 0.00481272, 0.00545835, 0.00388853,\n",
              "        0.00349959, 0.00364486, 0.00418266, 0.00398858, 0.00381581,\n",
              "        0.00385221, 0.00353694, 0.00367634, 0.00357485, 0.00395274,\n",
              "        0.00352812, 0.00403531, 0.0038813 , 0.00384919, 0.00456214,\n",
              "        0.00381923, 0.0038588 , 0.00352836, 0.00402641, 0.00388622,\n",
              "        0.00380135, 0.00477735, 0.00377798, 0.0038751 , 0.00394297,\n",
              "        0.00351357, 0.00386477, 0.00422859, 0.00379793, 0.00385459,\n",
              "        0.00405121, 0.00577871, 0.0040578 , 0.00350237, 0.00382193,\n",
              "        0.00405582, 0.00376821, 0.00404787, 0.00394932, 0.00385308,\n",
              "        0.00382797, 0.0039738 , 0.00365615, 0.00435384, 0.00351413,\n",
              "        0.00382781, 0.00389306, 0.00383592, 0.00366338, 0.00396919,\n",
              "        0.0039746 , 0.00361522, 0.00366847, 0.00380405, 0.00406456,\n",
              "        0.00377615, 0.00372855, 0.00382368, 0.00510955, 0.00360624,\n",
              "        0.00381438, 0.00379578, 0.00364804, 0.00374158, 0.00562946,\n",
              "        0.00391928, 0.0034798 , 0.00389806, 0.00374079, 0.00436441,\n",
              "        0.00407306, 0.00462222, 0.00394503, 0.00370034, 0.00357064,\n",
              "        0.00379682, 0.0037264 , 0.00380286, 0.00374802, 0.00380119,\n",
              "        0.00387009, 0.00389266, 0.00398548, 0.00365408, 0.00387319,\n",
              "        0.00354822, 0.00404684, 0.00434399, 0.00427842, 0.00399478,\n",
              "        0.00388281, 0.00395759, 0.00372036, 0.00397094, 0.00297038]),\n",
              " 'mean_test_recall': array([0.94762427, 0.95105994, 0.95113304, 0.9755848 , 0.9686038 ,\n",
              "        0.        , 0.96162281, 0.9755848 , 0.94053363, 0.97554825,\n",
              "        0.9686038 , 0.        , 0.        , 0.        , 0.96505848,\n",
              "        0.        , 0.9686038 , 0.95113304, 0.98603801, 0.        ,\n",
              "        0.95113304, 0.96158626, 0.        , 0.9755848 , 0.        ,\n",
              "        0.95456871, 0.9686038 , 0.97554825, 0.94762427, 0.9686038 ,\n",
              "        0.        , 0.9686038 , 0.9686038 , 0.95804094, 0.96154971,\n",
              "        0.95807749, 0.95113304, 0.9686038 , 0.        , 0.9441155 ,\n",
              "        0.96509503, 0.98252924, 0.98256579, 0.96509503, 0.        ,\n",
              "        0.        , 0.98256579, 0.        , 0.95113304, 0.        ,\n",
              "        0.96162281, 0.9686038 , 0.95807749, 0.        , 0.97207602,\n",
              "        0.96513158, 0.        , 0.        , 0.98256579, 0.97913012,\n",
              "        0.96158626, 0.        , 0.96151316, 0.96158626, 0.        ,\n",
              "        0.95113304, 0.95456871, 0.        , 0.95811404, 0.97211257,\n",
              "        0.96509503, 0.        , 0.98600146, 0.9686038 , 0.9685307 ,\n",
              "        0.97562135, 0.9686038 , 0.9686038 , 0.        , 0.        ,\n",
              "        0.97211257, 0.95456871, 0.95113304, 0.97207602, 0.94755117,\n",
              "        0.97905702, 0.95453216, 0.95453216, 0.        , 0.95456871,\n",
              "        0.        , 0.9441155 , 0.97562135, 0.96509503, 0.9686038 ,\n",
              "        0.95456871, 0.9686038 , 0.        , 0.95105994, 0.96154971]),\n",
              " 'param_colsample_bytree': masked_array(data=[0.9, 0.6, 0.7, 0.5, 0.7, 0.8, 0.6, 0.5, 0.8, 0.9, 0.5,\n",
              "                    0.9, 0.6, 0.6, 0.6, 0.7, 0.8, 0.8, 0.9, 0.9, 0.8, 0.5,\n",
              "                    0.9, 0.5, 0.6, 0.8, 0.5, 0.8, 0.8, 0.7, 0.8, 0.6, 0.5,\n",
              "                    0.8, 0.9, 0.9, 0.9, 0.7, 0.6, 0.8, 0.8, 0.8, 0.5, 0.5,\n",
              "                    0.9, 0.8, 0.8, 0.5, 0.7, 0.7, 0.6, 0.8, 0.8, 0.5, 0.6,\n",
              "                    0.8, 0.5, 0.7, 0.9, 0.9, 0.7, 0.8, 0.8, 0.8, 0.5, 0.7,\n",
              "                    0.7, 0.6, 0.7, 0.8, 0.5, 0.9, 0.8, 0.5, 0.5, 0.7, 0.9,\n",
              "                    0.8, 0.7, 0.8, 0.6, 0.6, 0.9, 0.6, 0.8, 0.9, 0.5, 0.6,\n",
              "                    0.5, 0.6, 0.9, 0.9, 0.7, 0.8, 0.7, 0.8, 0.5, 0.5, 0.9,\n",
              "                    0.5],\n",
              "              mask=[False, False, False, False, False, False, False, False,\n",
              "                    False, False, False, False, False, False, False, False,\n",
              "                    False, False, False, False, False, False, False, False,\n",
              "                    False, False, False, False, False, False, False, False,\n",
              "                    False, False, False, False, False, False, False, False,\n",
              "                    False, False, False, False, False, False, False, False,\n",
              "                    False, False, False, False, False, False, False, False,\n",
              "                    False, False, False, False, False, False, False, False,\n",
              "                    False, False, False, False, False, False, False, False,\n",
              "                    False, False, False, False, False, False, False, False,\n",
              "                    False, False, False, False, False, False, False, False,\n",
              "                    False, False, False, False, False, False, False, False,\n",
              "                    False, False, False, False],\n",
              "        fill_value='?',\n",
              "             dtype=object),\n",
              " 'param_gamma': masked_array(data=[0.1, 0.0, 0.0, 0.0, 0.2, 0.0, 0.3, 0.4, 0.0, 0.3, 0.1,\n",
              "                    0.2, 0.1, 0.0, 0.2, 0.3, 0.4, 0.0, 0.3, 0.1, 0.3, 0.3,\n",
              "                    0.1, 0.1, 0.4, 0.1, 0.2, 0.3, 0.1, 0.1, 0.3, 0.1, 0.3,\n",
              "                    0.3, 0.1, 0.4, 0.1, 0.2, 0.2, 0.3, 0.4, 0.1, 0.2, 0.2,\n",
              "                    0.1, 0.2, 0.3, 0.1, 0.0, 0.4, 0.2, 0.2, 0.0, 0.3, 0.1,\n",
              "                    0.1, 0.2, 0.2, 0.4, 0.1, 0.3, 0.4, 0.3, 0.2, 0.4, 0.0,\n",
              "                    0.4, 0.3, 0.2, 0.4, 0.2, 0.0, 0.0, 0.2, 0.1, 0.4, 0.0,\n",
              "                    0.3, 0.1, 0.0, 0.4, 0.4, 0.3, 0.4, 0.1, 0.3, 0.0, 0.0,\n",
              "                    0.1, 0.4, 0.1, 0.4, 0.4, 0.0, 0.3, 0.2, 0.2, 0.0, 0.0,\n",
              "                    0.0],\n",
              "              mask=[False, False, False, False, False, False, False, False,\n",
              "                    False, False, False, False, False, False, False, False,\n",
              "                    False, False, False, False, False, False, False, False,\n",
              "                    False, False, False, False, False, False, False, False,\n",
              "                    False, False, False, False, False, False, False, False,\n",
              "                    False, False, False, False, False, False, False, False,\n",
              "                    False, False, False, False, False, False, False, False,\n",
              "                    False, False, False, False, False, False, False, False,\n",
              "                    False, False, False, False, False, False, False, False,\n",
              "                    False, False, False, False, False, False, False, False,\n",
              "                    False, False, False, False, False, False, False, False,\n",
              "                    False, False, False, False, False, False, False, False,\n",
              "                    False, False, False, False],\n",
              "        fill_value='?',\n",
              "             dtype=object),\n",
              " 'param_learning_rate': masked_array(data=[0.001, 0.001, 0.001, 0.0001, 0.001, 0.1, 0.001, 0.001,\n",
              "                    0.0001, 0.1, 0.001, 0.01, 0.1, 0.1, 0.01, 0.01, 0.001,\n",
              "                    0.001, 0.1, 0.001, 0.0001, 0.0001, 0.0001, 0.001, 0.01,\n",
              "                    0.0001, 0.001, 0.1, 0.001, 0.01, 0.0001, 0.001, 0.01,\n",
              "                    0.01, 0.001, 0.01, 0.0001, 0.001, 0.0001, 0.0001,\n",
              "                    0.001, 0.1, 0.01, 0.01, 0.01, 0.01, 0.1, 0.001, 0.001,\n",
              "                    0.1, 0.001, 0.01, 0.01, 0.001, 0.1, 0.01, 0.01, 0.0001,\n",
              "                    0.1, 0.01, 0.01, 0.01, 0.01, 0.01, 0.1, 0.001, 0.001,\n",
              "                    0.01, 0.01, 0.01, 0.01, 0.01, 0.1, 0.0001, 0.01, 0.01,\n",
              "                    0.1, 0.001, 0.1, 0.0001, 0.1, 0.001, 0.0001, 0.1,\n",
              "                    0.0001, 0.1, 0.0001, 0.0001, 0.001, 0.0001, 0.1,\n",
              "                    0.0001, 0.01, 0.0001, 0.001, 0.0001, 0.001, 0.01,\n",
              "                    0.0001, 0.0001],\n",
              "              mask=[False, False, False, False, False, False, False, False,\n",
              "                    False, False, False, False, False, False, False, False,\n",
              "                    False, False, False, False, False, False, False, False,\n",
              "                    False, False, False, False, False, False, False, False,\n",
              "                    False, False, False, False, False, False, False, False,\n",
              "                    False, False, False, False, False, False, False, False,\n",
              "                    False, False, False, False, False, False, False, False,\n",
              "                    False, False, False, False, False, False, False, False,\n",
              "                    False, False, False, False, False, False, False, False,\n",
              "                    False, False, False, False, False, False, False, False,\n",
              "                    False, False, False, False, False, False, False, False,\n",
              "                    False, False, False, False, False, False, False, False,\n",
              "                    False, False, False, False],\n",
              "        fill_value='?',\n",
              "             dtype=object),\n",
              " 'param_max_depth': masked_array(data=[18, 18, 10, 16, 16, 10, 18, 18, 16, 20, 10, 16, 14, 16,\n",
              "                    16, 12, 12, 14, 10, 12, 16, 10, 16, 20, 14, 16, 16, 18,\n",
              "                    14, 10, 18, 18, 10, 20, 10, 10, 20, 10, 20, 10, 12, 16,\n",
              "                    20, 20, 12, 10, 18, 16, 20, 14, 20, 10, 14, 16, 18, 20,\n",
              "                    12, 18, 12, 18, 14, 16, 14, 14, 12, 20, 14, 10, 20, 12,\n",
              "                    10, 16, 18, 16, 10, 16, 12, 14, 16, 18, 20, 10, 20, 14,\n",
              "                    10, 18, 16, 16, 20, 10, 18, 18, 18, 16, 14, 16, 16, 14,\n",
              "                    10, 10],\n",
              "              mask=[False, False, False, False, False, False, False, False,\n",
              "                    False, False, False, False, False, False, False, False,\n",
              "                    False, False, False, False, False, False, False, False,\n",
              "                    False, False, False, False, False, False, False, False,\n",
              "                    False, False, False, False, False, False, False, False,\n",
              "                    False, False, False, False, False, False, False, False,\n",
              "                    False, False, False, False, False, False, False, False,\n",
              "                    False, False, False, False, False, False, False, False,\n",
              "                    False, False, False, False, False, False, False, False,\n",
              "                    False, False, False, False, False, False, False, False,\n",
              "                    False, False, False, False, False, False, False, False,\n",
              "                    False, False, False, False, False, False, False, False,\n",
              "                    False, False, False, False],\n",
              "        fill_value='?',\n",
              "             dtype=object),\n",
              " 'param_min_child_weight': masked_array(data=[3, 5, 3, 1, 1, 5, 3, 1, 5, 3, 1, 1, 3, 5, 5, 3, 1, 3,\n",
              "                    3, 5, 3, 1, 5, 1, 1, 5, 3, 3, 3, 1, 3, 1, 3, 5, 1, 3,\n",
              "                    3, 1, 5, 3, 1, 3, 1, 5, 1, 1, 3, 5, 3, 3, 3, 1, 3, 5,\n",
              "                    3, 3, 5, 3, 5, 1, 5, 3, 5, 5, 3, 3, 5, 1, 3, 1, 5, 5,\n",
              "                    5, 3, 5, 1, 3, 1, 5, 5, 1, 5, 3, 1, 5, 5, 5, 3, 5, 5,\n",
              "                    1, 3, 1, 1, 1, 5, 1, 5, 5, 5],\n",
              "              mask=[False, False, False, False, False, False, False, False,\n",
              "                    False, False, False, False, False, False, False, False,\n",
              "                    False, False, False, False, False, False, False, False,\n",
              "                    False, False, False, False, False, False, False, False,\n",
              "                    False, False, False, False, False, False, False, False,\n",
              "                    False, False, False, False, False, False, False, False,\n",
              "                    False, False, False, False, False, False, False, False,\n",
              "                    False, False, False, False, False, False, False, False,\n",
              "                    False, False, False, False, False, False, False, False,\n",
              "                    False, False, False, False, False, False, False, False,\n",
              "                    False, False, False, False, False, False, False, False,\n",
              "                    False, False, False, False, False, False, False, False,\n",
              "                    False, False, False, False],\n",
              "        fill_value='?',\n",
              "             dtype=object),\n",
              " 'param_reg_alpha': masked_array(data=[0.01, 10, 0.01, 0.01, 1e-05, 100, 0.01, 0.1, 10, 0.01,\n",
              "                    1, 100, 100, 100, 0.01, 100, 0.1, 0.1, 1, 100, 0.01,\n",
              "                    10, 100, 0.01, 100, 1e-05, 0.01, 1e-05, 0.01, 0.01,\n",
              "                    100, 0.1, 1, 0.01, 10, 10, 0.1, 1, 100, 1e-05, 1,\n",
              "                    1e-05, 1e-05, 0.1, 100, 100, 0.01, 100, 1e-05, 100,\n",
              "                    0.1, 1, 10, 100, 1e-05, 0.01, 100, 100, 1, 0.01, 0.1,\n",
              "                    100, 1, 1e-05, 100, 0.1, 0.1, 100, 1, 1e-05, 0.1, 100,\n",
              "                    0.01, 0.01, 1, 0.1, 10, 0.01, 100, 100, 10, 0.01, 0.1,\n",
              "                    10, 1, 1e-05, 1, 10, 100, 1e-05, 100, 1, 0.1, 0.01,\n",
              "                    1e-05, 1e-05, 1, 100, 0.01, 1e-05],\n",
              "              mask=[False, False, False, False, False, False, False, False,\n",
              "                    False, False, False, False, False, False, False, False,\n",
              "                    False, False, False, False, False, False, False, False,\n",
              "                    False, False, False, False, False, False, False, False,\n",
              "                    False, False, False, False, False, False, False, False,\n",
              "                    False, False, False, False, False, False, False, False,\n",
              "                    False, False, False, False, False, False, False, False,\n",
              "                    False, False, False, False, False, False, False, False,\n",
              "                    False, False, False, False, False, False, False, False,\n",
              "                    False, False, False, False, False, False, False, False,\n",
              "                    False, False, False, False, False, False, False, False,\n",
              "                    False, False, False, False, False, False, False, False,\n",
              "                    False, False, False, False],\n",
              "        fill_value='?',\n",
              "             dtype=object),\n",
              " 'param_subsample': masked_array(data=[0.8, 0.75, 0.85, 0.8, 0.85, 0.85, 0.75, 0.8, 0.8, 0.75,\n",
              "                    0.8, 0.75, 0.8, 0.85, 0.75, 0.8, 0.85, 0.75, 0.85,\n",
              "                    0.85, 0.75, 0.85, 0.75, 0.85, 0.75, 0.75, 0.75, 0.8,\n",
              "                    0.85, 0.75, 0.8, 0.75, 0.8, 0.85, 0.85, 0.8, 0.75,\n",
              "                    0.85, 0.8, 0.85, 0.75, 0.75, 0.75, 0.85, 0.8, 0.8, 0.8,\n",
              "                    0.75, 0.8, 0.85, 0.85, 0.8, 0.85, 0.8, 0.75, 0.8, 0.75,\n",
              "                    0.8, 0.85, 0.75, 0.85, 0.8, 0.85, 0.8, 0.8, 0.85, 0.85,\n",
              "                    0.8, 0.85, 0.85, 0.8, 0.85, 0.75, 0.75, 0.75, 0.85,\n",
              "                    0.75, 0.8, 0.85, 0.75, 0.8, 0.85, 0.75, 0.85, 0.8, 0.8,\n",
              "                    0.8, 0.75, 0.85, 0.85, 0.75, 0.85, 0.85, 0.85, 0.85,\n",
              "                    0.75, 0.8, 0.85, 0.85, 0.75],\n",
              "              mask=[False, False, False, False, False, False, False, False,\n",
              "                    False, False, False, False, False, False, False, False,\n",
              "                    False, False, False, False, False, False, False, False,\n",
              "                    False, False, False, False, False, False, False, False,\n",
              "                    False, False, False, False, False, False, False, False,\n",
              "                    False, False, False, False, False, False, False, False,\n",
              "                    False, False, False, False, False, False, False, False,\n",
              "                    False, False, False, False, False, False, False, False,\n",
              "                    False, False, False, False, False, False, False, False,\n",
              "                    False, False, False, False, False, False, False, False,\n",
              "                    False, False, False, False, False, False, False, False,\n",
              "                    False, False, False, False, False, False, False, False,\n",
              "                    False, False, False, False],\n",
              "        fill_value='?',\n",
              "             dtype=object),\n",
              " 'params': [{'colsample_bytree': 0.9,\n",
              "   'gamma': 0.1,\n",
              "   'learning_rate': 0.001,\n",
              "   'max_depth': 18,\n",
              "   'min_child_weight': 3,\n",
              "   'reg_alpha': 0.01,\n",
              "   'subsample': 0.8},\n",
              "  {'colsample_bytree': 0.6,\n",
              "   'gamma': 0.0,\n",
              "   'learning_rate': 0.001,\n",
              "   'max_depth': 18,\n",
              "   'min_child_weight': 5,\n",
              "   'reg_alpha': 10,\n",
              "   'subsample': 0.75},\n",
              "  {'colsample_bytree': 0.7,\n",
              "   'gamma': 0.0,\n",
              "   'learning_rate': 0.001,\n",
              "   'max_depth': 10,\n",
              "   'min_child_weight': 3,\n",
              "   'reg_alpha': 0.01,\n",
              "   'subsample': 0.85},\n",
              "  {'colsample_bytree': 0.5,\n",
              "   'gamma': 0.0,\n",
              "   'learning_rate': 0.0001,\n",
              "   'max_depth': 16,\n",
              "   'min_child_weight': 1,\n",
              "   'reg_alpha': 0.01,\n",
              "   'subsample': 0.8},\n",
              "  {'colsample_bytree': 0.7,\n",
              "   'gamma': 0.2,\n",
              "   'learning_rate': 0.001,\n",
              "   'max_depth': 16,\n",
              "   'min_child_weight': 1,\n",
              "   'reg_alpha': 1e-05,\n",
              "   'subsample': 0.85},\n",
              "  {'colsample_bytree': 0.8,\n",
              "   'gamma': 0.0,\n",
              "   'learning_rate': 0.1,\n",
              "   'max_depth': 10,\n",
              "   'min_child_weight': 5,\n",
              "   'reg_alpha': 100,\n",
              "   'subsample': 0.85},\n",
              "  {'colsample_bytree': 0.6,\n",
              "   'gamma': 0.3,\n",
              "   'learning_rate': 0.001,\n",
              "   'max_depth': 18,\n",
              "   'min_child_weight': 3,\n",
              "   'reg_alpha': 0.01,\n",
              "   'subsample': 0.75},\n",
              "  {'colsample_bytree': 0.5,\n",
              "   'gamma': 0.4,\n",
              "   'learning_rate': 0.001,\n",
              "   'max_depth': 18,\n",
              "   'min_child_weight': 1,\n",
              "   'reg_alpha': 0.1,\n",
              "   'subsample': 0.8},\n",
              "  {'colsample_bytree': 0.8,\n",
              "   'gamma': 0.0,\n",
              "   'learning_rate': 0.0001,\n",
              "   'max_depth': 16,\n",
              "   'min_child_weight': 5,\n",
              "   'reg_alpha': 10,\n",
              "   'subsample': 0.8},\n",
              "  {'colsample_bytree': 0.9,\n",
              "   'gamma': 0.3,\n",
              "   'learning_rate': 0.1,\n",
              "   'max_depth': 20,\n",
              "   'min_child_weight': 3,\n",
              "   'reg_alpha': 0.01,\n",
              "   'subsample': 0.75},\n",
              "  {'colsample_bytree': 0.5,\n",
              "   'gamma': 0.1,\n",
              "   'learning_rate': 0.001,\n",
              "   'max_depth': 10,\n",
              "   'min_child_weight': 1,\n",
              "   'reg_alpha': 1,\n",
              "   'subsample': 0.8},\n",
              "  {'colsample_bytree': 0.9,\n",
              "   'gamma': 0.2,\n",
              "   'learning_rate': 0.01,\n",
              "   'max_depth': 16,\n",
              "   'min_child_weight': 1,\n",
              "   'reg_alpha': 100,\n",
              "   'subsample': 0.75},\n",
              "  {'colsample_bytree': 0.6,\n",
              "   'gamma': 0.1,\n",
              "   'learning_rate': 0.1,\n",
              "   'max_depth': 14,\n",
              "   'min_child_weight': 3,\n",
              "   'reg_alpha': 100,\n",
              "   'subsample': 0.8},\n",
              "  {'colsample_bytree': 0.6,\n",
              "   'gamma': 0.0,\n",
              "   'learning_rate': 0.1,\n",
              "   'max_depth': 16,\n",
              "   'min_child_weight': 5,\n",
              "   'reg_alpha': 100,\n",
              "   'subsample': 0.85},\n",
              "  {'colsample_bytree': 0.6,\n",
              "   'gamma': 0.2,\n",
              "   'learning_rate': 0.01,\n",
              "   'max_depth': 16,\n",
              "   'min_child_weight': 5,\n",
              "   'reg_alpha': 0.01,\n",
              "   'subsample': 0.75},\n",
              "  {'colsample_bytree': 0.7,\n",
              "   'gamma': 0.3,\n",
              "   'learning_rate': 0.01,\n",
              "   'max_depth': 12,\n",
              "   'min_child_weight': 3,\n",
              "   'reg_alpha': 100,\n",
              "   'subsample': 0.8},\n",
              "  {'colsample_bytree': 0.8,\n",
              "   'gamma': 0.4,\n",
              "   'learning_rate': 0.001,\n",
              "   'max_depth': 12,\n",
              "   'min_child_weight': 1,\n",
              "   'reg_alpha': 0.1,\n",
              "   'subsample': 0.85},\n",
              "  {'colsample_bytree': 0.8,\n",
              "   'gamma': 0.0,\n",
              "   'learning_rate': 0.001,\n",
              "   'max_depth': 14,\n",
              "   'min_child_weight': 3,\n",
              "   'reg_alpha': 0.1,\n",
              "   'subsample': 0.75},\n",
              "  {'colsample_bytree': 0.9,\n",
              "   'gamma': 0.3,\n",
              "   'learning_rate': 0.1,\n",
              "   'max_depth': 10,\n",
              "   'min_child_weight': 3,\n",
              "   'reg_alpha': 1,\n",
              "   'subsample': 0.85},\n",
              "  {'colsample_bytree': 0.9,\n",
              "   'gamma': 0.1,\n",
              "   'learning_rate': 0.001,\n",
              "   'max_depth': 12,\n",
              "   'min_child_weight': 5,\n",
              "   'reg_alpha': 100,\n",
              "   'subsample': 0.85},\n",
              "  {'colsample_bytree': 0.8,\n",
              "   'gamma': 0.3,\n",
              "   'learning_rate': 0.0001,\n",
              "   'max_depth': 16,\n",
              "   'min_child_weight': 3,\n",
              "   'reg_alpha': 0.01,\n",
              "   'subsample': 0.75},\n",
              "  {'colsample_bytree': 0.5,\n",
              "   'gamma': 0.3,\n",
              "   'learning_rate': 0.0001,\n",
              "   'max_depth': 10,\n",
              "   'min_child_weight': 1,\n",
              "   'reg_alpha': 10,\n",
              "   'subsample': 0.85},\n",
              "  {'colsample_bytree': 0.9,\n",
              "   'gamma': 0.1,\n",
              "   'learning_rate': 0.0001,\n",
              "   'max_depth': 16,\n",
              "   'min_child_weight': 5,\n",
              "   'reg_alpha': 100,\n",
              "   'subsample': 0.75},\n",
              "  {'colsample_bytree': 0.5,\n",
              "   'gamma': 0.1,\n",
              "   'learning_rate': 0.001,\n",
              "   'max_depth': 20,\n",
              "   'min_child_weight': 1,\n",
              "   'reg_alpha': 0.01,\n",
              "   'subsample': 0.85},\n",
              "  {'colsample_bytree': 0.6,\n",
              "   'gamma': 0.4,\n",
              "   'learning_rate': 0.01,\n",
              "   'max_depth': 14,\n",
              "   'min_child_weight': 1,\n",
              "   'reg_alpha': 100,\n",
              "   'subsample': 0.75},\n",
              "  {'colsample_bytree': 0.8,\n",
              "   'gamma': 0.1,\n",
              "   'learning_rate': 0.0001,\n",
              "   'max_depth': 16,\n",
              "   'min_child_weight': 5,\n",
              "   'reg_alpha': 1e-05,\n",
              "   'subsample': 0.75},\n",
              "  {'colsample_bytree': 0.5,\n",
              "   'gamma': 0.2,\n",
              "   'learning_rate': 0.001,\n",
              "   'max_depth': 16,\n",
              "   'min_child_weight': 3,\n",
              "   'reg_alpha': 0.01,\n",
              "   'subsample': 0.75},\n",
              "  {'colsample_bytree': 0.8,\n",
              "   'gamma': 0.3,\n",
              "   'learning_rate': 0.1,\n",
              "   'max_depth': 18,\n",
              "   'min_child_weight': 3,\n",
              "   'reg_alpha': 1e-05,\n",
              "   'subsample': 0.8},\n",
              "  {'colsample_bytree': 0.8,\n",
              "   'gamma': 0.1,\n",
              "   'learning_rate': 0.001,\n",
              "   'max_depth': 14,\n",
              "   'min_child_weight': 3,\n",
              "   'reg_alpha': 0.01,\n",
              "   'subsample': 0.85},\n",
              "  {'colsample_bytree': 0.7,\n",
              "   'gamma': 0.1,\n",
              "   'learning_rate': 0.01,\n",
              "   'max_depth': 10,\n",
              "   'min_child_weight': 1,\n",
              "   'reg_alpha': 0.01,\n",
              "   'subsample': 0.75},\n",
              "  {'colsample_bytree': 0.8,\n",
              "   'gamma': 0.3,\n",
              "   'learning_rate': 0.0001,\n",
              "   'max_depth': 18,\n",
              "   'min_child_weight': 3,\n",
              "   'reg_alpha': 100,\n",
              "   'subsample': 0.8},\n",
              "  {'colsample_bytree': 0.6,\n",
              "   'gamma': 0.1,\n",
              "   'learning_rate': 0.001,\n",
              "   'max_depth': 18,\n",
              "   'min_child_weight': 1,\n",
              "   'reg_alpha': 0.1,\n",
              "   'subsample': 0.75},\n",
              "  {'colsample_bytree': 0.5,\n",
              "   'gamma': 0.3,\n",
              "   'learning_rate': 0.01,\n",
              "   'max_depth': 10,\n",
              "   'min_child_weight': 3,\n",
              "   'reg_alpha': 1,\n",
              "   'subsample': 0.8},\n",
              "  {'colsample_bytree': 0.8,\n",
              "   'gamma': 0.3,\n",
              "   'learning_rate': 0.01,\n",
              "   'max_depth': 20,\n",
              "   'min_child_weight': 5,\n",
              "   'reg_alpha': 0.01,\n",
              "   'subsample': 0.85},\n",
              "  {'colsample_bytree': 0.9,\n",
              "   'gamma': 0.1,\n",
              "   'learning_rate': 0.001,\n",
              "   'max_depth': 10,\n",
              "   'min_child_weight': 1,\n",
              "   'reg_alpha': 10,\n",
              "   'subsample': 0.85},\n",
              "  {'colsample_bytree': 0.9,\n",
              "   'gamma': 0.4,\n",
              "   'learning_rate': 0.01,\n",
              "   'max_depth': 10,\n",
              "   'min_child_weight': 3,\n",
              "   'reg_alpha': 10,\n",
              "   'subsample': 0.8},\n",
              "  {'colsample_bytree': 0.9,\n",
              "   'gamma': 0.1,\n",
              "   'learning_rate': 0.0001,\n",
              "   'max_depth': 20,\n",
              "   'min_child_weight': 3,\n",
              "   'reg_alpha': 0.1,\n",
              "   'subsample': 0.75},\n",
              "  {'colsample_bytree': 0.7,\n",
              "   'gamma': 0.2,\n",
              "   'learning_rate': 0.001,\n",
              "   'max_depth': 10,\n",
              "   'min_child_weight': 1,\n",
              "   'reg_alpha': 1,\n",
              "   'subsample': 0.85},\n",
              "  {'colsample_bytree': 0.6,\n",
              "   'gamma': 0.2,\n",
              "   'learning_rate': 0.0001,\n",
              "   'max_depth': 20,\n",
              "   'min_child_weight': 5,\n",
              "   'reg_alpha': 100,\n",
              "   'subsample': 0.8},\n",
              "  {'colsample_bytree': 0.8,\n",
              "   'gamma': 0.3,\n",
              "   'learning_rate': 0.0001,\n",
              "   'max_depth': 10,\n",
              "   'min_child_weight': 3,\n",
              "   'reg_alpha': 1e-05,\n",
              "   'subsample': 0.85},\n",
              "  {'colsample_bytree': 0.8,\n",
              "   'gamma': 0.4,\n",
              "   'learning_rate': 0.001,\n",
              "   'max_depth': 12,\n",
              "   'min_child_weight': 1,\n",
              "   'reg_alpha': 1,\n",
              "   'subsample': 0.75},\n",
              "  {'colsample_bytree': 0.8,\n",
              "   'gamma': 0.1,\n",
              "   'learning_rate': 0.1,\n",
              "   'max_depth': 16,\n",
              "   'min_child_weight': 3,\n",
              "   'reg_alpha': 1e-05,\n",
              "   'subsample': 0.75},\n",
              "  {'colsample_bytree': 0.5,\n",
              "   'gamma': 0.2,\n",
              "   'learning_rate': 0.01,\n",
              "   'max_depth': 20,\n",
              "   'min_child_weight': 1,\n",
              "   'reg_alpha': 1e-05,\n",
              "   'subsample': 0.75},\n",
              "  {'colsample_bytree': 0.5,\n",
              "   'gamma': 0.2,\n",
              "   'learning_rate': 0.01,\n",
              "   'max_depth': 20,\n",
              "   'min_child_weight': 5,\n",
              "   'reg_alpha': 0.1,\n",
              "   'subsample': 0.85},\n",
              "  {'colsample_bytree': 0.9,\n",
              "   'gamma': 0.1,\n",
              "   'learning_rate': 0.01,\n",
              "   'max_depth': 12,\n",
              "   'min_child_weight': 1,\n",
              "   'reg_alpha': 100,\n",
              "   'subsample': 0.8},\n",
              "  {'colsample_bytree': 0.8,\n",
              "   'gamma': 0.2,\n",
              "   'learning_rate': 0.01,\n",
              "   'max_depth': 10,\n",
              "   'min_child_weight': 1,\n",
              "   'reg_alpha': 100,\n",
              "   'subsample': 0.8},\n",
              "  {'colsample_bytree': 0.8,\n",
              "   'gamma': 0.3,\n",
              "   'learning_rate': 0.1,\n",
              "   'max_depth': 18,\n",
              "   'min_child_weight': 3,\n",
              "   'reg_alpha': 0.01,\n",
              "   'subsample': 0.8},\n",
              "  {'colsample_bytree': 0.5,\n",
              "   'gamma': 0.1,\n",
              "   'learning_rate': 0.001,\n",
              "   'max_depth': 16,\n",
              "   'min_child_weight': 5,\n",
              "   'reg_alpha': 100,\n",
              "   'subsample': 0.75},\n",
              "  {'colsample_bytree': 0.7,\n",
              "   'gamma': 0.0,\n",
              "   'learning_rate': 0.001,\n",
              "   'max_depth': 20,\n",
              "   'min_child_weight': 3,\n",
              "   'reg_alpha': 1e-05,\n",
              "   'subsample': 0.8},\n",
              "  {'colsample_bytree': 0.7,\n",
              "   'gamma': 0.4,\n",
              "   'learning_rate': 0.1,\n",
              "   'max_depth': 14,\n",
              "   'min_child_weight': 3,\n",
              "   'reg_alpha': 100,\n",
              "   'subsample': 0.85},\n",
              "  {'colsample_bytree': 0.6,\n",
              "   'gamma': 0.2,\n",
              "   'learning_rate': 0.001,\n",
              "   'max_depth': 20,\n",
              "   'min_child_weight': 3,\n",
              "   'reg_alpha': 0.1,\n",
              "   'subsample': 0.85},\n",
              "  {'colsample_bytree': 0.8,\n",
              "   'gamma': 0.2,\n",
              "   'learning_rate': 0.01,\n",
              "   'max_depth': 10,\n",
              "   'min_child_weight': 1,\n",
              "   'reg_alpha': 1,\n",
              "   'subsample': 0.8},\n",
              "  {'colsample_bytree': 0.8,\n",
              "   'gamma': 0.0,\n",
              "   'learning_rate': 0.01,\n",
              "   'max_depth': 14,\n",
              "   'min_child_weight': 3,\n",
              "   'reg_alpha': 10,\n",
              "   'subsample': 0.85},\n",
              "  {'colsample_bytree': 0.5,\n",
              "   'gamma': 0.3,\n",
              "   'learning_rate': 0.001,\n",
              "   'max_depth': 16,\n",
              "   'min_child_weight': 5,\n",
              "   'reg_alpha': 100,\n",
              "   'subsample': 0.8},\n",
              "  {'colsample_bytree': 0.6,\n",
              "   'gamma': 0.1,\n",
              "   'learning_rate': 0.1,\n",
              "   'max_depth': 18,\n",
              "   'min_child_weight': 3,\n",
              "   'reg_alpha': 1e-05,\n",
              "   'subsample': 0.75},\n",
              "  {'colsample_bytree': 0.8,\n",
              "   'gamma': 0.1,\n",
              "   'learning_rate': 0.01,\n",
              "   'max_depth': 20,\n",
              "   'min_child_weight': 3,\n",
              "   'reg_alpha': 0.01,\n",
              "   'subsample': 0.8},\n",
              "  {'colsample_bytree': 0.5,\n",
              "   'gamma': 0.2,\n",
              "   'learning_rate': 0.01,\n",
              "   'max_depth': 12,\n",
              "   'min_child_weight': 5,\n",
              "   'reg_alpha': 100,\n",
              "   'subsample': 0.75},\n",
              "  {'colsample_bytree': 0.7,\n",
              "   'gamma': 0.2,\n",
              "   'learning_rate': 0.0001,\n",
              "   'max_depth': 18,\n",
              "   'min_child_weight': 3,\n",
              "   'reg_alpha': 100,\n",
              "   'subsample': 0.8},\n",
              "  {'colsample_bytree': 0.9,\n",
              "   'gamma': 0.4,\n",
              "   'learning_rate': 0.1,\n",
              "   'max_depth': 12,\n",
              "   'min_child_weight': 5,\n",
              "   'reg_alpha': 1,\n",
              "   'subsample': 0.85},\n",
              "  {'colsample_bytree': 0.9,\n",
              "   'gamma': 0.1,\n",
              "   'learning_rate': 0.01,\n",
              "   'max_depth': 18,\n",
              "   'min_child_weight': 1,\n",
              "   'reg_alpha': 0.01,\n",
              "   'subsample': 0.75},\n",
              "  {'colsample_bytree': 0.7,\n",
              "   'gamma': 0.3,\n",
              "   'learning_rate': 0.01,\n",
              "   'max_depth': 14,\n",
              "   'min_child_weight': 5,\n",
              "   'reg_alpha': 0.1,\n",
              "   'subsample': 0.85},\n",
              "  {'colsample_bytree': 0.8,\n",
              "   'gamma': 0.4,\n",
              "   'learning_rate': 0.01,\n",
              "   'max_depth': 16,\n",
              "   'min_child_weight': 3,\n",
              "   'reg_alpha': 100,\n",
              "   'subsample': 0.8},\n",
              "  {'colsample_bytree': 0.8,\n",
              "   'gamma': 0.3,\n",
              "   'learning_rate': 0.01,\n",
              "   'max_depth': 14,\n",
              "   'min_child_weight': 5,\n",
              "   'reg_alpha': 1,\n",
              "   'subsample': 0.85},\n",
              "  {'colsample_bytree': 0.8,\n",
              "   'gamma': 0.2,\n",
              "   'learning_rate': 0.01,\n",
              "   'max_depth': 14,\n",
              "   'min_child_weight': 5,\n",
              "   'reg_alpha': 1e-05,\n",
              "   'subsample': 0.8},\n",
              "  {'colsample_bytree': 0.5,\n",
              "   'gamma': 0.4,\n",
              "   'learning_rate': 0.1,\n",
              "   'max_depth': 12,\n",
              "   'min_child_weight': 3,\n",
              "   'reg_alpha': 100,\n",
              "   'subsample': 0.8},\n",
              "  {'colsample_bytree': 0.7,\n",
              "   'gamma': 0.0,\n",
              "   'learning_rate': 0.001,\n",
              "   'max_depth': 20,\n",
              "   'min_child_weight': 3,\n",
              "   'reg_alpha': 0.1,\n",
              "   'subsample': 0.85},\n",
              "  {'colsample_bytree': 0.7,\n",
              "   'gamma': 0.4,\n",
              "   'learning_rate': 0.001,\n",
              "   'max_depth': 14,\n",
              "   'min_child_weight': 5,\n",
              "   'reg_alpha': 0.1,\n",
              "   'subsample': 0.85},\n",
              "  {'colsample_bytree': 0.6,\n",
              "   'gamma': 0.3,\n",
              "   'learning_rate': 0.01,\n",
              "   'max_depth': 10,\n",
              "   'min_child_weight': 1,\n",
              "   'reg_alpha': 100,\n",
              "   'subsample': 0.8},\n",
              "  {'colsample_bytree': 0.7,\n",
              "   'gamma': 0.2,\n",
              "   'learning_rate': 0.01,\n",
              "   'max_depth': 20,\n",
              "   'min_child_weight': 3,\n",
              "   'reg_alpha': 1,\n",
              "   'subsample': 0.85},\n",
              "  {'colsample_bytree': 0.8,\n",
              "   'gamma': 0.4,\n",
              "   'learning_rate': 0.01,\n",
              "   'max_depth': 12,\n",
              "   'min_child_weight': 1,\n",
              "   'reg_alpha': 1e-05,\n",
              "   'subsample': 0.85},\n",
              "  {'colsample_bytree': 0.5,\n",
              "   'gamma': 0.2,\n",
              "   'learning_rate': 0.01,\n",
              "   'max_depth': 10,\n",
              "   'min_child_weight': 5,\n",
              "   'reg_alpha': 0.1,\n",
              "   'subsample': 0.8},\n",
              "  {'colsample_bytree': 0.9,\n",
              "   'gamma': 0.0,\n",
              "   'learning_rate': 0.01,\n",
              "   'max_depth': 16,\n",
              "   'min_child_weight': 5,\n",
              "   'reg_alpha': 100,\n",
              "   'subsample': 0.85},\n",
              "  {'colsample_bytree': 0.8,\n",
              "   'gamma': 0.0,\n",
              "   'learning_rate': 0.1,\n",
              "   'max_depth': 18,\n",
              "   'min_child_weight': 5,\n",
              "   'reg_alpha': 0.01,\n",
              "   'subsample': 0.75},\n",
              "  {'colsample_bytree': 0.5,\n",
              "   'gamma': 0.2,\n",
              "   'learning_rate': 0.0001,\n",
              "   'max_depth': 16,\n",
              "   'min_child_weight': 3,\n",
              "   'reg_alpha': 0.01,\n",
              "   'subsample': 0.75},\n",
              "  {'colsample_bytree': 0.5,\n",
              "   'gamma': 0.1,\n",
              "   'learning_rate': 0.01,\n",
              "   'max_depth': 10,\n",
              "   'min_child_weight': 5,\n",
              "   'reg_alpha': 1,\n",
              "   'subsample': 0.75},\n",
              "  {'colsample_bytree': 0.7,\n",
              "   'gamma': 0.4,\n",
              "   'learning_rate': 0.01,\n",
              "   'max_depth': 16,\n",
              "   'min_child_weight': 1,\n",
              "   'reg_alpha': 0.1,\n",
              "   'subsample': 0.85},\n",
              "  {'colsample_bytree': 0.9,\n",
              "   'gamma': 0.0,\n",
              "   'learning_rate': 0.1,\n",
              "   'max_depth': 12,\n",
              "   'min_child_weight': 3,\n",
              "   'reg_alpha': 10,\n",
              "   'subsample': 0.75},\n",
              "  {'colsample_bytree': 0.8,\n",
              "   'gamma': 0.3,\n",
              "   'learning_rate': 0.001,\n",
              "   'max_depth': 14,\n",
              "   'min_child_weight': 1,\n",
              "   'reg_alpha': 0.01,\n",
              "   'subsample': 0.8},\n",
              "  {'colsample_bytree': 0.7,\n",
              "   'gamma': 0.1,\n",
              "   'learning_rate': 0.1,\n",
              "   'max_depth': 16,\n",
              "   'min_child_weight': 5,\n",
              "   'reg_alpha': 100,\n",
              "   'subsample': 0.85},\n",
              "  {'colsample_bytree': 0.8,\n",
              "   'gamma': 0.0,\n",
              "   'learning_rate': 0.0001,\n",
              "   'max_depth': 18,\n",
              "   'min_child_weight': 5,\n",
              "   'reg_alpha': 100,\n",
              "   'subsample': 0.75},\n",
              "  {'colsample_bytree': 0.6,\n",
              "   'gamma': 0.4,\n",
              "   'learning_rate': 0.1,\n",
              "   'max_depth': 20,\n",
              "   'min_child_weight': 1,\n",
              "   'reg_alpha': 10,\n",
              "   'subsample': 0.8},\n",
              "  {'colsample_bytree': 0.6,\n",
              "   'gamma': 0.4,\n",
              "   'learning_rate': 0.001,\n",
              "   'max_depth': 10,\n",
              "   'min_child_weight': 5,\n",
              "   'reg_alpha': 0.01,\n",
              "   'subsample': 0.85},\n",
              "  {'colsample_bytree': 0.9,\n",
              "   'gamma': 0.3,\n",
              "   'learning_rate': 0.0001,\n",
              "   'max_depth': 20,\n",
              "   'min_child_weight': 3,\n",
              "   'reg_alpha': 0.1,\n",
              "   'subsample': 0.75},\n",
              "  {'colsample_bytree': 0.6,\n",
              "   'gamma': 0.4,\n",
              "   'learning_rate': 0.1,\n",
              "   'max_depth': 14,\n",
              "   'min_child_weight': 1,\n",
              "   'reg_alpha': 10,\n",
              "   'subsample': 0.85},\n",
              "  {'colsample_bytree': 0.8,\n",
              "   'gamma': 0.1,\n",
              "   'learning_rate': 0.0001,\n",
              "   'max_depth': 10,\n",
              "   'min_child_weight': 5,\n",
              "   'reg_alpha': 1,\n",
              "   'subsample': 0.8},\n",
              "  {'colsample_bytree': 0.9,\n",
              "   'gamma': 0.3,\n",
              "   'learning_rate': 0.1,\n",
              "   'max_depth': 18,\n",
              "   'min_child_weight': 5,\n",
              "   'reg_alpha': 1e-05,\n",
              "   'subsample': 0.8},\n",
              "  {'colsample_bytree': 0.5,\n",
              "   'gamma': 0.0,\n",
              "   'learning_rate': 0.0001,\n",
              "   'max_depth': 16,\n",
              "   'min_child_weight': 5,\n",
              "   'reg_alpha': 1,\n",
              "   'subsample': 0.8},\n",
              "  {'colsample_bytree': 0.6,\n",
              "   'gamma': 0.0,\n",
              "   'learning_rate': 0.0001,\n",
              "   'max_depth': 16,\n",
              "   'min_child_weight': 3,\n",
              "   'reg_alpha': 10,\n",
              "   'subsample': 0.75},\n",
              "  {'colsample_bytree': 0.5,\n",
              "   'gamma': 0.1,\n",
              "   'learning_rate': 0.001,\n",
              "   'max_depth': 20,\n",
              "   'min_child_weight': 5,\n",
              "   'reg_alpha': 100,\n",
              "   'subsample': 0.85},\n",
              "  {'colsample_bytree': 0.6,\n",
              "   'gamma': 0.4,\n",
              "   'learning_rate': 0.0001,\n",
              "   'max_depth': 10,\n",
              "   'min_child_weight': 5,\n",
              "   'reg_alpha': 1e-05,\n",
              "   'subsample': 0.85},\n",
              "  {'colsample_bytree': 0.9,\n",
              "   'gamma': 0.1,\n",
              "   'learning_rate': 0.1,\n",
              "   'max_depth': 18,\n",
              "   'min_child_weight': 1,\n",
              "   'reg_alpha': 100,\n",
              "   'subsample': 0.75},\n",
              "  {'colsample_bytree': 0.9,\n",
              "   'gamma': 0.4,\n",
              "   'learning_rate': 0.0001,\n",
              "   'max_depth': 18,\n",
              "   'min_child_weight': 3,\n",
              "   'reg_alpha': 1,\n",
              "   'subsample': 0.85},\n",
              "  {'colsample_bytree': 0.7,\n",
              "   'gamma': 0.4,\n",
              "   'learning_rate': 0.01,\n",
              "   'max_depth': 18,\n",
              "   'min_child_weight': 1,\n",
              "   'reg_alpha': 0.1,\n",
              "   'subsample': 0.85},\n",
              "  {'colsample_bytree': 0.8,\n",
              "   'gamma': 0.0,\n",
              "   'learning_rate': 0.0001,\n",
              "   'max_depth': 16,\n",
              "   'min_child_weight': 1,\n",
              "   'reg_alpha': 0.01,\n",
              "   'subsample': 0.85},\n",
              "  {'colsample_bytree': 0.7,\n",
              "   'gamma': 0.3,\n",
              "   'learning_rate': 0.001,\n",
              "   'max_depth': 14,\n",
              "   'min_child_weight': 1,\n",
              "   'reg_alpha': 1e-05,\n",
              "   'subsample': 0.85},\n",
              "  {'colsample_bytree': 0.8,\n",
              "   'gamma': 0.2,\n",
              "   'learning_rate': 0.0001,\n",
              "   'max_depth': 16,\n",
              "   'min_child_weight': 5,\n",
              "   'reg_alpha': 1e-05,\n",
              "   'subsample': 0.75},\n",
              "  {'colsample_bytree': 0.5,\n",
              "   'gamma': 0.2,\n",
              "   'learning_rate': 0.001,\n",
              "   'max_depth': 16,\n",
              "   'min_child_weight': 1,\n",
              "   'reg_alpha': 1,\n",
              "   'subsample': 0.8},\n",
              "  {'colsample_bytree': 0.5,\n",
              "   'gamma': 0.0,\n",
              "   'learning_rate': 0.01,\n",
              "   'max_depth': 14,\n",
              "   'min_child_weight': 5,\n",
              "   'reg_alpha': 100,\n",
              "   'subsample': 0.85},\n",
              "  {'colsample_bytree': 0.9,\n",
              "   'gamma': 0.0,\n",
              "   'learning_rate': 0.0001,\n",
              "   'max_depth': 10,\n",
              "   'min_child_weight': 5,\n",
              "   'reg_alpha': 0.01,\n",
              "   'subsample': 0.85},\n",
              "  {'colsample_bytree': 0.5,\n",
              "   'gamma': 0.0,\n",
              "   'learning_rate': 0.0001,\n",
              "   'max_depth': 10,\n",
              "   'min_child_weight': 5,\n",
              "   'reg_alpha': 1e-05,\n",
              "   'subsample': 0.75}],\n",
              " 'rank_test_recall': array([69, 67, 60, 11, 20, 75, 41, 11, 74, 14, 20, 75, 75, 75, 40, 75, 20,\n",
              "        60,  1, 75, 60, 43, 75, 11, 75, 53, 20, 14, 69, 20, 75, 20, 20, 52,\n",
              "        46, 50, 60, 20, 75, 72, 36,  6,  3, 36, 75, 75,  3, 75, 60, 75, 41,\n",
              "        20, 50, 75, 18, 35, 75, 75,  3,  7, 45, 75, 48, 43, 75, 60, 53, 75,\n",
              "        49, 16, 36, 75,  2, 20, 34,  9, 20, 20, 75, 75, 16, 53, 60, 18, 71,\n",
              "         8, 58, 58, 75, 53, 75, 72,  9, 36, 20, 53, 20, 75, 67, 46],\n",
              "       dtype=int32),\n",
              " 'split0_test_recall': array([0.92708333, 0.94791667, 0.92708333, 0.95833333, 0.94791667,\n",
              "        0.        , 0.9375    , 0.95833333, 0.94791667, 0.96875   ,\n",
              "        0.94791667, 0.        , 0.        , 0.        , 0.95833333,\n",
              "        0.        , 0.94791667, 0.92708333, 0.97916667, 0.        ,\n",
              "        0.92708333, 0.94791667, 0.        , 0.95833333, 0.        ,\n",
              "        0.94791667, 0.94791667, 0.96875   , 0.92708333, 0.94791667,\n",
              "        0.        , 0.94791667, 0.94791667, 0.95833333, 0.95833333,\n",
              "        0.94791667, 0.92708333, 0.94791667, 0.        , 0.92708333,\n",
              "        0.94791667, 0.97916667, 0.96875   , 0.94791667, 0.        ,\n",
              "        0.        , 0.96875   , 0.        , 0.92708333, 0.        ,\n",
              "        0.9375    , 0.94791667, 0.94791667, 0.        , 0.95833333,\n",
              "        0.9375    , 0.        , 0.        , 0.96875   , 0.94791667,\n",
              "        0.94791667, 0.        , 0.96875   , 0.94791667, 0.        ,\n",
              "        0.92708333, 0.94791667, 0.        , 0.9375    , 0.94791667,\n",
              "        0.94791667, 0.        , 0.98958333, 0.94791667, 0.96875   ,\n",
              "        0.94791667, 0.94791667, 0.94791667, 0.        , 0.        ,\n",
              "        0.94791667, 0.94791667, 0.92708333, 0.95833333, 0.94791667,\n",
              "        0.96875   , 0.95833333, 0.95833333, 0.        , 0.94791667,\n",
              "        0.        , 0.92708333, 0.94791667, 0.94791667, 0.94791667,\n",
              "        0.94791667, 0.94791667, 0.        , 0.94791667, 0.95833333]),\n",
              " 'split1_test_recall': array([0.97894737, 0.96842105, 0.97894737, 1.        , 1.        ,\n",
              "        0.        , 0.98947368, 1.        , 0.97894737, 0.98947368,\n",
              "        0.98947368, 0.        , 0.        , 0.        , 0.98947368,\n",
              "        0.        , 1.        , 0.97894737, 0.98947368, 0.        ,\n",
              "        0.97894737, 0.97894737, 0.        , 1.        , 0.        ,\n",
              "        0.96842105, 0.98947368, 0.97894737, 0.97894737, 0.98947368,\n",
              "        0.        , 0.98947368, 0.98947368, 0.96842105, 0.97894737,\n",
              "        0.97894737, 0.97894737, 1.        , 0.        , 0.97894737,\n",
              "        0.98947368, 0.98947368, 1.        , 0.98947368, 0.        ,\n",
              "        0.        , 0.98947368, 0.        , 0.97894737, 0.        ,\n",
              "        0.98947368, 1.        , 0.97894737, 0.        , 0.98947368,\n",
              "        0.98947368, 0.        , 0.        , 1.        , 1.        ,\n",
              "        0.98947368, 0.        , 0.97894737, 0.97894737, 0.        ,\n",
              "        0.97894737, 0.97894737, 0.        , 0.97894737, 1.        ,\n",
              "        0.98947368, 0.        , 0.98947368, 0.98947368, 0.98947368,\n",
              "        1.        , 1.        , 1.        , 0.        , 0.        ,\n",
              "        1.        , 0.97894737, 0.97894737, 1.        , 0.97894737,\n",
              "        1.        , 0.97894737, 0.96842105, 0.        , 0.97894737,\n",
              "        0.        , 0.97894737, 1.        , 1.        , 1.        ,\n",
              "        0.96842105, 0.98947368, 0.        , 0.97894737, 0.97894737]),\n",
              " 'split2_test_recall': array([0.93684211, 0.93684211, 0.94736842, 0.96842105, 0.95789474,\n",
              "        0.        , 0.95789474, 0.96842105, 0.89473684, 0.96842105,\n",
              "        0.96842105, 0.        , 0.        , 0.        , 0.94736842,\n",
              "        0.        , 0.95789474, 0.94736842, 0.98947368, 0.        ,\n",
              "        0.94736842, 0.95789474, 0.        , 0.96842105, 0.        ,\n",
              "        0.94736842, 0.96842105, 0.97894737, 0.93684211, 0.96842105,\n",
              "        0.        , 0.96842105, 0.96842105, 0.94736842, 0.94736842,\n",
              "        0.94736842, 0.94736842, 0.95789474, 0.        , 0.92631579,\n",
              "        0.95789474, 0.97894737, 0.97894737, 0.95789474, 0.        ,\n",
              "        0.        , 0.98947368, 0.        , 0.94736842, 0.        ,\n",
              "        0.95789474, 0.95789474, 0.94736842, 0.        , 0.96842105,\n",
              "        0.96842105, 0.        , 0.        , 0.97894737, 0.98947368,\n",
              "        0.94736842, 0.        , 0.93684211, 0.95789474, 0.        ,\n",
              "        0.94736842, 0.93684211, 0.        , 0.95789474, 0.96842105,\n",
              "        0.95789474, 0.        , 0.97894737, 0.96842105, 0.94736842,\n",
              "        0.97894737, 0.95789474, 0.95789474, 0.        , 0.        ,\n",
              "        0.96842105, 0.93684211, 0.94736842, 0.95789474, 0.91578947,\n",
              "        0.96842105, 0.92631579, 0.93684211, 0.        , 0.93684211,\n",
              "        0.        , 0.92631579, 0.97894737, 0.94736842, 0.95789474,\n",
              "        0.94736842, 0.96842105, 0.        , 0.92631579, 0.94736842]),\n",
              " 'std_fit_time': array([0.0204005 , 0.00701414, 0.00230874, 0.00748983, 0.00853937,\n",
              "        0.00053041, 0.00564375, 0.00494751, 0.00886608, 0.00372458,\n",
              "        0.00307053, 0.0009408 , 0.00113617, 0.00102852, 0.00315141,\n",
              "        0.00131079, 0.00514014, 0.00853371, 0.00186022, 0.00100709,\n",
              "        0.00606939, 0.00727017, 0.00315277, 0.0016132 , 0.00418959,\n",
              "        0.00503474, 0.00409545, 0.00125917, 0.00415209, 0.0016599 ,\n",
              "        0.00032374, 0.0019476 , 0.00783812, 0.00547337, 0.00327736,\n",
              "        0.00220158, 0.00584495, 0.00247852, 0.005925  , 0.00338124,\n",
              "        0.00159557, 0.00276976, 0.0014659 , 0.01680604, 0.00296661,\n",
              "        0.00137776, 0.0043222 , 0.00372908, 0.00515748, 0.0027552 ,\n",
              "        0.00199054, 0.00357956, 0.00116936, 0.00275562, 0.00047419,\n",
              "        0.00581654, 0.00042155, 0.00217048, 0.00273933, 0.00403022,\n",
              "        0.00227852, 0.00066055, 0.00472029, 0.00171746, 0.00040601,\n",
              "        0.00369624, 0.00465555, 0.00252983, 0.00202316, 0.00685215,\n",
              "        0.00514995, 0.00171151, 0.00258908, 0.00378355, 0.00338471,\n",
              "        0.00227942, 0.00407899, 0.00476795, 0.00209625, 0.00027065,\n",
              "        0.00085311, 0.00530863, 0.00154501, 0.00099541, 0.00078926,\n",
              "        0.00400235, 0.00372452, 0.00121652, 0.00073282, 0.00095493,\n",
              "        0.00297019, 0.00285806, 0.00366127, 0.00551027, 0.00607481,\n",
              "        0.00185698, 0.00217564, 0.00088179, 0.00678186, 0.01100569]),\n",
              " 'std_score_time': array([7.19169224e-05, 3.82569387e-04, 9.59191891e-04, 1.84880479e-03,\n",
              "        3.71363671e-05, 3.13060532e-05, 1.46160550e-04, 1.10973085e-04,\n",
              "        1.46208508e-04, 1.81629827e-05, 5.60972566e-05, 5.86881106e-05,\n",
              "        9.74087660e-05, 9.93460972e-05, 2.33645909e-04, 1.18708034e-04,\n",
              "        3.19513059e-04, 5.05208663e-05, 1.59461734e-04, 1.23034292e-03,\n",
              "        3.25002217e-05, 1.11780096e-04, 2.53068341e-05, 1.00615465e-04,\n",
              "        2.69999611e-05, 4.25201338e-05, 1.09805431e-03, 3.50450982e-05,\n",
              "        1.09049217e-04, 1.26882297e-04, 3.09540412e-05, 1.30819183e-05,\n",
              "        5.13653928e-04, 4.74887412e-05, 2.59823993e-05, 3.37517577e-04,\n",
              "        2.72528034e-03, 4.06817385e-04, 5.41929154e-05, 1.51670366e-05,\n",
              "        1.94840095e-04, 3.54295677e-05, 1.64117555e-04, 1.34890331e-04,\n",
              "        2.33029576e-04, 3.69978436e-04, 1.29049193e-04, 1.50691230e-04,\n",
              "        4.96729926e-04, 7.56417986e-05, 5.01408878e-05, 3.27622948e-05,\n",
              "        5.41271439e-05, 1.05913382e-04, 2.18745376e-04, 1.41625497e-04,\n",
              "        6.83338131e-05, 3.59700519e-05, 1.03673495e-04, 1.24191290e-04,\n",
              "        3.61015033e-05, 1.62733134e-04, 1.08411060e-04, 1.60518610e-03,\n",
              "        6.72887838e-05, 2.75235522e-05, 1.02442951e-05, 1.45613192e-04,\n",
              "        2.49572619e-05, 2.18528302e-03, 2.43101879e-04, 7.95156840e-05,\n",
              "        1.59824683e-04, 1.74105429e-05, 7.78423634e-04, 1.09266888e-04,\n",
              "        1.25982102e-03, 9.47937666e-05, 1.83633320e-04, 1.96067775e-05,\n",
              "        7.83395224e-05, 5.80888437e-05, 6.39768861e-05, 5.52474149e-05,\n",
              "        7.28092850e-05, 2.92626365e-05, 1.36349304e-04, 4.21465488e-05,\n",
              "        4.67496353e-05, 1.28940496e-04, 8.82757109e-06, 1.83926641e-04,\n",
              "        5.26870465e-04, 3.39311941e-04, 1.43284783e-04, 1.21781001e-04,\n",
              "        5.07274709e-05, 1.30038242e-04, 2.04281952e-04, 5.84284908e-04]),\n",
              " 'std_test_recall': array([0.02250423, 0.01308224, 0.02134008, 0.01774856, 0.02257109,\n",
              "        0.        , 0.0213813 , 0.01774856, 0.03477293, 0.00984769,\n",
              "        0.01696607, 0.        , 0.        , 0.        , 0.01783506,\n",
              "        0.        , 0.02257109, 0.02134008, 0.00485877, 0.        ,\n",
              "        0.02134008, 0.01293436, 0.        , 0.01774856, 0.        ,\n",
              "        0.00979764, 0.01696607, 0.00480709, 0.02250423, 0.01696607,\n",
              "        0.        , 0.01696607, 0.01696607, 0.00859719, 0.01309112,\n",
              "        0.01475893, 0.02134008, 0.02257109, 0.        , 0.02463185,\n",
              "        0.01771308, 0.00491128, 0.0130118 , 0.01771308, 0.        ,\n",
              "        0.        , 0.00976924, 0.        , 0.02134008, 0.        ,\n",
              "        0.0213813 , 0.02257109, 0.01475893, 0.        , 0.01297304,\n",
              "        0.02134528, 0.        , 0.        , 0.0130118 , 0.02248571,\n",
              "        0.01972066, 0.        , 0.01793492, 0.01293436, 0.        ,\n",
              "        0.02134008, 0.01782135, 0.        , 0.01692153, 0.02142256,\n",
              "        0.01771308, 0.        , 0.0049882 , 0.01696607, 0.0171901 ,\n",
              "        0.0213926 , 0.02257109, 0.02257109, 0.        , 0.        ,\n",
              "        0.02142256, 0.01782135, 0.02134008, 0.01974605, 0.0257854 ,\n",
              "        0.01480953, 0.02165421, 0.01316926, 0.        , 0.01782135,\n",
              "        0.        , 0.02463185, 0.0213926 , 0.02468256, 0.02257109,\n",
              "        0.00979764, 0.01696607, 0.        , 0.0216014 , 0.01309112])}"
            ]
          },
          "metadata": {
            "tags": []
          },
          "execution_count": 90
        }
      ]
    },
    {
      "cell_type": "code",
      "metadata": {
        "id": "qNlLccHJdtL_",
        "colab": {
          "base_uri": "https://localhost:8080/"
        },
        "outputId": "7f5acb31-0a15-422a-dd8a-96b257e28d9d"
      },
      "source": [
        "# summarize results\n",
        "print(\"Best: %f using %s\" % (random_result.best_score_, random_result.best_params_))\n",
        "means = random_result.cv_results_['mean_test_recall']\n",
        "stds = random_result.cv_results_['std_test_recall']\n",
        "params = random_result.cv_results_['params']\n",
        "for mean, stdev, param in zip(means, stds, params):\n",
        "    print(\"%f (%f) with: %r\" % (mean, stdev, param))"
      ],
      "execution_count": 97,
      "outputs": [
        {
          "output_type": "stream",
          "text": [
            "Best: 0.982529 using {'subsample': 0.8, 'reg_alpha': 0.01, 'min_child_weight': 1, 'max_depth': 12, 'learning_rate': 0.1, 'gamma': 0.2, 'colsample_bytree': 0.6}\n",
            "0.954678 (0.027220) with: {'subsample': 0.85, 'reg_alpha': 0.01, 'min_child_weight': 3, 'max_depth': 12, 'learning_rate': 0.0001, 'gamma': 0.3, 'colsample_bytree': 0.5}\n",
            "0.958151 (0.022384) with: {'subsample': 0.8, 'reg_alpha': 0.01, 'min_child_weight': 1, 'max_depth': 16, 'learning_rate': 0.001, 'gamma': 0.3, 'colsample_bytree': 0.6}\n",
            "0.968567 (0.008416) with: {'subsample': 0.85, 'reg_alpha': 0.01, 'min_child_weight': 1, 'max_depth': 16, 'learning_rate': 0.01, 'gamma': 0.2, 'colsample_bytree': 0.5}\n",
            "0.951170 (0.024397) with: {'subsample': 0.85, 'reg_alpha': 1, 'min_child_weight': 1, 'max_depth': 10, 'learning_rate': 0.001, 'gamma': 0.0, 'colsample_bytree': 0.9}\n",
            "0.954642 (0.021298) with: {'subsample': 0.75, 'reg_alpha': 0.1, 'min_child_weight': 5, 'max_depth': 14, 'learning_rate': 0.001, 'gamma': 0.4, 'colsample_bytree': 0.5}\n",
            "0.944189 (0.029764) with: {'subsample': 0.85, 'reg_alpha': 10, 'min_child_weight': 3, 'max_depth': 10, 'learning_rate': 0.0001, 'gamma': 0.2, 'colsample_bytree': 0.6}\n",
            "0.944225 (0.038293) with: {'subsample': 0.85, 'reg_alpha': 0.1, 'min_child_weight': 5, 'max_depth': 10, 'learning_rate': 0.001, 'gamma': 0.4, 'colsample_bytree': 0.7}\n",
            "0.944225 (0.038293) with: {'subsample': 0.8, 'reg_alpha': 1, 'min_child_weight': 5, 'max_depth': 16, 'learning_rate': 0.0001, 'gamma': 0.2, 'colsample_bytree': 0.8}\n",
            "0.951206 (0.032078) with: {'subsample': 0.75, 'reg_alpha': 1e-05, 'min_child_weight': 5, 'max_depth': 14, 'learning_rate': 0.0001, 'gamma': 0.1, 'colsample_bytree': 0.6}\n",
            "0.958114 (0.016922) with: {'subsample': 0.8, 'reg_alpha': 1, 'min_child_weight': 1, 'max_depth': 18, 'learning_rate': 0.01, 'gamma': 0.2, 'colsample_bytree': 0.9}\n",
            "0.933699 (0.027118) with: {'subsample': 0.75, 'reg_alpha': 0.1, 'min_child_weight': 5, 'max_depth': 10, 'learning_rate': 0.0001, 'gamma': 0.1, 'colsample_bytree': 0.9}\n",
            "0.937208 (0.030492) with: {'subsample': 0.8, 'reg_alpha': 1e-05, 'min_child_weight': 5, 'max_depth': 20, 'learning_rate': 0.0001, 'gamma': 0.2, 'colsample_bytree': 0.7}\n",
            "0.965058 (0.009823) with: {'subsample': 0.75, 'reg_alpha': 10, 'min_child_weight': 1, 'max_depth': 12, 'learning_rate': 0.01, 'gamma': 0.1, 'colsample_bytree': 0.5}\n",
            "0.958151 (0.030729) with: {'subsample': 0.8, 'reg_alpha': 10, 'min_child_weight': 5, 'max_depth': 20, 'learning_rate': 0.001, 'gamma': 0.4, 'colsample_bytree': 0.5}\n",
            "0.000000 (0.000000) with: {'subsample': 0.8, 'reg_alpha': 100, 'min_child_weight': 1, 'max_depth': 10, 'learning_rate': 0.0001, 'gamma': 0.0, 'colsample_bytree': 0.9}\n",
            "0.951206 (0.032078) with: {'subsample': 0.85, 'reg_alpha': 0.01, 'min_child_weight': 3, 'max_depth': 18, 'learning_rate': 0.01, 'gamma': 0.0, 'colsample_bytree': 0.6}\n",
            "0.000000 (0.000000) with: {'subsample': 0.8, 'reg_alpha': 100, 'min_child_weight': 5, 'max_depth': 14, 'learning_rate': 0.1, 'gamma': 0.2, 'colsample_bytree': 0.7}\n",
            "0.972039 (0.004886) with: {'subsample': 0.8, 'reg_alpha': 1, 'min_child_weight': 5, 'max_depth': 12, 'learning_rate': 0.1, 'gamma': 0.3, 'colsample_bytree': 0.8}\n",
            "0.982529 (0.004911) with: {'subsample': 0.8, 'reg_alpha': 0.01, 'min_child_weight': 1, 'max_depth': 12, 'learning_rate': 0.1, 'gamma': 0.2, 'colsample_bytree': 0.6}\n",
            "0.958151 (0.022384) with: {'subsample': 0.75, 'reg_alpha': 0.01, 'min_child_weight': 1, 'max_depth': 18, 'learning_rate': 0.001, 'gamma': 0.3, 'colsample_bytree': 0.9}\n",
            "0.965095 (0.012885) with: {'subsample': 0.75, 'reg_alpha': 0.01, 'min_child_weight': 1, 'max_depth': 12, 'learning_rate': 0.01, 'gamma': 0.3, 'colsample_bytree': 0.6}\n",
            "0.940680 (0.024346) with: {'subsample': 0.75, 'reg_alpha': 0.01, 'min_child_weight': 5, 'max_depth': 18, 'learning_rate': 0.001, 'gamma': 0.1, 'colsample_bytree': 0.9}\n",
            "0.944225 (0.035281) with: {'subsample': 0.85, 'reg_alpha': 0.1, 'min_child_weight': 5, 'max_depth': 18, 'learning_rate': 0.01, 'gamma': 0.4, 'colsample_bytree': 0.7}\n",
            "0.944189 (0.027169) with: {'subsample': 0.8, 'reg_alpha': 0.1, 'min_child_weight': 5, 'max_depth': 12, 'learning_rate': 0.01, 'gamma': 0.3, 'colsample_bytree': 0.8}\n",
            "0.975548 (0.009848) with: {'subsample': 0.8, 'reg_alpha': 0.01, 'min_child_weight': 5, 'max_depth': 18, 'learning_rate': 0.1, 'gamma': 0.2, 'colsample_bytree': 0.5}\n",
            "0.958151 (0.022384) with: {'subsample': 0.75, 'reg_alpha': 0.1, 'min_child_weight': 1, 'max_depth': 20, 'learning_rate': 0.001, 'gamma': 0.3, 'colsample_bytree': 0.6}\n",
            "0.940680 (0.024346) with: {'subsample': 0.75, 'reg_alpha': 0.1, 'min_child_weight': 5, 'max_depth': 20, 'learning_rate': 0.001, 'gamma': 0.1, 'colsample_bytree': 0.8}\n",
            "0.000000 (0.000000) with: {'subsample': 0.75, 'reg_alpha': 100, 'min_child_weight': 5, 'max_depth': 10, 'learning_rate': 0.01, 'gamma': 0.1, 'colsample_bytree': 0.5}\n",
            "0.944225 (0.035281) with: {'subsample': 0.75, 'reg_alpha': 0.01, 'min_child_weight': 5, 'max_depth': 20, 'learning_rate': 0.001, 'gamma': 0.4, 'colsample_bytree': 0.6}\n",
            "0.954678 (0.027220) with: {'subsample': 0.85, 'reg_alpha': 1, 'min_child_weight': 3, 'max_depth': 12, 'learning_rate': 0.0001, 'gamma': 0.3, 'colsample_bytree': 0.5}\n",
            "0.944225 (0.038293) with: {'subsample': 0.85, 'reg_alpha': 1e-05, 'min_child_weight': 5, 'max_depth': 12, 'learning_rate': 0.0001, 'gamma': 0.2, 'colsample_bytree': 0.8}\n",
            "0.958151 (0.022384) with: {'subsample': 0.8, 'reg_alpha': 1e-05, 'min_child_weight': 1, 'max_depth': 10, 'learning_rate': 0.0001, 'gamma': 0.3, 'colsample_bytree': 0.6}\n",
            "0.951170 (0.025867) with: {'subsample': 0.75, 'reg_alpha': 1, 'min_child_weight': 1, 'max_depth': 18, 'learning_rate': 0.001, 'gamma': 0.0, 'colsample_bytree': 0.9}\n",
            "0.947697 (0.030542) with: {'subsample': 0.85, 'reg_alpha': 10, 'min_child_weight': 3, 'max_depth': 20, 'learning_rate': 0.01, 'gamma': 0.4, 'colsample_bytree': 0.7}\n",
            "0.947697 (0.030542) with: {'subsample': 0.8, 'reg_alpha': 1, 'min_child_weight': 3, 'max_depth': 20, 'learning_rate': 0.001, 'gamma': 0.4, 'colsample_bytree': 0.6}\n",
            "0.937208 (0.030492) with: {'subsample': 0.8, 'reg_alpha': 0.01, 'min_child_weight': 5, 'max_depth': 20, 'learning_rate': 0.0001, 'gamma': 0.4, 'colsample_bytree': 0.7}\n",
            "0.951170 (0.025867) with: {'subsample': 0.85, 'reg_alpha': 0.1, 'min_child_weight': 3, 'max_depth': 18, 'learning_rate': 0.01, 'gamma': 0.4, 'colsample_bytree': 0.7}\n",
            "0.968567 (0.008416) with: {'subsample': 0.85, 'reg_alpha': 0.1, 'min_child_weight': 1, 'max_depth': 12, 'learning_rate': 0.01, 'gamma': 0.3, 'colsample_bytree': 0.5}\n",
            "0.000000 (0.000000) with: {'subsample': 0.85, 'reg_alpha': 100, 'min_child_weight': 1, 'max_depth': 14, 'learning_rate': 0.1, 'gamma': 0.0, 'colsample_bytree': 0.5}\n",
            "0.000000 (0.000000) with: {'subsample': 0.8, 'reg_alpha': 100, 'min_child_weight': 1, 'max_depth': 16, 'learning_rate': 0.01, 'gamma': 0.2, 'colsample_bytree': 0.7}\n",
            "0.961623 (0.017590) with: {'subsample': 0.75, 'reg_alpha': 0.01, 'min_child_weight': 1, 'max_depth': 10, 'learning_rate': 0.01, 'gamma': 0.4, 'colsample_bytree': 0.9}\n",
            "0.958151 (0.022384) with: {'subsample': 0.8, 'reg_alpha': 0.1, 'min_child_weight': 1, 'max_depth': 12, 'learning_rate': 0.001, 'gamma': 0.1, 'colsample_bytree': 0.8}\n",
            "0.954678 (0.027220) with: {'subsample': 0.85, 'reg_alpha': 1, 'min_child_weight': 3, 'max_depth': 10, 'learning_rate': 0.001, 'gamma': 0.4, 'colsample_bytree': 0.5}\n",
            "0.940716 (0.034256) with: {'subsample': 0.85, 'reg_alpha': 0.1, 'min_child_weight': 5, 'max_depth': 20, 'learning_rate': 0.001, 'gamma': 0.3, 'colsample_bytree': 0.7}\n",
            "0.975585 (0.017749) with: {'subsample': 0.75, 'reg_alpha': 10, 'min_child_weight': 5, 'max_depth': 12, 'learning_rate': 0.1, 'gamma': 0.0, 'colsample_bytree': 0.7}\n",
            "0.947661 (0.022334) with: {'subsample': 0.75, 'reg_alpha': 0.01, 'min_child_weight': 5, 'max_depth': 12, 'learning_rate': 0.01, 'gamma': 0.1, 'colsample_bytree': 0.9}\n",
            "0.000000 (0.000000) with: {'subsample': 0.85, 'reg_alpha': 100, 'min_child_weight': 1, 'max_depth': 18, 'learning_rate': 0.0001, 'gamma': 0.1, 'colsample_bytree': 0.7}\n",
            "0.982529 (0.004911) with: {'subsample': 0.8, 'reg_alpha': 0.01, 'min_child_weight': 1, 'max_depth': 16, 'learning_rate': 0.1, 'gamma': 0.4, 'colsample_bytree': 0.9}\n",
            "0.940716 (0.032027) with: {'subsample': 0.85, 'reg_alpha': 1, 'min_child_weight': 3, 'max_depth': 16, 'learning_rate': 0.0001, 'gamma': 0.4, 'colsample_bytree': 0.7}\n",
            "0.944225 (0.038293) with: {'subsample': 0.85, 'reg_alpha': 1, 'min_child_weight': 5, 'max_depth': 12, 'learning_rate': 0.001, 'gamma': 0.1, 'colsample_bytree': 0.7}\n",
            "0.975548 (0.004807) with: {'subsample': 0.75, 'reg_alpha': 1, 'min_child_weight': 3, 'max_depth': 14, 'learning_rate': 0.1, 'gamma': 0.4, 'colsample_bytree': 0.6}\n",
            "0.947734 (0.036950) with: {'subsample': 0.75, 'reg_alpha': 0.1, 'min_child_weight': 5, 'max_depth': 20, 'learning_rate': 0.001, 'gamma': 0.0, 'colsample_bytree': 0.6}\n",
            "0.961586 (0.012934) with: {'subsample': 0.8, 'reg_alpha': 10, 'min_child_weight': 1, 'max_depth': 12, 'learning_rate': 0.0001, 'gamma': 0.0, 'colsample_bytree': 0.5}\n",
            "0.000000 (0.000000) with: {'subsample': 0.75, 'reg_alpha': 100, 'min_child_weight': 3, 'max_depth': 18, 'learning_rate': 0.01, 'gamma': 0.0, 'colsample_bytree': 0.5}\n",
            "0.982529 (0.004911) with: {'subsample': 0.85, 'reg_alpha': 0.1, 'min_child_weight': 3, 'max_depth': 14, 'learning_rate': 0.1, 'gamma': 0.2, 'colsample_bytree': 0.9}\n",
            "0.933699 (0.027118) with: {'subsample': 0.8, 'reg_alpha': 0.1, 'min_child_weight': 5, 'max_depth': 18, 'learning_rate': 0.0001, 'gamma': 0.2, 'colsample_bytree': 0.8}\n",
            "0.000000 (0.000000) with: {'subsample': 0.75, 'reg_alpha': 100, 'min_child_weight': 1, 'max_depth': 14, 'learning_rate': 0.1, 'gamma': 0.0, 'colsample_bytree': 0.8}\n",
            "0.944225 (0.035281) with: {'subsample': 0.85, 'reg_alpha': 1e-05, 'min_child_weight': 5, 'max_depth': 18, 'learning_rate': 0.01, 'gamma': 0.3, 'colsample_bytree': 0.6}\n",
            "0.958151 (0.022384) with: {'subsample': 0.85, 'reg_alpha': 1e-05, 'min_child_weight': 1, 'max_depth': 14, 'learning_rate': 0.001, 'gamma': 0.0, 'colsample_bytree': 0.7}\n",
            "0.968567 (0.008416) with: {'subsample': 0.75, 'reg_alpha': 0.1, 'min_child_weight': 5, 'max_depth': 20, 'learning_rate': 0.1, 'gamma': 0.1, 'colsample_bytree': 0.9}\n",
            "0.944225 (0.035281) with: {'subsample': 0.75, 'reg_alpha': 0.1, 'min_child_weight': 3, 'max_depth': 14, 'learning_rate': 0.0001, 'gamma': 0.2, 'colsample_bytree': 0.7}\n",
            "0.944189 (0.029764) with: {'subsample': 0.85, 'reg_alpha': 0.01, 'min_child_weight': 5, 'max_depth': 18, 'learning_rate': 0.0001, 'gamma': 0.1, 'colsample_bytree': 0.5}\n",
            "0.944115 (0.012787) with: {'subsample': 0.75, 'reg_alpha': 1e-05, 'min_child_weight': 5, 'max_depth': 12, 'learning_rate': 0.0001, 'gamma': 0.0, 'colsample_bytree': 0.7}\n",
            "0.979020 (0.000103) with: {'subsample': 0.8, 'reg_alpha': 1, 'min_child_weight': 3, 'max_depth': 14, 'learning_rate': 0.1, 'gamma': 0.3, 'colsample_bytree': 0.8}\n",
            "0.000000 (0.000000) with: {'subsample': 0.75, 'reg_alpha': 100, 'min_child_weight': 1, 'max_depth': 12, 'learning_rate': 0.0001, 'gamma': 0.2, 'colsample_bytree': 0.8}\n",
            "0.944189 (0.027169) with: {'subsample': 0.85, 'reg_alpha': 10, 'min_child_weight': 3, 'max_depth': 16, 'learning_rate': 0.001, 'gamma': 0.4, 'colsample_bytree': 0.7}\n",
            "0.961586 (0.012934) with: {'subsample': 0.75, 'reg_alpha': 1, 'min_child_weight': 1, 'max_depth': 18, 'learning_rate': 0.01, 'gamma': 0.0, 'colsample_bytree': 0.9}\n",
            "0.944189 (0.027169) with: {'subsample': 0.85, 'reg_alpha': 10, 'min_child_weight': 3, 'max_depth': 10, 'learning_rate': 0.01, 'gamma': 0.2, 'colsample_bytree': 0.8}\n",
            "0.947734 (0.036950) with: {'subsample': 0.75, 'reg_alpha': 1e-05, 'min_child_weight': 3, 'max_depth': 18, 'learning_rate': 0.001, 'gamma': 0.0, 'colsample_bytree': 0.6}\n",
            "0.940716 (0.032027) with: {'subsample': 0.75, 'reg_alpha': 1, 'min_child_weight': 3, 'max_depth': 10, 'learning_rate': 0.0001, 'gamma': 0.2, 'colsample_bytree': 0.9}\n",
            "0.947697 (0.030542) with: {'subsample': 0.85, 'reg_alpha': 0.01, 'min_child_weight': 3, 'max_depth': 12, 'learning_rate': 0.01, 'gamma': 0.4, 'colsample_bytree': 0.7}\n",
            "0.965058 (0.009823) with: {'subsample': 0.75, 'reg_alpha': 0.01, 'min_child_weight': 1, 'max_depth': 14, 'learning_rate': 0.0001, 'gamma': 0.0, 'colsample_bytree': 0.5}\n",
            "0.961659 (0.029887) with: {'subsample': 0.75, 'reg_alpha': 10, 'min_child_weight': 5, 'max_depth': 12, 'learning_rate': 0.001, 'gamma': 0.2, 'colsample_bytree': 0.5}\n",
            "0.951170 (0.025867) with: {'subsample': 0.8, 'reg_alpha': 0.01, 'min_child_weight': 3, 'max_depth': 20, 'learning_rate': 0.01, 'gamma': 0.1, 'colsample_bytree': 0.6}\n",
            "0.937171 (0.022283) with: {'subsample': 0.8, 'reg_alpha': 10, 'min_child_weight': 3, 'max_depth': 18, 'learning_rate': 0.0001, 'gamma': 0.4, 'colsample_bytree': 0.9}\n",
            "0.982529 (0.004911) with: {'subsample': 0.75, 'reg_alpha': 1, 'min_child_weight': 1, 'max_depth': 10, 'learning_rate': 0.1, 'gamma': 0.0, 'colsample_bytree': 0.9}\n",
            "0.961623 (0.017590) with: {'subsample': 0.85, 'reg_alpha': 1e-05, 'min_child_weight': 1, 'max_depth': 14, 'learning_rate': 0.01, 'gamma': 0.4, 'colsample_bytree': 0.9}\n",
            "0.947697 (0.030542) with: {'subsample': 0.8, 'reg_alpha': 0.1, 'min_child_weight': 3, 'max_depth': 16, 'learning_rate': 0.01, 'gamma': 0.0, 'colsample_bytree': 0.7}\n",
            "0.000000 (0.000000) with: {'subsample': 0.85, 'reg_alpha': 100, 'min_child_weight': 1, 'max_depth': 12, 'learning_rate': 0.1, 'gamma': 0.2, 'colsample_bytree': 0.8}\n",
            "0.965095 (0.012885) with: {'subsample': 0.8, 'reg_alpha': 0.01, 'min_child_weight': 1, 'max_depth': 10, 'learning_rate': 0.001, 'gamma': 0.4, 'colsample_bytree': 0.5}\n",
            "0.982529 (0.004911) with: {'subsample': 0.75, 'reg_alpha': 0.1, 'min_child_weight': 3, 'max_depth': 20, 'learning_rate': 0.1, 'gamma': 0.0, 'colsample_bytree': 0.8}\n",
            "0.982529 (0.004911) with: {'subsample': 0.85, 'reg_alpha': 1, 'min_child_weight': 1, 'max_depth': 10, 'learning_rate': 0.1, 'gamma': 0.0, 'colsample_bytree': 0.8}\n",
            "0.937135 (0.016833) with: {'subsample': 0.85, 'reg_alpha': 10, 'min_child_weight': 1, 'max_depth': 14, 'learning_rate': 0.001, 'gamma': 0.4, 'colsample_bytree': 0.9}\n",
            "0.958151 (0.022384) with: {'subsample': 0.75, 'reg_alpha': 0.1, 'min_child_weight': 1, 'max_depth': 18, 'learning_rate': 0.001, 'gamma': 0.3, 'colsample_bytree': 0.8}\n",
            "0.954642 (0.021298) with: {'subsample': 0.8, 'reg_alpha': 1, 'min_child_weight': 1, 'max_depth': 12, 'learning_rate': 0.001, 'gamma': 0.4, 'colsample_bytree': 0.7}\n",
            "0.000000 (0.000000) with: {'subsample': 0.75, 'reg_alpha': 100, 'min_child_weight': 3, 'max_depth': 14, 'learning_rate': 0.001, 'gamma': 0.0, 'colsample_bytree': 0.6}\n",
            "0.982529 (0.004911) with: {'subsample': 0.85, 'reg_alpha': 0.01, 'min_child_weight': 1, 'max_depth': 12, 'learning_rate': 0.1, 'gamma': 0.2, 'colsample_bytree': 0.6}\n",
            "0.979057 (0.014810) with: {'subsample': 0.75, 'reg_alpha': 10, 'min_child_weight': 5, 'max_depth': 12, 'learning_rate': 0.1, 'gamma': 0.4, 'colsample_bytree': 0.5}\n",
            "0.961623 (0.017590) with: {'subsample': 0.8, 'reg_alpha': 0.1, 'min_child_weight': 1, 'max_depth': 12, 'learning_rate': 0.01, 'gamma': 0.1, 'colsample_bytree': 0.9}\n",
            "0.972039 (0.004886) with: {'subsample': 0.85, 'reg_alpha': 0.01, 'min_child_weight': 5, 'max_depth': 16, 'learning_rate': 0.1, 'gamma': 0.2, 'colsample_bytree': 0.7}\n",
            "0.954642 (0.021298) with: {'subsample': 0.75, 'reg_alpha': 0.1, 'min_child_weight': 5, 'max_depth': 20, 'learning_rate': 0.01, 'gamma': 0.0, 'colsample_bytree': 0.6}\n",
            "0.965095 (0.012885) with: {'subsample': 0.8, 'reg_alpha': 1e-05, 'min_child_weight': 1, 'max_depth': 20, 'learning_rate': 0.01, 'gamma': 0.0, 'colsample_bytree': 0.7}\n",
            "0.979020 (0.000103) with: {'subsample': 0.85, 'reg_alpha': 0.1, 'min_child_weight': 3, 'max_depth': 12, 'learning_rate': 0.1, 'gamma': 0.4, 'colsample_bytree': 0.8}\n",
            "0.947697 (0.030542) with: {'subsample': 0.8, 'reg_alpha': 0.1, 'min_child_weight': 3, 'max_depth': 14, 'learning_rate': 0.01, 'gamma': 0.1, 'colsample_bytree': 0.7}\n",
            "0.982529 (0.004911) with: {'subsample': 0.8, 'reg_alpha': 1e-05, 'min_child_weight': 3, 'max_depth': 20, 'learning_rate': 0.1, 'gamma': 0.1, 'colsample_bytree': 0.6}\n",
            "0.972039 (0.004886) with: {'subsample': 0.75, 'reg_alpha': 10, 'min_child_weight': 1, 'max_depth': 16, 'learning_rate': 0.1, 'gamma': 0.2, 'colsample_bytree': 0.8}\n",
            "0.968567 (0.008416) with: {'subsample': 0.8, 'reg_alpha': 0.1, 'min_child_weight': 1, 'max_depth': 12, 'learning_rate': 0.01, 'gamma': 0.3, 'colsample_bytree': 0.5}\n",
            "0.979020 (0.000103) with: {'subsample': 0.8, 'reg_alpha': 0.1, 'min_child_weight': 3, 'max_depth': 16, 'learning_rate': 0.1, 'gamma': 0.2, 'colsample_bytree': 0.6}\n",
            "0.951170 (0.024397) with: {'subsample': 0.85, 'reg_alpha': 1, 'min_child_weight': 1, 'max_depth': 14, 'learning_rate': 0.0001, 'gamma': 0.1, 'colsample_bytree': 0.8}\n",
            "0.940716 (0.032027) with: {'subsample': 0.85, 'reg_alpha': 0.1, 'min_child_weight': 5, 'max_depth': 14, 'learning_rate': 0.01, 'gamma': 0.3, 'colsample_bytree': 0.9}\n"
          ],
          "name": "stdout"
        }
      ]
    },
    {
      "cell_type": "markdown",
      "metadata": {
        "id": "0nd2B8VNh0OI"
      },
      "source": [
        "## Random Search Final Model"
      ]
    },
    {
      "cell_type": "code",
      "metadata": {
        "id": "oCjxhBDBdtIn"
      },
      "source": [
        "xgboost_rs = XGBClassifier(seed=0, subsample=0.85, reg_alpha=10.1, min_child_weight=1, max_depth=18, learning_rate=0.1, gamma=0.0, colsample_bytree=0.5).fit(X_train,y_train)"
      ],
      "execution_count": 99,
      "outputs": []
    },
    {
      "cell_type": "markdown",
      "metadata": {
        "id": "9f2IHtLWim4Y"
      },
      "source": [
        "## Random Search Prediction"
      ]
    },
    {
      "cell_type": "code",
      "metadata": {
        "id": "fe9cXn5bdtEr"
      },
      "source": [
        "y_test_prob = xgboost_rs.predict_proba(X_test)[:,1]\n",
        "y_test_predict = xgboost_rs.predict(X_test)"
      ],
      "execution_count": 100,
      "outputs": []
    },
    {
      "cell_type": "code",
      "metadata": {
        "id": "dbDW6vIxdtA_",
        "colab": {
          "base_uri": "https://localhost:8080/",
          "height": 257
        },
        "outputId": "65ded6d3-a753-4e7f-fb99-03750d0a8af5"
      },
      "source": [
        "testPred = X_test.copy()\n",
        "testPred['y_test'], testPred['y_test_prob'], testPred['y_test_predict']=[y_test,y_test_prob,y_test_predict]\n",
        "testPred.head()"
      ],
      "execution_count": 101,
      "outputs": [
        {
          "output_type": "execute_result",
          "data": {
            "text/html": [
              "<div>\n",
              "<style scoped>\n",
              "    .dataframe tbody tr th:only-of-type {\n",
              "        vertical-align: middle;\n",
              "    }\n",
              "\n",
              "    .dataframe tbody tr th {\n",
              "        vertical-align: top;\n",
              "    }\n",
              "\n",
              "    .dataframe thead th {\n",
              "        text-align: right;\n",
              "    }\n",
              "</style>\n",
              "<table border=\"1\" class=\"dataframe\">\n",
              "  <thead>\n",
              "    <tr style=\"text-align: right;\">\n",
              "      <th></th>\n",
              "      <th>area error</th>\n",
              "      <th>compactness error</th>\n",
              "      <th>concave points error</th>\n",
              "      <th>concavity error</th>\n",
              "      <th>fractal dimension error</th>\n",
              "      <th>mean area</th>\n",
              "      <th>mean compactness</th>\n",
              "      <th>mean concave points</th>\n",
              "      <th>mean concavity</th>\n",
              "      <th>mean fractal dimension</th>\n",
              "      <th>mean perimeter</th>\n",
              "      <th>mean radius</th>\n",
              "      <th>mean smoothness</th>\n",
              "      <th>mean symmetry</th>\n",
              "      <th>mean texture</th>\n",
              "      <th>perimeter error</th>\n",
              "      <th>radius error</th>\n",
              "      <th>smoothness error</th>\n",
              "      <th>symmetry error</th>\n",
              "      <th>texture error</th>\n",
              "      <th>worst area</th>\n",
              "      <th>worst compactness</th>\n",
              "      <th>worst concave points</th>\n",
              "      <th>worst concavity</th>\n",
              "      <th>worst fractal dimension</th>\n",
              "      <th>worst perimeter</th>\n",
              "      <th>worst radius</th>\n",
              "      <th>worst smoothness</th>\n",
              "      <th>worst symmetry</th>\n",
              "      <th>worst texture</th>\n",
              "      <th>y_test</th>\n",
              "      <th>y_test_prob</th>\n",
              "      <th>y_test_predict</th>\n",
              "    </tr>\n",
              "  </thead>\n",
              "  <tbody>\n",
              "    <tr>\n",
              "      <th>204</th>\n",
              "      <td>-0.221053</td>\n",
              "      <td>-0.355912</td>\n",
              "      <td>-0.231333</td>\n",
              "      <td>-0.161929</td>\n",
              "      <td>-0.079018</td>\n",
              "      <td>-0.491999</td>\n",
              "      <td>0.027651</td>\n",
              "      <td>-0.276232</td>\n",
              "      <td>-0.109847</td>\n",
              "      <td>0.132176</td>\n",
              "      <td>-0.448110</td>\n",
              "      <td>-0.470694</td>\n",
              "      <td>0.234114</td>\n",
              "      <td>0.413949</td>\n",
              "      <td>-0.160486</td>\n",
              "      <td>-0.182696</td>\n",
              "      <td>-0.032743</td>\n",
              "      <td>-0.029327</td>\n",
              "      <td>-0.329612</td>\n",
              "      <td>-0.313616</td>\n",
              "      <td>-0.356299</td>\n",
              "      <td>-0.104741</td>\n",
              "      <td>-0.199563</td>\n",
              "      <td>-0.024412</td>\n",
              "      <td>0.196958</td>\n",
              "      <td>-0.333935</td>\n",
              "      <td>-0.269040</td>\n",
              "      <td>0.448503</td>\n",
              "      <td>0.183204</td>\n",
              "      <td>-0.168905</td>\n",
              "      <td>1</td>\n",
              "      <td>0.957385</td>\n",
              "      <td>1</td>\n",
              "    </tr>\n",
              "    <tr>\n",
              "      <th>70</th>\n",
              "      <td>1.225780</td>\n",
              "      <td>-0.500666</td>\n",
              "      <td>0.308825</td>\n",
              "      <td>-0.305168</td>\n",
              "      <td>-0.793157</td>\n",
              "      <td>1.351264</td>\n",
              "      <td>-0.027309</td>\n",
              "      <td>0.789060</td>\n",
              "      <td>0.241064</td>\n",
              "      <td>-1.160679</td>\n",
              "      <td>1.302886</td>\n",
              "      <td>1.366877</td>\n",
              "      <td>-0.446227</td>\n",
              "      <td>-0.838325</td>\n",
              "      <td>0.470149</td>\n",
              "      <td>1.296951</td>\n",
              "      <td>1.384594</td>\n",
              "      <td>-0.865695</td>\n",
              "      <td>-0.809083</td>\n",
              "      <td>-0.760851</td>\n",
              "      <td>1.732277</td>\n",
              "      <td>-0.131459</td>\n",
              "      <td>0.978975</td>\n",
              "      <td>-0.016736</td>\n",
              "      <td>-1.000578</td>\n",
              "      <td>1.746605</td>\n",
              "      <td>1.779007</td>\n",
              "      <td>-0.572873</td>\n",
              "      <td>-0.565828</td>\n",
              "      <td>0.147012</td>\n",
              "      <td>0</td>\n",
              "      <td>0.058338</td>\n",
              "      <td>0</td>\n",
              "    </tr>\n",
              "    <tr>\n",
              "      <th>131</th>\n",
              "      <td>0.175418</td>\n",
              "      <td>-0.594561</td>\n",
              "      <td>-0.140496</td>\n",
              "      <td>-0.124794</td>\n",
              "      <td>-0.504551</td>\n",
              "      <td>0.267377</td>\n",
              "      <td>0.340350</td>\n",
              "      <td>0.824140</td>\n",
              "      <td>0.725686</td>\n",
              "      <td>-0.685782</td>\n",
              "      <td>0.400820</td>\n",
              "      <td>0.378508</td>\n",
              "      <td>0.913744</td>\n",
              "      <td>0.435855</td>\n",
              "      <td>0.044296</td>\n",
              "      <td>0.112838</td>\n",
              "      <td>0.249497</td>\n",
              "      <td>-0.267004</td>\n",
              "      <td>-0.795764</td>\n",
              "      <td>-0.781898</td>\n",
              "      <td>0.484159</td>\n",
              "      <td>-0.094562</td>\n",
              "      <td>0.560244</td>\n",
              "      <td>0.512911</td>\n",
              "      <td>-0.208132</td>\n",
              "      <td>0.525386</td>\n",
              "      <td>0.619345</td>\n",
              "      <td>0.974533</td>\n",
              "      <td>-0.103143</td>\n",
              "      <td>0.052562</td>\n",
              "      <td>0</td>\n",
              "      <td>0.059088</td>\n",
              "      <td>0</td>\n",
              "    </tr>\n",
              "    <tr>\n",
              "      <th>431</th>\n",
              "      <td>-0.547998</td>\n",
              "      <td>0.417599</td>\n",
              "      <td>-0.020461</td>\n",
              "      <td>0.554262</td>\n",
              "      <td>0.835972</td>\n",
              "      <td>-0.532101</td>\n",
              "      <td>0.516599</td>\n",
              "      <td>-0.539846</td>\n",
              "      <td>-0.142993</td>\n",
              "      <td>1.165609</td>\n",
              "      <td>-0.432457</td>\n",
              "      <td>-0.490575</td>\n",
              "      <td>0.643316</td>\n",
              "      <td>-0.002259</td>\n",
              "      <td>-0.374576</td>\n",
              "      <td>-0.327740</td>\n",
              "      <td>-0.824604</td>\n",
              "      <td>0.986380</td>\n",
              "      <td>0.160756</td>\n",
              "      <td>0.441152</td>\n",
              "      <td>-0.641257</td>\n",
              "      <td>0.054930</td>\n",
              "      <td>-0.622863</td>\n",
              "      <td>-0.152986</td>\n",
              "      <td>0.534440</td>\n",
              "      <td>-0.525756</td>\n",
              "      <td>-0.701842</td>\n",
              "      <td>0.553709</td>\n",
              "      <td>-0.557739</td>\n",
              "      <td>-0.450625</td>\n",
              "      <td>1</td>\n",
              "      <td>0.963692</td>\n",
              "      <td>1</td>\n",
              "    </tr>\n",
              "    <tr>\n",
              "      <th>540</th>\n",
              "      <td>-0.428529</td>\n",
              "      <td>0.874216</td>\n",
              "      <td>0.509965</td>\n",
              "      <td>0.783709</td>\n",
              "      <td>0.649494</td>\n",
              "      <td>-0.716683</td>\n",
              "      <td>0.145150</td>\n",
              "      <td>-0.592724</td>\n",
              "      <td>-0.269044</td>\n",
              "      <td>0.711976</td>\n",
              "      <td>-0.713374</td>\n",
              "      <td>-0.734828</td>\n",
              "      <td>0.247636</td>\n",
              "      <td>0.023298</td>\n",
              "      <td>-1.128546</td>\n",
              "      <td>-0.612877</td>\n",
              "      <td>-0.457547</td>\n",
              "      <td>1.703076</td>\n",
              "      <td>-0.259386</td>\n",
              "      <td>0.999969</td>\n",
              "      <td>-0.743216</td>\n",
              "      <td>-0.270137</td>\n",
              "      <td>-0.691687</td>\n",
              "      <td>-0.443716</td>\n",
              "      <td>-0.144403</td>\n",
              "      <td>-0.848337</td>\n",
              "      <td>-0.830233</td>\n",
              "      <td>0.093432</td>\n",
              "      <td>-0.924975</td>\n",
              "      <td>-0.976611</td>\n",
              "      <td>1</td>\n",
              "      <td>0.966031</td>\n",
              "      <td>1</td>\n",
              "    </tr>\n",
              "  </tbody>\n",
              "</table>\n",
              "</div>"
            ],
            "text/plain": [
              "     area error  compactness error  ...  y_test_prob  y_test_predict\n",
              "204   -0.221053          -0.355912  ...     0.957385               1\n",
              "70     1.225780          -0.500666  ...     0.058338               0\n",
              "131    0.175418          -0.594561  ...     0.059088               0\n",
              "431   -0.547998           0.417599  ...     0.963692               1\n",
              "540   -0.428529           0.874216  ...     0.966031               1\n",
              "\n",
              "[5 rows x 33 columns]"
            ]
          },
          "metadata": {
            "tags": []
          },
          "execution_count": 101
        }
      ]
    },
    {
      "cell_type": "markdown",
      "metadata": {
        "id": "p4doPgkijJ_0"
      },
      "source": [
        "## Random Search Model Performance"
      ]
    },
    {
      "cell_type": "code",
      "metadata": {
        "id": "BG9Z9UMuds9l",
        "colab": {
          "base_uri": "https://localhost:8080/",
          "height": 265
        },
        "outputId": "49a7fcd4-e49e-40fd-dbbd-8ff968693ba9"
      },
      "source": [
        "#ROC/AUC Curve\n",
        "from sklearn import metrics\n",
        "# y_test_prob=et_gs.predict_proba(X_test)[:,1]\n",
        "fpr,tpr, _=metrics.roc_curve(y_test,y_test_prob)\n",
        "auc=metrics.roc_auc_score(y_test,y_test_prob)\n",
        "plt.plot(fpr,tpr,label=\"area=\"+str(auc))\n",
        "plt.legend(loc=4)\n",
        "plt.show()"
      ],
      "execution_count": 102,
      "outputs": [
        {
          "output_type": "display_data",
          "data": {
            "image/png": "[encoded data removed]",
            "text/plain": [
              "<Figure size 432x288 with 1 Axes>"
            ]
          },
          "metadata": {
            "tags": [],
            "needs_background": "light"
          }
        }
      ]
    },
    {
      "cell_type": "code",
      "metadata": {
        "id": "ABDo4jZkds6-",
        "colab": {
          "base_uri": "https://localhost:8080/"
        },
        "outputId": "887fb189-df2d-4f36-8b13-729b001baf07"
      },
      "source": [
        "log_loss(y_test,y_test_prob)"
      ],
      "execution_count": 103,
      "outputs": [
        {
          "output_type": "execute_result",
          "data": {
            "text/plain": [
              "0.14446483523045717"
            ]
          },
          "metadata": {
            "tags": []
          },
          "execution_count": 103
        }
      ]
    },
    {
      "cell_type": "code",
      "metadata": {
        "id": "uE2LGF5Cds2Y",
        "colab": {
          "base_uri": "https://localhost:8080/"
        },
        "outputId": "2b53b678-e8ee-4966-aeda-df366b28f0cf"
      },
      "source": [
        "cm = confusion_matrix(y_test, y_test_predict)\n",
        "cmtx = pd.DataFrame(cm, index=['true:no', 'true:yes'], columns=['pred:no', 'pred:yes'])\n",
        "print(cmtx)"
      ],
      "execution_count": 104,
      "outputs": [
        {
          "output_type": "stream",
          "text": [
            "          pred:no  pred:yes\n",
            "true:no        40         3\n",
            "true:yes        2        69\n"
          ],
          "name": "stdout"
        }
      ]
    },
    {
      "cell_type": "code",
      "metadata": {
        "id": "e1Aw-nUgdszm",
        "colab": {
          "base_uri": "https://localhost:8080/"
        },
        "outputId": "e2cfd00b-1a77-491c-fe05-aa3741ffdcb7"
      },
      "source": [
        "print(classification_report(y_test, y_test_predict, digits=4))"
      ],
      "execution_count": 105,
      "outputs": [
        {
          "output_type": "stream",
          "text": [
            "              precision    recall  f1-score   support\n",
            "\n",
            "           0     0.9524    0.9302    0.9412        43\n",
            "           1     0.9583    0.9718    0.9650        71\n",
            "\n",
            "    accuracy                         0.9561       114\n",
            "   macro avg     0.9554    0.9510    0.9531       114\n",
            "weighted avg     0.9561    0.9561    0.9560       114\n",
            "\n"
          ],
          "name": "stdout"
        }
      ]
    },
    {
      "cell_type": "markdown",
      "metadata": {
        "id": "Cv4IRopolh3r"
      },
      "source": [
        "## Random Search Feature Importance"
      ]
    },
    {
      "cell_type": "code",
      "metadata": {
        "id": "R73Fh7WPdswZ",
        "colab": {
          "base_uri": "https://localhost:8080/",
          "height": 969
        },
        "outputId": "09e2862f-ed3b-443c-b370-8bbf44578ceb"
      },
      "source": [
        "Coeff = pd.concat([pd.DataFrame(X.columns),pd.DataFrame(np.transpose(xgboost_rs.feature_importances_))], axis = 1)\n",
        "Coeff.columns=['Variable','Feature_Importance']\n",
        "CoeffSorted = Coeff.sort_values(by='Feature_Importance', ascending=False)\n",
        "CoeffSorted"
      ],
      "execution_count": 106,
      "outputs": [
        {
          "output_type": "execute_result",
          "data": {
            "text/html": [
              "<div>\n",
              "<style scoped>\n",
              "    .dataframe tbody tr th:only-of-type {\n",
              "        vertical-align: middle;\n",
              "    }\n",
              "\n",
              "    .dataframe tbody tr th {\n",
              "        vertical-align: top;\n",
              "    }\n",
              "\n",
              "    .dataframe thead th {\n",
              "        text-align: right;\n",
              "    }\n",
              "</style>\n",
              "<table border=\"1\" class=\"dataframe\">\n",
              "  <thead>\n",
              "    <tr style=\"text-align: right;\">\n",
              "      <th></th>\n",
              "      <th>Variable</th>\n",
              "      <th>Feature_Importance</th>\n",
              "    </tr>\n",
              "  </thead>\n",
              "  <tbody>\n",
              "    <tr>\n",
              "      <th>7</th>\n",
              "      <td>mean concave points</td>\n",
              "      <td>0.298057</td>\n",
              "    </tr>\n",
              "    <tr>\n",
              "      <th>25</th>\n",
              "      <td>worst perimeter</td>\n",
              "      <td>0.216578</td>\n",
              "    </tr>\n",
              "    <tr>\n",
              "      <th>22</th>\n",
              "      <td>worst concave points</td>\n",
              "      <td>0.089430</td>\n",
              "    </tr>\n",
              "    <tr>\n",
              "      <th>20</th>\n",
              "      <td>worst area</td>\n",
              "      <td>0.084101</td>\n",
              "    </tr>\n",
              "    <tr>\n",
              "      <th>21</th>\n",
              "      <td>worst compactness</td>\n",
              "      <td>0.052967</td>\n",
              "    </tr>\n",
              "    <tr>\n",
              "      <th>8</th>\n",
              "      <td>mean concavity</td>\n",
              "      <td>0.045955</td>\n",
              "    </tr>\n",
              "    <tr>\n",
              "      <th>5</th>\n",
              "      <td>mean area</td>\n",
              "      <td>0.034902</td>\n",
              "    </tr>\n",
              "    <tr>\n",
              "      <th>26</th>\n",
              "      <td>worst radius</td>\n",
              "      <td>0.026963</td>\n",
              "    </tr>\n",
              "    <tr>\n",
              "      <th>29</th>\n",
              "      <td>worst texture</td>\n",
              "      <td>0.021188</td>\n",
              "    </tr>\n",
              "    <tr>\n",
              "      <th>0</th>\n",
              "      <td>area error</td>\n",
              "      <td>0.017616</td>\n",
              "    </tr>\n",
              "    <tr>\n",
              "      <th>14</th>\n",
              "      <td>mean texture</td>\n",
              "      <td>0.012453</td>\n",
              "    </tr>\n",
              "    <tr>\n",
              "      <th>23</th>\n",
              "      <td>worst concavity</td>\n",
              "      <td>0.012316</td>\n",
              "    </tr>\n",
              "    <tr>\n",
              "      <th>15</th>\n",
              "      <td>perimeter error</td>\n",
              "      <td>0.010691</td>\n",
              "    </tr>\n",
              "    <tr>\n",
              "      <th>3</th>\n",
              "      <td>concavity error</td>\n",
              "      <td>0.010188</td>\n",
              "    </tr>\n",
              "    <tr>\n",
              "      <th>10</th>\n",
              "      <td>mean perimeter</td>\n",
              "      <td>0.009936</td>\n",
              "    </tr>\n",
              "    <tr>\n",
              "      <th>9</th>\n",
              "      <td>mean fractal dimension</td>\n",
              "      <td>0.009588</td>\n",
              "    </tr>\n",
              "    <tr>\n",
              "      <th>1</th>\n",
              "      <td>compactness error</td>\n",
              "      <td>0.008655</td>\n",
              "    </tr>\n",
              "    <tr>\n",
              "      <th>28</th>\n",
              "      <td>worst symmetry</td>\n",
              "      <td>0.005520</td>\n",
              "    </tr>\n",
              "    <tr>\n",
              "      <th>16</th>\n",
              "      <td>radius error</td>\n",
              "      <td>0.005509</td>\n",
              "    </tr>\n",
              "    <tr>\n",
              "      <th>19</th>\n",
              "      <td>texture error</td>\n",
              "      <td>0.005131</td>\n",
              "    </tr>\n",
              "    <tr>\n",
              "      <th>4</th>\n",
              "      <td>fractal dimension error</td>\n",
              "      <td>0.005088</td>\n",
              "    </tr>\n",
              "    <tr>\n",
              "      <th>27</th>\n",
              "      <td>worst smoothness</td>\n",
              "      <td>0.004399</td>\n",
              "    </tr>\n",
              "    <tr>\n",
              "      <th>12</th>\n",
              "      <td>mean smoothness</td>\n",
              "      <td>0.004281</td>\n",
              "    </tr>\n",
              "    <tr>\n",
              "      <th>18</th>\n",
              "      <td>symmetry error</td>\n",
              "      <td>0.004138</td>\n",
              "    </tr>\n",
              "    <tr>\n",
              "      <th>17</th>\n",
              "      <td>smoothness error</td>\n",
              "      <td>0.002482</td>\n",
              "    </tr>\n",
              "    <tr>\n",
              "      <th>6</th>\n",
              "      <td>mean compactness</td>\n",
              "      <td>0.001275</td>\n",
              "    </tr>\n",
              "    <tr>\n",
              "      <th>24</th>\n",
              "      <td>worst fractal dimension</td>\n",
              "      <td>0.000380</td>\n",
              "    </tr>\n",
              "    <tr>\n",
              "      <th>11</th>\n",
              "      <td>mean radius</td>\n",
              "      <td>0.000215</td>\n",
              "    </tr>\n",
              "    <tr>\n",
              "      <th>13</th>\n",
              "      <td>mean symmetry</td>\n",
              "      <td>0.000000</td>\n",
              "    </tr>\n",
              "    <tr>\n",
              "      <th>2</th>\n",
              "      <td>concave points error</td>\n",
              "      <td>0.000000</td>\n",
              "    </tr>\n",
              "  </tbody>\n",
              "</table>\n",
              "</div>"
            ],
            "text/plain": [
              "                   Variable  Feature_Importance\n",
              "7       mean concave points            0.298057\n",
              "25          worst perimeter            0.216578\n",
              "22     worst concave points            0.089430\n",
              "20               worst area            0.084101\n",
              "21        worst compactness            0.052967\n",
              "8            mean concavity            0.045955\n",
              "5                 mean area            0.034902\n",
              "26             worst radius            0.026963\n",
              "29            worst texture            0.021188\n",
              "0                area error            0.017616\n",
              "14             mean texture            0.012453\n",
              "23          worst concavity            0.012316\n",
              "15          perimeter error            0.010691\n",
              "3           concavity error            0.010188\n",
              "10           mean perimeter            0.009936\n",
              "9    mean fractal dimension            0.009588\n",
              "1         compactness error            0.008655\n",
              "28           worst symmetry            0.005520\n",
              "16             radius error            0.005509\n",
              "19            texture error            0.005131\n",
              "4   fractal dimension error            0.005088\n",
              "27         worst smoothness            0.004399\n",
              "12          mean smoothness            0.004281\n",
              "18           symmetry error            0.004138\n",
              "17         smoothness error            0.002482\n",
              "6          mean compactness            0.001275\n",
              "24  worst fractal dimension            0.000380\n",
              "11              mean radius            0.000215\n",
              "13            mean symmetry            0.000000\n",
              "2      concave points error            0.000000"
            ]
          },
          "metadata": {
            "tags": []
          },
          "execution_count": 106
        }
      ]
    },
    {
      "cell_type": "code",
      "metadata": {
        "id": "v8Xt-gdNdsr-",
        "colab": {
          "base_uri": "https://localhost:8080/",
          "height": 297
        },
        "outputId": "6e32e623-96e6-4686-cda6-f9bc14e8ba50"
      },
      "source": [
        "ax = sns.barplot(x='Feature_Importance', y='Variable', data=CoeffSorted, order=CoeffSorted['Variable'])\n",
        "ax.set_xlabel('Feature Importance')\n",
        "ax.set_ylabel('Features')"
      ],
      "execution_count": 107,
      "outputs": [
        {
          "output_type": "execute_result",
          "data": {
            "text/plain": [
              "Text(0, 0.5, 'Features')"
            ]
          },
          "metadata": {
            "tags": []
          },
          "execution_count": 107
        },
        {
          "output_type": "display_data",
          "data": {
            "image/png": "[encoded data removed]",
            "text/plain": [
              "<Figure size 432x288 with 1 Axes>"
            ]
          },
          "metadata": {
            "tags": [],
            "needs_background": "light"
          }
        }
      ]
    },
    {
      "cell_type": "markdown",
      "metadata": {
        "id": "XwifHLlXmPl7"
      },
      "source": [
        "## Random Search Prediction Distribution"
      ]
    },
    {
      "cell_type": "code",
      "metadata": {
        "id": "mPVwIWpVdsot",
        "colab": {
          "base_uri": "https://localhost:8080/",
          "height": 317
        },
        "outputId": "68f57dde-4ae0-4f57-a941-2f835239f977"
      },
      "source": [
        "# Plot the predicted probability distribution\n",
        "sns.distplot(y_test_prob, label='Predicted Probability', kde=False)"
      ],
      "execution_count": 108,
      "outputs": [
        {
          "output_type": "stream",
          "text": [
            "/usr/local/lib/python3.7/dist-packages/seaborn/distributions.py:2557: FutureWarning: `distplot` is a deprecated function and will be removed in a future version. Please adapt your code to use either `displot` (a figure-level function with similar flexibility) or `histplot` (an axes-level function for histograms).\n",
            "  warnings.warn(msg, FutureWarning)\n"
          ],
          "name": "stderr"
        },
        {
          "output_type": "execute_result",
          "data": {
            "text/plain": [
              "<matplotlib.axes._subplots.AxesSubplot at 0x7f92213ec410>"
            ]
          },
          "metadata": {
            "tags": []
          },
          "execution_count": 108
        },
        {
          "output_type": "display_data",
          "data": {
            "image/png": "[encoded data removed]",
            "text/plain": [
              "<Figure size 432x288 with 1 Axes>"
            ]
          },
          "metadata": {
            "tags": [],
            "needs_background": "light"
          }
        }
      ]
    },
    {
      "cell_type": "code",
      "metadata": {
        "id": "pK2KEwSfdslG",
        "colab": {
          "base_uri": "https://localhost:8080/",
          "height": 349
        },
        "outputId": "3bd6adcd-d268-4e00-e888-e3eb665a27a3"
      },
      "source": [
        "# this is to plot the kde by label\n",
        "sns.distplot(testPred[testPred['y_test']==1]['y_test_prob'],label='1', kde=False);\n",
        "sns.distplot(testPred[testPred['y_test']==0]['y_test_prob'],label='0', kde=False);\n",
        "\n",
        "# add labels\n",
        "plt.xlabel('Predicted Probability')\n",
        "plt.ylabel('Frequency')\n",
        "plt.show()"
      ],
      "execution_count": 109,
      "outputs": [
        {
          "output_type": "stream",
          "text": [
            "/usr/local/lib/python3.7/dist-packages/seaborn/distributions.py:2557: FutureWarning: `distplot` is a deprecated function and will be removed in a future version. Please adapt your code to use either `displot` (a figure-level function with similar flexibility) or `histplot` (an axes-level function for histograms).\n",
            "  warnings.warn(msg, FutureWarning)\n",
            "/usr/local/lib/python3.7/dist-packages/seaborn/distributions.py:2557: FutureWarning: `distplot` is a deprecated function and will be removed in a future version. Please adapt your code to use either `displot` (a figure-level function with similar flexibility) or `histplot` (an axes-level function for histograms).\n",
            "  warnings.warn(msg, FutureWarning)\n"
          ],
          "name": "stderr"
        },
        {
          "output_type": "display_data",
          "data": {
            "image/png": "[encoded data removed]",
            "text/plain": [
              "<Figure size 432x288 with 1 Axes>"
            ]
          },
          "metadata": {
            "tags": [],
            "needs_background": "light"
          }
        }
      ]
    },
    {
      "cell_type": "markdown",
      "metadata": {
        "id": "iUcQPy_in8fY"
      },
      "source": [
        "## Bayesian Optimization"
      ]
    },
    {
      "cell_type": "code",
      "metadata": {
        "id": "sYCKpmz-dsgp"
      },
      "source": [
        "N_FOLDS = 3\n",
        "MAX_EVALS = 100"
      ],
      "execution_count": 110,
      "outputs": []
    },
    {
      "cell_type": "code",
      "metadata": {
        "id": "zcETVkW4Yx2u"
      },
      "source": [
        "# Learning rate\n",
        "learning_rate=[0.0001, 0.001, 0.01, 0.1] \n",
        "n_estimators=[100,300,500,1000]\n",
        "# The maximum depth of a tree, same as GBM.\n",
        "max_depth=range(10,21,2)\n",
        "# This is similar to min_child_leaf in GBM but not exactly. This refers to min “sum of weights” of observations while GBM has min “number of observations”.    \n",
        "min_child_weight=range(1,6,2)\n",
        "#  node is split only when the resulting split gives a positive reduction in the loss function. Gamma specifies the minimum loss reduction required to make a split.    \n",
        "gamma=[i/10.0 for i in range(0,5)]\n",
        "# Same as the subsample of GBM. Denotes the fraction of observations to be randomly samples for each tree.    \n",
        "subsample=[i/10.0 for i in range(6,10)]\n",
        "# Similar to max_features in GBM. Denotes the fraction of columns to be randomly samples for each tree.\n",
        "colsample_bytree=[i/10.0 for i in range(5,10)]\n",
        "# L1 regularization\n",
        "reg_alpha=[1e-5, 1e-2, 0.1, 1, 10, 100]\n",
        "    \n",
        "param = dict(learning_rate=learning_rate, n_estimators=n_estimators,max_depth=max_depth,min_child_weight=min_child_weight,gamma=gamma,subsample=subsample,colsample_bytree=colsample_bytree,reg_alpha=reg_alpha)"
      ],
      "execution_count": 111,
      "outputs": []
    },
    {
      "cell_type": "code",
      "metadata": {
        "id": "XqH7kog5oYES",
        "colab": {
          "base_uri": "https://localhost:8080/"
        },
        "outputId": "457b5a2a-e2b4-4947-f37d-a2fce493fa23"
      },
      "source": [
        "param"
      ],
      "execution_count": 127,
      "outputs": [
        {
          "output_type": "execute_result",
          "data": {
            "text/plain": [
              "{'colsample_bytree': [0.5, 0.6, 0.7, 0.8, 0.9],\n",
              " 'gamma': [0.0, 0.1, 0.2, 0.3, 0.4],\n",
              " 'learning_rate': [0.0001, 0.001, 0.01, 0.1],\n",
              " 'max_depth': range(10, 21, 2),\n",
              " 'min_child_weight': range(1, 6, 2),\n",
              " 'n_estimators': [100, 300, 500, 1000],\n",
              " 'reg_alpha': [1e-05, 0.01, 0.1, 1, 10, 100],\n",
              " 'subsample': [0.6, 0.7, 0.8, 0.9]}"
            ]
          },
          "metadata": {
            "tags": []
          },
          "execution_count": 127
        }
      ]
    },
    {
      "cell_type": "code",
      "metadata": {
        "id": "NTzVg0qvoYN9"
      },
      "source": [
        "# Space\n",
        "space = {\n",
        "    'learning_rate': hp.choice('learning_rate', learning_rate),\n",
        "    'n_estimators': hp.choice('n_estimators', n_estimators),\n",
        "    'max_depth' : hp.choice('max_depth', max_depth),\n",
        "    'min_child_weight' : hp.choice('min_child_weight', min_child_weight),\n",
        "    'gamma' : hp.choice('gamma', gamma),\n",
        "    'subsample' : hp.choice('subsample', subsample),    \n",
        "    'colsample_bytree' : hp.choice('colsample_bytree', colsample_bytree),     \n",
        "    'reg_alpha' : hp.choice('reg_alpha', reg_alpha) \n",
        "}"
      ],
      "execution_count": 128,
      "outputs": []
    },
    {
      "cell_type": "code",
      "metadata": {
        "id": "hKAJqE8HoYR5"
      },
      "source": [
        "# Objective function\n",
        "def objective(params, n_folds = N_FOLDS):\n",
        "\n",
        "    # Perform n_fold cross validation with hyperparameters\n",
        "    # Use early stopping and evaluate based on ROC AUC\n",
        "    \n",
        "    xgboost = XGBClassifier(seed=0, **params)\n",
        "    scores = cross_val_score(xgboost, X_train, y_train, cv=n_folds, scoring='recall', n_jobs=-1)\n",
        "\n",
        "    # Extract the best score\n",
        "    best_score = max(scores)\n",
        "\n",
        "    # Loss must be minimized\n",
        "    loss = 1 - best_score\n",
        "\n",
        "    # Dictionary with information for evaluation\n",
        "    return {'loss': loss, 'params': params, 'status': STATUS_OK}"
      ],
      "execution_count": 129,
      "outputs": []
    },
    {
      "cell_type": "code",
      "metadata": {
        "id": "tlnEjUnKoYVq",
        "colab": {
          "base_uri": "https://localhost:8080/"
        },
        "outputId": "c3b820f1-5e78-4c7a-b9d2-80e711cd89f0"
      },
      "source": [
        "# Algorithm\n",
        "tpe_algorithm = tpe.suggest\n",
        "\n",
        "# Trials object to track progress\n",
        "bayes_trials = Trials()\n",
        "\n",
        "# Optimize\n",
        "best = fmin(fn = objective, space = space, algo = tpe_algorithm, max_evals = MAX_EVALS, trials = bayes_trials)"
      ],
      "execution_count": 130,
      "outputs": [
        {
          "output_type": "stream",
          "text": [
            "100%|██████████| 100/100 [01:02<00:00,  1.59it/s, best loss: 0.0]\n"
          ],
          "name": "stdout"
        }
      ]
    },
    {
      "cell_type": "code",
      "metadata": {
        "id": "ed3dBSaloYZR",
        "colab": {
          "base_uri": "https://localhost:8080/"
        },
        "outputId": "e67e4335-3808-4d1d-f455-adf4a95b5f95"
      },
      "source": [
        "# Best parameters:\n",
        "best"
      ],
      "execution_count": 131,
      "outputs": [
        {
          "output_type": "execute_result",
          "data": {
            "text/plain": [
              "{'colsample_bytree': 0,\n",
              " 'gamma': 4,\n",
              " 'learning_rate': 2,\n",
              " 'max_depth': 1,\n",
              " 'min_child_weight': 1,\n",
              " 'n_estimators': 3,\n",
              " 'reg_alpha': 1,\n",
              " 'subsample': 0}"
            ]
          },
          "metadata": {
            "tags": []
          },
          "execution_count": 131
        }
      ]
    },
    {
      "cell_type": "code",
      "metadata": {
        "id": "g2TgDM4HoYdG",
        "colab": {
          "base_uri": "https://localhost:8080/"
        },
        "outputId": "7cab7557-7ba9-44e9-b608-fd8f1b63191a"
      },
      "source": [
        "{'colsample_bytree': [0.5, 0.6, 0.7, 0.8, 0.9],\n",
        " 'gamma': [0.0, 0.1, 0.2, 0.3, 0.4],\n",
        " 'learning_rate': [0.0001, 0.001, 0.01, 0.1],\n",
        " 'max_depth': range(10, 21, 2),\n",
        " 'min_child_weight': range(1, 6, 2),\n",
        " 'n_estimators': [100, 300, 500, 1000],\n",
        " 'reg_alpha': [1e-05, 0.01, 0.1, 1, 10, 100],\n",
        " 'subsample': [0.6, 0.7, 0.8, 0.9]}"
      ],
      "execution_count": 133,
      "outputs": [
        {
          "output_type": "execute_result",
          "data": {
            "text/plain": [
              "{'colsample_bytree': [0.5, 0.6, 0.7, 0.8, 0.9],\n",
              " 'gamma': [0.0, 0.1, 0.2, 0.3, 0.4],\n",
              " 'learning_rate': [0.0001, 0.001, 0.01, 0.1],\n",
              " 'max_depth': range(10, 21, 2),\n",
              " 'min_child_weight': range(1, 6, 2),\n",
              " 'n_estimators': [100, 300, 500, 1000],\n",
              " 'reg_alpha': [1e-05, 0.01, 0.1, 1, 10, 100],\n",
              " 'subsample': [0.6, 0.7, 0.8, 0.9]}"
            ]
          },
          "metadata": {
            "tags": []
          },
          "execution_count": 133
        }
      ]
    },
    {
      "cell_type": "markdown",
      "metadata": {
        "id": "1HI7rvfZqtcQ"
      },
      "source": [
        "## Bayesian Optimization Final Model"
      ]
    },
    {
      "cell_type": "code",
      "metadata": {
        "id": "DXfr7cGmoYgP"
      },
      "source": [
        "xgboost_bo = XGBClassifier(seed=0, colsample_bytree=0.6, gamma=0.1, learning_rate=0.1, max_depth=20, min_child_weight=3, subsample=0.8, reg_alpha=1, n_estimators=300).fit(X_train,y_train)"
      ],
      "execution_count": 134,
      "outputs": []
    },
    {
      "cell_type": "code",
      "metadata": {
        "id": "r_yMKt_BoYj3",
        "colab": {
          "base_uri": "https://localhost:8080/"
        },
        "outputId": "f9c443b2-4af7-45c3-cb0c-8aa9d7a4c677"
      },
      "source": [
        "xgboost_bo.get_params()"
      ],
      "execution_count": 135,
      "outputs": [
        {
          "output_type": "execute_result",
          "data": {
            "text/plain": [
              "{'base_score': 0.5,\n",
              " 'booster': 'gbtree',\n",
              " 'colsample_bylevel': 1,\n",
              " 'colsample_bynode': 1,\n",
              " 'colsample_bytree': 0.6,\n",
              " 'gamma': 0.1,\n",
              " 'learning_rate': 0.1,\n",
              " 'max_delta_step': 0,\n",
              " 'max_depth': 20,\n",
              " 'min_child_weight': 3,\n",
              " 'missing': None,\n",
              " 'n_estimators': 300,\n",
              " 'n_jobs': 1,\n",
              " 'nthread': None,\n",
              " 'objective': 'binary:logistic',\n",
              " 'random_state': 0,\n",
              " 'reg_alpha': 1,\n",
              " 'reg_lambda': 1,\n",
              " 'scale_pos_weight': 1,\n",
              " 'seed': 0,\n",
              " 'silent': None,\n",
              " 'subsample': 0.8,\n",
              " 'verbosity': 1}"
            ]
          },
          "metadata": {
            "tags": []
          },
          "execution_count": 135
        }
      ]
    },
    {
      "cell_type": "markdown",
      "metadata": {
        "id": "wOkjiSD4tyBh"
      },
      "source": [
        "## Bayesian Optimization Prediction"
      ]
    },
    {
      "cell_type": "code",
      "metadata": {
        "id": "1G6NDG5EoYoU"
      },
      "source": [
        "y_test_prob = xgboost_bo.predict_proba(X_test)[:,1]\n",
        "y_test_predict = xgboost_bo.predict(X_test)"
      ],
      "execution_count": 136,
      "outputs": []
    },
    {
      "cell_type": "code",
      "metadata": {
        "id": "yTPQFjS2oYsZ",
        "colab": {
          "base_uri": "https://localhost:8080/",
          "height": 257
        },
        "outputId": "5e4d5b9b-da08-4d7c-e25d-c7d4cf240ae7"
      },
      "source": [
        "testPred = X_test.copy()\n",
        "testPred['y_test'], testPred['y_test_prob'], testPred['y_test_predict']=[y_test,y_test_prob,y_test_predict]\n",
        "testPred.head()"
      ],
      "execution_count": 137,
      "outputs": [
        {
          "output_type": "execute_result",
          "data": {
            "text/html": [
              "<div>\n",
              "<style scoped>\n",
              "    .dataframe tbody tr th:only-of-type {\n",
              "        vertical-align: middle;\n",
              "    }\n",
              "\n",
              "    .dataframe tbody tr th {\n",
              "        vertical-align: top;\n",
              "    }\n",
              "\n",
              "    .dataframe thead th {\n",
              "        text-align: right;\n",
              "    }\n",
              "</style>\n",
              "<table border=\"1\" class=\"dataframe\">\n",
              "  <thead>\n",
              "    <tr style=\"text-align: right;\">\n",
              "      <th></th>\n",
              "      <th>area error</th>\n",
              "      <th>compactness error</th>\n",
              "      <th>concave points error</th>\n",
              "      <th>concavity error</th>\n",
              "      <th>fractal dimension error</th>\n",
              "      <th>mean area</th>\n",
              "      <th>mean compactness</th>\n",
              "      <th>mean concave points</th>\n",
              "      <th>mean concavity</th>\n",
              "      <th>mean fractal dimension</th>\n",
              "      <th>mean perimeter</th>\n",
              "      <th>mean radius</th>\n",
              "      <th>mean smoothness</th>\n",
              "      <th>mean symmetry</th>\n",
              "      <th>mean texture</th>\n",
              "      <th>perimeter error</th>\n",
              "      <th>radius error</th>\n",
              "      <th>smoothness error</th>\n",
              "      <th>symmetry error</th>\n",
              "      <th>texture error</th>\n",
              "      <th>worst area</th>\n",
              "      <th>worst compactness</th>\n",
              "      <th>worst concave points</th>\n",
              "      <th>worst concavity</th>\n",
              "      <th>worst fractal dimension</th>\n",
              "      <th>worst perimeter</th>\n",
              "      <th>worst radius</th>\n",
              "      <th>worst smoothness</th>\n",
              "      <th>worst symmetry</th>\n",
              "      <th>worst texture</th>\n",
              "      <th>y_test</th>\n",
              "      <th>y_test_prob</th>\n",
              "      <th>y_test_predict</th>\n",
              "    </tr>\n",
              "  </thead>\n",
              "  <tbody>\n",
              "    <tr>\n",
              "      <th>204</th>\n",
              "      <td>-0.221053</td>\n",
              "      <td>-0.355912</td>\n",
              "      <td>-0.231333</td>\n",
              "      <td>-0.161929</td>\n",
              "      <td>-0.079018</td>\n",
              "      <td>-0.491999</td>\n",
              "      <td>0.027651</td>\n",
              "      <td>-0.276232</td>\n",
              "      <td>-0.109847</td>\n",
              "      <td>0.132176</td>\n",
              "      <td>-0.448110</td>\n",
              "      <td>-0.470694</td>\n",
              "      <td>0.234114</td>\n",
              "      <td>0.413949</td>\n",
              "      <td>-0.160486</td>\n",
              "      <td>-0.182696</td>\n",
              "      <td>-0.032743</td>\n",
              "      <td>-0.029327</td>\n",
              "      <td>-0.329612</td>\n",
              "      <td>-0.313616</td>\n",
              "      <td>-0.356299</td>\n",
              "      <td>-0.104741</td>\n",
              "      <td>-0.199563</td>\n",
              "      <td>-0.024412</td>\n",
              "      <td>0.196958</td>\n",
              "      <td>-0.333935</td>\n",
              "      <td>-0.269040</td>\n",
              "      <td>0.448503</td>\n",
              "      <td>0.183204</td>\n",
              "      <td>-0.168905</td>\n",
              "      <td>1</td>\n",
              "      <td>0.968536</td>\n",
              "      <td>1</td>\n",
              "    </tr>\n",
              "    <tr>\n",
              "      <th>70</th>\n",
              "      <td>1.225780</td>\n",
              "      <td>-0.500666</td>\n",
              "      <td>0.308825</td>\n",
              "      <td>-0.305168</td>\n",
              "      <td>-0.793157</td>\n",
              "      <td>1.351264</td>\n",
              "      <td>-0.027309</td>\n",
              "      <td>0.789060</td>\n",
              "      <td>0.241064</td>\n",
              "      <td>-1.160679</td>\n",
              "      <td>1.302886</td>\n",
              "      <td>1.366877</td>\n",
              "      <td>-0.446227</td>\n",
              "      <td>-0.838325</td>\n",
              "      <td>0.470149</td>\n",
              "      <td>1.296951</td>\n",
              "      <td>1.384594</td>\n",
              "      <td>-0.865695</td>\n",
              "      <td>-0.809083</td>\n",
              "      <td>-0.760851</td>\n",
              "      <td>1.732277</td>\n",
              "      <td>-0.131459</td>\n",
              "      <td>0.978975</td>\n",
              "      <td>-0.016736</td>\n",
              "      <td>-1.000578</td>\n",
              "      <td>1.746605</td>\n",
              "      <td>1.779007</td>\n",
              "      <td>-0.572873</td>\n",
              "      <td>-0.565828</td>\n",
              "      <td>0.147012</td>\n",
              "      <td>0</td>\n",
              "      <td>0.001373</td>\n",
              "      <td>0</td>\n",
              "    </tr>\n",
              "    <tr>\n",
              "      <th>131</th>\n",
              "      <td>0.175418</td>\n",
              "      <td>-0.594561</td>\n",
              "      <td>-0.140496</td>\n",
              "      <td>-0.124794</td>\n",
              "      <td>-0.504551</td>\n",
              "      <td>0.267377</td>\n",
              "      <td>0.340350</td>\n",
              "      <td>0.824140</td>\n",
              "      <td>0.725686</td>\n",
              "      <td>-0.685782</td>\n",
              "      <td>0.400820</td>\n",
              "      <td>0.378508</td>\n",
              "      <td>0.913744</td>\n",
              "      <td>0.435855</td>\n",
              "      <td>0.044296</td>\n",
              "      <td>0.112838</td>\n",
              "      <td>0.249497</td>\n",
              "      <td>-0.267004</td>\n",
              "      <td>-0.795764</td>\n",
              "      <td>-0.781898</td>\n",
              "      <td>0.484159</td>\n",
              "      <td>-0.094562</td>\n",
              "      <td>0.560244</td>\n",
              "      <td>0.512911</td>\n",
              "      <td>-0.208132</td>\n",
              "      <td>0.525386</td>\n",
              "      <td>0.619345</td>\n",
              "      <td>0.974533</td>\n",
              "      <td>-0.103143</td>\n",
              "      <td>0.052562</td>\n",
              "      <td>0</td>\n",
              "      <td>0.001544</td>\n",
              "      <td>0</td>\n",
              "    </tr>\n",
              "    <tr>\n",
              "      <th>431</th>\n",
              "      <td>-0.547998</td>\n",
              "      <td>0.417599</td>\n",
              "      <td>-0.020461</td>\n",
              "      <td>0.554262</td>\n",
              "      <td>0.835972</td>\n",
              "      <td>-0.532101</td>\n",
              "      <td>0.516599</td>\n",
              "      <td>-0.539846</td>\n",
              "      <td>-0.142993</td>\n",
              "      <td>1.165609</td>\n",
              "      <td>-0.432457</td>\n",
              "      <td>-0.490575</td>\n",
              "      <td>0.643316</td>\n",
              "      <td>-0.002259</td>\n",
              "      <td>-0.374576</td>\n",
              "      <td>-0.327740</td>\n",
              "      <td>-0.824604</td>\n",
              "      <td>0.986380</td>\n",
              "      <td>0.160756</td>\n",
              "      <td>0.441152</td>\n",
              "      <td>-0.641257</td>\n",
              "      <td>0.054930</td>\n",
              "      <td>-0.622863</td>\n",
              "      <td>-0.152986</td>\n",
              "      <td>0.534440</td>\n",
              "      <td>-0.525756</td>\n",
              "      <td>-0.701842</td>\n",
              "      <td>0.553709</td>\n",
              "      <td>-0.557739</td>\n",
              "      <td>-0.450625</td>\n",
              "      <td>1</td>\n",
              "      <td>0.997588</td>\n",
              "      <td>1</td>\n",
              "    </tr>\n",
              "    <tr>\n",
              "      <th>540</th>\n",
              "      <td>-0.428529</td>\n",
              "      <td>0.874216</td>\n",
              "      <td>0.509965</td>\n",
              "      <td>0.783709</td>\n",
              "      <td>0.649494</td>\n",
              "      <td>-0.716683</td>\n",
              "      <td>0.145150</td>\n",
              "      <td>-0.592724</td>\n",
              "      <td>-0.269044</td>\n",
              "      <td>0.711976</td>\n",
              "      <td>-0.713374</td>\n",
              "      <td>-0.734828</td>\n",
              "      <td>0.247636</td>\n",
              "      <td>0.023298</td>\n",
              "      <td>-1.128546</td>\n",
              "      <td>-0.612877</td>\n",
              "      <td>-0.457547</td>\n",
              "      <td>1.703076</td>\n",
              "      <td>-0.259386</td>\n",
              "      <td>0.999969</td>\n",
              "      <td>-0.743216</td>\n",
              "      <td>-0.270137</td>\n",
              "      <td>-0.691687</td>\n",
              "      <td>-0.443716</td>\n",
              "      <td>-0.144403</td>\n",
              "      <td>-0.848337</td>\n",
              "      <td>-0.830233</td>\n",
              "      <td>0.093432</td>\n",
              "      <td>-0.924975</td>\n",
              "      <td>-0.976611</td>\n",
              "      <td>1</td>\n",
              "      <td>0.999184</td>\n",
              "      <td>1</td>\n",
              "    </tr>\n",
              "  </tbody>\n",
              "</table>\n",
              "</div>"
            ],
            "text/plain": [
              "     area error  compactness error  ...  y_test_prob  y_test_predict\n",
              "204   -0.221053          -0.355912  ...     0.968536               1\n",
              "70     1.225780          -0.500666  ...     0.001373               0\n",
              "131    0.175418          -0.594561  ...     0.001544               0\n",
              "431   -0.547998           0.417599  ...     0.997588               1\n",
              "540   -0.428529           0.874216  ...     0.999184               1\n",
              "\n",
              "[5 rows x 33 columns]"
            ]
          },
          "metadata": {
            "tags": []
          },
          "execution_count": 137
        }
      ]
    },
    {
      "cell_type": "markdown",
      "metadata": {
        "id": "WRgGotqVvA3C"
      },
      "source": [
        "## Bayesian Optimization Model Performance"
      ]
    },
    {
      "cell_type": "code",
      "metadata": {
        "id": "eP6sF1WyuGrB",
        "colab": {
          "base_uri": "https://localhost:8080/",
          "height": 265
        },
        "outputId": "bfb25f1f-2031-4367-afef-4550de8304c2"
      },
      "source": [
        "#ROC/AUC Curve\n",
        "from sklearn import metrics\n",
        "# y_test_prob=et_gs.predict_proba(X_test)[:,1]\n",
        "fpr,tpr, _=metrics.roc_curve(y_test,y_test_prob)\n",
        "auc=metrics.roc_auc_score(y_test,y_test_prob)\n",
        "plt.plot(fpr,tpr,label=\"area=\"+str(auc))\n",
        "plt.legend(loc=4)\n",
        "plt.show()"
      ],
      "execution_count": 138,
      "outputs": [
        {
          "output_type": "display_data",
          "data": {
            "image/png": "[encoded data removed]",
            "text/plain": [
              "<Figure size 432x288 with 1 Axes>"
            ]
          },
          "metadata": {
            "tags": [],
            "needs_background": "light"
          }
        }
      ]
    },
    {
      "cell_type": "code",
      "metadata": {
        "id": "m1TtMsnhuGms",
        "colab": {
          "base_uri": "https://localhost:8080/"
        },
        "outputId": "387df20f-2c6b-4ee8-bc82-8622ab53fb9e"
      },
      "source": [
        "log_loss(y_test,y_test_prob)"
      ],
      "execution_count": 139,
      "outputs": [
        {
          "output_type": "execute_result",
          "data": {
            "text/plain": [
              "0.07979581305111774"
            ]
          },
          "metadata": {
            "tags": []
          },
          "execution_count": 139
        }
      ]
    },
    {
      "cell_type": "code",
      "metadata": {
        "id": "JtxdInAbuGjU",
        "colab": {
          "base_uri": "https://localhost:8080/"
        },
        "outputId": "b7265a14-db4e-497b-c771-1d43e24d0861"
      },
      "source": [
        "cm = confusion_matrix(y_test, y_test_predict)\n",
        "cmtx = pd.DataFrame(cm, index=['true:no', 'true:yes'], columns=['pred:no', 'pred:yes'])\n",
        "print(cmtx)"
      ],
      "execution_count": 141,
      "outputs": [
        {
          "output_type": "stream",
          "text": [
            "          pred:no  pred:yes\n",
            "true:no        41         2\n",
            "true:yes        1        70\n"
          ],
          "name": "stdout"
        }
      ]
    },
    {
      "cell_type": "code",
      "metadata": {
        "id": "Gokp5jgduGfv"
      },
      "source": [
        "print(classification_report(y_test, y_test_predict, digits=4))"
      ],
      "execution_count": null,
      "outputs": []
    },
    {
      "cell_type": "markdown",
      "metadata": {
        "id": "b-TLMPdyx9bS"
      },
      "source": [
        "## Bayesian Optimization Feature Importance"
      ]
    },
    {
      "cell_type": "code",
      "metadata": {
        "id": "gdMrPymMuGcv",
        "colab": {
          "base_uri": "https://localhost:8080/",
          "height": 969
        },
        "outputId": "60362895-8867-4335-a9ce-cdaa28f2c2b9"
      },
      "source": [
        "Coeff = pd.concat([pd.DataFrame(X.columns),pd.DataFrame(np.transpose(xgboost_bo.feature_importances_))], axis = 1)\n",
        "Coeff.columns=['Variable','Feature_Importance']\n",
        "CoeffSorted = Coeff.sort_values(by='Feature_Importance', ascending=False)\n",
        "CoeffSorted"
      ],
      "execution_count": 142,
      "outputs": [
        {
          "output_type": "execute_result",
          "data": {
            "text/html": [
              "<div>\n",
              "<style scoped>\n",
              "    .dataframe tbody tr th:only-of-type {\n",
              "        vertical-align: middle;\n",
              "    }\n",
              "\n",
              "    .dataframe tbody tr th {\n",
              "        vertical-align: top;\n",
              "    }\n",
              "\n",
              "    .dataframe thead th {\n",
              "        text-align: right;\n",
              "    }\n",
              "</style>\n",
              "<table border=\"1\" class=\"dataframe\">\n",
              "  <thead>\n",
              "    <tr style=\"text-align: right;\">\n",
              "      <th></th>\n",
              "      <th>Variable</th>\n",
              "      <th>Feature_Importance</th>\n",
              "    </tr>\n",
              "  </thead>\n",
              "  <tbody>\n",
              "    <tr>\n",
              "      <th>7</th>\n",
              "      <td>mean concave points</td>\n",
              "      <td>0.307822</td>\n",
              "    </tr>\n",
              "    <tr>\n",
              "      <th>22</th>\n",
              "      <td>worst concave points</td>\n",
              "      <td>0.157712</td>\n",
              "    </tr>\n",
              "    <tr>\n",
              "      <th>25</th>\n",
              "      <td>worst perimeter</td>\n",
              "      <td>0.156790</td>\n",
              "    </tr>\n",
              "    <tr>\n",
              "      <th>20</th>\n",
              "      <td>worst area</td>\n",
              "      <td>0.081283</td>\n",
              "    </tr>\n",
              "    <tr>\n",
              "      <th>11</th>\n",
              "      <td>mean radius</td>\n",
              "      <td>0.039454</td>\n",
              "    </tr>\n",
              "    <tr>\n",
              "      <th>5</th>\n",
              "      <td>mean area</td>\n",
              "      <td>0.036256</td>\n",
              "    </tr>\n",
              "    <tr>\n",
              "      <th>8</th>\n",
              "      <td>mean concavity</td>\n",
              "      <td>0.028429</td>\n",
              "    </tr>\n",
              "    <tr>\n",
              "      <th>26</th>\n",
              "      <td>worst radius</td>\n",
              "      <td>0.025818</td>\n",
              "    </tr>\n",
              "    <tr>\n",
              "      <th>3</th>\n",
              "      <td>concavity error</td>\n",
              "      <td>0.022213</td>\n",
              "    </tr>\n",
              "    <tr>\n",
              "      <th>29</th>\n",
              "      <td>worst texture</td>\n",
              "      <td>0.020510</td>\n",
              "    </tr>\n",
              "    <tr>\n",
              "      <th>14</th>\n",
              "      <td>mean texture</td>\n",
              "      <td>0.015349</td>\n",
              "    </tr>\n",
              "    <tr>\n",
              "      <th>23</th>\n",
              "      <td>worst concavity</td>\n",
              "      <td>0.013543</td>\n",
              "    </tr>\n",
              "    <tr>\n",
              "      <th>28</th>\n",
              "      <td>worst symmetry</td>\n",
              "      <td>0.013360</td>\n",
              "    </tr>\n",
              "    <tr>\n",
              "      <th>0</th>\n",
              "      <td>area error</td>\n",
              "      <td>0.010282</td>\n",
              "    </tr>\n",
              "    <tr>\n",
              "      <th>10</th>\n",
              "      <td>mean perimeter</td>\n",
              "      <td>0.009117</td>\n",
              "    </tr>\n",
              "    <tr>\n",
              "      <th>27</th>\n",
              "      <td>worst smoothness</td>\n",
              "      <td>0.007270</td>\n",
              "    </tr>\n",
              "    <tr>\n",
              "      <th>19</th>\n",
              "      <td>texture error</td>\n",
              "      <td>0.005552</td>\n",
              "    </tr>\n",
              "    <tr>\n",
              "      <th>12</th>\n",
              "      <td>mean smoothness</td>\n",
              "      <td>0.005415</td>\n",
              "    </tr>\n",
              "    <tr>\n",
              "      <th>18</th>\n",
              "      <td>symmetry error</td>\n",
              "      <td>0.005194</td>\n",
              "    </tr>\n",
              "    <tr>\n",
              "      <th>4</th>\n",
              "      <td>fractal dimension error</td>\n",
              "      <td>0.005029</td>\n",
              "    </tr>\n",
              "    <tr>\n",
              "      <th>9</th>\n",
              "      <td>mean fractal dimension</td>\n",
              "      <td>0.004656</td>\n",
              "    </tr>\n",
              "    <tr>\n",
              "      <th>6</th>\n",
              "      <td>mean compactness</td>\n",
              "      <td>0.004600</td>\n",
              "    </tr>\n",
              "    <tr>\n",
              "      <th>1</th>\n",
              "      <td>compactness error</td>\n",
              "      <td>0.004396</td>\n",
              "    </tr>\n",
              "    <tr>\n",
              "      <th>15</th>\n",
              "      <td>perimeter error</td>\n",
              "      <td>0.004110</td>\n",
              "    </tr>\n",
              "    <tr>\n",
              "      <th>16</th>\n",
              "      <td>radius error</td>\n",
              "      <td>0.004056</td>\n",
              "    </tr>\n",
              "    <tr>\n",
              "      <th>24</th>\n",
              "      <td>worst fractal dimension</td>\n",
              "      <td>0.003728</td>\n",
              "    </tr>\n",
              "    <tr>\n",
              "      <th>17</th>\n",
              "      <td>smoothness error</td>\n",
              "      <td>0.003652</td>\n",
              "    </tr>\n",
              "    <tr>\n",
              "      <th>2</th>\n",
              "      <td>concave points error</td>\n",
              "      <td>0.002850</td>\n",
              "    </tr>\n",
              "    <tr>\n",
              "      <th>13</th>\n",
              "      <td>mean symmetry</td>\n",
              "      <td>0.001553</td>\n",
              "    </tr>\n",
              "    <tr>\n",
              "      <th>21</th>\n",
              "      <td>worst compactness</td>\n",
              "      <td>0.000000</td>\n",
              "    </tr>\n",
              "  </tbody>\n",
              "</table>\n",
              "</div>"
            ],
            "text/plain": [
              "                   Variable  Feature_Importance\n",
              "7       mean concave points            0.307822\n",
              "22     worst concave points            0.157712\n",
              "25          worst perimeter            0.156790\n",
              "20               worst area            0.081283\n",
              "11              mean radius            0.039454\n",
              "5                 mean area            0.036256\n",
              "8            mean concavity            0.028429\n",
              "26             worst radius            0.025818\n",
              "3           concavity error            0.022213\n",
              "29            worst texture            0.020510\n",
              "14             mean texture            0.015349\n",
              "23          worst concavity            0.013543\n",
              "28           worst symmetry            0.013360\n",
              "0                area error            0.010282\n",
              "10           mean perimeter            0.009117\n",
              "27         worst smoothness            0.007270\n",
              "19            texture error            0.005552\n",
              "12          mean smoothness            0.005415\n",
              "18           symmetry error            0.005194\n",
              "4   fractal dimension error            0.005029\n",
              "9    mean fractal dimension            0.004656\n",
              "6          mean compactness            0.004600\n",
              "1         compactness error            0.004396\n",
              "15          perimeter error            0.004110\n",
              "16             radius error            0.004056\n",
              "24  worst fractal dimension            0.003728\n",
              "17         smoothness error            0.003652\n",
              "2      concave points error            0.002850\n",
              "13            mean symmetry            0.001553\n",
              "21        worst compactness            0.000000"
            ]
          },
          "metadata": {
            "tags": []
          },
          "execution_count": 142
        }
      ]
    },
    {
      "cell_type": "code",
      "metadata": {
        "id": "jAwN4IVYuGZ7",
        "colab": {
          "base_uri": "https://localhost:8080/",
          "height": 297
        },
        "outputId": "fe132d63-4583-4e95-af5b-48f146913454"
      },
      "source": [
        "ax = sns.barplot(x='Feature_Importance', y='Variable', data=CoeffSorted, order=CoeffSorted['Variable'])\n",
        "ax.set_xlabel('Feature Importance')\n",
        "ax.set_ylabel('Features')"
      ],
      "execution_count": 143,
      "outputs": [
        {
          "output_type": "execute_result",
          "data": {
            "text/plain": [
              "Text(0, 0.5, 'Features')"
            ]
          },
          "metadata": {
            "tags": []
          },
          "execution_count": 143
        },
        {
          "output_type": "display_data",
          "data": {
            "image/png": "[encoded data removed]",
            "text/plain": [
              "<Figure size 432x288 with 1 Axes>"
            ]
          },
          "metadata": {
            "tags": [],
            "needs_background": "light"
          }
        }
      ]
    },
    {
      "cell_type": "markdown",
      "metadata": {
        "id": "OBa2BEn4yNyY"
      },
      "source": [
        "## Bayesian Optimization Prediction Distribution"
      ]
    },
    {
      "cell_type": "code",
      "metadata": {
        "id": "iYJNWcILuGU3",
        "colab": {
          "base_uri": "https://localhost:8080/",
          "height": 317
        },
        "outputId": "d4f7f155-33e8-4e0c-f080-3ca5b41b39e5"
      },
      "source": [
        "# Plot the predicted probability distribution\n",
        "sns.distplot(y_test_prob, label='Predicted Probability', kde=False)"
      ],
      "execution_count": 146,
      "outputs": [
        {
          "output_type": "stream",
          "text": [
            "/usr/local/lib/python3.7/dist-packages/seaborn/distributions.py:2557: FutureWarning: `distplot` is a deprecated function and will be removed in a future version. Please adapt your code to use either `displot` (a figure-level function with similar flexibility) or `histplot` (an axes-level function for histograms).\n",
            "  warnings.warn(msg, FutureWarning)\n"
          ],
          "name": "stderr"
        },
        {
          "output_type": "execute_result",
          "data": {
            "text/plain": [
              "<matplotlib.axes._subplots.AxesSubplot at 0x7f9223eb3d90>"
            ]
          },
          "metadata": {
            "tags": []
          },
          "execution_count": 146
        },
        {
          "output_type": "display_data",
          "data": {
            "image/png": "[encoded data removed]",
            "text/plain": [
              "<Figure size 432x288 with 1 Axes>"
            ]
          },
          "metadata": {
            "tags": [],
            "needs_background": "light"
          }
        }
      ]
    },
    {
      "cell_type": "code",
      "metadata": {
        "id": "2fy5zFLfuGRP",
        "colab": {
          "base_uri": "https://localhost:8080/",
          "height": 349
        },
        "outputId": "d7fa881a-7a74-463e-c8d8-14f45dc958e1"
      },
      "source": [
        "# this is to plot the kde by label\n",
        "sns.distplot(testPred[testPred['y_test']==1]['y_test_prob'],label='1', kde=False);\n",
        "sns.distplot(testPred[testPred['y_test']==0]['y_test_prob'],label='0', kde=False);\n",
        "\n",
        "# add labels\n",
        "plt.xlabel('Predicted Probability')\n",
        "plt.ylabel('Frequency')\n",
        "plt.show()"
      ],
      "execution_count": 147,
      "outputs": [
        {
          "output_type": "stream",
          "text": [
            "/usr/local/lib/python3.7/dist-packages/seaborn/distributions.py:2557: FutureWarning: `distplot` is a deprecated function and will be removed in a future version. Please adapt your code to use either `displot` (a figure-level function with similar flexibility) or `histplot` (an axes-level function for histograms).\n",
            "  warnings.warn(msg, FutureWarning)\n",
            "/usr/local/lib/python3.7/dist-packages/seaborn/distributions.py:2557: FutureWarning: `distplot` is a deprecated function and will be removed in a future version. Please adapt your code to use either `displot` (a figure-level function with similar flexibility) or `histplot` (an axes-level function for histograms).\n",
            "  warnings.warn(msg, FutureWarning)\n"
          ],
          "name": "stderr"
        },
        {
          "output_type": "display_data",
          "data": {
            "image/png": "[encoded data removed]",
            "text/plain": [
              "<Figure size 432x288 with 1 Axes>"
            ]
          },
          "metadata": {
            "tags": [],
            "needs_background": "light"
          }
        }
      ]
    },
    {
      "cell_type": "markdown",
      "metadata": {
        "id": "5Dz7QJ1Cypqz"
      },
      "source": [
        "## Save Model"
      ]
    },
    {
      "cell_type": "code",
      "metadata": {
        "id": "GCO9LpahuGMW"
      },
      "source": [
        "import pickle\n",
        "# save the model to disk\n",
        "modelname = 'xgboost_bo_model.pkl'\n",
        "pickle.dump(xgboost_bo, open(modelname, 'wb'))"
      ],
      "execution_count": 148,
      "outputs": []
    },
    {
      "cell_type": "code",
      "metadata": {
        "id": "r6IOA2wduGIW"
      },
      "source": [
        "# load the model from disk\n",
        "loaded_phase1_model = pickle.load(open(modelname, 'rb'))"
      ],
      "execution_count": 149,
      "outputs": []
    },
    {
      "cell_type": "markdown",
      "metadata": {
        "id": "6WLS5CndznRK"
      },
      "source": [
        "# Neutal Network Model"
      ]
    },
    {
      "cell_type": "markdown",
      "metadata": {
        "id": "fh45Vj3gg1Tu"
      },
      "source": [
        "## Grid Search Cross Validation"
      ]
    },
    {
      "cell_type": "code",
      "metadata": {
        "id": "0Gotb22XuGEI",
        "colab": {
          "base_uri": "https://localhost:8080/"
        },
        "outputId": "37988508-d232-4c5b-b14b-74406f00e830"
      },
      "source": [
        "layers = [(30), (30, 15)]# Need to use tuple instead of list because of a bug related to nested list with Keras. https://datascience.stackexchange.com/questions/66341/cannot-clone-object-keras-wrappers-scikit-learn-kerasregressor-object-at-0x7fdc\n",
        "activations = ['tanh', 'relu']\n",
        "batch_size = [32, 256]\n",
        "epochs=[10, 50]\n",
        "param_grid = dict(layers=layers, activation=activations, batch_size = batch_size, epochs=epochs)\n",
        "param_grid"
      ],
      "execution_count": 150,
      "outputs": [
        {
          "output_type": "execute_result",
          "data": {
            "text/plain": [
              "{'activation': ['tanh', 'relu'],\n",
              " 'batch_size': [32, 256],\n",
              " 'epochs': [10, 50],\n",
              " 'layers': [30, (30, 15)]}"
            ]
          },
          "metadata": {
            "tags": []
          },
          "execution_count": 150
        }
      ]
    },
    {
      "cell_type": "code",
      "metadata": {
        "id": "ZNkWyPW2uGAT"
      },
      "source": [
        "scoring = ['recall']"
      ],
      "execution_count": 151,
      "outputs": []
    },
    {
      "cell_type": "code",
      "metadata": {
        "id": "EHd951QFhgjp"
      },
      "source": [
        "kfold = StratifiedKFold(n_splits=3, shuffle=True)"
      ],
      "execution_count": 153,
      "outputs": []
    },
    {
      "cell_type": "code",
      "metadata": {
        "id": "rmWoo8Fbhgfz",
        "colab": {
          "base_uri": "https://localhost:8080/"
        },
        "outputId": "0baf4ba1-8ac7-4a3d-f4cd-97771d4e530c"
      },
      "source": [
        "l = enumerate(layers)\n",
        "print(list(l))"
      ],
      "execution_count": 154,
      "outputs": [
        {
          "output_type": "stream",
          "text": [
            "[(0, 30), (1, (30, 15))]\n"
          ],
          "name": "stdout"
        }
      ]
    },
    {
      "cell_type": "code",
      "metadata": {
        "id": "GDxHaXehhgco"
      },
      "source": [
        "def create_model(layers, activation='relu', batch_size=32, epochs=50):\n",
        "    model = Sequential()\n",
        "    for i, nodes in enumerate(layers):\n",
        "        if i==0:\n",
        "            model.add(Dense(nodes,input_dim=X_train.shape[1]))\n",
        "            model.add(Activation(activation))\n",
        "            model.add(Dropout(0.3))\n",
        "        else:\n",
        "            model.add(Dense(nodes))\n",
        "            model.add(Activation(activation))\n",
        "            model.add(Dropout(0.3))\n",
        "            \n",
        "    model.add(Dense(units = 1, activation = 'sigmoid')) # Note: no activation beyond this point\n",
        "    \n",
        "    model.compile(optimizer='adam', loss='binary_crossentropy',metrics=[\"accuracy\"])\n",
        "    return model"
      ],
      "execution_count": 155,
      "outputs": []
    },
    {
      "cell_type": "code",
      "metadata": {
        "id": "IX8vsoBuLdJz",
        "colab": {
          "base_uri": "https://localhost:8080/"
        },
        "outputId": "544596c8-eb10-46a2-d59f-a0f7b4384f46"
      },
      "source": [
        "# Set seeds\n",
        "import random\n",
        "import tensorflow as tf\n",
        "import keras.backend as K\n",
        "random.seed(0)\n",
        "np.random.seed(0)\n",
        "# tf.compat.v1.set_random_seed(0)\n",
        "# tf.random.set_random_seed(0)\n",
        "session_conf = tf.compat.v1.ConfigProto(intra_op_parallelism_threads=1, inter_op_parallelism_threads=1)\n",
        "sess = tf.compat.v1.Session(graph=tf.compat.v1.get_default_graph(), config=session_conf)\n",
        "# K.set_session(sess)\n",
        "\n",
        "# Change function to estimator\n",
        "model = KerasClassifier(build_fn=create_model, verbose=0)\n",
        "\n",
        "grid_search = GridSearchCV(model, param_grid, scoring=scoring, refit='recall', n_jobs=-1, cv=kfold, verbose=1)\n",
        "\n",
        "grid_result = grid_search.fit(X_train, y_train)"
      ],
      "execution_count": 156,
      "outputs": [
        {
          "output_type": "stream",
          "text": [
            "Fitting 3 folds for each of 16 candidates, totalling 48 fits\n"
          ],
          "name": "stdout"
        },
        {
          "output_type": "stream",
          "text": [
            "[Parallel(n_jobs=-1)]: Using backend LokyBackend with 2 concurrent workers.\n",
            "/usr/local/lib/python3.7/dist-packages/joblib/externals/loky/process_executor.py:691: UserWarning: A worker stopped while some jobs were given to the executor. This can be caused by a too short worker timeout or by a memory leak.\n",
            "  \"timeout or by a memory leak.\", UserWarning\n",
            "[Parallel(n_jobs=-1)]: Done  48 out of  48 | elapsed:   26.2s finished\n"
          ],
          "name": "stderr"
        }
      ]
    },
    {
      "cell_type": "code",
      "metadata": {
        "id": "FsmwDwhnhgOf",
        "colab": {
          "base_uri": "https://localhost:8080/"
        },
        "outputId": "197725c9-13e9-4468-cdd1-8732d434565c"
      },
      "source": [
        "grid_result"
      ],
      "execution_count": 158,
      "outputs": [
        {
          "output_type": "execute_result",
          "data": {
            "text/plain": [
              "GridSearchCV(cv=StratifiedKFold(n_splits=3, random_state=None, shuffle=True),\n",
              "             error_score=nan,\n",
              "             estimator=<tensorflow.python.keras.wrappers.scikit_learn.KerasClassifier object at 0x7f922076c890>,\n",
              "             iid='deprecated', n_jobs=-1,\n",
              "             param_grid={'activation': ['tanh', 'relu'],\n",
              "                         'batch_size': [32, 256], 'epochs': [10, 50],\n",
              "                         'layers': [30, (30, 15)]},\n",
              "             pre_dispatch='2*n_jobs', refit='recall', return_train_score=False,\n",
              "             scoring=['recall'], verbose=1)"
            ]
          },
          "metadata": {
            "tags": []
          },
          "execution_count": 158
        }
      ]
    },
    {
      "cell_type": "code",
      "metadata": {
        "id": "GTtOILzihgJ6",
        "colab": {
          "base_uri": "https://localhost:8080/"
        },
        "outputId": "e3c19152-9537-4e99-9121-740d759fe22b"
      },
      "source": [
        "grid_result.cv_results_"
      ],
      "execution_count": 159,
      "outputs": [
        {
          "output_type": "execute_result",
          "data": {
            "text/plain": [
              "{'mean_fit_time': array([0.04909539, 1.43604414, 0.0059216 , 1.89263916, 0.00589101,\n",
              "        1.00672523, 0.01386491, 1.21884608, 0.0064172 , 1.10774636,\n",
              "        0.00787306, 1.81028763, 0.00653243, 0.99039753, 0.00573874,\n",
              "        1.15260474]),\n",
              " 'mean_score_time': array([0.        , 0.22735866, 0.        , 0.17750112, 0.        ,\n",
              "        0.18391267, 0.        , 0.17998719, 0.        , 0.16996574,\n",
              "        0.        , 0.16804838, 0.        , 0.16822958, 0.        ,\n",
              "        0.14686418]),\n",
              " 'mean_test_recall': array([       nan, 0.97916667,        nan, 0.98260234,        nan,\n",
              "        0.90932018,        nan, 0.98611111,        nan, 0.97916667,\n",
              "               nan, 0.98256579,        nan, 0.8433114 ,        nan,\n",
              "        0.97913012]),\n",
              " 'param_activation': masked_array(data=['tanh', 'tanh', 'tanh', 'tanh', 'tanh', 'tanh', 'tanh',\n",
              "                    'tanh', 'relu', 'relu', 'relu', 'relu', 'relu', 'relu',\n",
              "                    'relu', 'relu'],\n",
              "              mask=[False, False, False, False, False, False, False, False,\n",
              "                    False, False, False, False, False, False, False, False],\n",
              "        fill_value='?',\n",
              "             dtype=object),\n",
              " 'param_batch_size': masked_array(data=[32, 32, 32, 32, 256, 256, 256, 256, 32, 32, 32, 32,\n",
              "                    256, 256, 256, 256],\n",
              "              mask=[False, False, False, False, False, False, False, False,\n",
              "                    False, False, False, False, False, False, False, False],\n",
              "        fill_value='?',\n",
              "             dtype=object),\n",
              " 'param_epochs': masked_array(data=[10, 10, 50, 50, 10, 10, 50, 50, 10, 10, 50, 50, 10, 10,\n",
              "                    50, 50],\n",
              "              mask=[False, False, False, False, False, False, False, False,\n",
              "                    False, False, False, False, False, False, False, False],\n",
              "        fill_value='?',\n",
              "             dtype=object),\n",
              " 'param_layers': masked_array(data=[30, (30, 15), 30, (30, 15), 30, (30, 15), 30, (30, 15),\n",
              "                    30, (30, 15), 30, (30, 15), 30, (30, 15), 30, (30, 15)],\n",
              "              mask=[False, False, False, False, False, False, False, False,\n",
              "                    False, False, False, False, False, False, False, False],\n",
              "        fill_value='?',\n",
              "             dtype=object),\n",
              " 'params': [{'activation': 'tanh',\n",
              "   'batch_size': 32,\n",
              "   'epochs': 10,\n",
              "   'layers': 30},\n",
              "  {'activation': 'tanh', 'batch_size': 32, 'epochs': 10, 'layers': (30, 15)},\n",
              "  {'activation': 'tanh', 'batch_size': 32, 'epochs': 50, 'layers': 30},\n",
              "  {'activation': 'tanh', 'batch_size': 32, 'epochs': 50, 'layers': (30, 15)},\n",
              "  {'activation': 'tanh', 'batch_size': 256, 'epochs': 10, 'layers': 30},\n",
              "  {'activation': 'tanh', 'batch_size': 256, 'epochs': 10, 'layers': (30, 15)},\n",
              "  {'activation': 'tanh', 'batch_size': 256, 'epochs': 50, 'layers': 30},\n",
              "  {'activation': 'tanh', 'batch_size': 256, 'epochs': 50, 'layers': (30, 15)},\n",
              "  {'activation': 'relu', 'batch_size': 32, 'epochs': 10, 'layers': 30},\n",
              "  {'activation': 'relu', 'batch_size': 32, 'epochs': 10, 'layers': (30, 15)},\n",
              "  {'activation': 'relu', 'batch_size': 32, 'epochs': 50, 'layers': 30},\n",
              "  {'activation': 'relu', 'batch_size': 32, 'epochs': 50, 'layers': (30, 15)},\n",
              "  {'activation': 'relu', 'batch_size': 256, 'epochs': 10, 'layers': 30},\n",
              "  {'activation': 'relu', 'batch_size': 256, 'epochs': 10, 'layers': (30, 15)},\n",
              "  {'activation': 'relu', 'batch_size': 256, 'epochs': 50, 'layers': 30},\n",
              "  {'activation': 'relu', 'batch_size': 256, 'epochs': 50, 'layers': (30, 15)}],\n",
              " 'rank_test_recall': array([ 9,  4, 10,  2, 11,  7, 12,  1, 13,  4, 14,  3, 15,  8, 16,  6],\n",
              "       dtype=int32),\n",
              " 'split0_test_recall': array([       nan, 0.9375    ,        nan, 0.95833333,        nan,\n",
              "        0.84375   ,        nan, 0.95833333,        nan, 0.9375    ,\n",
              "               nan, 0.96875   ,        nan, 0.65625   ,        nan,\n",
              "        0.94791667]),\n",
              " 'split1_test_recall': array([       nan, 1.        ,        nan, 1.        ,        nan,\n",
              "        0.93684211,        nan, 1.        ,        nan, 1.        ,\n",
              "               nan, 1.        ,        nan, 0.90526316,        nan,\n",
              "        0.98947368]),\n",
              " 'split2_test_recall': array([       nan, 1.        ,        nan, 0.98947368,        nan,\n",
              "        0.94736842,        nan, 1.        ,        nan, 1.        ,\n",
              "               nan, 0.97894737,        nan, 0.96842105,        nan,\n",
              "        1.        ]),\n",
              " 'std_fit_time': array([3.02117389e-02, 2.37543634e-01, 3.36315978e-04, 7.65808441e-02,\n",
              "        1.06425762e-04, 6.18135822e-02, 1.17804414e-02, 7.79473222e-02,\n",
              "        1.74711353e-04, 1.29796054e-02, 1.65716580e-03, 3.66631685e-02,\n",
              "        1.53129282e-03, 6.36843087e-02, 3.10104830e-04, 1.93145688e-01]),\n",
              " 'std_score_time': array([0.        , 0.00309957, 0.        , 0.00708629, 0.        ,\n",
              "        0.0272111 , 0.        , 0.02216976, 0.        , 0.00606299,\n",
              "        0.        , 0.00308714, 0.        , 0.00913166, 0.        ,\n",
              "        0.03173711]),\n",
              " 'std_test_recall': array([       nan, 0.02946278,        nan, 0.01769066,        nan,\n",
              "        0.04656384,        nan, 0.01964186,        nan, 0.02946278,\n",
              "               nan, 0.0130118 ,        nan, 0.13476203,        nan,\n",
              "        0.02248571])}"
            ]
          },
          "metadata": {
            "tags": []
          },
          "execution_count": 159
        }
      ]
    },
    {
      "cell_type": "code",
      "metadata": {
        "id": "zEG6h35LhgFv",
        "colab": {
          "base_uri": "https://localhost:8080/"
        },
        "outputId": "42bc31dc-0214-488f-97b7-5930b20b85f5"
      },
      "source": [
        "grid_result.best_score_"
      ],
      "execution_count": 160,
      "outputs": [
        {
          "output_type": "execute_result",
          "data": {
            "text/plain": [
              "0.9861111111111112"
            ]
          },
          "metadata": {
            "tags": []
          },
          "execution_count": 160
        }
      ]
    },
    {
      "cell_type": "code",
      "metadata": {
        "id": "EA7dablMMtMN",
        "colab": {
          "base_uri": "https://localhost:8080/"
        },
        "outputId": "6fbc3ff6-8a6d-4674-a531-17adb2c38c07"
      },
      "source": [
        "grid_result.best_params_"
      ],
      "execution_count": 161,
      "outputs": [
        {
          "output_type": "execute_result",
          "data": {
            "text/plain": [
              "{'activation': 'tanh', 'batch_size': 256, 'epochs': 50, 'layers': (30, 15)}"
            ]
          },
          "metadata": {
            "tags": []
          },
          "execution_count": 161
        }
      ]
    },
    {
      "cell_type": "markdown",
      "metadata": {
        "id": "7j-nGgjTM7gz"
      },
      "source": [
        "## Grid Search Final Model"
      ]
    },
    {
      "cell_type": "code",
      "metadata": {
        "id": "BzOGMka8MtIc",
        "colab": {
          "base_uri": "https://localhost:8080/"
        },
        "outputId": "09e0bd36-5233-4f4c-ab81-efe967c21e7e"
      },
      "source": [
        "# Set seeds\n",
        "import random\n",
        "import tensorflow as tf\n",
        "import keras.backend as K\n",
        "random.seed(0)\n",
        "np.random.seed(0)\n",
        "# tf.compat.v1.set_random_seed(0)\n",
        "# tf.random.set_random_seed(0)\n",
        "session_conf = tf.compat.v1.ConfigProto(intra_op_parallelism_threads=1, inter_op_parallelism_threads=1)\n",
        "sess = tf.compat.v1.Session(graph=tf.compat.v1.get_default_graph(), config=session_conf)\n",
        "# K.set_session(sess)\n",
        "\n",
        "start = time.time()\n",
        "nn = Sequential()\n",
        "nn.add(Dense(30,input_dim=30,activation='tanh'))\n",
        "nn.add(Dropout(0.3))\n",
        "nn.add(Dense(15,activation='tanh'))\n",
        "nn.add(Dropout(0.3))\n",
        "nn.add(Dense(1, activation='sigmoid'))\n",
        "\n",
        "nn.compile(loss='binary_crossentropy',optimizer='adam')   \n",
        "nn.fit(X_train,y_train, epochs=50,batch_size=256)\n",
        "end = time.time()\n",
        "fit_time = (end - start)"
      ],
      "execution_count": 162,
      "outputs": [
        {
          "output_type": "stream",
          "text": [
            "Epoch 1/50\n",
            "2/2 [==============================] - 0s 7ms/step - loss: 0.9592\n",
            "Epoch 2/50\n",
            "2/2 [==============================] - 0s 13ms/step - loss: 0.8602\n",
            "Epoch 3/50\n",
            "2/2 [==============================] - 0s 6ms/step - loss: 0.8082\n",
            "Epoch 4/50\n",
            "2/2 [==============================] - 0s 6ms/step - loss: 0.7231\n",
            "Epoch 5/50\n",
            "2/2 [==============================] - 0s 6ms/step - loss: 0.6665\n",
            "Epoch 6/50\n",
            "2/2 [==============================] - 0s 6ms/step - loss: 0.6082\n",
            "Epoch 7/50\n",
            "2/2 [==============================] - 0s 13ms/step - loss: 0.5822\n",
            "Epoch 8/50\n",
            "2/2 [==============================] - 0s 6ms/step - loss: 0.5077\n",
            "Epoch 9/50\n",
            "2/2 [==============================] - 0s 5ms/step - loss: 0.4912\n",
            "Epoch 10/50\n",
            "2/2 [==============================] - 0s 5ms/step - loss: 0.4471\n",
            "Epoch 11/50\n",
            "2/2 [==============================] - 0s 4ms/step - loss: 0.4123\n",
            "Epoch 12/50\n",
            "2/2 [==============================] - 0s 4ms/step - loss: 0.3975\n",
            "Epoch 13/50\n",
            "2/2 [==============================] - 0s 4ms/step - loss: 0.3518\n",
            "Epoch 14/50\n",
            "2/2 [==============================] - 0s 4ms/step - loss: 0.3529\n",
            "Epoch 15/50\n",
            "2/2 [==============================] - 0s 5ms/step - loss: 0.3302\n",
            "Epoch 16/50\n",
            "2/2 [==============================] - 0s 4ms/step - loss: 0.2850\n",
            "Epoch 17/50\n",
            "2/2 [==============================] - 0s 5ms/step - loss: 0.2836\n",
            "Epoch 18/50\n",
            "2/2 [==============================] - 0s 9ms/step - loss: 0.2847\n",
            "Epoch 19/50\n",
            "2/2 [==============================] - 0s 14ms/step - loss: 0.2585\n",
            "Epoch 20/50\n",
            "2/2 [==============================] - 0s 5ms/step - loss: 0.2545\n",
            "Epoch 21/50\n",
            "2/2 [==============================] - 0s 9ms/step - loss: 0.2504\n",
            "Epoch 22/50\n",
            "2/2 [==============================] - 0s 6ms/step - loss: 0.2377\n",
            "Epoch 23/50\n",
            "2/2 [==============================] - 0s 8ms/step - loss: 0.2353\n",
            "Epoch 24/50\n",
            "2/2 [==============================] - 0s 8ms/step - loss: 0.2070\n",
            "Epoch 25/50\n",
            "2/2 [==============================] - 0s 9ms/step - loss: 0.2104\n",
            "Epoch 26/50\n",
            "2/2 [==============================] - 0s 5ms/step - loss: 0.1957\n",
            "Epoch 27/50\n",
            "2/2 [==============================] - 0s 3ms/step - loss: 0.1866\n",
            "Epoch 28/50\n",
            "2/2 [==============================] - 0s 6ms/step - loss: 0.1865\n",
            "Epoch 29/50\n",
            "2/2 [==============================] - 0s 5ms/step - loss: 0.1937\n",
            "Epoch 30/50\n",
            "2/2 [==============================] - 0s 7ms/step - loss: 0.1844\n",
            "Epoch 31/50\n",
            "2/2 [==============================] - 0s 11ms/step - loss: 0.1776\n",
            "Epoch 32/50\n",
            "2/2 [==============================] - 0s 8ms/step - loss: 0.1819\n",
            "Epoch 33/50\n",
            "2/2 [==============================] - 0s 10ms/step - loss: 0.1578\n",
            "Epoch 34/50\n",
            "2/2 [==============================] - 0s 8ms/step - loss: 0.1721\n",
            "Epoch 35/50\n",
            "2/2 [==============================] - 0s 5ms/step - loss: 0.1609\n",
            "Epoch 36/50\n",
            "2/2 [==============================] - 0s 8ms/step - loss: 0.1542\n",
            "Epoch 37/50\n",
            "2/2 [==============================] - 0s 5ms/step - loss: 0.1418\n",
            "Epoch 38/50\n",
            "2/2 [==============================] - 0s 11ms/step - loss: 0.1388\n",
            "Epoch 39/50\n",
            "2/2 [==============================] - 0s 8ms/step - loss: 0.1361\n",
            "Epoch 40/50\n",
            "2/2 [==============================] - 0s 6ms/step - loss: 0.1426\n",
            "Epoch 41/50\n",
            "2/2 [==============================] - 0s 6ms/step - loss: 0.1301\n",
            "Epoch 42/50\n",
            "2/2 [==============================] - 0s 5ms/step - loss: 0.1353\n",
            "Epoch 43/50\n",
            "2/2 [==============================] - 0s 4ms/step - loss: 0.1414\n",
            "Epoch 44/50\n",
            "2/2 [==============================] - 0s 6ms/step - loss: 0.1376\n",
            "Epoch 45/50\n",
            "2/2 [==============================] - 0s 5ms/step - loss: 0.1305\n",
            "Epoch 46/50\n",
            "2/2 [==============================] - 0s 4ms/step - loss: 0.1160\n",
            "Epoch 47/50\n",
            "2/2 [==============================] - 0s 4ms/step - loss: 0.1360\n",
            "Epoch 48/50\n",
            "2/2 [==============================] - 0s 6ms/step - loss: 0.1398\n",
            "Epoch 49/50\n",
            "2/2 [==============================] - 0s 5ms/step - loss: 0.1103\n",
            "Epoch 50/50\n",
            "2/2 [==============================] - 0s 8ms/step - loss: 0.1200\n"
          ],
          "name": "stdout"
        }
      ]
    },
    {
      "cell_type": "code",
      "metadata": {
        "id": "BzLdNnilMtDB",
        "colab": {
          "base_uri": "https://localhost:8080/"
        },
        "outputId": "1c775c01-60c2-4448-e7fc-19e6c151d60c"
      },
      "source": [
        "fit_time"
      ],
      "execution_count": 163,
      "outputs": [
        {
          "output_type": "execute_result",
          "data": {
            "text/plain": [
              "1.3136725425720215"
            ]
          },
          "metadata": {
            "tags": []
          },
          "execution_count": 163
        }
      ]
    },
    {
      "cell_type": "markdown",
      "metadata": {
        "id": "YydibsV2SQ-t"
      },
      "source": [
        "## Grid Search Prediction"
      ]
    },
    {
      "cell_type": "code",
      "metadata": {
        "id": "GnHM3PAMMs-a",
        "colab": {
          "base_uri": "https://localhost:8080/"
        },
        "outputId": "9302781b-0e89-4d7b-99c6-9c67a85b7866"
      },
      "source": [
        "start_time = time.time()\n",
        "y_test_predict = nn.predict_classes(X_test)\n",
        "end_time = time.time()\n",
        "predict_time = end_time - start_time\n",
        "predict_time"
      ],
      "execution_count": 168,
      "outputs": [
        {
          "output_type": "stream",
          "text": [
            "/usr/local/lib/python3.7/dist-packages/tensorflow/python/keras/engine/sequential.py:450: UserWarning: `model.predict_classes()` is deprecated and will be removed after 2021-01-01. Please use instead:* `np.argmax(model.predict(x), axis=-1)`,   if your model does multi-class classification   (e.g. if it uses a `softmax` last-layer activation).* `(model.predict(x) > 0.5).astype(\"int32\")`,   if your model does binary classification   (e.g. if it uses a `sigmoid` last-layer activation).\n",
            "  warnings.warn('`model.predict_classes()` is deprecated and '\n"
          ],
          "name": "stderr"
        },
        {
          "output_type": "execute_result",
          "data": {
            "text/plain": [
              "0.08545541763305664"
            ]
          },
          "metadata": {
            "tags": []
          },
          "execution_count": 168
        }
      ]
    },
    {
      "cell_type": "code",
      "metadata": {
        "id": "ZsJHXDRMMs6D",
        "colab": {
          "base_uri": "https://localhost:8080/"
        },
        "outputId": "987a49be-d220-4bab-acc3-099215fae96d"
      },
      "source": [
        "y_test_prob = nn.predict_proba(X_test)"
      ],
      "execution_count": 169,
      "outputs": [
        {
          "output_type": "stream",
          "text": [
            "/usr/local/lib/python3.7/dist-packages/tensorflow/python/keras/engine/sequential.py:425: UserWarning: `model.predict_proba()` is deprecated and will be removed after 2021-01-01. Please use `model.predict()` instead.\n",
            "  warnings.warn('`model.predict_proba()` is deprecated and '\n"
          ],
          "name": "stderr"
        }
      ]
    },
    {
      "cell_type": "code",
      "metadata": {
        "id": "k914Y02ESmNF",
        "colab": {
          "base_uri": "https://localhost:8080/",
          "height": 257
        },
        "outputId": "4f79b59e-c958-44d8-a4df-513cf136960e"
      },
      "source": [
        "testPred = X_test.copy()\n",
        "testPred['y_test'], testPred['y_test_prob'], testPred['y_test_predict']=[y_test,y_test_prob,y_test_predict]\n",
        "testPred.head()"
      ],
      "execution_count": 170,
      "outputs": [
        {
          "output_type": "execute_result",
          "data": {
            "text/html": [
              "<div>\n",
              "<style scoped>\n",
              "    .dataframe tbody tr th:only-of-type {\n",
              "        vertical-align: middle;\n",
              "    }\n",
              "\n",
              "    .dataframe tbody tr th {\n",
              "        vertical-align: top;\n",
              "    }\n",
              "\n",
              "    .dataframe thead th {\n",
              "        text-align: right;\n",
              "    }\n",
              "</style>\n",
              "<table border=\"1\" class=\"dataframe\">\n",
              "  <thead>\n",
              "    <tr style=\"text-align: right;\">\n",
              "      <th></th>\n",
              "      <th>area error</th>\n",
              "      <th>compactness error</th>\n",
              "      <th>concave points error</th>\n",
              "      <th>concavity error</th>\n",
              "      <th>fractal dimension error</th>\n",
              "      <th>mean area</th>\n",
              "      <th>mean compactness</th>\n",
              "      <th>mean concave points</th>\n",
              "      <th>mean concavity</th>\n",
              "      <th>mean fractal dimension</th>\n",
              "      <th>mean perimeter</th>\n",
              "      <th>mean radius</th>\n",
              "      <th>mean smoothness</th>\n",
              "      <th>mean symmetry</th>\n",
              "      <th>mean texture</th>\n",
              "      <th>perimeter error</th>\n",
              "      <th>radius error</th>\n",
              "      <th>smoothness error</th>\n",
              "      <th>symmetry error</th>\n",
              "      <th>texture error</th>\n",
              "      <th>worst area</th>\n",
              "      <th>worst compactness</th>\n",
              "      <th>worst concave points</th>\n",
              "      <th>worst concavity</th>\n",
              "      <th>worst fractal dimension</th>\n",
              "      <th>worst perimeter</th>\n",
              "      <th>worst radius</th>\n",
              "      <th>worst smoothness</th>\n",
              "      <th>worst symmetry</th>\n",
              "      <th>worst texture</th>\n",
              "      <th>y_test</th>\n",
              "      <th>y_test_prob</th>\n",
              "      <th>y_test_predict</th>\n",
              "    </tr>\n",
              "  </thead>\n",
              "  <tbody>\n",
              "    <tr>\n",
              "      <th>204</th>\n",
              "      <td>-0.221053</td>\n",
              "      <td>-0.355912</td>\n",
              "      <td>-0.231333</td>\n",
              "      <td>-0.161929</td>\n",
              "      <td>-0.079018</td>\n",
              "      <td>-0.491999</td>\n",
              "      <td>0.027651</td>\n",
              "      <td>-0.276232</td>\n",
              "      <td>-0.109847</td>\n",
              "      <td>0.132176</td>\n",
              "      <td>-0.448110</td>\n",
              "      <td>-0.470694</td>\n",
              "      <td>0.234114</td>\n",
              "      <td>0.413949</td>\n",
              "      <td>-0.160486</td>\n",
              "      <td>-0.182696</td>\n",
              "      <td>-0.032743</td>\n",
              "      <td>-0.029327</td>\n",
              "      <td>-0.329612</td>\n",
              "      <td>-0.313616</td>\n",
              "      <td>-0.356299</td>\n",
              "      <td>-0.104741</td>\n",
              "      <td>-0.199563</td>\n",
              "      <td>-0.024412</td>\n",
              "      <td>0.196958</td>\n",
              "      <td>-0.333935</td>\n",
              "      <td>-0.269040</td>\n",
              "      <td>0.448503</td>\n",
              "      <td>0.183204</td>\n",
              "      <td>-0.168905</td>\n",
              "      <td>1</td>\n",
              "      <td>0.927778</td>\n",
              "      <td>1</td>\n",
              "    </tr>\n",
              "    <tr>\n",
              "      <th>70</th>\n",
              "      <td>1.225780</td>\n",
              "      <td>-0.500666</td>\n",
              "      <td>0.308825</td>\n",
              "      <td>-0.305168</td>\n",
              "      <td>-0.793157</td>\n",
              "      <td>1.351264</td>\n",
              "      <td>-0.027309</td>\n",
              "      <td>0.789060</td>\n",
              "      <td>0.241064</td>\n",
              "      <td>-1.160679</td>\n",
              "      <td>1.302886</td>\n",
              "      <td>1.366877</td>\n",
              "      <td>-0.446227</td>\n",
              "      <td>-0.838325</td>\n",
              "      <td>0.470149</td>\n",
              "      <td>1.296951</td>\n",
              "      <td>1.384594</td>\n",
              "      <td>-0.865695</td>\n",
              "      <td>-0.809083</td>\n",
              "      <td>-0.760851</td>\n",
              "      <td>1.732277</td>\n",
              "      <td>-0.131459</td>\n",
              "      <td>0.978975</td>\n",
              "      <td>-0.016736</td>\n",
              "      <td>-1.000578</td>\n",
              "      <td>1.746605</td>\n",
              "      <td>1.779007</td>\n",
              "      <td>-0.572873</td>\n",
              "      <td>-0.565828</td>\n",
              "      <td>0.147012</td>\n",
              "      <td>0</td>\n",
              "      <td>0.015543</td>\n",
              "      <td>0</td>\n",
              "    </tr>\n",
              "    <tr>\n",
              "      <th>131</th>\n",
              "      <td>0.175418</td>\n",
              "      <td>-0.594561</td>\n",
              "      <td>-0.140496</td>\n",
              "      <td>-0.124794</td>\n",
              "      <td>-0.504551</td>\n",
              "      <td>0.267377</td>\n",
              "      <td>0.340350</td>\n",
              "      <td>0.824140</td>\n",
              "      <td>0.725686</td>\n",
              "      <td>-0.685782</td>\n",
              "      <td>0.400820</td>\n",
              "      <td>0.378508</td>\n",
              "      <td>0.913744</td>\n",
              "      <td>0.435855</td>\n",
              "      <td>0.044296</td>\n",
              "      <td>0.112838</td>\n",
              "      <td>0.249497</td>\n",
              "      <td>-0.267004</td>\n",
              "      <td>-0.795764</td>\n",
              "      <td>-0.781898</td>\n",
              "      <td>0.484159</td>\n",
              "      <td>-0.094562</td>\n",
              "      <td>0.560244</td>\n",
              "      <td>0.512911</td>\n",
              "      <td>-0.208132</td>\n",
              "      <td>0.525386</td>\n",
              "      <td>0.619345</td>\n",
              "      <td>0.974533</td>\n",
              "      <td>-0.103143</td>\n",
              "      <td>0.052562</td>\n",
              "      <td>0</td>\n",
              "      <td>0.035639</td>\n",
              "      <td>0</td>\n",
              "    </tr>\n",
              "    <tr>\n",
              "      <th>431</th>\n",
              "      <td>-0.547998</td>\n",
              "      <td>0.417599</td>\n",
              "      <td>-0.020461</td>\n",
              "      <td>0.554262</td>\n",
              "      <td>0.835972</td>\n",
              "      <td>-0.532101</td>\n",
              "      <td>0.516599</td>\n",
              "      <td>-0.539846</td>\n",
              "      <td>-0.142993</td>\n",
              "      <td>1.165609</td>\n",
              "      <td>-0.432457</td>\n",
              "      <td>-0.490575</td>\n",
              "      <td>0.643316</td>\n",
              "      <td>-0.002259</td>\n",
              "      <td>-0.374576</td>\n",
              "      <td>-0.327740</td>\n",
              "      <td>-0.824604</td>\n",
              "      <td>0.986380</td>\n",
              "      <td>0.160756</td>\n",
              "      <td>0.441152</td>\n",
              "      <td>-0.641257</td>\n",
              "      <td>0.054930</td>\n",
              "      <td>-0.622863</td>\n",
              "      <td>-0.152986</td>\n",
              "      <td>0.534440</td>\n",
              "      <td>-0.525756</td>\n",
              "      <td>-0.701842</td>\n",
              "      <td>0.553709</td>\n",
              "      <td>-0.557739</td>\n",
              "      <td>-0.450625</td>\n",
              "      <td>1</td>\n",
              "      <td>0.983302</td>\n",
              "      <td>1</td>\n",
              "    </tr>\n",
              "    <tr>\n",
              "      <th>540</th>\n",
              "      <td>-0.428529</td>\n",
              "      <td>0.874216</td>\n",
              "      <td>0.509965</td>\n",
              "      <td>0.783709</td>\n",
              "      <td>0.649494</td>\n",
              "      <td>-0.716683</td>\n",
              "      <td>0.145150</td>\n",
              "      <td>-0.592724</td>\n",
              "      <td>-0.269044</td>\n",
              "      <td>0.711976</td>\n",
              "      <td>-0.713374</td>\n",
              "      <td>-0.734828</td>\n",
              "      <td>0.247636</td>\n",
              "      <td>0.023298</td>\n",
              "      <td>-1.128546</td>\n",
              "      <td>-0.612877</td>\n",
              "      <td>-0.457547</td>\n",
              "      <td>1.703076</td>\n",
              "      <td>-0.259386</td>\n",
              "      <td>0.999969</td>\n",
              "      <td>-0.743216</td>\n",
              "      <td>-0.270137</td>\n",
              "      <td>-0.691687</td>\n",
              "      <td>-0.443716</td>\n",
              "      <td>-0.144403</td>\n",
              "      <td>-0.848337</td>\n",
              "      <td>-0.830233</td>\n",
              "      <td>0.093432</td>\n",
              "      <td>-0.924975</td>\n",
              "      <td>-0.976611</td>\n",
              "      <td>1</td>\n",
              "      <td>0.986347</td>\n",
              "      <td>1</td>\n",
              "    </tr>\n",
              "  </tbody>\n",
              "</table>\n",
              "</div>"
            ],
            "text/plain": [
              "     area error  compactness error  ...  y_test_prob  y_test_predict\n",
              "204   -0.221053          -0.355912  ...     0.927778               1\n",
              "70     1.225780          -0.500666  ...     0.015543               0\n",
              "131    0.175418          -0.594561  ...     0.035639               0\n",
              "431   -0.547998           0.417599  ...     0.983302               1\n",
              "540   -0.428529           0.874216  ...     0.986347               1\n",
              "\n",
              "[5 rows x 33 columns]"
            ]
          },
          "metadata": {
            "tags": []
          },
          "execution_count": 170
        }
      ]
    },
    {
      "cell_type": "code",
      "metadata": {
        "id": "QLChrkKbSmIN",
        "colab": {
          "base_uri": "https://localhost:8080/"
        },
        "outputId": "e607d4e3-01c5-4494-9f72-e76ad30e8c43"
      },
      "source": [
        "testPred['y_test_prob'].describe()"
      ],
      "execution_count": 171,
      "outputs": [
        {
          "output_type": "execute_result",
          "data": {
            "text/plain": [
              "count    114.000000\n",
              "mean       0.618005\n",
              "std        0.439925\n",
              "min        0.008975\n",
              "25%        0.033756\n",
              "50%        0.953299\n",
              "75%        0.980918\n",
              "max        0.991232\n",
              "Name: y_test_prob, dtype: float64"
            ]
          },
          "metadata": {
            "tags": []
          },
          "execution_count": 171
        }
      ]
    },
    {
      "cell_type": "markdown",
      "metadata": {
        "id": "0Ya_sdrJTTYh"
      },
      "source": [
        "## Grid Search Model Performance"
      ]
    },
    {
      "cell_type": "code",
      "metadata": {
        "id": "Vmzh5trSSmC9",
        "colab": {
          "base_uri": "https://localhost:8080/",
          "height": 265
        },
        "outputId": "caeaaddc-f6c9-405c-ba58-7db63940205d"
      },
      "source": [
        "#ROC/AUC Curve\n",
        "import matplotlib.pyplot as plt\n",
        "%matplotlib inline\n",
        "from sklearn import metrics\n",
        "# y_test_prob=et_gs.predict_proba(X_test)[:,1]\n",
        "fpr,tpr, _=metrics.roc_curve(y_test,y_test_prob)\n",
        "auc=metrics.roc_auc_score(y_test,y_test_prob)\n",
        "plt.plot(fpr,tpr,label=\"area=\"+str(auc))\n",
        "plt.legend(loc=4)\n",
        "plt.show()"
      ],
      "execution_count": 172,
      "outputs": [
        {
          "output_type": "display_data",
          "data": {
            "image/png": "[encoded data removed]",
            "text/plain": [
              "<Figure size 432x288 with 1 Axes>"
            ]
          },
          "metadata": {
            "tags": [],
            "needs_background": "light"
          }
        }
      ]
    },
    {
      "cell_type": "code",
      "metadata": {
        "id": "uh5x-NQMSl92",
        "colab": {
          "base_uri": "https://localhost:8080/"
        },
        "outputId": "bee79ea9-abb1-466b-dfe2-1d9bb23c4432"
      },
      "source": [
        "from sklearn.metrics import confusion_matrix, log_loss\n",
        "log_loss(y_test,y_test_prob)"
      ],
      "execution_count": 173,
      "outputs": [
        {
          "output_type": "execute_result",
          "data": {
            "text/plain": [
              "0.08413433676520199"
            ]
          },
          "metadata": {
            "tags": []
          },
          "execution_count": 173
        }
      ]
    },
    {
      "cell_type": "code",
      "metadata": {
        "id": "WCXRTz8nTkoV",
        "colab": {
          "base_uri": "https://localhost:8080/"
        },
        "outputId": "6e70701d-f96c-4c6f-8fe9-1792ed74487a"
      },
      "source": [
        "cm = confusion_matrix(y_test, y_test_predict)\n",
        "cmtx = pd.DataFrame(cm, index=['true:no', 'true:yes'], columns=['pred:no', 'pred:yes'])\n",
        "print(cmtx)"
      ],
      "execution_count": 174,
      "outputs": [
        {
          "output_type": "stream",
          "text": [
            "          pred:no  pred:yes\n",
            "true:no        41         2\n",
            "true:yes        2        69\n"
          ],
          "name": "stdout"
        }
      ]
    },
    {
      "cell_type": "code",
      "metadata": {
        "id": "ieDl27rDTkba",
        "colab": {
          "base_uri": "https://localhost:8080/"
        },
        "outputId": "cfd0dc96-202c-4384-ae88-9e49be7353de"
      },
      "source": [
        "from sklearn.metrics import classification_report\n",
        "print(classification_report(y_test, y_test_predict))"
      ],
      "execution_count": 175,
      "outputs": [
        {
          "output_type": "stream",
          "text": [
            "              precision    recall  f1-score   support\n",
            "\n",
            "           0       0.95      0.95      0.95        43\n",
            "           1       0.97      0.97      0.97        71\n",
            "\n",
            "    accuracy                           0.96       114\n",
            "   macro avg       0.96      0.96      0.96       114\n",
            "weighted avg       0.96      0.96      0.96       114\n",
            "\n"
          ],
          "name": "stdout"
        }
      ]
    },
    {
      "cell_type": "markdown",
      "metadata": {
        "id": "8s8maPDtTusO"
      },
      "source": [
        "## Grid Search Prediction Distribution"
      ]
    },
    {
      "cell_type": "code",
      "metadata": {
        "id": "WSTnhjLpSl6E",
        "colab": {
          "base_uri": "https://localhost:8080/",
          "height": 317
        },
        "outputId": "7511a002-34a4-4e23-b637-9617303489a3"
      },
      "source": [
        "# Plot the predicted probability distribution\n",
        "sns.distplot(y_test_prob, label='Predicted Probability', kde=False)"
      ],
      "execution_count": 176,
      "outputs": [
        {
          "output_type": "stream",
          "text": [
            "/usr/local/lib/python3.7/dist-packages/seaborn/distributions.py:2557: FutureWarning: `distplot` is a deprecated function and will be removed in a future version. Please adapt your code to use either `displot` (a figure-level function with similar flexibility) or `histplot` (an axes-level function for histograms).\n",
            "  warnings.warn(msg, FutureWarning)\n"
          ],
          "name": "stderr"
        },
        {
          "output_type": "execute_result",
          "data": {
            "text/plain": [
              "<matplotlib.axes._subplots.AxesSubplot at 0x7f921957ab90>"
            ]
          },
          "metadata": {
            "tags": []
          },
          "execution_count": 176
        },
        {
          "output_type": "display_data",
          "data": {
            "image/png": "[encoded data removed]",
            "text/plain": [
              "<Figure size 432x288 with 1 Axes>"
            ]
          },
          "metadata": {
            "tags": [],
            "needs_background": "light"
          }
        }
      ]
    },
    {
      "cell_type": "code",
      "metadata": {
        "id": "YniDpijBT9wD",
        "colab": {
          "base_uri": "https://localhost:8080/",
          "height": 279
        },
        "outputId": "79e1bccd-f1ae-4740-ce8e-4476c6e6b179"
      },
      "source": [
        "# this is to plot the kde by label\n",
        "sns.kdeplot(testPred[testPred['y_test']==1]['y_test_prob'],label='traffic_keyword=1');\n",
        "sns.kdeplot(testPred[testPred['y_test']==0]['y_test_prob'],label='traffic_keyword=0');\n",
        "\n",
        "# add labels\n",
        "plt.xlabel('Predicted Probability')\n",
        "plt.ylabel('Density')\n",
        "plt.show()"
      ],
      "execution_count": 180,
      "outputs": [
        {
          "output_type": "display_data",
          "data": {
            "image/png": "[encoded data removed]",
            "text/plain": [
              "<Figure size 432x288 with 1 Axes>"
            ]
          },
          "metadata": {
            "tags": [],
            "needs_background": "light"
          }
        }
      ]
    },
    {
      "cell_type": "code",
      "metadata": {
        "id": "NJP94Y0zT9id",
        "colab": {
          "base_uri": "https://localhost:8080/",
          "height": 349
        },
        "outputId": "20c0c098-c580-4263-8168-02a01470b3fb"
      },
      "source": [
        "# this is to plot the kde by label\n",
        "sns.distplot(testPred[testPred['y_test']==1]['y_test_prob'],label='traffic_keyword=1', kde=False);\n",
        "sns.distplot(testPred[testPred['y_test']==0]['y_test_prob'],label='traffic_keyword=0', kde=False);\n",
        "\n",
        "# add labels\n",
        "plt.xlabel('Predicted Probability')\n",
        "plt.ylabel('Frequency')\n",
        "plt.show()"
      ],
      "execution_count": 181,
      "outputs": [
        {
          "output_type": "stream",
          "text": [
            "/usr/local/lib/python3.7/dist-packages/seaborn/distributions.py:2557: FutureWarning: `distplot` is a deprecated function and will be removed in a future version. Please adapt your code to use either `displot` (a figure-level function with similar flexibility) or `histplot` (an axes-level function for histograms).\n",
            "  warnings.warn(msg, FutureWarning)\n",
            "/usr/local/lib/python3.7/dist-packages/seaborn/distributions.py:2557: FutureWarning: `distplot` is a deprecated function and will be removed in a future version. Please adapt your code to use either `displot` (a figure-level function with similar flexibility) or `histplot` (an axes-level function for histograms).\n",
            "  warnings.warn(msg, FutureWarning)\n"
          ],
          "name": "stderr"
        },
        {
          "output_type": "display_data",
          "data": {
            "image/png": "[encoded data removed]",
            "text/plain": [
              "<Figure size 432x288 with 1 Axes>"
            ]
          },
          "metadata": {
            "tags": [],
            "needs_background": "light"
          }
        }
      ]
    },
    {
      "cell_type": "markdown",
      "metadata": {
        "id": "Iu3iXnyp95OJ"
      },
      "source": [
        "## Random Search Cross Validation"
      ]
    },
    {
      "cell_type": "code",
      "metadata": {
        "id": "LAN3Vbcn9-9s",
        "colab": {
          "base_uri": "https://localhost:8080/"
        },
        "outputId": "3cc9a717-9536-47b1-a4ef-b5f70d7b9ee1"
      },
      "source": [
        "layers = [(30), (30, 15), (30, 15, 7), (30, 15, 7, 3)]# Need to use tuple instead of list because of a bug related to nested list with Keras. https://datascience.stackexchange.com/questions/66341/cannot-clone-object-keras-wrappers-scikit-learn-kerasregressor-object-at-0x7fdc\n",
        "activations = ['tanh', 'relu']\n",
        "kernel_initializer = ['uniform', 'lecun_uniform', 'normal', 'zero', 'glorot_normal', 'glorot_uniform', 'he_normal', 'he_uniform']\n",
        "optimizer = ['Adam', 'Adamax', 'Nadam']\n",
        "# Glorot normal initializer, also called Xavier normal initializer.\n",
        "# It draws samples from a truncated normal distribution centered on 0 with stddev = sqrt(2 / (fan_in + fan_out)) where fan_in is the number of input units in the weight tensor and fan_out is the number of output units in the weight tensor.\n",
        "batch_size = [16, 32, 64, 128, 256, 512, 1024]\n",
        "epochs=[50, 100, 150]\n",
        "dropout=[0.0, 0.1, 0.2, 0.3, 0.4]\n",
        "param_grid = dict(layers=layers, activation=activations, kernel_initializer=kernel_initializer, optimizer=optimizer, batch_size = batch_size, epochs=epochs, dropout=dropout)\n",
        "param_grid"
      ],
      "execution_count": 182,
      "outputs": [
        {
          "output_type": "execute_result",
          "data": {
            "text/plain": [
              "{'activation': ['tanh', 'relu'],\n",
              " 'batch_size': [16, 32, 64, 128, 256, 512, 1024],\n",
              " 'dropout': [0.0, 0.1, 0.2, 0.3, 0.4],\n",
              " 'epochs': [50, 100, 150],\n",
              " 'kernel_initializer': ['uniform',\n",
              "  'lecun_uniform',\n",
              "  'normal',\n",
              "  'zero',\n",
              "  'glorot_normal',\n",
              "  'glorot_uniform',\n",
              "  'he_normal',\n",
              "  'he_uniform'],\n",
              " 'layers': [30, (30, 15), (30, 15, 7), (30, 15, 7, 3)],\n",
              " 'optimizer': ['Adam', 'Adamax', 'Nadam']}"
            ]
          },
          "metadata": {
            "tags": []
          },
          "execution_count": 182
        }
      ]
    },
    {
      "cell_type": "code",
      "metadata": {
        "id": "-wpQKaRI-wv2"
      },
      "source": [
        "scoring = ['recall']"
      ],
      "execution_count": 183,
      "outputs": []
    },
    {
      "cell_type": "code",
      "metadata": {
        "id": "gfyLvbxz-wrh"
      },
      "source": [
        "kfold = StratifiedKFold(n_splits=3, shuffle=True)"
      ],
      "execution_count": 184,
      "outputs": []
    },
    {
      "cell_type": "code",
      "metadata": {
        "id": "NWz8v-pP-wnU",
        "colab": {
          "base_uri": "https://localhost:8080/"
        },
        "outputId": "8a585d2e-e6e7-4e36-d11d-d4f8d250bb13"
      },
      "source": [
        "l = enumerate(layers)\n",
        "print(list(l))"
      ],
      "execution_count": 185,
      "outputs": [
        {
          "output_type": "stream",
          "text": [
            "[(0, 30), (1, (30, 15)), (2, (30, 15, 7)), (3, (30, 15, 7, 3))]\n"
          ],
          "name": "stdout"
        }
      ]
    },
    {
      "cell_type": "code",
      "metadata": {
        "id": "z1GSCeyQ-wjk"
      },
      "source": [
        "def create_model(layers, activation='relu', batch_size=32, epochs=50, dropout=0.2, kernel_initializer='normal', optimizer = 'adam'):\n",
        "    # Add seed later\n",
        "    model = Sequential()\n",
        "    for i, nodes in enumerate(layers):\n",
        "        if i==0:\n",
        "            model.add(Dense(nodes,kernel_initializer=kernel_initializer, input_dim=X_train.shape[1]))\n",
        "            model.add(Activation(activation))\n",
        "            model.add(Dropout(dropout))\n",
        "        else:\n",
        "            model.add(Dense(nodes,kernel_initializer=kernel_initializer))\n",
        "            model.add(Activation(activation))\n",
        "            model.add(Dropout(dropout))\n",
        "            \n",
        "    model.add(Dense(units = 1, activation = 'sigmoid')) # Note: no activation beyond this point\n",
        "    \n",
        "    model.compile(loss='binary_crossentropy',optimizer=optimizer,metrics=['accuracy'])\n",
        "    return model"
      ],
      "execution_count": 186,
      "outputs": []
    },
    {
      "cell_type": "code",
      "metadata": {
        "id": "zTqxMzNr-wfa",
        "colab": {
          "base_uri": "https://localhost:8080/"
        },
        "outputId": "abafc75b-ebf0-4867-9127-1eb3b0b14dae"
      },
      "source": [
        "# Set seeds\n",
        "import random\n",
        "import tensorflow as tf\n",
        "import keras.backend as K\n",
        "random.seed(0)\n",
        "np.random.seed(0)\n",
        "# tf.compat.v1.set_random_seed(0)\n",
        "# tf.random.set_random_seed(0)\n",
        "session_conf = tf.compat.v1.ConfigProto(intra_op_parallelism_threads=1, inter_op_parallelism_threads=1)\n",
        "sess = tf.compat.v1.Session(graph=tf.compat.v1.get_default_graph(), config=session_conf)\n",
        "# K.set_session(sess)\n",
        "\n",
        "# Change function to estimator\n",
        "model = KerasClassifier(build_fn=create_model, verbose=0)\n",
        "\n",
        "random_search = RandomizedSearchCV(model, param_grid, scoring=scoring, refit='recall', n_jobs=-1, cv=kfold, verbose=1)\n",
        "\n",
        "random_result = random_search.fit(X_train, y_train)"
      ],
      "execution_count": 187,
      "outputs": [
        {
          "output_type": "stream",
          "text": [
            "Fitting 3 folds for each of 10 candidates, totalling 30 fits\n"
          ],
          "name": "stdout"
        },
        {
          "output_type": "stream",
          "text": [
            "[Parallel(n_jobs=-1)]: Using backend LokyBackend with 2 concurrent workers.\n",
            "[Parallel(n_jobs=-1)]: Done  30 out of  30 | elapsed:   36.6s finished\n"
          ],
          "name": "stderr"
        }
      ]
    },
    {
      "cell_type": "code",
      "metadata": {
        "id": "s-68C25v-wbc",
        "colab": {
          "base_uri": "https://localhost:8080/"
        },
        "outputId": "12976d44-cba5-41f0-90d9-fd7f12131ad7"
      },
      "source": [
        "random_result"
      ],
      "execution_count": 188,
      "outputs": [
        {
          "output_type": "execute_result",
          "data": {
            "text/plain": [
              "RandomizedSearchCV(cv=StratifiedKFold(n_splits=3, random_state=None, shuffle=True),\n",
              "                   error_score=nan,\n",
              "                   estimator=<tensorflow.python.keras.wrappers.scikit_learn.KerasClassifier object at 0x7f921cf3cc50>,\n",
              "                   iid='deprecated', n_iter=10, n_jobs=-1,\n",
              "                   param_distributions={'activation': ['tanh', 'relu'],\n",
              "                                        'batch_size': [16, 32, 64, 128, 256,\n",
              "                                                       512, 1024],\n",
              "                                        'dropout': [0.0, 0.1, 0.2, 0.3, 0.4],\n",
              "                                        'epochs': [50, 100, 150],\n",
              "                                        'kernel_initializer': ['uniform',\n",
              "                                                               'lecun_uniform',\n",
              "                                                               'normal', 'zero',\n",
              "                                                               'glorot_normal',\n",
              "                                                               'glorot_uniform',\n",
              "                                                               'he_normal',\n",
              "                                                               'he_uniform'],\n",
              "                                        'layers': [30, (30, 15), (30, 15, 7),\n",
              "                                                   (30, 15, 7, 3)],\n",
              "                                        'optimizer': ['Adam', 'Adamax',\n",
              "                                                      'Nadam']},\n",
              "                   pre_dispatch='2*n_jobs', random_state=None, refit='recall',\n",
              "                   return_train_score=False, scoring=['recall'], verbose=1)"
            ]
          },
          "metadata": {
            "tags": []
          },
          "execution_count": 188
        }
      ]
    },
    {
      "cell_type": "code",
      "metadata": {
        "id": "Zq_0Xckr-wXD",
        "colab": {
          "base_uri": "https://localhost:8080/"
        },
        "outputId": "d39e4c8a-79cc-494b-a8be-11bb1db7c4b4"
      },
      "source": [
        "random_result.cv_results_"
      ],
      "execution_count": 189,
      "outputs": [
        {
          "output_type": "execute_result",
          "data": {
            "text/plain": [
              "{'mean_fit_time': array([3.61083706, 5.20785586, 1.76873716, 1.0496757 , 1.99223693,\n",
              "        1.32899682, 1.36487595, 1.98250159, 1.99438286, 1.78326845]),\n",
              " 'mean_score_time': array([0.27605136, 0.20018045, 0.29711771, 0.15666858, 0.18097933,\n",
              "        0.20042157, 0.17378775, 0.18498858, 0.1874365 , 0.15121428]),\n",
              " 'mean_test_recall': array([1.        , 1.        , 0.95102339, 0.96856725, 0.98947368,\n",
              "        0.97902047, 0.9755117 , 0.98249269, 0.97898392, 0.97902047]),\n",
              " 'param_activation': masked_array(data=['tanh', 'relu', 'tanh', 'relu', 'relu', 'tanh', 'relu',\n",
              "                    'relu', 'relu', 'relu'],\n",
              "              mask=[False, False, False, False, False, False, False, False,\n",
              "                    False, False],\n",
              "        fill_value='?',\n",
              "             dtype=object),\n",
              " 'param_batch_size': masked_array(data=[32, 16, 1024, 1024, 64, 1024, 64, 128, 128, 128],\n",
              "              mask=[False, False, False, False, False, False, False, False,\n",
              "                    False, False],\n",
              "        fill_value='?',\n",
              "             dtype=object),\n",
              " 'param_dropout': masked_array(data=[0.4, 0.2, 0.4, 0.3, 0.0, 0.2, 0.4, 0.1, 0.3, 0.4],\n",
              "              mask=[False, False, False, False, False, False, False, False,\n",
              "                    False, False],\n",
              "        fill_value='?',\n",
              "             dtype=object),\n",
              " 'param_epochs': masked_array(data=[100, 100, 50, 50, 100, 50, 50, 150, 100, 150],\n",
              "              mask=[False, False, False, False, False, False, False, False,\n",
              "                    False, False],\n",
              "        fill_value='?',\n",
              "             dtype=object),\n",
              " 'param_kernel_initializer': masked_array(data=['zero', 'zero', 'glorot_normal', 'glorot_uniform',\n",
              "                    'glorot_uniform', 'uniform', 'uniform',\n",
              "                    'glorot_normal', 'glorot_uniform', 'he_uniform'],\n",
              "              mask=[False, False, False, False, False, False, False, False,\n",
              "                    False, False],\n",
              "        fill_value='?',\n",
              "             dtype=object),\n",
              " 'param_layers': masked_array(data=[(30, 15, 7), (30, 15, 7, 3), (30, 15), (30, 15),\n",
              "                    (30, 15, 7), (30, 15, 7, 3), (30, 15), (30, 15, 7),\n",
              "                    (30, 15, 7, 3), (30, 15)],\n",
              "              mask=[False, False, False, False, False, False, False, False,\n",
              "                    False, False],\n",
              "        fill_value='?',\n",
              "             dtype=object),\n",
              " 'param_optimizer': masked_array(data=['Nadam', 'Nadam', 'Nadam', 'Adamax', 'Adamax', 'Adam',\n",
              "                    'Adamax', 'Adamax', 'Adamax', 'Adamax'],\n",
              "              mask=[False, False, False, False, False, False, False, False,\n",
              "                    False, False],\n",
              "        fill_value='?',\n",
              "             dtype=object),\n",
              " 'params': [{'activation': 'tanh',\n",
              "   'batch_size': 32,\n",
              "   'dropout': 0.4,\n",
              "   'epochs': 100,\n",
              "   'kernel_initializer': 'zero',\n",
              "   'layers': (30, 15, 7),\n",
              "   'optimizer': 'Nadam'},\n",
              "  {'activation': 'relu',\n",
              "   'batch_size': 16,\n",
              "   'dropout': 0.2,\n",
              "   'epochs': 100,\n",
              "   'kernel_initializer': 'zero',\n",
              "   'layers': (30, 15, 7, 3),\n",
              "   'optimizer': 'Nadam'},\n",
              "  {'activation': 'tanh',\n",
              "   'batch_size': 1024,\n",
              "   'dropout': 0.4,\n",
              "   'epochs': 50,\n",
              "   'kernel_initializer': 'glorot_normal',\n",
              "   'layers': (30, 15),\n",
              "   'optimizer': 'Nadam'},\n",
              "  {'activation': 'relu',\n",
              "   'batch_size': 1024,\n",
              "   'dropout': 0.3,\n",
              "   'epochs': 50,\n",
              "   'kernel_initializer': 'glorot_uniform',\n",
              "   'layers': (30, 15),\n",
              "   'optimizer': 'Adamax'},\n",
              "  {'activation': 'relu',\n",
              "   'batch_size': 64,\n",
              "   'dropout': 0.0,\n",
              "   'epochs': 100,\n",
              "   'kernel_initializer': 'glorot_uniform',\n",
              "   'layers': (30, 15, 7),\n",
              "   'optimizer': 'Adamax'},\n",
              "  {'activation': 'tanh',\n",
              "   'batch_size': 1024,\n",
              "   'dropout': 0.2,\n",
              "   'epochs': 50,\n",
              "   'kernel_initializer': 'uniform',\n",
              "   'layers': (30, 15, 7, 3),\n",
              "   'optimizer': 'Adam'},\n",
              "  {'activation': 'relu',\n",
              "   'batch_size': 64,\n",
              "   'dropout': 0.4,\n",
              "   'epochs': 50,\n",
              "   'kernel_initializer': 'uniform',\n",
              "   'layers': (30, 15),\n",
              "   'optimizer': 'Adamax'},\n",
              "  {'activation': 'relu',\n",
              "   'batch_size': 128,\n",
              "   'dropout': 0.1,\n",
              "   'epochs': 150,\n",
              "   'kernel_initializer': 'glorot_normal',\n",
              "   'layers': (30, 15, 7),\n",
              "   'optimizer': 'Adamax'},\n",
              "  {'activation': 'relu',\n",
              "   'batch_size': 128,\n",
              "   'dropout': 0.3,\n",
              "   'epochs': 100,\n",
              "   'kernel_initializer': 'glorot_uniform',\n",
              "   'layers': (30, 15, 7, 3),\n",
              "   'optimizer': 'Adamax'},\n",
              "  {'activation': 'relu',\n",
              "   'batch_size': 128,\n",
              "   'dropout': 0.4,\n",
              "   'epochs': 150,\n",
              "   'kernel_initializer': 'he_uniform',\n",
              "   'layers': (30, 15),\n",
              "   'optimizer': 'Adamax'}],\n",
              " 'rank_test_recall': array([ 1,  1, 10,  9,  3,  5,  8,  4,  7,  5], dtype=int32),\n",
              " 'split0_test_recall': array([1.        , 1.        , 0.95833333, 0.95833333, 1.        ,\n",
              "        0.97916667, 0.97916667, 0.98958333, 0.98958333, 0.97916667]),\n",
              " 'split1_test_recall': array([1.        , 1.        , 0.91578947, 0.94736842, 0.97894737,\n",
              "        0.96842105, 0.96842105, 0.97894737, 0.97894737, 0.96842105]),\n",
              " 'split2_test_recall': array([1.        , 1.        , 0.97894737, 1.        , 0.98947368,\n",
              "        0.98947368, 0.97894737, 0.97894737, 0.96842105, 0.98947368]),\n",
              " 'std_fit_time': array([0.16148355, 0.24180401, 0.21072978, 0.01510427, 0.16692799,\n",
              "        0.01582979, 0.02532414, 0.0191525 , 0.18807204, 0.19888543]),\n",
              " 'std_score_time': array([0.06609464, 0.00915183, 0.17134437, 0.00776564, 0.00222876,\n",
              "        0.01642825, 0.00782559, 0.01190627, 0.01144236, 0.03709505]),\n",
              " 'std_test_recall': array([0.        , 0.        , 0.0262971 , 0.02267261, 0.0085947 ,\n",
              "        0.00859532, 0.00501464, 0.00501384, 0.0086395 , 0.00859532])}"
            ]
          },
          "metadata": {
            "tags": []
          },
          "execution_count": 189
        }
      ]
    },
    {
      "cell_type": "code",
      "metadata": {
        "id": "SNqFvI5c-wTC",
        "colab": {
          "base_uri": "https://localhost:8080/"
        },
        "outputId": "1c69f3fc-36f1-43a5-c368-2f249a92b042"
      },
      "source": [
        "random_result.best_score_"
      ],
      "execution_count": 190,
      "outputs": [
        {
          "output_type": "execute_result",
          "data": {
            "text/plain": [
              "1.0"
            ]
          },
          "metadata": {
            "tags": []
          },
          "execution_count": 190
        }
      ]
    },
    {
      "cell_type": "code",
      "metadata": {
        "id": "E7C6_hxd-wO5",
        "colab": {
          "base_uri": "https://localhost:8080/"
        },
        "outputId": "1d96951f-328b-4bbf-d095-10342a3ec5b9"
      },
      "source": [
        "random_result.best_params_"
      ],
      "execution_count": 191,
      "outputs": [
        {
          "output_type": "execute_result",
          "data": {
            "text/plain": [
              "{'activation': 'tanh',\n",
              " 'batch_size': 32,\n",
              " 'dropout': 0.4,\n",
              " 'epochs': 100,\n",
              " 'kernel_initializer': 'zero',\n",
              " 'layers': (30, 15, 7),\n",
              " 'optimizer': 'Nadam'}"
            ]
          },
          "metadata": {
            "tags": []
          },
          "execution_count": 191
        }
      ]
    },
    {
      "cell_type": "markdown",
      "metadata": {
        "id": "hA8vhA3zDrOJ"
      },
      "source": [
        "## Random Search Final Model"
      ]
    },
    {
      "cell_type": "code",
      "metadata": {
        "id": "MOtgFbf0-wK7",
        "colab": {
          "base_uri": "https://localhost:8080/"
        },
        "outputId": "ddaedf88-1268-486e-9ffc-2ad62b7395f6"
      },
      "source": [
        "# Set seeds\n",
        "import random\n",
        "import tensorflow as tf\n",
        "import keras.backend as K\n",
        "random.seed(0)\n",
        "np.random.seed(0)\n",
        "# tf.compat.v1.set_random_seed(0)\n",
        "# tf.random.set_random_seed(0)\n",
        "session_conf = tf.compat.v1.ConfigProto(intra_op_parallelism_threads=1, inter_op_parallelism_threads=1)\n",
        "sess = tf.compat.v1.Session(graph=tf.compat.v1.get_default_graph(), config=session_conf)\n",
        "# K.set_session(sess)\n",
        "\n",
        "start = time.time()\n",
        "nn = Sequential()\n",
        "nn.add(Dense(30,input_dim=30,activation='tanh'))\n",
        "nn.add(Dropout(0.4))\n",
        "nn.add(Dense(15,activation='tanh'))\n",
        "nn.add(Dropout(0.4))\n",
        "nn.add(Dense(7,activation='tanh'))\n",
        "nn.add(Dropout(0.4))\n",
        "nn.add(Dense(1,kernel_initializer= 'zero', activation='sigmoid'))\n",
        "\n",
        "nn.compile(loss='binary_crossentropy',optimizer='Nadam')   \n",
        "nn.fit(X_train,y_train, epochs=100,batch_size=32)\n",
        "end = time.time()\n",
        "fit_time = (end - start)"
      ],
      "execution_count": 192,
      "outputs": [
        {
          "output_type": "stream",
          "text": [
            "Epoch 1/100\n",
            "15/15 [==============================] - 1s 2ms/step - loss: 0.6900\n",
            "Epoch 2/100\n",
            "15/15 [==============================] - 0s 1ms/step - loss: 0.6689\n",
            "Epoch 3/100\n",
            "15/15 [==============================] - 0s 2ms/step - loss: 0.6277\n",
            "Epoch 4/100\n",
            "15/15 [==============================] - 0s 1ms/step - loss: 0.5738\n",
            "Epoch 5/100\n",
            "15/15 [==============================] - 0s 1ms/step - loss: 0.5326\n",
            "Epoch 6/100\n",
            "15/15 [==============================] - 0s 2ms/step - loss: 0.4863\n",
            "Epoch 7/100\n",
            "15/15 [==============================] - 0s 1ms/step - loss: 0.4441\n",
            "Epoch 8/100\n",
            "15/15 [==============================] - 0s 1ms/step - loss: 0.4116\n",
            "Epoch 9/100\n",
            "15/15 [==============================] - 0s 2ms/step - loss: 0.3770\n",
            "Epoch 10/100\n",
            "15/15 [==============================] - 0s 3ms/step - loss: 0.3553\n",
            "Epoch 11/100\n",
            "15/15 [==============================] - 0s 2ms/step - loss: 0.3302\n",
            "Epoch 12/100\n",
            "15/15 [==============================] - 0s 2ms/step - loss: 0.3164\n",
            "Epoch 13/100\n",
            "15/15 [==============================] - 0s 2ms/step - loss: 0.2872\n",
            "Epoch 14/100\n",
            "15/15 [==============================] - 0s 2ms/step - loss: 0.2652\n",
            "Epoch 15/100\n",
            "15/15 [==============================] - 0s 2ms/step - loss: 0.2493\n",
            "Epoch 16/100\n",
            "15/15 [==============================] - 0s 1ms/step - loss: 0.2355\n",
            "Epoch 17/100\n",
            "15/15 [==============================] - 0s 1ms/step - loss: 0.2416\n",
            "Epoch 18/100\n",
            "15/15 [==============================] - 0s 2ms/step - loss: 0.2341\n",
            "Epoch 19/100\n",
            "15/15 [==============================] - 0s 1ms/step - loss: 0.2136\n",
            "Epoch 20/100\n",
            "15/15 [==============================] - 0s 2ms/step - loss: 0.2050\n",
            "Epoch 21/100\n",
            "15/15 [==============================] - 0s 2ms/step - loss: 0.2248\n",
            "Epoch 22/100\n",
            "15/15 [==============================] - 0s 2ms/step - loss: 0.2001\n",
            "Epoch 23/100\n",
            "15/15 [==============================] - 0s 2ms/step - loss: 0.1757\n",
            "Epoch 24/100\n",
            "15/15 [==============================] - 0s 1ms/step - loss: 0.1730\n",
            "Epoch 25/100\n",
            "15/15 [==============================] - 0s 1ms/step - loss: 0.1817\n",
            "Epoch 26/100\n",
            "15/15 [==============================] - 0s 1ms/step - loss: 0.1704\n",
            "Epoch 27/100\n",
            "15/15 [==============================] - 0s 1ms/step - loss: 0.1554\n",
            "Epoch 28/100\n",
            "15/15 [==============================] - 0s 2ms/step - loss: 0.1527\n",
            "Epoch 29/100\n",
            "15/15 [==============================] - 0s 1ms/step - loss: 0.1653\n",
            "Epoch 30/100\n",
            "15/15 [==============================] - 0s 1ms/step - loss: 0.1338\n",
            "Epoch 31/100\n",
            "15/15 [==============================] - 0s 1ms/step - loss: 0.1499\n",
            "Epoch 32/100\n",
            "15/15 [==============================] - 0s 1ms/step - loss: 0.1714\n",
            "Epoch 33/100\n",
            "15/15 [==============================] - 0s 2ms/step - loss: 0.1296\n",
            "Epoch 34/100\n",
            "15/15 [==============================] - 0s 1ms/step - loss: 0.1422\n",
            "Epoch 35/100\n",
            "15/15 [==============================] - 0s 2ms/step - loss: 0.1405\n",
            "Epoch 36/100\n",
            "15/15 [==============================] - 0s 2ms/step - loss: 0.1446\n",
            "Epoch 37/100\n",
            "15/15 [==============================] - 0s 1ms/step - loss: 0.1088\n",
            "Epoch 38/100\n",
            "15/15 [==============================] - 0s 1ms/step - loss: 0.1246\n",
            "Epoch 39/100\n",
            "15/15 [==============================] - 0s 2ms/step - loss: 0.1026\n",
            "Epoch 40/100\n",
            "15/15 [==============================] - 0s 2ms/step - loss: 0.1318\n",
            "Epoch 41/100\n",
            "15/15 [==============================] - 0s 2ms/step - loss: 0.1144\n",
            "Epoch 42/100\n",
            "15/15 [==============================] - 0s 2ms/step - loss: 0.0952\n",
            "Epoch 43/100\n",
            "15/15 [==============================] - 0s 2ms/step - loss: 0.0976\n",
            "Epoch 44/100\n",
            "15/15 [==============================] - 0s 2ms/step - loss: 0.1147\n",
            "Epoch 45/100\n",
            "15/15 [==============================] - 0s 1ms/step - loss: 0.1185\n",
            "Epoch 46/100\n",
            "15/15 [==============================] - 0s 2ms/step - loss: 0.1006\n",
            "Epoch 47/100\n",
            "15/15 [==============================] - 0s 2ms/step - loss: 0.0852\n",
            "Epoch 48/100\n",
            "15/15 [==============================] - 0s 2ms/step - loss: 0.0941\n",
            "Epoch 49/100\n",
            "15/15 [==============================] - 0s 2ms/step - loss: 0.0888\n",
            "Epoch 50/100\n",
            "15/15 [==============================] - 0s 2ms/step - loss: 0.1245\n",
            "Epoch 51/100\n",
            "15/15 [==============================] - 0s 2ms/step - loss: 0.1076\n",
            "Epoch 52/100\n",
            "15/15 [==============================] - 0s 1ms/step - loss: 0.1293\n",
            "Epoch 53/100\n",
            "15/15 [==============================] - 0s 2ms/step - loss: 0.1132\n",
            "Epoch 54/100\n",
            "15/15 [==============================] - 0s 1ms/step - loss: 0.1476\n",
            "Epoch 55/100\n",
            "15/15 [==============================] - 0s 2ms/step - loss: 0.0917\n",
            "Epoch 56/100\n",
            "15/15 [==============================] - 0s 1ms/step - loss: 0.0780\n",
            "Epoch 57/100\n",
            "15/15 [==============================] - 0s 1ms/step - loss: 0.1043\n",
            "Epoch 58/100\n",
            "15/15 [==============================] - 0s 2ms/step - loss: 0.1033\n",
            "Epoch 59/100\n",
            "15/15 [==============================] - 0s 2ms/step - loss: 0.0945\n",
            "Epoch 60/100\n",
            "15/15 [==============================] - 0s 2ms/step - loss: 0.0844\n",
            "Epoch 61/100\n",
            "15/15 [==============================] - 0s 2ms/step - loss: 0.0967\n",
            "Epoch 62/100\n",
            "15/15 [==============================] - 0s 2ms/step - loss: 0.0788\n",
            "Epoch 63/100\n",
            "15/15 [==============================] - 0s 2ms/step - loss: 0.1051\n",
            "Epoch 64/100\n",
            "15/15 [==============================] - 0s 2ms/step - loss: 0.0822\n",
            "Epoch 65/100\n",
            "15/15 [==============================] - 0s 2ms/step - loss: 0.0868\n",
            "Epoch 66/100\n",
            "15/15 [==============================] - 0s 2ms/step - loss: 0.0781\n",
            "Epoch 67/100\n",
            "15/15 [==============================] - 0s 1ms/step - loss: 0.0826\n",
            "Epoch 68/100\n",
            "15/15 [==============================] - 0s 2ms/step - loss: 0.0943\n",
            "Epoch 69/100\n",
            "15/15 [==============================] - 0s 2ms/step - loss: 0.1076\n",
            "Epoch 70/100\n",
            "15/15 [==============================] - 0s 2ms/step - loss: 0.0883\n",
            "Epoch 71/100\n",
            "15/15 [==============================] - 0s 2ms/step - loss: 0.0884\n",
            "Epoch 72/100\n",
            "15/15 [==============================] - 0s 2ms/step - loss: 0.1258\n",
            "Epoch 73/100\n",
            "15/15 [==============================] - 0s 2ms/step - loss: 0.0557\n",
            "Epoch 74/100\n",
            "15/15 [==============================] - 0s 2ms/step - loss: 0.0837\n",
            "Epoch 75/100\n",
            "15/15 [==============================] - 0s 2ms/step - loss: 0.0770\n",
            "Epoch 76/100\n",
            "15/15 [==============================] - 0s 2ms/step - loss: 0.0887\n",
            "Epoch 77/100\n",
            "15/15 [==============================] - 0s 2ms/step - loss: 0.0798\n",
            "Epoch 78/100\n",
            "15/15 [==============================] - 0s 2ms/step - loss: 0.0718\n",
            "Epoch 79/100\n",
            "15/15 [==============================] - 0s 1ms/step - loss: 0.0840\n",
            "Epoch 80/100\n",
            "15/15 [==============================] - 0s 2ms/step - loss: 0.0776\n",
            "Epoch 81/100\n",
            "15/15 [==============================] - 0s 2ms/step - loss: 0.0798\n",
            "Epoch 82/100\n",
            "15/15 [==============================] - 0s 2ms/step - loss: 0.0940\n",
            "Epoch 83/100\n",
            "15/15 [==============================] - 0s 2ms/step - loss: 0.0806\n",
            "Epoch 84/100\n",
            "15/15 [==============================] - 0s 2ms/step - loss: 0.0573\n",
            "Epoch 85/100\n",
            "15/15 [==============================] - 0s 1ms/step - loss: 0.1061\n",
            "Epoch 86/100\n",
            "15/15 [==============================] - 0s 2ms/step - loss: 0.0616\n",
            "Epoch 87/100\n",
            "15/15 [==============================] - 0s 2ms/step - loss: 0.0803\n",
            "Epoch 88/100\n",
            "15/15 [==============================] - 0s 2ms/step - loss: 0.0561\n",
            "Epoch 89/100\n",
            "15/15 [==============================] - 0s 2ms/step - loss: 0.0937\n",
            "Epoch 90/100\n",
            "15/15 [==============================] - 0s 2ms/step - loss: 0.0841\n",
            "Epoch 91/100\n",
            "15/15 [==============================] - 0s 2ms/step - loss: 0.0547\n",
            "Epoch 92/100\n",
            "15/15 [==============================] - 0s 2ms/step - loss: 0.0752\n",
            "Epoch 93/100\n",
            "15/15 [==============================] - 0s 2ms/step - loss: 0.0783\n",
            "Epoch 94/100\n",
            "15/15 [==============================] - 0s 2ms/step - loss: 0.0503\n",
            "Epoch 95/100\n",
            "15/15 [==============================] - 0s 2ms/step - loss: 0.0550\n",
            "Epoch 96/100\n",
            "15/15 [==============================] - 0s 2ms/step - loss: 0.0792\n",
            "Epoch 97/100\n",
            "15/15 [==============================] - 0s 2ms/step - loss: 0.0759\n",
            "Epoch 98/100\n",
            "15/15 [==============================] - 0s 1ms/step - loss: 0.1034\n",
            "Epoch 99/100\n",
            "15/15 [==============================] - 0s 2ms/step - loss: 0.0600\n",
            "Epoch 100/100\n",
            "15/15 [==============================] - 0s 2ms/step - loss: 0.0622\n"
          ],
          "name": "stdout"
        }
      ]
    },
    {
      "cell_type": "code",
      "metadata": {
        "id": "tGMNJQgL-wHW",
        "colab": {
          "base_uri": "https://localhost:8080/"
        },
        "outputId": "17cdaa8f-3455-40b2-fcca-7f0bfba0eb58"
      },
      "source": [
        "fit_time"
      ],
      "execution_count": 193,
      "outputs": [
        {
          "output_type": "execute_result",
          "data": {
            "text/plain": [
              "4.253416299819946"
            ]
          },
          "metadata": {
            "tags": []
          },
          "execution_count": 193
        }
      ]
    },
    {
      "cell_type": "markdown",
      "metadata": {
        "id": "KDKcK-KKGFAc"
      },
      "source": [
        "## Random Search Prediction"
      ]
    },
    {
      "cell_type": "code",
      "metadata": {
        "id": "u7nCyCeVGO62",
        "colab": {
          "base_uri": "https://localhost:8080/"
        },
        "outputId": "c1413221-4d4d-47f7-9c3a-8013422af38e"
      },
      "source": [
        "start_time = time.time()\n",
        "y_test_predict = nn.predict_classes(X_test)\n",
        "end_time = time.time()\n",
        "predict_time = end_time - start_time"
      ],
      "execution_count": 194,
      "outputs": [
        {
          "output_type": "stream",
          "text": [
            "/usr/local/lib/python3.7/dist-packages/tensorflow/python/keras/engine/sequential.py:450: UserWarning: `model.predict_classes()` is deprecated and will be removed after 2021-01-01. Please use instead:* `np.argmax(model.predict(x), axis=-1)`,   if your model does multi-class classification   (e.g. if it uses a `softmax` last-layer activation).* `(model.predict(x) > 0.5).astype(\"int32\")`,   if your model does binary classification   (e.g. if it uses a `sigmoid` last-layer activation).\n",
            "  warnings.warn('`model.predict_classes()` is deprecated and '\n"
          ],
          "name": "stderr"
        }
      ]
    },
    {
      "cell_type": "code",
      "metadata": {
        "id": "lPmOKmn0GQWg",
        "colab": {
          "base_uri": "https://localhost:8080/"
        },
        "outputId": "a2b6dfbe-c8df-48c2-fa95-a2ce775d692a"
      },
      "source": [
        "predict_time"
      ],
      "execution_count": 195,
      "outputs": [
        {
          "output_type": "execute_result",
          "data": {
            "text/plain": [
              "0.14543366432189941"
            ]
          },
          "metadata": {
            "tags": []
          },
          "execution_count": 195
        }
      ]
    },
    {
      "cell_type": "code",
      "metadata": {
        "id": "tr9hOVFeGQSR",
        "colab": {
          "base_uri": "https://localhost:8080/"
        },
        "outputId": "0bf6a780-68c8-4e9c-80d8-fe2d52adc42e"
      },
      "source": [
        "y_test_prob = nn.predict_proba(X_test)"
      ],
      "execution_count": 196,
      "outputs": [
        {
          "output_type": "stream",
          "text": [
            "/usr/local/lib/python3.7/dist-packages/tensorflow/python/keras/engine/sequential.py:425: UserWarning: `model.predict_proba()` is deprecated and will be removed after 2021-01-01. Please use `model.predict()` instead.\n",
            "  warnings.warn('`model.predict_proba()` is deprecated and '\n"
          ],
          "name": "stderr"
        }
      ]
    },
    {
      "cell_type": "code",
      "metadata": {
        "id": "LWTUU5X_GQO3",
        "colab": {
          "base_uri": "https://localhost:8080/",
          "height": 257
        },
        "outputId": "1de38cf6-f8cb-433e-c05c-1d1e29690ed5"
      },
      "source": [
        "testPred = X_test.copy()\n",
        "testPred['y_test'], testPred['y_test_prob'], testPred['y_test_predict']=[y_test,y_test_prob,y_test_predict]\n",
        "testPred.head()"
      ],
      "execution_count": 197,
      "outputs": [
        {
          "output_type": "execute_result",
          "data": {
            "text/html": [
              "<div>\n",
              "<style scoped>\n",
              "    .dataframe tbody tr th:only-of-type {\n",
              "        vertical-align: middle;\n",
              "    }\n",
              "\n",
              "    .dataframe tbody tr th {\n",
              "        vertical-align: top;\n",
              "    }\n",
              "\n",
              "    .dataframe thead th {\n",
              "        text-align: right;\n",
              "    }\n",
              "</style>\n",
              "<table border=\"1\" class=\"dataframe\">\n",
              "  <thead>\n",
              "    <tr style=\"text-align: right;\">\n",
              "      <th></th>\n",
              "      <th>area error</th>\n",
              "      <th>compactness error</th>\n",
              "      <th>concave points error</th>\n",
              "      <th>concavity error</th>\n",
              "      <th>fractal dimension error</th>\n",
              "      <th>mean area</th>\n",
              "      <th>mean compactness</th>\n",
              "      <th>mean concave points</th>\n",
              "      <th>mean concavity</th>\n",
              "      <th>mean fractal dimension</th>\n",
              "      <th>mean perimeter</th>\n",
              "      <th>mean radius</th>\n",
              "      <th>mean smoothness</th>\n",
              "      <th>mean symmetry</th>\n",
              "      <th>mean texture</th>\n",
              "      <th>perimeter error</th>\n",
              "      <th>radius error</th>\n",
              "      <th>smoothness error</th>\n",
              "      <th>symmetry error</th>\n",
              "      <th>texture error</th>\n",
              "      <th>worst area</th>\n",
              "      <th>worst compactness</th>\n",
              "      <th>worst concave points</th>\n",
              "      <th>worst concavity</th>\n",
              "      <th>worst fractal dimension</th>\n",
              "      <th>worst perimeter</th>\n",
              "      <th>worst radius</th>\n",
              "      <th>worst smoothness</th>\n",
              "      <th>worst symmetry</th>\n",
              "      <th>worst texture</th>\n",
              "      <th>y_test</th>\n",
              "      <th>y_test_prob</th>\n",
              "      <th>y_test_predict</th>\n",
              "    </tr>\n",
              "  </thead>\n",
              "  <tbody>\n",
              "    <tr>\n",
              "      <th>204</th>\n",
              "      <td>-0.221053</td>\n",
              "      <td>-0.355912</td>\n",
              "      <td>-0.231333</td>\n",
              "      <td>-0.161929</td>\n",
              "      <td>-0.079018</td>\n",
              "      <td>-0.491999</td>\n",
              "      <td>0.027651</td>\n",
              "      <td>-0.276232</td>\n",
              "      <td>-0.109847</td>\n",
              "      <td>0.132176</td>\n",
              "      <td>-0.448110</td>\n",
              "      <td>-0.470694</td>\n",
              "      <td>0.234114</td>\n",
              "      <td>0.413949</td>\n",
              "      <td>-0.160486</td>\n",
              "      <td>-0.182696</td>\n",
              "      <td>-0.032743</td>\n",
              "      <td>-0.029327</td>\n",
              "      <td>-0.329612</td>\n",
              "      <td>-0.313616</td>\n",
              "      <td>-0.356299</td>\n",
              "      <td>-0.104741</td>\n",
              "      <td>-0.199563</td>\n",
              "      <td>-0.024412</td>\n",
              "      <td>0.196958</td>\n",
              "      <td>-0.333935</td>\n",
              "      <td>-0.269040</td>\n",
              "      <td>0.448503</td>\n",
              "      <td>0.183204</td>\n",
              "      <td>-0.168905</td>\n",
              "      <td>1</td>\n",
              "      <td>0.986192</td>\n",
              "      <td>1</td>\n",
              "    </tr>\n",
              "    <tr>\n",
              "      <th>70</th>\n",
              "      <td>1.225780</td>\n",
              "      <td>-0.500666</td>\n",
              "      <td>0.308825</td>\n",
              "      <td>-0.305168</td>\n",
              "      <td>-0.793157</td>\n",
              "      <td>1.351264</td>\n",
              "      <td>-0.027309</td>\n",
              "      <td>0.789060</td>\n",
              "      <td>0.241064</td>\n",
              "      <td>-1.160679</td>\n",
              "      <td>1.302886</td>\n",
              "      <td>1.366877</td>\n",
              "      <td>-0.446227</td>\n",
              "      <td>-0.838325</td>\n",
              "      <td>0.470149</td>\n",
              "      <td>1.296951</td>\n",
              "      <td>1.384594</td>\n",
              "      <td>-0.865695</td>\n",
              "      <td>-0.809083</td>\n",
              "      <td>-0.760851</td>\n",
              "      <td>1.732277</td>\n",
              "      <td>-0.131459</td>\n",
              "      <td>0.978975</td>\n",
              "      <td>-0.016736</td>\n",
              "      <td>-1.000578</td>\n",
              "      <td>1.746605</td>\n",
              "      <td>1.779007</td>\n",
              "      <td>-0.572873</td>\n",
              "      <td>-0.565828</td>\n",
              "      <td>0.147012</td>\n",
              "      <td>0</td>\n",
              "      <td>0.018186</td>\n",
              "      <td>0</td>\n",
              "    </tr>\n",
              "    <tr>\n",
              "      <th>131</th>\n",
              "      <td>0.175418</td>\n",
              "      <td>-0.594561</td>\n",
              "      <td>-0.140496</td>\n",
              "      <td>-0.124794</td>\n",
              "      <td>-0.504551</td>\n",
              "      <td>0.267377</td>\n",
              "      <td>0.340350</td>\n",
              "      <td>0.824140</td>\n",
              "      <td>0.725686</td>\n",
              "      <td>-0.685782</td>\n",
              "      <td>0.400820</td>\n",
              "      <td>0.378508</td>\n",
              "      <td>0.913744</td>\n",
              "      <td>0.435855</td>\n",
              "      <td>0.044296</td>\n",
              "      <td>0.112838</td>\n",
              "      <td>0.249497</td>\n",
              "      <td>-0.267004</td>\n",
              "      <td>-0.795764</td>\n",
              "      <td>-0.781898</td>\n",
              "      <td>0.484159</td>\n",
              "      <td>-0.094562</td>\n",
              "      <td>0.560244</td>\n",
              "      <td>0.512911</td>\n",
              "      <td>-0.208132</td>\n",
              "      <td>0.525386</td>\n",
              "      <td>0.619345</td>\n",
              "      <td>0.974533</td>\n",
              "      <td>-0.103143</td>\n",
              "      <td>0.052562</td>\n",
              "      <td>0</td>\n",
              "      <td>0.018187</td>\n",
              "      <td>0</td>\n",
              "    </tr>\n",
              "    <tr>\n",
              "      <th>431</th>\n",
              "      <td>-0.547998</td>\n",
              "      <td>0.417599</td>\n",
              "      <td>-0.020461</td>\n",
              "      <td>0.554262</td>\n",
              "      <td>0.835972</td>\n",
              "      <td>-0.532101</td>\n",
              "      <td>0.516599</td>\n",
              "      <td>-0.539846</td>\n",
              "      <td>-0.142993</td>\n",
              "      <td>1.165609</td>\n",
              "      <td>-0.432457</td>\n",
              "      <td>-0.490575</td>\n",
              "      <td>0.643316</td>\n",
              "      <td>-0.002259</td>\n",
              "      <td>-0.374576</td>\n",
              "      <td>-0.327740</td>\n",
              "      <td>-0.824604</td>\n",
              "      <td>0.986380</td>\n",
              "      <td>0.160756</td>\n",
              "      <td>0.441152</td>\n",
              "      <td>-0.641257</td>\n",
              "      <td>0.054930</td>\n",
              "      <td>-0.622863</td>\n",
              "      <td>-0.152986</td>\n",
              "      <td>0.534440</td>\n",
              "      <td>-0.525756</td>\n",
              "      <td>-0.701842</td>\n",
              "      <td>0.553709</td>\n",
              "      <td>-0.557739</td>\n",
              "      <td>-0.450625</td>\n",
              "      <td>1</td>\n",
              "      <td>0.986240</td>\n",
              "      <td>1</td>\n",
              "    </tr>\n",
              "    <tr>\n",
              "      <th>540</th>\n",
              "      <td>-0.428529</td>\n",
              "      <td>0.874216</td>\n",
              "      <td>0.509965</td>\n",
              "      <td>0.783709</td>\n",
              "      <td>0.649494</td>\n",
              "      <td>-0.716683</td>\n",
              "      <td>0.145150</td>\n",
              "      <td>-0.592724</td>\n",
              "      <td>-0.269044</td>\n",
              "      <td>0.711976</td>\n",
              "      <td>-0.713374</td>\n",
              "      <td>-0.734828</td>\n",
              "      <td>0.247636</td>\n",
              "      <td>0.023298</td>\n",
              "      <td>-1.128546</td>\n",
              "      <td>-0.612877</td>\n",
              "      <td>-0.457547</td>\n",
              "      <td>1.703076</td>\n",
              "      <td>-0.259386</td>\n",
              "      <td>0.999969</td>\n",
              "      <td>-0.743216</td>\n",
              "      <td>-0.270137</td>\n",
              "      <td>-0.691687</td>\n",
              "      <td>-0.443716</td>\n",
              "      <td>-0.144403</td>\n",
              "      <td>-0.848337</td>\n",
              "      <td>-0.830233</td>\n",
              "      <td>0.093432</td>\n",
              "      <td>-0.924975</td>\n",
              "      <td>-0.976611</td>\n",
              "      <td>1</td>\n",
              "      <td>0.986240</td>\n",
              "      <td>1</td>\n",
              "    </tr>\n",
              "  </tbody>\n",
              "</table>\n",
              "</div>"
            ],
            "text/plain": [
              "     area error  compactness error  ...  y_test_prob  y_test_predict\n",
              "204   -0.221053          -0.355912  ...     0.986192               1\n",
              "70     1.225780          -0.500666  ...     0.018186               0\n",
              "131    0.175418          -0.594561  ...     0.018187               0\n",
              "431   -0.547998           0.417599  ...     0.986240               1\n",
              "540   -0.428529           0.874216  ...     0.986240               1\n",
              "\n",
              "[5 rows x 33 columns]"
            ]
          },
          "metadata": {
            "tags": []
          },
          "execution_count": 197
        }
      ]
    },
    {
      "cell_type": "markdown",
      "metadata": {
        "id": "UCXfE3_RILLM"
      },
      "source": [
        "## Random Search Model Performance"
      ]
    },
    {
      "cell_type": "code",
      "metadata": {
        "id": "OH9Yg_sGGQKn",
        "colab": {
          "base_uri": "https://localhost:8080/",
          "height": 265
        },
        "outputId": "524a7edc-e057-4fd0-e9a7-63bec9414d31"
      },
      "source": [
        "#ROC/AUC Curve\n",
        "from sklearn import metrics\n",
        "import matplotlib.pyplot as plt\n",
        "%matplotlib inline\n",
        "# y_test_prob=et_gs.predict_proba(X_test)[:,1]\n",
        "fpr,tpr, _=metrics.roc_curve(y_test,y_test_prob)\n",
        "auc=metrics.roc_auc_score(y_test,y_test_prob)\n",
        "plt.plot(fpr,tpr,label=\"area=\"+str(auc))\n",
        "plt.legend(loc=4)\n",
        "plt.show()"
      ],
      "execution_count": 198,
      "outputs": [
        {
          "output_type": "display_data",
          "data": {
            "image/png": "[encoded data removed]",
            "text/plain": [
              "<Figure size 432x288 with 1 Axes>"
            ]
          },
          "metadata": {
            "tags": [],
            "needs_background": "light"
          }
        }
      ]
    },
    {
      "cell_type": "code",
      "metadata": {
        "id": "wemC92p4GQGf",
        "colab": {
          "base_uri": "https://localhost:8080/"
        },
        "outputId": "b2f0d7f8-3984-45ba-e450-229aa91a3b5e"
      },
      "source": [
        "from sklearn.metrics import confusion_matrix, log_loss\n",
        "log_loss(y_test,y_test_prob)"
      ],
      "execution_count": 200,
      "outputs": [
        {
          "output_type": "execute_result",
          "data": {
            "text/plain": [
              "0.05733532113791035"
            ]
          },
          "metadata": {
            "tags": []
          },
          "execution_count": 200
        }
      ]
    },
    {
      "cell_type": "code",
      "metadata": {
        "id": "3TojQJdNGQCR",
        "colab": {
          "base_uri": "https://localhost:8080/"
        },
        "outputId": "7680ee8a-abac-46ec-e622-2528088ba756"
      },
      "source": [
        "cm = confusion_matrix(y_test, y_test_predict)\n",
        "cmtx = pd.DataFrame(cm, index=['true:no', 'true:yes'], columns=['pred:no', 'pred:yes'])\n",
        "print(cmtx)"
      ],
      "execution_count": 201,
      "outputs": [
        {
          "output_type": "stream",
          "text": [
            "          pred:no  pred:yes\n",
            "true:no        42         1\n",
            "true:yes        0        71\n"
          ],
          "name": "stdout"
        }
      ]
    },
    {
      "cell_type": "code",
      "metadata": {
        "id": "FW-G40JZGP-1",
        "colab": {
          "base_uri": "https://localhost:8080/"
        },
        "outputId": "80a6cf19-7b56-471b-89d8-146df81c6709"
      },
      "source": [
        "from sklearn.metrics import classification_report\n",
        "print(classification_report(y_test, y_test_predict))"
      ],
      "execution_count": 202,
      "outputs": [
        {
          "output_type": "stream",
          "text": [
            "              precision    recall  f1-score   support\n",
            "\n",
            "           0       1.00      0.98      0.99        43\n",
            "           1       0.99      1.00      0.99        71\n",
            "\n",
            "    accuracy                           0.99       114\n",
            "   macro avg       0.99      0.99      0.99       114\n",
            "weighted avg       0.99      0.99      0.99       114\n",
            "\n"
          ],
          "name": "stdout"
        }
      ]
    },
    {
      "cell_type": "markdown",
      "metadata": {
        "id": "1i8LwQy0IycL"
      },
      "source": [
        "## Random Search Prediction Distribution"
      ]
    },
    {
      "cell_type": "code",
      "metadata": {
        "id": "dKpiNmx3GP6v",
        "colab": {
          "base_uri": "https://localhost:8080/",
          "height": 317
        },
        "outputId": "39e3a227-d2c8-4ec2-ff86-e0e8803980ac"
      },
      "source": [
        "sns.distplot(y_test_prob, label='Predicted Probability', kde=False)"
      ],
      "execution_count": 203,
      "outputs": [
        {
          "output_type": "stream",
          "text": [
            "/usr/local/lib/python3.7/dist-packages/seaborn/distributions.py:2557: FutureWarning: `distplot` is a deprecated function and will be removed in a future version. Please adapt your code to use either `displot` (a figure-level function with similar flexibility) or `histplot` (an axes-level function for histograms).\n",
            "  warnings.warn(msg, FutureWarning)\n"
          ],
          "name": "stderr"
        },
        {
          "output_type": "execute_result",
          "data": {
            "text/plain": [
              "<matplotlib.axes._subplots.AxesSubplot at 0x7f922164b310>"
            ]
          },
          "metadata": {
            "tags": []
          },
          "execution_count": 203
        },
        {
          "output_type": "display_data",
          "data": {
            "image/png": "[encoded data removed]",
            "text/plain": [
              "<Figure size 432x288 with 1 Axes>"
            ]
          },
          "metadata": {
            "tags": [],
            "needs_background": "light"
          }
        }
      ]
    },
    {
      "cell_type": "code",
      "metadata": {
        "id": "WcaUy6Z9GPzw",
        "colab": {
          "base_uri": "https://localhost:8080/",
          "height": 351
        },
        "outputId": "7294f34d-6686-406f-a4e2-c01681994b89"
      },
      "source": [
        "# this is to plot the kde by label\n",
        "sns.distplot(testPred[testPred['y_test']==1]['y_test_prob'],label='1', kde=False);\n",
        "sns.distplot(testPred[testPred['y_test']==0]['y_test_prob'],label='0', kde=False);\n",
        "\n",
        "# add labels\n",
        "plt.xlabel('Predicted Probability')\n",
        "plt.ylabel('Frequency')\n",
        "plt.show()"
      ],
      "execution_count": 204,
      "outputs": [
        {
          "output_type": "stream",
          "text": [
            "/usr/local/lib/python3.7/dist-packages/seaborn/distributions.py:2557: FutureWarning: `distplot` is a deprecated function and will be removed in a future version. Please adapt your code to use either `displot` (a figure-level function with similar flexibility) or `histplot` (an axes-level function for histograms).\n",
            "  warnings.warn(msg, FutureWarning)\n",
            "/usr/local/lib/python3.7/dist-packages/seaborn/distributions.py:2557: FutureWarning: `distplot` is a deprecated function and will be removed in a future version. Please adapt your code to use either `displot` (a figure-level function with similar flexibility) or `histplot` (an axes-level function for histograms).\n",
            "  warnings.warn(msg, FutureWarning)\n"
          ],
          "name": "stderr"
        },
        {
          "output_type": "display_data",
          "data": {
            "image/png": "[encoded data removed]",
            "text/plain": [
              "<Figure size 432x288 with 1 Axes>"
            ]
          },
          "metadata": {
            "tags": [],
            "needs_background": "light"
          }
        }
      ]
    },
    {
      "cell_type": "markdown",
      "metadata": {
        "id": "a6tHO3SwVbHs"
      },
      "source": [
        "## Bayesian Optimization Grid Search"
      ]
    },
    {
      "cell_type": "code",
      "metadata": {
        "id": "aL0IOMT0GPu9"
      },
      "source": [
        "N_FOLDS = StratifiedKFold(n_splits=3, shuffle=True)\n",
        "MAX_EVALS = 2"
      ],
      "execution_count": 205,
      "outputs": []
    },
    {
      "cell_type": "code",
      "metadata": {
        "id": "uA7sw9afGPq-",
        "colab": {
          "base_uri": "https://localhost:8080/"
        },
        "outputId": "deb341bc-f0ba-458e-9e6e-bc1f9a2004b9"
      },
      "source": [
        "layers = [(30), (30, 15), (30, 15, 7), (30, 15, 7, 3)]# Need to use tuple instead of list because of a bug related to nested list with Keras. https://datascience.stackexchange.com/questions/66341/cannot-clone-object-keras-wrappers-scikit-learn-kerasregressor-object-at-0x7fdc\n",
        "activation = ['tanh', 'relu']\n",
        "kernel_initializer = ['uniform', 'lecun_uniform', 'normal', 'zero', 'glorot_normal', 'glorot_uniform', 'he_normal', 'he_uniform']\n",
        "optimizer = ['Adam', 'Adamax', 'Nadam']\n",
        "batch_size = [16, 32, 64, 128, 256, 512, 1024]\n",
        "epochs=[50, 100, 150]\n",
        "param_grid = dict(layers=layers, activation=activation, kernel_initializer=kernel_initializer, optimizer=optimizer, batch_size = batch_size, epochs=epochs)\n",
        "param_grid"
      ],
      "execution_count": 206,
      "outputs": [
        {
          "output_type": "execute_result",
          "data": {
            "text/plain": [
              "{'activation': ['tanh', 'relu'],\n",
              " 'batch_size': [16, 32, 64, 128, 256, 512, 1024],\n",
              " 'epochs': [50, 100, 150],\n",
              " 'kernel_initializer': ['uniform',\n",
              "  'lecun_uniform',\n",
              "  'normal',\n",
              "  'zero',\n",
              "  'glorot_normal',\n",
              "  'glorot_uniform',\n",
              "  'he_normal',\n",
              "  'he_uniform'],\n",
              " 'layers': [30, (30, 15), (30, 15, 7), (30, 15, 7, 3)],\n",
              " 'optimizer': ['Adam', 'Adamax', 'Nadam']}"
            ]
          },
          "metadata": {
            "tags": []
          },
          "execution_count": 206
        }
      ]
    },
    {
      "cell_type": "code",
      "metadata": {
        "id": "XaUjN31wGPnJ",
        "colab": {
          "base_uri": "https://localhost:8080/"
        },
        "outputId": "f4e6d8de-9675-47be-c419-58abf6752b82"
      },
      "source": [
        "l = enumerate(layers)\n",
        "print(list(l))"
      ],
      "execution_count": 208,
      "outputs": [
        {
          "output_type": "stream",
          "text": [
            "[(0, 30), (1, (30, 15)), (2, (30, 15, 7)), (3, (30, 15, 7, 3))]\n"
          ],
          "name": "stdout"
        }
      ]
    },
    {
      "cell_type": "code",
      "metadata": {
        "id": "fEm5dLg1GPi0"
      },
      "source": [
        "def create_model(layers, activation='relu', batch_size=32, epochs=50, kernel_initializer='normal', optimizer = 'adam'):\n",
        "    # Add seed later\n",
        "    model = Sequential()\n",
        "    for i, nodes in enumerate(layers):\n",
        "        if i==0:\n",
        "            model.add(Dense(nodes,kernel_initializer=kernel_initializer, input_dim=X_train.shape[1]))\n",
        "            model.add(Activation(activation))\n",
        "#             model.add(Dropout(dropout))\n",
        "        else:\n",
        "            model.add(Dense(nodes,kernel_initializer=kernel_initializer))\n",
        "            model.add(Activation(activation))\n",
        "#             model.add(Dropout(dropout))\n",
        "            \n",
        "    model.add(Dense(units = 1, activation = 'sigmoid')) # Note: no activation beyond this point\n",
        "    \n",
        "    model.compile(loss='binary_crossentropy',optimizer=optimizer,metrics=['accuracy'])\n",
        "    return model"
      ],
      "execution_count": 210,
      "outputs": []
    },
    {
      "cell_type": "code",
      "metadata": {
        "id": "OcCVYovzdLM-"
      },
      "source": [
        "# Set seeds\n",
        "import random\n",
        "import tensorflow as tf\n",
        "import keras.backend as K\n",
        "random.seed(0)\n",
        "np.random.seed(0)\n",
        "# tf.compat.v1.set_random_seed(0)\n",
        "# tf.random.set_random_seed(0)\n",
        "session_conf = tf.compat.v1.ConfigProto(intra_op_parallelism_threads=1, inter_op_parallelism_threads=1)\n",
        "sess = tf.compat.v1.Session(graph=tf.compat.v1.get_default_graph(), config=session_conf)\n",
        "# K.set_session(sess)"
      ],
      "execution_count": 211,
      "outputs": []
    },
    {
      "cell_type": "code",
      "metadata": {
        "id": "6jEyUTK0GPef"
      },
      "source": [
        "# Change function to estimator\n",
        "model = KerasClassifier(build_fn=create_model, verbose=0)"
      ],
      "execution_count": 212,
      "outputs": []
    },
    {
      "cell_type": "code",
      "metadata": {
        "id": "kZVPO4GcWbd3"
      },
      "source": [
        "# Space\n",
        "space = {\n",
        "    'layers': hp.choice('layers', layers),\n",
        "    'activation': hp.choice('activation', activation),\n",
        "    'kernel_initializer': hp.choice('kernel_initializer', kernel_initializer),\n",
        "    'optimizer': hp.choice('optimizer', optimizer),    \n",
        "    'batch_size': hp.choice('batch_size', batch_size),    \n",
        "    'epochs': hp.choice('epochs', epochs),        \n",
        "#     'dropout': hp.choice('dropout', dropout)      \n",
        "#     'tol' : hp.uniform('tol', 0.00001, 1), #Tolerance for stopping criteria\n",
        "#     'C' : hp.uniform('C', 0.0001, 10000),\n",
        "#     'penalty': hp.choice('penalty',['l1', 'l2', 'none']),\n",
        "# #     'l1_ratio': hp.uniform('l1_ratio', 0, 1),\n",
        "#     'max_iter' : hp.choice('max_iter', range(5,1000)) #Maximum number of iterations taken for the solvers to converge\n",
        "}"
      ],
      "execution_count": 213,
      "outputs": []
    },
    {
      "cell_type": "code",
      "metadata": {
        "id": "LaQrS0mLWbZQ"
      },
      "source": [
        "# Objective function\n",
        "def objective(params, n_folds = N_FOLDS):\n",
        "\n",
        "    # Perform n_fold cross validation with hyperparameters\n",
        "    # Use early stopping and evaluate based on ROC AUC\n",
        "    \n",
        "    model = KerasClassifier(build_fn=create_model, verbose=0,**params)\n",
        "    scores = cross_val_score(model, X_train, y_train, cv=n_folds, scoring='precision', n_jobs=-1)\n",
        "\n",
        "    # Extract the best score\n",
        "    best_score = max(scores)\n",
        "\n",
        "    # Loss must be minimized\n",
        "    loss = 1 - best_score\n",
        "\n",
        "    # Dictionary with information for evaluation\n",
        "    return {'loss': loss, 'params': params, 'status': STATUS_OK}"
      ],
      "execution_count": 214,
      "outputs": []
    },
    {
      "cell_type": "code",
      "metadata": {
        "id": "lELeApcuWbVC",
        "colab": {
          "base_uri": "https://localhost:8080/"
        },
        "outputId": "8f7da89b-e7dd-43f1-c933-ff138b0fc04e"
      },
      "source": [
        "# Algorithm\n",
        "tpe_algorithm = tpe.suggest\n",
        "\n",
        "# Trials object to track progress\n",
        "bayes_trials = Trials()\n",
        "\n",
        "# Optimize\n",
        "best = fmin(fn = objective, space = space, algo = tpe_algorithm, max_evals = MAX_EVALS, trials = bayes_trials)"
      ],
      "execution_count": 215,
      "outputs": [
        {
          "output_type": "stream",
          "text": [
            "100%|██████████| 2/2 [00:19<00:00,  9.54s/it, best loss: 0.011627906976744207]\n"
          ],
          "name": "stdout"
        }
      ]
    },
    {
      "cell_type": "code",
      "metadata": {
        "id": "yfQztEREWbRf",
        "colab": {
          "base_uri": "https://localhost:8080/"
        },
        "outputId": "74926beb-f27a-42c5-868e-a7b0b041f13d"
      },
      "source": [
        "best"
      ],
      "execution_count": 216,
      "outputs": [
        {
          "output_type": "execute_result",
          "data": {
            "text/plain": [
              "{'activation': 1,\n",
              " 'batch_size': 1,\n",
              " 'epochs': 2,\n",
              " 'kernel_initializer': 5,\n",
              " 'layers': 3,\n",
              " 'optimizer': 2}"
            ]
          },
          "metadata": {
            "tags": []
          },
          "execution_count": 216
        }
      ]
    },
    {
      "cell_type": "code",
      "metadata": {
        "id": "kGWY3hJEWbNn",
        "colab": {
          "base_uri": "https://localhost:8080/"
        },
        "outputId": "7c7d47c9-8fd5-4262-8c5e-2008ccf897b6"
      },
      "source": [
        "param_grid"
      ],
      "execution_count": 217,
      "outputs": [
        {
          "output_type": "execute_result",
          "data": {
            "text/plain": [
              "{'activation': ['tanh', 'relu'],\n",
              " 'batch_size': [16, 32, 64, 128, 256, 512, 1024],\n",
              " 'epochs': [50, 100, 150],\n",
              " 'kernel_initializer': ['uniform',\n",
              "  'lecun_uniform',\n",
              "  'normal',\n",
              "  'zero',\n",
              "  'glorot_normal',\n",
              "  'glorot_uniform',\n",
              "  'he_normal',\n",
              "  'he_uniform'],\n",
              " 'layers': [30, (30, 15), (30, 15, 7), (30, 15, 7, 3)],\n",
              " 'optimizer': ['Adam', 'Adamax', 'Nadam']}"
            ]
          },
          "metadata": {
            "tags": []
          },
          "execution_count": 217
        }
      ]
    },
    {
      "cell_type": "markdown",
      "metadata": {
        "id": "iJaQrXwuf1L0"
      },
      "source": [
        "## Bayesian Optimization Final Model"
      ]
    },
    {
      "cell_type": "code",
      "metadata": {
        "id": "EZec9eIZWbJ-",
        "colab": {
          "base_uri": "https://localhost:8080/"
        },
        "outputId": "c6518f41-3c69-446f-e74b-4304415dcf26"
      },
      "source": [
        "# Set seeds\n",
        "import random\n",
        "import tensorflow as tf\n",
        "import keras.backend as K\n",
        "random.seed(0)\n",
        "np.random.seed(0)\n",
        "# tf.compat.v1.set_random_seed(0)\n",
        "# tf.random.set_random_seed(0)\n",
        "session_conf = tf.compat.v1.ConfigProto(intra_op_parallelism_threads=1, inter_op_parallelism_threads=1)\n",
        "sess = tf.compat.v1.Session(graph=tf.compat.v1.get_default_graph(), config=session_conf)\n",
        "# K.set_session(sess)\n",
        "\n",
        "start = time.time()\n",
        "nn = Sequential()\n",
        "nn.add(Dense(30,input_dim=30,activation='tanh'))\n",
        "nn.add(Dropout(0.4))\n",
        "nn.add(Dense(15,activation='tanh'))\n",
        "nn.add(Dropout(0.4))\n",
        "nn.add(Dense(7,activation='tanh'))\n",
        "nn.add(Dropout(0.4))\n",
        "nn.add(Dense(1,kernel_initializer= 'glorot_normal', activation='sigmoid'))\n",
        "#init_weights = np.array(nn.get_weights()[0]).sum()\n",
        "nn.compile(loss='binary_crossentropy',optimizer='Adamax')   \n",
        "# nn.compile(optimizer=keras.optimizers.RMSprop(lr=1e-2),loss=keras.losses.MSE)\n",
        "nn.fit(X_train,y_train, epochs=50,batch_size=1024)\n",
        "end = time.time()\n",
        "fit_time = (end - start)\n",
        "print('fit time is: ', fit_time)\n",
        "start_time = time.time()\n",
        "y_test_predict = nn.predict_classes(X_test)\n",
        "end_time = time.time()\n",
        "predict_time = end_time - start_time\n",
        "print('predict time is: ', predict_time)\n",
        "y_test_predict.sum()"
      ],
      "execution_count": 218,
      "outputs": [
        {
          "output_type": "stream",
          "text": [
            "Epoch 1/50\n",
            "1/1 [==============================] - 1s 523ms/step - loss: 0.8328\n",
            "Epoch 2/50\n",
            "1/1 [==============================] - 0s 5ms/step - loss: 0.8678\n",
            "Epoch 3/50\n",
            "1/1 [==============================] - 0s 8ms/step - loss: 0.8100\n",
            "Epoch 4/50\n",
            "1/1 [==============================] - 0s 13ms/step - loss: 0.7798\n",
            "Epoch 5/50\n",
            "1/1 [==============================] - 0s 7ms/step - loss: 0.7724\n",
            "Epoch 6/50\n",
            "1/1 [==============================] - 0s 5ms/step - loss: 0.7138\n",
            "Epoch 7/50\n",
            "1/1 [==============================] - 0s 5ms/step - loss: 0.7419\n",
            "Epoch 8/50\n",
            "1/1 [==============================] - 0s 4ms/step - loss: 0.6824\n",
            "Epoch 9/50\n",
            "1/1 [==============================] - 0s 4ms/step - loss: 0.7005\n",
            "Epoch 10/50\n",
            "1/1 [==============================] - 0s 4ms/step - loss: 0.6789\n",
            "Epoch 11/50\n",
            "1/1 [==============================] - 0s 4ms/step - loss: 0.6561\n",
            "Epoch 12/50\n",
            "1/1 [==============================] - 0s 4ms/step - loss: 0.6252\n",
            "Epoch 13/50\n",
            "1/1 [==============================] - 0s 4ms/step - loss: 0.6260\n",
            "Epoch 14/50\n",
            "1/1 [==============================] - 0s 4ms/step - loss: 0.6060\n",
            "Epoch 15/50\n",
            "1/1 [==============================] - 0s 5ms/step - loss: 0.6267\n",
            "Epoch 16/50\n",
            "1/1 [==============================] - 0s 4ms/step - loss: 0.6125\n",
            "Epoch 17/50\n",
            "1/1 [==============================] - 0s 4ms/step - loss: 0.5450\n",
            "Epoch 18/50\n",
            "1/1 [==============================] - 0s 6ms/step - loss: 0.5696\n",
            "Epoch 19/50\n",
            "1/1 [==============================] - 0s 7ms/step - loss: 0.5245\n",
            "Epoch 20/50\n",
            "1/1 [==============================] - 0s 6ms/step - loss: 0.5810\n",
            "Epoch 21/50\n",
            "1/1 [==============================] - 0s 6ms/step - loss: 0.5481\n",
            "Epoch 22/50\n",
            "1/1 [==============================] - 0s 5ms/step - loss: 0.5220\n",
            "Epoch 23/50\n",
            "1/1 [==============================] - 0s 5ms/step - loss: 0.4945\n",
            "Epoch 24/50\n",
            "1/1 [==============================] - 0s 11ms/step - loss: 0.4954\n",
            "Epoch 25/50\n",
            "1/1 [==============================] - 0s 6ms/step - loss: 0.5131\n",
            "Epoch 26/50\n",
            "1/1 [==============================] - 0s 6ms/step - loss: 0.5057\n",
            "Epoch 27/50\n",
            "1/1 [==============================] - 0s 9ms/step - loss: 0.5199\n",
            "Epoch 28/50\n",
            "1/1 [==============================] - 0s 9ms/step - loss: 0.5312\n",
            "Epoch 29/50\n",
            "1/1 [==============================] - 0s 6ms/step - loss: 0.4844\n",
            "Epoch 30/50\n",
            "1/1 [==============================] - 0s 8ms/step - loss: 0.4610\n",
            "Epoch 31/50\n",
            "1/1 [==============================] - 0s 7ms/step - loss: 0.4767\n",
            "Epoch 32/50\n",
            "1/1 [==============================] - 0s 9ms/step - loss: 0.4693\n",
            "Epoch 33/50\n",
            "1/1 [==============================] - 0s 5ms/step - loss: 0.5032\n",
            "Epoch 34/50\n",
            "1/1 [==============================] - 0s 6ms/step - loss: 0.4605\n",
            "Epoch 35/50\n",
            "1/1 [==============================] - 0s 6ms/step - loss: 0.4431\n",
            "Epoch 36/50\n",
            "1/1 [==============================] - 0s 5ms/step - loss: 0.4305\n",
            "Epoch 37/50\n",
            "1/1 [==============================] - 0s 6ms/step - loss: 0.4828\n",
            "Epoch 38/50\n",
            "1/1 [==============================] - 0s 14ms/step - loss: 0.4311\n",
            "Epoch 39/50\n",
            "1/1 [==============================] - 0s 9ms/step - loss: 0.4455\n",
            "Epoch 40/50\n",
            "1/1 [==============================] - 0s 6ms/step - loss: 0.4165\n",
            "Epoch 41/50\n",
            "1/1 [==============================] - 0s 7ms/step - loss: 0.4407\n",
            "Epoch 42/50\n",
            "1/1 [==============================] - 0s 7ms/step - loss: 0.4316\n",
            "Epoch 43/50\n",
            "1/1 [==============================] - 0s 6ms/step - loss: 0.3993\n",
            "Epoch 44/50\n",
            "1/1 [==============================] - 0s 7ms/step - loss: 0.4074\n",
            "Epoch 45/50\n",
            "1/1 [==============================] - 0s 7ms/step - loss: 0.3974\n",
            "Epoch 46/50\n",
            "1/1 [==============================] - 0s 6ms/step - loss: 0.4089\n",
            "Epoch 47/50\n",
            "1/1 [==============================] - 0s 6ms/step - loss: 0.4138\n",
            "Epoch 48/50\n",
            "1/1 [==============================] - 0s 6ms/step - loss: 0.4276\n",
            "Epoch 49/50\n",
            "1/1 [==============================] - 0s 7ms/step - loss: 0.4187\n",
            "Epoch 50/50\n",
            "1/1 [==============================] - 0s 6ms/step - loss: 0.3741\n",
            "fit time is:  1.1208388805389404\n"
          ],
          "name": "stdout"
        },
        {
          "output_type": "stream",
          "text": [
            "/usr/local/lib/python3.7/dist-packages/tensorflow/python/keras/engine/sequential.py:450: UserWarning: `model.predict_classes()` is deprecated and will be removed after 2021-01-01. Please use instead:* `np.argmax(model.predict(x), axis=-1)`,   if your model does multi-class classification   (e.g. if it uses a `softmax` last-layer activation).* `(model.predict(x) > 0.5).astype(\"int32\")`,   if your model does binary classification   (e.g. if it uses a `sigmoid` last-layer activation).\n",
            "  warnings.warn('`model.predict_classes()` is deprecated and '\n"
          ],
          "name": "stderr"
        },
        {
          "output_type": "stream",
          "text": [
            "predict time is:  0.27158069610595703\n"
          ],
          "name": "stdout"
        },
        {
          "output_type": "execute_result",
          "data": {
            "text/plain": [
              "74"
            ]
          },
          "metadata": {
            "tags": []
          },
          "execution_count": 218
        }
      ]
    },
    {
      "cell_type": "markdown",
      "metadata": {
        "id": "7lAwDBUCil09"
      },
      "source": [
        "## Neural Network Model Prediction"
      ]
    },
    {
      "cell_type": "code",
      "metadata": {
        "id": "P1R2fNlMWbGA",
        "colab": {
          "base_uri": "https://localhost:8080/"
        },
        "outputId": "6e4fe3b2-2d5d-456b-c090-f37011ee1eb5"
      },
      "source": [
        "y_test_prob = nn.predict_proba(X_test)"
      ],
      "execution_count": 219,
      "outputs": [
        {
          "output_type": "stream",
          "text": [
            "/usr/local/lib/python3.7/dist-packages/tensorflow/python/keras/engine/sequential.py:425: UserWarning: `model.predict_proba()` is deprecated and will be removed after 2021-01-01. Please use `model.predict()` instead.\n",
            "  warnings.warn('`model.predict_proba()` is deprecated and '\n"
          ],
          "name": "stderr"
        }
      ]
    },
    {
      "cell_type": "code",
      "metadata": {
        "id": "IP0Yx4M8WbDc",
        "colab": {
          "base_uri": "https://localhost:8080/",
          "height": 257
        },
        "outputId": "2d672b17-d5c0-4466-e0bb-e1ba2547cfc0"
      },
      "source": [
        "testPred = X_test.copy()\n",
        "testPred['y_test'], testPred['y_test_prob'], testPred['y_test_predict']=[y_test,y_test_prob,y_test_predict]\n",
        "testPred.head()"
      ],
      "execution_count": 220,
      "outputs": [
        {
          "output_type": "execute_result",
          "data": {
            "text/html": [
              "<div>\n",
              "<style scoped>\n",
              "    .dataframe tbody tr th:only-of-type {\n",
              "        vertical-align: middle;\n",
              "    }\n",
              "\n",
              "    .dataframe tbody tr th {\n",
              "        vertical-align: top;\n",
              "    }\n",
              "\n",
              "    .dataframe thead th {\n",
              "        text-align: right;\n",
              "    }\n",
              "</style>\n",
              "<table border=\"1\" class=\"dataframe\">\n",
              "  <thead>\n",
              "    <tr style=\"text-align: right;\">\n",
              "      <th></th>\n",
              "      <th>area error</th>\n",
              "      <th>compactness error</th>\n",
              "      <th>concave points error</th>\n",
              "      <th>concavity error</th>\n",
              "      <th>fractal dimension error</th>\n",
              "      <th>mean area</th>\n",
              "      <th>mean compactness</th>\n",
              "      <th>mean concave points</th>\n",
              "      <th>mean concavity</th>\n",
              "      <th>mean fractal dimension</th>\n",
              "      <th>mean perimeter</th>\n",
              "      <th>mean radius</th>\n",
              "      <th>mean smoothness</th>\n",
              "      <th>mean symmetry</th>\n",
              "      <th>mean texture</th>\n",
              "      <th>perimeter error</th>\n",
              "      <th>radius error</th>\n",
              "      <th>smoothness error</th>\n",
              "      <th>symmetry error</th>\n",
              "      <th>texture error</th>\n",
              "      <th>worst area</th>\n",
              "      <th>worst compactness</th>\n",
              "      <th>worst concave points</th>\n",
              "      <th>worst concavity</th>\n",
              "      <th>worst fractal dimension</th>\n",
              "      <th>worst perimeter</th>\n",
              "      <th>worst radius</th>\n",
              "      <th>worst smoothness</th>\n",
              "      <th>worst symmetry</th>\n",
              "      <th>worst texture</th>\n",
              "      <th>y_test</th>\n",
              "      <th>y_test_prob</th>\n",
              "      <th>y_test_predict</th>\n",
              "    </tr>\n",
              "  </thead>\n",
              "  <tbody>\n",
              "    <tr>\n",
              "      <th>204</th>\n",
              "      <td>-0.221053</td>\n",
              "      <td>-0.355912</td>\n",
              "      <td>-0.231333</td>\n",
              "      <td>-0.161929</td>\n",
              "      <td>-0.079018</td>\n",
              "      <td>-0.491999</td>\n",
              "      <td>0.027651</td>\n",
              "      <td>-0.276232</td>\n",
              "      <td>-0.109847</td>\n",
              "      <td>0.132176</td>\n",
              "      <td>-0.448110</td>\n",
              "      <td>-0.470694</td>\n",
              "      <td>0.234114</td>\n",
              "      <td>0.413949</td>\n",
              "      <td>-0.160486</td>\n",
              "      <td>-0.182696</td>\n",
              "      <td>-0.032743</td>\n",
              "      <td>-0.029327</td>\n",
              "      <td>-0.329612</td>\n",
              "      <td>-0.313616</td>\n",
              "      <td>-0.356299</td>\n",
              "      <td>-0.104741</td>\n",
              "      <td>-0.199563</td>\n",
              "      <td>-0.024412</td>\n",
              "      <td>0.196958</td>\n",
              "      <td>-0.333935</td>\n",
              "      <td>-0.269040</td>\n",
              "      <td>0.448503</td>\n",
              "      <td>0.183204</td>\n",
              "      <td>-0.168905</td>\n",
              "      <td>1</td>\n",
              "      <td>0.840653</td>\n",
              "      <td>1</td>\n",
              "    </tr>\n",
              "    <tr>\n",
              "      <th>70</th>\n",
              "      <td>1.225780</td>\n",
              "      <td>-0.500666</td>\n",
              "      <td>0.308825</td>\n",
              "      <td>-0.305168</td>\n",
              "      <td>-0.793157</td>\n",
              "      <td>1.351264</td>\n",
              "      <td>-0.027309</td>\n",
              "      <td>0.789060</td>\n",
              "      <td>0.241064</td>\n",
              "      <td>-1.160679</td>\n",
              "      <td>1.302886</td>\n",
              "      <td>1.366877</td>\n",
              "      <td>-0.446227</td>\n",
              "      <td>-0.838325</td>\n",
              "      <td>0.470149</td>\n",
              "      <td>1.296951</td>\n",
              "      <td>1.384594</td>\n",
              "      <td>-0.865695</td>\n",
              "      <td>-0.809083</td>\n",
              "      <td>-0.760851</td>\n",
              "      <td>1.732277</td>\n",
              "      <td>-0.131459</td>\n",
              "      <td>0.978975</td>\n",
              "      <td>-0.016736</td>\n",
              "      <td>-1.000578</td>\n",
              "      <td>1.746605</td>\n",
              "      <td>1.779007</td>\n",
              "      <td>-0.572873</td>\n",
              "      <td>-0.565828</td>\n",
              "      <td>0.147012</td>\n",
              "      <td>0</td>\n",
              "      <td>0.131049</td>\n",
              "      <td>0</td>\n",
              "    </tr>\n",
              "    <tr>\n",
              "      <th>131</th>\n",
              "      <td>0.175418</td>\n",
              "      <td>-0.594561</td>\n",
              "      <td>-0.140496</td>\n",
              "      <td>-0.124794</td>\n",
              "      <td>-0.504551</td>\n",
              "      <td>0.267377</td>\n",
              "      <td>0.340350</td>\n",
              "      <td>0.824140</td>\n",
              "      <td>0.725686</td>\n",
              "      <td>-0.685782</td>\n",
              "      <td>0.400820</td>\n",
              "      <td>0.378508</td>\n",
              "      <td>0.913744</td>\n",
              "      <td>0.435855</td>\n",
              "      <td>0.044296</td>\n",
              "      <td>0.112838</td>\n",
              "      <td>0.249497</td>\n",
              "      <td>-0.267004</td>\n",
              "      <td>-0.795764</td>\n",
              "      <td>-0.781898</td>\n",
              "      <td>0.484159</td>\n",
              "      <td>-0.094562</td>\n",
              "      <td>0.560244</td>\n",
              "      <td>0.512911</td>\n",
              "      <td>-0.208132</td>\n",
              "      <td>0.525386</td>\n",
              "      <td>0.619345</td>\n",
              "      <td>0.974533</td>\n",
              "      <td>-0.103143</td>\n",
              "      <td>0.052562</td>\n",
              "      <td>0</td>\n",
              "      <td>0.242376</td>\n",
              "      <td>0</td>\n",
              "    </tr>\n",
              "    <tr>\n",
              "      <th>431</th>\n",
              "      <td>-0.547998</td>\n",
              "      <td>0.417599</td>\n",
              "      <td>-0.020461</td>\n",
              "      <td>0.554262</td>\n",
              "      <td>0.835972</td>\n",
              "      <td>-0.532101</td>\n",
              "      <td>0.516599</td>\n",
              "      <td>-0.539846</td>\n",
              "      <td>-0.142993</td>\n",
              "      <td>1.165609</td>\n",
              "      <td>-0.432457</td>\n",
              "      <td>-0.490575</td>\n",
              "      <td>0.643316</td>\n",
              "      <td>-0.002259</td>\n",
              "      <td>-0.374576</td>\n",
              "      <td>-0.327740</td>\n",
              "      <td>-0.824604</td>\n",
              "      <td>0.986380</td>\n",
              "      <td>0.160756</td>\n",
              "      <td>0.441152</td>\n",
              "      <td>-0.641257</td>\n",
              "      <td>0.054930</td>\n",
              "      <td>-0.622863</td>\n",
              "      <td>-0.152986</td>\n",
              "      <td>0.534440</td>\n",
              "      <td>-0.525756</td>\n",
              "      <td>-0.701842</td>\n",
              "      <td>0.553709</td>\n",
              "      <td>-0.557739</td>\n",
              "      <td>-0.450625</td>\n",
              "      <td>1</td>\n",
              "      <td>0.847247</td>\n",
              "      <td>1</td>\n",
              "    </tr>\n",
              "    <tr>\n",
              "      <th>540</th>\n",
              "      <td>-0.428529</td>\n",
              "      <td>0.874216</td>\n",
              "      <td>0.509965</td>\n",
              "      <td>0.783709</td>\n",
              "      <td>0.649494</td>\n",
              "      <td>-0.716683</td>\n",
              "      <td>0.145150</td>\n",
              "      <td>-0.592724</td>\n",
              "      <td>-0.269044</td>\n",
              "      <td>0.711976</td>\n",
              "      <td>-0.713374</td>\n",
              "      <td>-0.734828</td>\n",
              "      <td>0.247636</td>\n",
              "      <td>0.023298</td>\n",
              "      <td>-1.128546</td>\n",
              "      <td>-0.612877</td>\n",
              "      <td>-0.457547</td>\n",
              "      <td>1.703076</td>\n",
              "      <td>-0.259386</td>\n",
              "      <td>0.999969</td>\n",
              "      <td>-0.743216</td>\n",
              "      <td>-0.270137</td>\n",
              "      <td>-0.691687</td>\n",
              "      <td>-0.443716</td>\n",
              "      <td>-0.144403</td>\n",
              "      <td>-0.848337</td>\n",
              "      <td>-0.830233</td>\n",
              "      <td>0.093432</td>\n",
              "      <td>-0.924975</td>\n",
              "      <td>-0.976611</td>\n",
              "      <td>1</td>\n",
              "      <td>0.860040</td>\n",
              "      <td>1</td>\n",
              "    </tr>\n",
              "  </tbody>\n",
              "</table>\n",
              "</div>"
            ],
            "text/plain": [
              "     area error  compactness error  ...  y_test_prob  y_test_predict\n",
              "204   -0.221053          -0.355912  ...     0.840653               1\n",
              "70     1.225780          -0.500666  ...     0.131049               0\n",
              "131    0.175418          -0.594561  ...     0.242376               0\n",
              "431   -0.547998           0.417599  ...     0.847247               1\n",
              "540   -0.428529           0.874216  ...     0.860040               1\n",
              "\n",
              "[5 rows x 33 columns]"
            ]
          },
          "metadata": {
            "tags": []
          },
          "execution_count": 220
        }
      ]
    },
    {
      "cell_type": "markdown",
      "metadata": {
        "id": "oJrgrHjUi16E"
      },
      "source": [
        "## Neural Network Model Performance"
      ]
    },
    {
      "cell_type": "code",
      "metadata": {
        "id": "Bv_m1KoWWa_O",
        "colab": {
          "base_uri": "https://localhost:8080/",
          "height": 265
        },
        "outputId": "1deb36a9-dd69-47c5-e497-840471345145"
      },
      "source": [
        "#ROC/AUC Curve\n",
        "from sklearn import metrics\n",
        "# y_test_prob=et_gs.predict_proba(X_test)[:,1]\n",
        "fpr,tpr, _=metrics.roc_curve(y_test,y_test_prob)\n",
        "auc=metrics.roc_auc_score(y_test,y_test_prob)\n",
        "plt.plot(fpr,tpr,label=\"area=\"+str(auc))\n",
        "plt.legend(loc=4)\n",
        "plt.show()"
      ],
      "execution_count": 221,
      "outputs": [
        {
          "output_type": "display_data",
          "data": {
            "image/png": "[encoded data removed]",
            "text/plain": [
              "<Figure size 432x288 with 1 Axes>"
            ]
          },
          "metadata": {
            "tags": [],
            "needs_background": "light"
          }
        }
      ]
    },
    {
      "cell_type": "code",
      "metadata": {
        "id": "SySLahQ0Wa7L",
        "colab": {
          "base_uri": "https://localhost:8080/"
        },
        "outputId": "c5a74c23-fc0c-4fc9-ce95-36a9cdd127e1"
      },
      "source": [
        "log_loss(y_test,y_test_prob)"
      ],
      "execution_count": 222,
      "outputs": [
        {
          "output_type": "execute_result",
          "data": {
            "text/plain": [
              "0.20235608008347059"
            ]
          },
          "metadata": {
            "tags": []
          },
          "execution_count": 222
        }
      ]
    },
    {
      "cell_type": "code",
      "metadata": {
        "id": "zXE4jpJlWa2L",
        "colab": {
          "base_uri": "https://localhost:8080/"
        },
        "outputId": "fdeae8e3-d7df-49bf-ba00-0f199f2adb97"
      },
      "source": [
        "cm = confusion_matrix(y_test, y_test_predict)\n",
        "cmtx = pd.DataFrame(cm, index=['true:no', 'true:yes'], columns=['pred:no', 'pred:yes'])\n",
        "print(cmtx)"
      ],
      "execution_count": 223,
      "outputs": [
        {
          "output_type": "stream",
          "text": [
            "          pred:no  pred:yes\n",
            "true:no        39         4\n",
            "true:yes        1        70\n"
          ],
          "name": "stdout"
        }
      ]
    },
    {
      "cell_type": "code",
      "metadata": {
        "id": "-gJWYLjlWaxd",
        "colab": {
          "base_uri": "https://localhost:8080/"
        },
        "outputId": "9362ca62-4bfd-4059-c003-ebd7a5730435"
      },
      "source": [
        "print(classification_report(y_test, y_test_predict))"
      ],
      "execution_count": 224,
      "outputs": [
        {
          "output_type": "stream",
          "text": [
            "              precision    recall  f1-score   support\n",
            "\n",
            "           0       0.97      0.91      0.94        43\n",
            "           1       0.95      0.99      0.97        71\n",
            "\n",
            "    accuracy                           0.96       114\n",
            "   macro avg       0.96      0.95      0.95       114\n",
            "weighted avg       0.96      0.96      0.96       114\n",
            "\n"
          ],
          "name": "stdout"
        }
      ]
    },
    {
      "cell_type": "markdown",
      "metadata": {
        "id": "6wNzI8GNjLRc"
      },
      "source": [
        "## Neural Network Model Prediction Distribution"
      ]
    },
    {
      "cell_type": "code",
      "metadata": {
        "id": "x9NG5FTzWas6",
        "colab": {
          "base_uri": "https://localhost:8080/",
          "height": 317
        },
        "outputId": "b631a109-1142-4b3e-ede9-567620ab244c"
      },
      "source": [
        "# Plot the predicted probability distribution\n",
        "sns.distplot(y_test_prob, label='Predicted Probability', kde=False)"
      ],
      "execution_count": 225,
      "outputs": [
        {
          "output_type": "stream",
          "text": [
            "/usr/local/lib/python3.7/dist-packages/seaborn/distributions.py:2557: FutureWarning: `distplot` is a deprecated function and will be removed in a future version. Please adapt your code to use either `displot` (a figure-level function with similar flexibility) or `histplot` (an axes-level function for histograms).\n",
            "  warnings.warn(msg, FutureWarning)\n"
          ],
          "name": "stderr"
        },
        {
          "output_type": "execute_result",
          "data": {
            "text/plain": [
              "<matplotlib.axes._subplots.AxesSubplot at 0x7f92194fd190>"
            ]
          },
          "metadata": {
            "tags": []
          },
          "execution_count": 225
        },
        {
          "output_type": "display_data",
          "data": {
            "image/png": "[encoded data removed]",
            "text/plain": [
              "<Figure size 432x288 with 1 Axes>"
            ]
          },
          "metadata": {
            "tags": [],
            "needs_background": "light"
          }
        }
      ]
    },
    {
      "cell_type": "code",
      "metadata": {
        "id": "1sXYG0yyGPag",
        "colab": {
          "base_uri": "https://localhost:8080/",
          "height": 282
        },
        "outputId": "16c5b8cd-4d99-494e-f0e1-291ea6f48425"
      },
      "source": [
        "# this is to plot the kde by label\n",
        "sns.kdeplot(testPred[testPred['y_test']==1]['y_test_prob'],label='1');\n",
        "sns.kdeplot(testPred[testPred['y_test']==0]['y_test_prob'],label='0');\n",
        "\n",
        "# add labels\n",
        "plt.xlabel('Predicted Probability')\n",
        "plt.ylabel('Density')\n",
        "plt.show()"
      ],
      "execution_count": 226,
      "outputs": [
        {
          "output_type": "display_data",
          "data": {
            "image/png": "[encoded data removed]",
            "text/plain": [
              "<Figure size 432x288 with 1 Axes>"
            ]
          },
          "metadata": {
            "tags": [],
            "needs_background": "light"
          }
        }
      ]
    },
    {
      "cell_type": "code",
      "metadata": {
        "id": "CSNEyeCxji0B",
        "colab": {
          "base_uri": "https://localhost:8080/",
          "height": 349
        },
        "outputId": "74b5ba24-eeb5-42c4-e3cf-f923bbaa48c7"
      },
      "source": [
        "# this is to plot the kde by label\n",
        "sns.distplot(testPred[testPred['y_test']==1]['y_test_prob'],label='1', kde=False);\n",
        "sns.distplot(testPred[testPred['y_test']==0]['y_test_prob'],label='0', kde=False);\n",
        "\n",
        "# add labels\n",
        "plt.xlabel('Predicted Probability')\n",
        "plt.ylabel('Frequency')\n",
        "plt.show()"
      ],
      "execution_count": 227,
      "outputs": [
        {
          "output_type": "stream",
          "text": [
            "/usr/local/lib/python3.7/dist-packages/seaborn/distributions.py:2557: FutureWarning: `distplot` is a deprecated function and will be removed in a future version. Please adapt your code to use either `displot` (a figure-level function with similar flexibility) or `histplot` (an axes-level function for histograms).\n",
            "  warnings.warn(msg, FutureWarning)\n",
            "/usr/local/lib/python3.7/dist-packages/seaborn/distributions.py:2557: FutureWarning: `distplot` is a deprecated function and will be removed in a future version. Please adapt your code to use either `displot` (a figure-level function with similar flexibility) or `histplot` (an axes-level function for histograms).\n",
            "  warnings.warn(msg, FutureWarning)\n"
          ],
          "name": "stderr"
        },
        {
          "output_type": "display_data",
          "data": {
            "image/png": "[encoded data removed]",
            "text/plain": [
              "<Figure size 432x288 with 1 Axes>"
            ]
          },
          "metadata": {
            "tags": [],
            "needs_background": "light"
          }
        }
      ]
    }
  ]
}